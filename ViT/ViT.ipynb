{
  "cells": [
    {
      "cell_type": "markdown",
      "metadata": {
        "id": "fXvMilM9BrJd"
      },
      "source": [
        "In this section, we will train the ViT model with the optimized settings identified from previous experiments with ViT models.\n",
        "- learning rate = 0.0001\n",
        "- cosine learning rate scheduler with warmup\n",
        "- using the preprocessed image dataset whereby the hair noises are removed\n",
        "- data augmentation (random horizontal filp, zoom, rotation, cropping)\n",
        "- balanced class weight\n",
        "- dropout with a probability of 0.5\n",
        "- AdamW weight decay of 1e-2\n",
        "- AdamW beta1 of 0.9 (default)\n",
        "- AdamW beta2 of 0.99\n",
        "- AdamW epsilon = 1e-8 (default)\n",
        "\n",
        "The trained model is pushed to the\n",
        "[hugging face hub](https://huggingface.co/sharren/vit-beta2-0.99/tree/main)\n",
        "\n",
        "*Early stopping is employed: stop training if there is no improvement in the evaluation metric (in this case, decrease in validation loss) for 10 evaluation steps.*"
      ]
    },
    {
      "cell_type": "markdown",
      "metadata": {
        "id": "-Nc4Uvv6ZM9C"
      },
      "source": [
        "# Dependencies and Libraries"
      ]
    },
    {
      "cell_type": "code",
      "execution_count": null,
      "metadata": {
        "colab": {
          "base_uri": "https://localhost:8080/",
          "height": 145,
          "referenced_widgets": [
            "7eab2be76c514f50822201609117287e",
            "b2a0fbfa61894d43a09a5c3921ce438c",
            "3771945fcbd9415597f2cc2525403f1b",
            "b369b6adbd65401cb7e3e86e5a8cc297",
            "b0794683a2184a02924ac474df46405c",
            "d669ebb233374a2caa0a03e7804bf112",
            "be9f7ee046bd416fae3588a14710cb08",
            "7cbe3ba5213e4b539e6efd42e061458c",
            "606712a12f38466383c0f93ce4bcd8a8",
            "cd9a61d4c0744e36aa8cc89787c1145a",
            "c26c1dff2fb24246a4dd6458d3fece51",
            "b80ac9b2d6cf4e9a9932ea52bb09e724",
            "ed2c53ee82db4eb5b624e1e52325baf2",
            "a638ce7ee4f94709aa7340354b0eb71b",
            "45e8911043cf4b42a7cc2a8f43b705b7",
            "6f363e250f144234934663b28a59d228",
            "97e0229dd91e4ba8b013d7eefe63c122",
            "10470497396b460492da1e69a82b346b",
            "bb7e6a3bfe3d4e6e8a197a9235c159d9",
            "040f3db00c3145219cf288eb0e60453b",
            "d2f601623cb7433086bad83113df1578",
            "d229eab867c64a95a109e2cbab863751",
            "1dd479ef6bd843cca5106813bd052d63",
            "c619e0718a1c41349b675d9fd8bfff01",
            "fe820009a8cb478a9e78b649ae963b19",
            "08d73395c3984d48a1767f6e8ae9eda7",
            "8d9c39bc701e48f387c6a8281cc0abe2",
            "9ef4d41bbae045dc8bb61d470afa95f7",
            "324f869d1eda4afeb0241dcc36b4fe06",
            "5d37ddbedb234cee97f4c96e1db68b35",
            "a53a9cae76c34df0a48f84c456f03401",
            "f221976e14424cb1a9d0cb28f906e02f"
          ]
        },
        "id": "hiDfomaCCexh",
        "outputId": "6e75ef9a-a5d2-4210-b15c-9ff92cff7be7"
      },
      "outputs": [
        {
          "output_type": "display_data",
          "data": {
            "text/plain": [
              "VBox(children=(HTML(value='<center> <img\\nsrc=https://huggingface.co/front/assets/huggingface_logo-noborder.sv…"
            ],
            "application/vnd.jupyter.widget-view+json": {
              "version_major": 2,
              "version_minor": 0,
              "model_id": "7eab2be76c514f50822201609117287e"
            }
          },
          "metadata": {}
        }
      ],
      "source": [
        "from huggingface_hub import notebook_login\n",
        "\n",
        "notebook_login()"
      ]
    },
    {
      "cell_type": "code",
      "execution_count": null,
      "metadata": {
        "colab": {
          "base_uri": "https://localhost:8080/"
        },
        "id": "0JW3KleHKzJw",
        "outputId": "cb1ec1b4-f8e1-422f-8823-4982a0da0138"
      },
      "outputs": [
        {
          "output_type": "stream",
          "name": "stdout",
          "text": [
            "Mounted at /content/drive\n"
          ]
        }
      ],
      "source": [
        "from google.colab import drive\n",
        "drive.mount('/content/drive')"
      ]
    },
    {
      "cell_type": "markdown",
      "metadata": {
        "id": "QPEoRBx_ZHo7"
      },
      "source": [
        "##Installation"
      ]
    },
    {
      "cell_type": "code",
      "execution_count": null,
      "metadata": {
        "colab": {
          "base_uri": "https://localhost:8080/"
        },
        "id": "5W2N39YXPmWz",
        "outputId": "5297d0b6-6452-491e-f5ee-1a8d4ce1ba48"
      },
      "outputs": [
        {
          "output_type": "stream",
          "name": "stdout",
          "text": [
            "Collecting accelerate\n",
            "  Downloading accelerate-0.28.0-py3-none-any.whl (290 kB)\n",
            "\u001b[?25l     \u001b[90m━━━━━━━━━━━━━━━━━━━━━━━━━━━━━━━━━━━━━━━━\u001b[0m \u001b[32m0.0/290.1 kB\u001b[0m \u001b[31m?\u001b[0m eta \u001b[36m-:--:--\u001b[0m\r\u001b[2K     \u001b[91m━━━━━━━━━━━━━━━━━━━━━━━━━━━━━━━━━━━━━━━\u001b[0m\u001b[91m╸\u001b[0m \u001b[32m286.7/290.1 kB\u001b[0m \u001b[31m8.5 MB/s\u001b[0m eta \u001b[36m0:00:01\u001b[0m\r\u001b[2K     \u001b[90m━━━━━━━━━━━━━━━━━━━━━━━━━━━━━━━━━━━━━━━━\u001b[0m \u001b[32m290.1/290.1 kB\u001b[0m \u001b[31m6.6 MB/s\u001b[0m eta \u001b[36m0:00:00\u001b[0m\n",
            "\u001b[?25hRequirement already satisfied: numpy>=1.17 in /usr/local/lib/python3.10/dist-packages (from accelerate) (1.25.2)\n",
            "Requirement already satisfied: packaging>=20.0 in /usr/local/lib/python3.10/dist-packages (from accelerate) (24.0)\n",
            "Requirement already satisfied: psutil in /usr/local/lib/python3.10/dist-packages (from accelerate) (5.9.5)\n",
            "Requirement already satisfied: pyyaml in /usr/local/lib/python3.10/dist-packages (from accelerate) (6.0.1)\n",
            "Requirement already satisfied: torch>=1.10.0 in /usr/local/lib/python3.10/dist-packages (from accelerate) (2.2.1+cu121)\n",
            "Requirement already satisfied: huggingface-hub in /usr/local/lib/python3.10/dist-packages (from accelerate) (0.20.3)\n",
            "Requirement already satisfied: safetensors>=0.3.1 in /usr/local/lib/python3.10/dist-packages (from accelerate) (0.4.2)\n",
            "Requirement already satisfied: filelock in /usr/local/lib/python3.10/dist-packages (from torch>=1.10.0->accelerate) (3.13.1)\n",
            "Requirement already satisfied: typing-extensions>=4.8.0 in /usr/local/lib/python3.10/dist-packages (from torch>=1.10.0->accelerate) (4.10.0)\n",
            "Requirement already satisfied: sympy in /usr/local/lib/python3.10/dist-packages (from torch>=1.10.0->accelerate) (1.12)\n",
            "Requirement already satisfied: networkx in /usr/local/lib/python3.10/dist-packages (from torch>=1.10.0->accelerate) (3.2.1)\n",
            "Requirement already satisfied: jinja2 in /usr/local/lib/python3.10/dist-packages (from torch>=1.10.0->accelerate) (3.1.3)\n",
            "Requirement already satisfied: fsspec in /usr/local/lib/python3.10/dist-packages (from torch>=1.10.0->accelerate) (2023.6.0)\n",
            "Collecting nvidia-cuda-nvrtc-cu12==12.1.105 (from torch>=1.10.0->accelerate)\n",
            "  Downloading nvidia_cuda_nvrtc_cu12-12.1.105-py3-none-manylinux1_x86_64.whl (23.7 MB)\n",
            "\u001b[2K     \u001b[90m━━━━━━━━━━━━━━━━━━━━━━━━━━━━━━━━━━━━━━━━\u001b[0m \u001b[32m23.7/23.7 MB\u001b[0m \u001b[31m71.1 MB/s\u001b[0m eta \u001b[36m0:00:00\u001b[0m\n",
            "\u001b[?25hCollecting nvidia-cuda-runtime-cu12==12.1.105 (from torch>=1.10.0->accelerate)\n",
            "  Downloading nvidia_cuda_runtime_cu12-12.1.105-py3-none-manylinux1_x86_64.whl (823 kB)\n",
            "\u001b[2K     \u001b[90m━━━━━━━━━━━━━━━━━━━━━━━━━━━━━━━━━━━━━━━━\u001b[0m \u001b[32m823.6/823.6 kB\u001b[0m \u001b[31m68.8 MB/s\u001b[0m eta \u001b[36m0:00:00\u001b[0m\n",
            "\u001b[?25hCollecting nvidia-cuda-cupti-cu12==12.1.105 (from torch>=1.10.0->accelerate)\n",
            "  Downloading nvidia_cuda_cupti_cu12-12.1.105-py3-none-manylinux1_x86_64.whl (14.1 MB)\n",
            "\u001b[2K     \u001b[90m━━━━━━━━━━━━━━━━━━━━━━━━━━━━━━━━━━━━━━━━\u001b[0m \u001b[32m14.1/14.1 MB\u001b[0m \u001b[31m102.8 MB/s\u001b[0m eta \u001b[36m0:00:00\u001b[0m\n",
            "\u001b[?25hCollecting nvidia-cudnn-cu12==8.9.2.26 (from torch>=1.10.0->accelerate)\n",
            "  Downloading nvidia_cudnn_cu12-8.9.2.26-py3-none-manylinux1_x86_64.whl (731.7 MB)\n",
            "\u001b[2K     \u001b[90m━━━━━━━━━━━━━━━━━━━━━━━━━━━━━━━━━━━━━━━━\u001b[0m \u001b[32m731.7/731.7 MB\u001b[0m \u001b[31m2.6 MB/s\u001b[0m eta \u001b[36m0:00:00\u001b[0m\n",
            "\u001b[?25hCollecting nvidia-cublas-cu12==12.1.3.1 (from torch>=1.10.0->accelerate)\n",
            "  Downloading nvidia_cublas_cu12-12.1.3.1-py3-none-manylinux1_x86_64.whl (410.6 MB)\n",
            "\u001b[2K     \u001b[90m━━━━━━━━━━━━━━━━━━━━━━━━━━━━━━━━━━━━━━━━\u001b[0m \u001b[32m410.6/410.6 MB\u001b[0m \u001b[31m3.1 MB/s\u001b[0m eta \u001b[36m0:00:00\u001b[0m\n",
            "\u001b[?25hCollecting nvidia-cufft-cu12==11.0.2.54 (from torch>=1.10.0->accelerate)\n",
            "  Downloading nvidia_cufft_cu12-11.0.2.54-py3-none-manylinux1_x86_64.whl (121.6 MB)\n",
            "\u001b[2K     \u001b[90m━━━━━━━━━━━━━━━━━━━━━━━━━━━━━━━━━━━━━━━━\u001b[0m \u001b[32m121.6/121.6 MB\u001b[0m \u001b[31m13.9 MB/s\u001b[0m eta \u001b[36m0:00:00\u001b[0m\n",
            "\u001b[?25hCollecting nvidia-curand-cu12==10.3.2.106 (from torch>=1.10.0->accelerate)\n",
            "  Downloading nvidia_curand_cu12-10.3.2.106-py3-none-manylinux1_x86_64.whl (56.5 MB)\n",
            "\u001b[2K     \u001b[90m━━━━━━━━━━━━━━━━━━━━━━━━━━━━━━━━━━━━━━━━\u001b[0m \u001b[32m56.5/56.5 MB\u001b[0m \u001b[31m29.7 MB/s\u001b[0m eta \u001b[36m0:00:00\u001b[0m\n",
            "\u001b[?25hCollecting nvidia-cusolver-cu12==11.4.5.107 (from torch>=1.10.0->accelerate)\n",
            "  Downloading nvidia_cusolver_cu12-11.4.5.107-py3-none-manylinux1_x86_64.whl (124.2 MB)\n",
            "\u001b[2K     \u001b[90m━━━━━━━━━━━━━━━━━━━━━━━━━━━━━━━━━━━━━━━━\u001b[0m \u001b[32m124.2/124.2 MB\u001b[0m \u001b[31m7.3 MB/s\u001b[0m eta \u001b[36m0:00:00\u001b[0m\n",
            "\u001b[?25hCollecting nvidia-cusparse-cu12==12.1.0.106 (from torch>=1.10.0->accelerate)\n",
            "  Downloading nvidia_cusparse_cu12-12.1.0.106-py3-none-manylinux1_x86_64.whl (196.0 MB)\n",
            "\u001b[2K     \u001b[90m━━━━━━━━━━━━━━━━━━━━━━━━━━━━━━━━━━━━━━━━\u001b[0m \u001b[32m196.0/196.0 MB\u001b[0m \u001b[31m4.1 MB/s\u001b[0m eta \u001b[36m0:00:00\u001b[0m\n",
            "\u001b[?25hCollecting nvidia-nccl-cu12==2.19.3 (from torch>=1.10.0->accelerate)\n",
            "  Downloading nvidia_nccl_cu12-2.19.3-py3-none-manylinux1_x86_64.whl (166.0 MB)\n",
            "\u001b[2K     \u001b[90m━━━━━━━━━━━━━━━━━━━━━━━━━━━━━━━━━━━━━━━━\u001b[0m \u001b[32m166.0/166.0 MB\u001b[0m \u001b[31m10.5 MB/s\u001b[0m eta \u001b[36m0:00:00\u001b[0m\n",
            "\u001b[?25hCollecting nvidia-nvtx-cu12==12.1.105 (from torch>=1.10.0->accelerate)\n",
            "  Downloading nvidia_nvtx_cu12-12.1.105-py3-none-manylinux1_x86_64.whl (99 kB)\n",
            "\u001b[2K     \u001b[90m━━━━━━━━━━━━━━━━━━━━━━━━━━━━━━━━━━━━━━━━\u001b[0m \u001b[32m99.1/99.1 kB\u001b[0m \u001b[31m13.9 MB/s\u001b[0m eta \u001b[36m0:00:00\u001b[0m\n",
            "\u001b[?25hRequirement already satisfied: triton==2.2.0 in /usr/local/lib/python3.10/dist-packages (from torch>=1.10.0->accelerate) (2.2.0)\n",
            "Collecting nvidia-nvjitlink-cu12 (from nvidia-cusolver-cu12==11.4.5.107->torch>=1.10.0->accelerate)\n",
            "  Downloading nvidia_nvjitlink_cu12-12.4.99-py3-none-manylinux2014_x86_64.whl (21.1 MB)\n",
            "\u001b[2K     \u001b[90m━━━━━━━━━━━━━━━━━━━━━━━━━━━━━━━━━━━━━━━━\u001b[0m \u001b[32m21.1/21.1 MB\u001b[0m \u001b[31m88.0 MB/s\u001b[0m eta \u001b[36m0:00:00\u001b[0m\n",
            "\u001b[?25hRequirement already satisfied: requests in /usr/local/lib/python3.10/dist-packages (from huggingface-hub->accelerate) (2.31.0)\n",
            "Requirement already satisfied: tqdm>=4.42.1 in /usr/local/lib/python3.10/dist-packages (from huggingface-hub->accelerate) (4.66.2)\n",
            "Requirement already satisfied: MarkupSafe>=2.0 in /usr/local/lib/python3.10/dist-packages (from jinja2->torch>=1.10.0->accelerate) (2.1.5)\n",
            "Requirement already satisfied: charset-normalizer<4,>=2 in /usr/local/lib/python3.10/dist-packages (from requests->huggingface-hub->accelerate) (3.3.2)\n",
            "Requirement already satisfied: idna<4,>=2.5 in /usr/local/lib/python3.10/dist-packages (from requests->huggingface-hub->accelerate) (3.6)\n",
            "Requirement already satisfied: urllib3<3,>=1.21.1 in /usr/local/lib/python3.10/dist-packages (from requests->huggingface-hub->accelerate) (2.0.7)\n",
            "Requirement already satisfied: certifi>=2017.4.17 in /usr/local/lib/python3.10/dist-packages (from requests->huggingface-hub->accelerate) (2024.2.2)\n",
            "Requirement already satisfied: mpmath>=0.19 in /usr/local/lib/python3.10/dist-packages (from sympy->torch>=1.10.0->accelerate) (1.3.0)\n",
            "Installing collected packages: nvidia-nvtx-cu12, nvidia-nvjitlink-cu12, nvidia-nccl-cu12, nvidia-curand-cu12, nvidia-cufft-cu12, nvidia-cuda-runtime-cu12, nvidia-cuda-nvrtc-cu12, nvidia-cuda-cupti-cu12, nvidia-cublas-cu12, nvidia-cusparse-cu12, nvidia-cudnn-cu12, nvidia-cusolver-cu12, accelerate\n",
            "Successfully installed accelerate-0.28.0 nvidia-cublas-cu12-12.1.3.1 nvidia-cuda-cupti-cu12-12.1.105 nvidia-cuda-nvrtc-cu12-12.1.105 nvidia-cuda-runtime-cu12-12.1.105 nvidia-cudnn-cu12-8.9.2.26 nvidia-cufft-cu12-11.0.2.54 nvidia-curand-cu12-10.3.2.106 nvidia-cusolver-cu12-11.4.5.107 nvidia-cusparse-cu12-12.1.0.106 nvidia-nccl-cu12-2.19.3 nvidia-nvjitlink-cu12-12.4.99 nvidia-nvtx-cu12-12.1.105\n",
            "Collecting datasets\n",
            "  Downloading datasets-2.18.0-py3-none-any.whl (510 kB)\n",
            "\u001b[2K     \u001b[90m━━━━━━━━━━━━━━━━━━━━━━━━━━━━━━━━━━━━━━━━\u001b[0m \u001b[32m510.5/510.5 kB\u001b[0m \u001b[31m12.0 MB/s\u001b[0m eta \u001b[36m0:00:00\u001b[0m\n",
            "\u001b[?25hRequirement already satisfied: filelock in /usr/local/lib/python3.10/dist-packages (from datasets) (3.13.1)\n",
            "Requirement already satisfied: numpy>=1.17 in /usr/local/lib/python3.10/dist-packages (from datasets) (1.25.2)\n",
            "Requirement already satisfied: pyarrow>=12.0.0 in /usr/local/lib/python3.10/dist-packages (from datasets) (14.0.2)\n",
            "Requirement already satisfied: pyarrow-hotfix in /usr/local/lib/python3.10/dist-packages (from datasets) (0.6)\n",
            "Collecting dill<0.3.9,>=0.3.0 (from datasets)\n",
            "  Downloading dill-0.3.8-py3-none-any.whl (116 kB)\n",
            "\u001b[2K     \u001b[90m━━━━━━━━━━━━━━━━━━━━━━━━━━━━━━━━━━━━━━━━\u001b[0m \u001b[32m116.3/116.3 kB\u001b[0m \u001b[31m16.8 MB/s\u001b[0m eta \u001b[36m0:00:00\u001b[0m\n",
            "\u001b[?25hRequirement already satisfied: pandas in /usr/local/lib/python3.10/dist-packages (from datasets) (1.5.3)\n",
            "Requirement already satisfied: requests>=2.19.0 in /usr/local/lib/python3.10/dist-packages (from datasets) (2.31.0)\n",
            "Requirement already satisfied: tqdm>=4.62.1 in /usr/local/lib/python3.10/dist-packages (from datasets) (4.66.2)\n",
            "Collecting xxhash (from datasets)\n",
            "  Downloading xxhash-3.4.1-cp310-cp310-manylinux_2_17_x86_64.manylinux2014_x86_64.whl (194 kB)\n",
            "\u001b[2K     \u001b[90m━━━━━━━━━━━━━━━━━━━━━━━━━━━━━━━━━━━━━━━━\u001b[0m \u001b[32m194.1/194.1 kB\u001b[0m \u001b[31m357.3 kB/s\u001b[0m eta \u001b[36m0:00:00\u001b[0m\n",
            "\u001b[?25hCollecting multiprocess (from datasets)\n",
            "  Downloading multiprocess-0.70.16-py310-none-any.whl (134 kB)\n",
            "\u001b[2K     \u001b[90m━━━━━━━━━━━━━━━━━━━━━━━━━━━━━━━━━━━━━━━━\u001b[0m \u001b[32m134.8/134.8 kB\u001b[0m \u001b[31m21.4 MB/s\u001b[0m eta \u001b[36m0:00:00\u001b[0m\n",
            "\u001b[?25hRequirement already satisfied: fsspec[http]<=2024.2.0,>=2023.1.0 in /usr/local/lib/python3.10/dist-packages (from datasets) (2023.6.0)\n",
            "Requirement already satisfied: aiohttp in /usr/local/lib/python3.10/dist-packages (from datasets) (3.9.3)\n",
            "Requirement already satisfied: huggingface-hub>=0.19.4 in /usr/local/lib/python3.10/dist-packages (from datasets) (0.20.3)\n",
            "Requirement already satisfied: packaging in /usr/local/lib/python3.10/dist-packages (from datasets) (24.0)\n",
            "Requirement already satisfied: pyyaml>=5.1 in /usr/local/lib/python3.10/dist-packages (from datasets) (6.0.1)\n",
            "Requirement already satisfied: aiosignal>=1.1.2 in /usr/local/lib/python3.10/dist-packages (from aiohttp->datasets) (1.3.1)\n",
            "Requirement already satisfied: attrs>=17.3.0 in /usr/local/lib/python3.10/dist-packages (from aiohttp->datasets) (23.2.0)\n",
            "Requirement already satisfied: frozenlist>=1.1.1 in /usr/local/lib/python3.10/dist-packages (from aiohttp->datasets) (1.4.1)\n",
            "Requirement already satisfied: multidict<7.0,>=4.5 in /usr/local/lib/python3.10/dist-packages (from aiohttp->datasets) (6.0.5)\n",
            "Requirement already satisfied: yarl<2.0,>=1.0 in /usr/local/lib/python3.10/dist-packages (from aiohttp->datasets) (1.9.4)\n",
            "Requirement already satisfied: async-timeout<5.0,>=4.0 in /usr/local/lib/python3.10/dist-packages (from aiohttp->datasets) (4.0.3)\n",
            "Requirement already satisfied: typing-extensions>=3.7.4.3 in /usr/local/lib/python3.10/dist-packages (from huggingface-hub>=0.19.4->datasets) (4.10.0)\n",
            "Requirement already satisfied: charset-normalizer<4,>=2 in /usr/local/lib/python3.10/dist-packages (from requests>=2.19.0->datasets) (3.3.2)\n",
            "Requirement already satisfied: idna<4,>=2.5 in /usr/local/lib/python3.10/dist-packages (from requests>=2.19.0->datasets) (3.6)\n",
            "Requirement already satisfied: urllib3<3,>=1.21.1 in /usr/local/lib/python3.10/dist-packages (from requests>=2.19.0->datasets) (2.0.7)\n",
            "Requirement already satisfied: certifi>=2017.4.17 in /usr/local/lib/python3.10/dist-packages (from requests>=2.19.0->datasets) (2024.2.2)\n",
            "Requirement already satisfied: python-dateutil>=2.8.1 in /usr/local/lib/python3.10/dist-packages (from pandas->datasets) (2.8.2)\n",
            "Requirement already satisfied: pytz>=2020.1 in /usr/local/lib/python3.10/dist-packages (from pandas->datasets) (2023.4)\n",
            "Requirement already satisfied: six>=1.5 in /usr/local/lib/python3.10/dist-packages (from python-dateutil>=2.8.1->pandas->datasets) (1.16.0)\n",
            "Installing collected packages: xxhash, dill, multiprocess, datasets\n",
            "Successfully installed datasets-2.18.0 dill-0.3.8 multiprocess-0.70.16 xxhash-3.4.1\n",
            "Requirement already satisfied: tensorboard in /usr/local/lib/python3.10/dist-packages (2.15.2)\n",
            "Requirement already satisfied: absl-py>=0.4 in /usr/local/lib/python3.10/dist-packages (from tensorboard) (1.4.0)\n",
            "Requirement already satisfied: grpcio>=1.48.2 in /usr/local/lib/python3.10/dist-packages (from tensorboard) (1.62.1)\n",
            "Requirement already satisfied: google-auth<3,>=1.6.3 in /usr/local/lib/python3.10/dist-packages (from tensorboard) (2.27.0)\n",
            "Requirement already satisfied: google-auth-oauthlib<2,>=0.5 in /usr/local/lib/python3.10/dist-packages (from tensorboard) (1.2.0)\n",
            "Requirement already satisfied: markdown>=2.6.8 in /usr/local/lib/python3.10/dist-packages (from tensorboard) (3.6)\n",
            "Requirement already satisfied: numpy>=1.12.0 in /usr/local/lib/python3.10/dist-packages (from tensorboard) (1.25.2)\n",
            "Requirement already satisfied: protobuf!=4.24.0,>=3.19.6 in /usr/local/lib/python3.10/dist-packages (from tensorboard) (3.20.3)\n",
            "Requirement already satisfied: requests<3,>=2.21.0 in /usr/local/lib/python3.10/dist-packages (from tensorboard) (2.31.0)\n",
            "Requirement already satisfied: setuptools>=41.0.0 in /usr/local/lib/python3.10/dist-packages (from tensorboard) (67.7.2)\n",
            "Requirement already satisfied: six>1.9 in /usr/local/lib/python3.10/dist-packages (from tensorboard) (1.16.0)\n",
            "Requirement already satisfied: tensorboard-data-server<0.8.0,>=0.7.0 in /usr/local/lib/python3.10/dist-packages (from tensorboard) (0.7.2)\n",
            "Requirement already satisfied: werkzeug>=1.0.1 in /usr/local/lib/python3.10/dist-packages (from tensorboard) (3.0.1)\n",
            "Requirement already satisfied: cachetools<6.0,>=2.0.0 in /usr/local/lib/python3.10/dist-packages (from google-auth<3,>=1.6.3->tensorboard) (5.3.3)\n",
            "Requirement already satisfied: pyasn1-modules>=0.2.1 in /usr/local/lib/python3.10/dist-packages (from google-auth<3,>=1.6.3->tensorboard) (0.3.0)\n",
            "Requirement already satisfied: rsa<5,>=3.1.4 in /usr/local/lib/python3.10/dist-packages (from google-auth<3,>=1.6.3->tensorboard) (4.9)\n",
            "Requirement already satisfied: requests-oauthlib>=0.7.0 in /usr/local/lib/python3.10/dist-packages (from google-auth-oauthlib<2,>=0.5->tensorboard) (1.4.0)\n",
            "Requirement already satisfied: charset-normalizer<4,>=2 in /usr/local/lib/python3.10/dist-packages (from requests<3,>=2.21.0->tensorboard) (3.3.2)\n",
            "Requirement already satisfied: idna<4,>=2.5 in /usr/local/lib/python3.10/dist-packages (from requests<3,>=2.21.0->tensorboard) (3.6)\n",
            "Requirement already satisfied: urllib3<3,>=1.21.1 in /usr/local/lib/python3.10/dist-packages (from requests<3,>=2.21.0->tensorboard) (2.0.7)\n",
            "Requirement already satisfied: certifi>=2017.4.17 in /usr/local/lib/python3.10/dist-packages (from requests<3,>=2.21.0->tensorboard) (2024.2.2)\n",
            "Requirement already satisfied: MarkupSafe>=2.1.1 in /usr/local/lib/python3.10/dist-packages (from werkzeug>=1.0.1->tensorboard) (2.1.5)\n",
            "Requirement already satisfied: pyasn1<0.6.0,>=0.4.6 in /usr/local/lib/python3.10/dist-packages (from pyasn1-modules>=0.2.1->google-auth<3,>=1.6.3->tensorboard) (0.5.1)\n",
            "Requirement already satisfied: oauthlib>=3.0.0 in /usr/local/lib/python3.10/dist-packages (from requests-oauthlib>=0.7.0->google-auth-oauthlib<2,>=0.5->tensorboard) (3.2.2)\n"
          ]
        }
      ],
      "source": [
        "#!pip install transformers\n",
        "!pip install accelerate -U\n",
        "# !pip install transformers[torch]\n",
        "!pip install datasets\n",
        "!pip install tensorboard\n",
        "# !pip install wandb\n",
        "#!pip install huggingface_hub"
      ]
    },
    {
      "cell_type": "code",
      "execution_count": null,
      "metadata": {
        "colab": {
          "base_uri": "https://localhost:8080/"
        },
        "id": "J6jQJcZmYm6S",
        "outputId": "8dfd3377-f9e0-4e00-ed7b-b7c22ea1c7a4"
      },
      "outputs": [
        {
          "output_type": "stream",
          "name": "stdout",
          "text": [
            "Collecting git+https://github.com/huggingface/transformers.git\n",
            "  Cloning https://github.com/huggingface/transformers.git to /tmp/pip-req-build-r5tqhg6l\n",
            "  Running command git clone --filter=blob:none --quiet https://github.com/huggingface/transformers.git /tmp/pip-req-build-r5tqhg6l\n",
            "  Resolved https://github.com/huggingface/transformers.git to commit fadb053379b3ef24c4ec8e6d7d58555af21f58db\n",
            "  Installing build dependencies ... \u001b[?25l\u001b[?25hdone\n",
            "  Getting requirements to build wheel ... \u001b[?25l\u001b[?25hdone\n",
            "  Preparing metadata (pyproject.toml) ... \u001b[?25l\u001b[?25hdone\n",
            "Requirement already satisfied: filelock in /usr/local/lib/python3.10/dist-packages (from transformers==4.40.0.dev0) (3.13.1)\n",
            "Requirement already satisfied: huggingface-hub<1.0,>=0.19.3 in /usr/local/lib/python3.10/dist-packages (from transformers==4.40.0.dev0) (0.20.3)\n",
            "Requirement already satisfied: numpy>=1.17 in /usr/local/lib/python3.10/dist-packages (from transformers==4.40.0.dev0) (1.25.2)\n",
            "Requirement already satisfied: packaging>=20.0 in /usr/local/lib/python3.10/dist-packages (from transformers==4.40.0.dev0) (24.0)\n",
            "Requirement already satisfied: pyyaml>=5.1 in /usr/local/lib/python3.10/dist-packages (from transformers==4.40.0.dev0) (6.0.1)\n",
            "Requirement already satisfied: regex!=2019.12.17 in /usr/local/lib/python3.10/dist-packages (from transformers==4.40.0.dev0) (2023.12.25)\n",
            "Requirement already satisfied: requests in /usr/local/lib/python3.10/dist-packages (from transformers==4.40.0.dev0) (2.31.0)\n",
            "Requirement already satisfied: tokenizers<0.19,>=0.14 in /usr/local/lib/python3.10/dist-packages (from transformers==4.40.0.dev0) (0.15.2)\n",
            "Requirement already satisfied: safetensors>=0.4.1 in /usr/local/lib/python3.10/dist-packages (from transformers==4.40.0.dev0) (0.4.2)\n",
            "Requirement already satisfied: tqdm>=4.27 in /usr/local/lib/python3.10/dist-packages (from transformers==4.40.0.dev0) (4.66.2)\n",
            "Requirement already satisfied: fsspec>=2023.5.0 in /usr/local/lib/python3.10/dist-packages (from huggingface-hub<1.0,>=0.19.3->transformers==4.40.0.dev0) (2023.6.0)\n",
            "Requirement already satisfied: typing-extensions>=3.7.4.3 in /usr/local/lib/python3.10/dist-packages (from huggingface-hub<1.0,>=0.19.3->transformers==4.40.0.dev0) (4.10.0)\n",
            "Requirement already satisfied: charset-normalizer<4,>=2 in /usr/local/lib/python3.10/dist-packages (from requests->transformers==4.40.0.dev0) (3.3.2)\n",
            "Requirement already satisfied: idna<4,>=2.5 in /usr/local/lib/python3.10/dist-packages (from requests->transformers==4.40.0.dev0) (3.6)\n",
            "Requirement already satisfied: urllib3<3,>=1.21.1 in /usr/local/lib/python3.10/dist-packages (from requests->transformers==4.40.0.dev0) (2.0.7)\n",
            "Requirement already satisfied: certifi>=2017.4.17 in /usr/local/lib/python3.10/dist-packages (from requests->transformers==4.40.0.dev0) (2024.2.2)\n",
            "Building wheels for collected packages: transformers\n",
            "  Building wheel for transformers (pyproject.toml) ... \u001b[?25l\u001b[?25hdone\n",
            "  Created wheel for transformers: filename=transformers-4.40.0.dev0-py3-none-any.whl size=8802765 sha256=4c259214c1c502c0a57d479dedd054949e8201c79cafa250f64ba85ddf39ce7e\n",
            "  Stored in directory: /tmp/pip-ephem-wheel-cache-3x6p__4u/wheels/e7/9c/5b/e1a9c8007c343041e61cc484433d512ea9274272e3fcbe7c16\n",
            "Successfully built transformers\n",
            "Installing collected packages: transformers\n",
            "  Attempting uninstall: transformers\n",
            "    Found existing installation: transformers 4.38.2\n",
            "    Uninstalling transformers-4.38.2:\n",
            "      Successfully uninstalled transformers-4.38.2\n",
            "Successfully installed transformers-4.40.0.dev0\n"
          ]
        }
      ],
      "source": [
        "# install transformer from source\n",
        "!pip install git+https://github.com/huggingface/transformers.git"
      ]
    },
    {
      "cell_type": "markdown",
      "metadata": {
        "id": "lu9PejMZZDhY"
      },
      "source": [
        "##Import"
      ]
    },
    {
      "cell_type": "code",
      "execution_count": null,
      "metadata": {
        "id": "4N2zNio-JSsT"
      },
      "outputs": [],
      "source": [
        "import pandas as pd\n",
        "from google.colab import userdata\n",
        "import torch\n",
        "from torch.utils.data import Dataset\n",
        "import os\n",
        "from torchvision.io import read_image\n",
        "import matplotlib.pyplot as plt\n",
        "from PIL import Image\n",
        "import random\n",
        "from torchvision.transforms import v2\n",
        "from tqdm.notebook import tqdm\n",
        "import shutil\n",
        "from pathlib import Path\n",
        "from datasets import load_dataset\n",
        "from huggingface_hub import notebook_login\n",
        "from tqdm.notebook import tqdm\n",
        "# import wandb"
      ]
    },
    {
      "cell_type": "markdown",
      "metadata": {
        "id": "BsupldRKusSL"
      },
      "source": [
        "# Load Dataset from Huggingface"
      ]
    },
    {
      "cell_type": "code",
      "execution_count": null,
      "metadata": {
        "id": "RfiObgaZuwY6",
        "colab": {
          "base_uri": "https://localhost:8080/",
          "height": 365,
          "referenced_widgets": [
            "42e4eea2d475442ca83e79c156b88572",
            "889992ebe5b541e595a8dc5d91227fc4",
            "d5f58c8753144d8a87ab49e6d2b599fd",
            "d5ed1db5f6554442b0d052b5887e4008",
            "9a42647245164d098a45f147b462b071",
            "07836be390204fdbb5b557edceb7902f",
            "9798235751984a4ab2cb4748f7066bdd",
            "0f2ebba70b164175b0052f6484cf18c5",
            "706a946143f041cc823d47115331ce21",
            "02f0862e40504372ab8a259ab9fb7697",
            "c409447e7aa540acaad575a8e355b17d",
            "d21eb5149fd64c82888e8692c23bef0e",
            "01928c8ac37f4e2ba36f742852f5bdf1",
            "690faeaf374648b09267a9f24260a563",
            "46ee32d0c63047239bc431fe9bb2d81a",
            "eaad1534e69d41a4800c2eea884d28a1",
            "65bc93cbcf384a32b7d1dc983c2df684",
            "a7c7c12767734d07ab0b04c985c2fbd5",
            "faab090826c145328848c142292b63ad",
            "0fc254412aa24d0e9b3063679dcd4623",
            "204da9de5b9940a4819b3df34c2b8574",
            "89f27ea6d6ee4c268ff5224f59885b48",
            "476d1f4f73fd45b49f00023c494f7571",
            "704ffa2471c84dc991fb2b84d67b4ba0",
            "7ea76978f1714746808860d7a20de53f",
            "9a97c90e443f48c0bbbe49eb0d5744a7",
            "8d42edf3604846748584532d6ddbedee",
            "20058a41249b477aaa214fee941e9053",
            "c2eaf26c29ae4f6b9509fb375c8212f3",
            "29215a25377c4909beb0ed819dfc96d4",
            "a9f0bf78822d4e6489d06382f945395b",
            "b5a64aadbba44c94a8e1e7f9fc33b80e",
            "2f7a24f5a9f04b78b5e1b7697c094ba9",
            "beb92df1a4714588be440382c63b8fec",
            "469eba02c894485aa4eeed0e8ef66c8c",
            "fe265d1fe15347fc964b0476ed338220",
            "5ce89dba40614115885d915d2f62d773",
            "c9359561427b4ebda1bf1324798fdde0",
            "366b285c1f9546ca8c845e463c0f5662",
            "16ab456796d44070a35110ed96412796",
            "3ec974af536c4a2fa4b231e4fb0c6f1f",
            "a5f7b323e9334668a26ad386c8ad8199",
            "2586597651cb432382771c6bab88bb01",
            "daa0f2eb7f3d4a4590caf45f08549183",
            "bf9a729aeb744189a006e087440115f2",
            "86b175cf0bdd4c379857ad9e10fb886d",
            "53f12f2d2bf34569836b083411f58fff",
            "678e9114a4124484b00f3e5c78100c71",
            "c043d5e00bf7478b94f6bfc32de17fd6",
            "e4a0df1993994c8e90464005e9a5b5ae",
            "ffe4338f5dd8447c8add3140b462231e",
            "4a26f978987b4f11809349267f1a3e6e",
            "f53c35f601824c119a7e3f5de67b27f0",
            "de6e96d43eb147169b46f9fe70a5d332",
            "f73c257a8dfc4c8eaaf9754f9b3c98a8",
            "794530ad115f40b7be6a1173fe687c13",
            "5aa4f003b0eb4660a9c9f9fda672381a",
            "ee4dd093cd8b4eea86a94990ae74f6e1",
            "d0244d600c3c45efb8218125d7f508db",
            "79cf78b3966042c5b10825c88b6fc365",
            "68ee28af473c4552ba5af2d721a12a88",
            "c1f09b2b0237405e84a55172c1581076",
            "bf1e3be222ff44dd8cd15e6e5c843d30",
            "16f427eff8004dbc9cf585c5e1830422",
            "faa10c301d314bf7acbbaf5f8f6faa7c",
            "ff4c689e057a45fc9edb111733a6ecc1",
            "b325ecf4524f470db99e66bce62d0c8a",
            "9cf148ef87c547d59fcebebd281f960f",
            "d95e5a4b0faf4fa18c9121e16be40e5c",
            "c776f96b3bef41758259ced4e8ba35fa",
            "a473c01d17d44900948aafbc238f9ad2",
            "9024b07afef049deb2e513b0fe154d10",
            "5900a182a14e491aab2a3bbbb8430a13",
            "1eb2f68ffcc74fa5a9e57e691b3fb971",
            "3e805c6408a146738b85d1c8624e051a",
            "79b5d10dddda441193d502d126d160f1",
            "1fd30c4bb25043059ba138edfd7ce0e7"
          ]
        },
        "outputId": "60722ecb-0194-4833-b529-b3dc39cbfb53"
      },
      "outputs": [
        {
          "output_type": "stream",
          "name": "stderr",
          "text": [
            "/usr/local/lib/python3.10/dist-packages/huggingface_hub/utils/_token.py:88: UserWarning: \n",
            "The secret `HF_TOKEN` does not exist in your Colab secrets.\n",
            "To authenticate with the Hugging Face Hub, create a token in your settings tab (https://huggingface.co/settings/tokens), set it as secret in your Google Colab and restart your session.\n",
            "You will be able to reuse this secret in all of your notebooks.\n",
            "Please note that authentication is recommended but still optional to access public models or datasets.\n",
            "  warnings.warn(\n"
          ]
        },
        {
          "output_type": "display_data",
          "data": {
            "text/plain": [
              "Downloading readme:   0%|          | 0.00/715 [00:00<?, ?B/s]"
            ],
            "application/vnd.jupyter.widget-view+json": {
              "version_major": 2,
              "version_minor": 0,
              "model_id": "42e4eea2d475442ca83e79c156b88572"
            }
          },
          "metadata": {}
        },
        {
          "output_type": "display_data",
          "data": {
            "text/plain": [
              "Downloading data:   0%|          | 0.00/341M [00:00<?, ?B/s]"
            ],
            "application/vnd.jupyter.widget-view+json": {
              "version_major": 2,
              "version_minor": 0,
              "model_id": "d21eb5149fd64c82888e8692c23bef0e"
            }
          },
          "metadata": {}
        },
        {
          "output_type": "display_data",
          "data": {
            "text/plain": [
              "Downloading data:   0%|          | 0.00/192M [00:00<?, ?B/s]"
            ],
            "application/vnd.jupyter.widget-view+json": {
              "version_major": 2,
              "version_minor": 0,
              "model_id": "476d1f4f73fd45b49f00023c494f7571"
            }
          },
          "metadata": {}
        },
        {
          "output_type": "display_data",
          "data": {
            "text/plain": [
              "Downloading data:   0%|          | 0.00/134M [00:00<?, ?B/s]"
            ],
            "application/vnd.jupyter.widget-view+json": {
              "version_major": 2,
              "version_minor": 0,
              "model_id": "beb92df1a4714588be440382c63b8fec"
            }
          },
          "metadata": {}
        },
        {
          "output_type": "display_data",
          "data": {
            "text/plain": [
              "Generating train split:   0%|          | 0/5128 [00:00<?, ? examples/s]"
            ],
            "application/vnd.jupyter.widget-view+json": {
              "version_major": 2,
              "version_minor": 0,
              "model_id": "bf9a729aeb744189a006e087440115f2"
            }
          },
          "metadata": {}
        },
        {
          "output_type": "display_data",
          "data": {
            "text/plain": [
              "Generating validation split:   0%|          | 0/2884 [00:00<?, ? examples/s]"
            ],
            "application/vnd.jupyter.widget-view+json": {
              "version_major": 2,
              "version_minor": 0,
              "model_id": "794530ad115f40b7be6a1173fe687c13"
            }
          },
          "metadata": {}
        },
        {
          "output_type": "display_data",
          "data": {
            "text/plain": [
              "Generating test split:   0%|          | 0/2003 [00:00<?, ? examples/s]"
            ],
            "application/vnd.jupyter.widget-view+json": {
              "version_major": 2,
              "version_minor": 0,
              "model_id": "b325ecf4524f470db99e66bce62d0c8a"
            }
          },
          "metadata": {}
        }
      ],
      "source": [
        "skin_dataset = load_dataset(\"sharren/processedSkin\")"
      ]
    },
    {
      "cell_type": "code",
      "execution_count": null,
      "metadata": {
        "colab": {
          "base_uri": "https://localhost:8080/"
        },
        "id": "u7AM7mWHvjlN",
        "outputId": "17f22199-3466-4034-9725-728ee1908c85"
      },
      "outputs": [
        {
          "output_type": "execute_result",
          "data": {
            "text/plain": [
              "DatasetDict({\n",
              "    train: Dataset({\n",
              "        features: ['image', 'label'],\n",
              "        num_rows: 5128\n",
              "    })\n",
              "    validation: Dataset({\n",
              "        features: ['image', 'label'],\n",
              "        num_rows: 2884\n",
              "    })\n",
              "    test: Dataset({\n",
              "        features: ['image', 'label'],\n",
              "        num_rows: 2003\n",
              "    })\n",
              "})"
            ]
          },
          "metadata": {},
          "execution_count": 7
        }
      ],
      "source": [
        "skin_dataset"
      ]
    },
    {
      "cell_type": "code",
      "execution_count": null,
      "metadata": {
        "id": "JwHgo961tn4n"
      },
      "outputs": [],
      "source": [
        "labels = skin_dataset[\"train\"].features[\"label\"].names\n",
        "\n",
        "idx2label = {idx: label for idx, label in enumerate(labels)}\n",
        "label2idx = {label: idx for idx, label in enumerate(labels)}"
      ]
    },
    {
      "cell_type": "code",
      "source": [
        "label2idx"
      ],
      "metadata": {
        "colab": {
          "base_uri": "https://localhost:8080/"
        },
        "id": "HSqw558KFWjz",
        "outputId": "4effbbba-00ff-4bed-e003-ae51a4ff73d3"
      },
      "execution_count": null,
      "outputs": [
        {
          "output_type": "execute_result",
          "data": {
            "text/plain": [
              "{'akiec': 0, 'bcc': 1, 'bkl': 2, 'df': 3, 'mel': 4, 'nv': 5, 'vasc': 6}"
            ]
          },
          "metadata": {},
          "execution_count": 9
        }
      ]
    },
    {
      "cell_type": "markdown",
      "metadata": {
        "id": "AVf0-E7-mb8E"
      },
      "source": [
        "# Processor\n"
      ]
    },
    {
      "cell_type": "code",
      "execution_count": null,
      "metadata": {
        "id": "NQZRdHAP-twi",
        "colab": {
          "base_uri": "https://localhost:8080/",
          "height": 49,
          "referenced_widgets": [
            "6df3578db6764c74b241a8d83dc4464c",
            "577880d306c34bf2843214418cc42ae3",
            "465b165bfa1b4276a852654b2ecf237a",
            "d95f953158a6409e8451cb0b2db77eea",
            "f3d286aa55b64673ab7a3ac9bcf31634",
            "3e6f670b7a784d758c0047f44a8eee18",
            "be350084c6a643f99f9ba8cb5c80e3d5",
            "dece560b51f8496fb6e69f33b336afd8",
            "2ed350c2039c4295a4adb09c78637c5f",
            "0721534fee86461094a5353fd9d40ce8",
            "73bf37551a314db3bd1cca6e0f659cc5"
          ]
        },
        "outputId": "95167c80-947f-40a4-aa30-f088e027841f"
      },
      "outputs": [
        {
          "output_type": "display_data",
          "data": {
            "text/plain": [
              "preprocessor_config.json:   0%|          | 0.00/160 [00:00<?, ?B/s]"
            ],
            "application/vnd.jupyter.widget-view+json": {
              "version_major": 2,
              "version_minor": 0,
              "model_id": "6df3578db6764c74b241a8d83dc4464c"
            }
          },
          "metadata": {}
        }
      ],
      "source": [
        "from transformers import ViTImageProcessor\n",
        "processor = ViTImageProcessor.from_pretrained('google/vit-base-patch16-224', do_rescale = False, return_tensors = 'pt')"
      ]
    },
    {
      "cell_type": "markdown",
      "metadata": {
        "id": "ZZfUUmvp_1Ri"
      },
      "source": [
        "# Transformation (With augmentation)"
      ]
    },
    {
      "cell_type": "markdown",
      "source": [
        "- flips horizontally with a probability of 0.5\n",
        "- rotates the input image by a maximum angle of 10 degrees\n",
        "- zooms into or out of the input image by a factor sampled uniformly from the range [1-0.1, 1+0.1]\n",
        "- resizes the input image to a larger size, and then randomly crops a region of size 224x224 from the resized image"
      ],
      "metadata": {
        "id": "ScxBnB6Bbxh8"
      }
    },
    {
      "cell_type": "code",
      "execution_count": null,
      "metadata": {
        "id": "dWFU-PRH4mFP"
      },
      "outputs": [],
      "source": [
        "# to apply what's in the default image processor along with the augmentation\n",
        "image_mean, image_std = processor.image_mean, processor.image_std\n",
        "normalize = v2.Normalize(mean=image_mean, std=image_std)"
      ]
    },
    {
      "cell_type": "code",
      "execution_count": null,
      "metadata": {
        "id": "XC7V1tpsz_LU"
      },
      "outputs": [],
      "source": [
        "from torchvision import transforms as v2\n",
        "train_transform = v2.Compose([\n",
        "    v2.Resize((processor.size[\"height\"], processor.size[\"width\"])),\n",
        "    v2.RandomHorizontalFlip(),\n",
        "    v2.RandomRotation(10),\n",
        "    v2.RandomResizedCrop(224),\n",
        "    v2.ToTensor(),\n",
        "    normalize\n",
        "])"
      ]
    },
    {
      "cell_type": "code",
      "execution_count": null,
      "metadata": {
        "id": "0FNxhXgGwkr6"
      },
      "outputs": [],
      "source": [
        "test_transform = v2.Compose([\n",
        "    v2.Resize((processor.size[\"height\"], processor.size[\"width\"])),\n",
        "    v2.ToTensor(),\n",
        "    normalize\n",
        "])"
      ]
    },
    {
      "cell_type": "code",
      "execution_count": null,
      "metadata": {
        "id": "2NNuvNp6jarX"
      },
      "outputs": [],
      "source": [
        "def train_transforms(examples):\n",
        "    examples['pixel_values'] = [train_transform(image.convert(\"RGB\")) for image in examples['image']]\n",
        "    return examples\n",
        "\n",
        "def test_transforms(examples):\n",
        "    examples['pixel_values'] = [test_transform(image.convert(\"RGB\")) for image in examples['image']]\n",
        "    return examples"
      ]
    },
    {
      "cell_type": "code",
      "execution_count": null,
      "metadata": {
        "id": "SzOnZjBATDpk"
      },
      "outputs": [],
      "source": [
        "# Set the transforms\n",
        "skin_dataset['train'].set_transform(train_transforms)\n",
        "skin_dataset['validation'].set_transform(test_transforms)\n",
        "skin_dataset['test'].set_transform(test_transforms)"
      ]
    },
    {
      "cell_type": "markdown",
      "metadata": {
        "id": "3r-Tw8IjcQ8g"
      },
      "source": [
        "# Functions for Trainer"
      ]
    },
    {
      "cell_type": "markdown",
      "metadata": {
        "id": "uQuztZMhqI7v"
      },
      "source": [
        "## Collate Function"
      ]
    },
    {
      "cell_type": "code",
      "execution_count": null,
      "metadata": {
        "id": "l9C_VgrOgmQv"
      },
      "outputs": [],
      "source": [
        "def collate_fn(examples):\n",
        "    pixel_values = torch.stack([example[\"pixel_values\"] for example in examples])\n",
        "    labels = torch.tensor([example[\"label\"] for example in examples])\n",
        "    return {\"pixel_values\": pixel_values, \"labels\": labels}\n"
      ]
    },
    {
      "cell_type": "markdown",
      "metadata": {
        "id": "3OvwfsQ18IN9"
      },
      "source": [
        "## Compute Metrics Function"
      ]
    },
    {
      "cell_type": "code",
      "execution_count": null,
      "metadata": {
        "id": "YviJMYBe8LHC"
      },
      "outputs": [],
      "source": [
        "from sklearn.metrics import accuracy_score, precision_score, recall_score, f1_score\n",
        "import numpy as np\n",
        "def compute_metrics(eval_pred):\n",
        "    predictions, labels = eval_pred\n",
        "    predictions = np.argmax(predictions, axis=1)\n",
        "\n",
        "    accuracy = accuracy_score(predictions, labels)\n",
        "    precision = precision_score(labels, predictions, average='weighted',zero_division=0)\n",
        "    recall = recall_score(labels, predictions, average='weighted')\n",
        "    f1 = f1_score(labels, predictions, average='weighted')\n",
        "\n",
        "    return {\"accuracy\": accuracy, \"precision\": precision, \"recall\": recall, \"f1\": f1}\n"
      ]
    },
    {
      "cell_type": "markdown",
      "metadata": {
        "id": "wjyAPiv6eIqy"
      },
      "source": [
        "\n",
        "A warning occur when training\n",
        "`UndefinedMetricWarning: Precision is ill-defined and being set to 0.0 in labels with no predicted samples`.\n",
        "This warning commonly occurs in multi-class classification problems when some classes are not predicted by the model. It's often caused by class imbalance or the model's inability to adequately learn certain classes.\n",
        "\n",
        "\n",
        "\n",
        "> To address this warning for the current stage, zero_division parameter is set in precision_score to specify the behavior when a class has no predicted samples.  Use a numeric value (in this case, 0) to use as the precision when the denominator is zero.\n",
        "\n",
        "\n",
        "\n",
        "\n",
        "To further address the root cause which is class imbalance issue, we will use data augmentation in the later stage."
      ]
    },
    {
      "cell_type": "markdown",
      "metadata": {
        "id": "RN4W_9Asc_mr"
      },
      "source": [
        "## Feature Extractor"
      ]
    },
    {
      "cell_type": "code",
      "execution_count": null,
      "metadata": {
        "colab": {
          "base_uri": "https://localhost:8080/"
        },
        "id": "J6cUzOlk0eUN",
        "outputId": "62c53c74-7ad9-415b-9cba-a9eada032b31"
      },
      "outputs": [
        {
          "output_type": "stream",
          "name": "stderr",
          "text": [
            "/usr/local/lib/python3.10/dist-packages/transformers/models/vit/feature_extraction_vit.py:28: FutureWarning: The class ViTFeatureExtractor is deprecated and will be removed in version 5 of Transformers. Please use ViTImageProcessor instead.\n",
            "  warnings.warn(\n"
          ]
        }
      ],
      "source": [
        "from transformers import ViTFeatureExtractor\n",
        "feature_extractor = ViTFeatureExtractor.from_pretrained('google/vit-base-patch16-224')"
      ]
    },
    {
      "cell_type": "markdown",
      "metadata": {
        "id": "UUR4op3Qxu3g"
      },
      "source": [
        "# Model"
      ]
    },
    {
      "cell_type": "code",
      "execution_count": null,
      "metadata": {
        "id": "u1HgdQOO_gMS"
      },
      "outputs": [],
      "source": [
        "model_id = 'google/vit-base-patch16-224'"
      ]
    },
    {
      "cell_type": "code",
      "execution_count": null,
      "metadata": {
        "colab": {
          "base_uri": "https://localhost:8080/",
          "height": 206
        },
        "id": "eTPU_EPUKz1C",
        "outputId": "b202d753-0024-4267-e6cc-7f7f70dbcb8f"
      },
      "outputs": [
        {
          "output_type": "execute_result",
          "data": {
            "text/plain": [
              "       image_id label\n",
              "0  ISIC_0027419   bkl\n",
              "1  ISIC_0025030   bkl\n",
              "2  ISIC_0026769   bkl\n",
              "3  ISIC_0025661   bkl\n",
              "4  ISIC_0031633   bkl"
            ],
            "text/html": [
              "\n",
              "  <div id=\"df-3c2c120a-09be-4bf0-8565-9076f340f5b0\" class=\"colab-df-container\">\n",
              "    <div>\n",
              "<style scoped>\n",
              "    .dataframe tbody tr th:only-of-type {\n",
              "        vertical-align: middle;\n",
              "    }\n",
              "\n",
              "    .dataframe tbody tr th {\n",
              "        vertical-align: top;\n",
              "    }\n",
              "\n",
              "    .dataframe thead th {\n",
              "        text-align: right;\n",
              "    }\n",
              "</style>\n",
              "<table border=\"1\" class=\"dataframe\">\n",
              "  <thead>\n",
              "    <tr style=\"text-align: right;\">\n",
              "      <th></th>\n",
              "      <th>image_id</th>\n",
              "      <th>label</th>\n",
              "    </tr>\n",
              "  </thead>\n",
              "  <tbody>\n",
              "    <tr>\n",
              "      <th>0</th>\n",
              "      <td>ISIC_0027419</td>\n",
              "      <td>bkl</td>\n",
              "    </tr>\n",
              "    <tr>\n",
              "      <th>1</th>\n",
              "      <td>ISIC_0025030</td>\n",
              "      <td>bkl</td>\n",
              "    </tr>\n",
              "    <tr>\n",
              "      <th>2</th>\n",
              "      <td>ISIC_0026769</td>\n",
              "      <td>bkl</td>\n",
              "    </tr>\n",
              "    <tr>\n",
              "      <th>3</th>\n",
              "      <td>ISIC_0025661</td>\n",
              "      <td>bkl</td>\n",
              "    </tr>\n",
              "    <tr>\n",
              "      <th>4</th>\n",
              "      <td>ISIC_0031633</td>\n",
              "      <td>bkl</td>\n",
              "    </tr>\n",
              "  </tbody>\n",
              "</table>\n",
              "</div>\n",
              "    <div class=\"colab-df-buttons\">\n",
              "\n",
              "  <div class=\"colab-df-container\">\n",
              "    <button class=\"colab-df-convert\" onclick=\"convertToInteractive('df-3c2c120a-09be-4bf0-8565-9076f340f5b0')\"\n",
              "            title=\"Convert this dataframe to an interactive table.\"\n",
              "            style=\"display:none;\">\n",
              "\n",
              "  <svg xmlns=\"http://www.w3.org/2000/svg\" height=\"24px\" viewBox=\"0 -960 960 960\">\n",
              "    <path d=\"M120-120v-720h720v720H120Zm60-500h600v-160H180v160Zm220 220h160v-160H400v160Zm0 220h160v-160H400v160ZM180-400h160v-160H180v160Zm440 0h160v-160H620v160ZM180-180h160v-160H180v160Zm440 0h160v-160H620v160Z\"/>\n",
              "  </svg>\n",
              "    </button>\n",
              "\n",
              "  <style>\n",
              "    .colab-df-container {\n",
              "      display:flex;\n",
              "      gap: 12px;\n",
              "    }\n",
              "\n",
              "    .colab-df-convert {\n",
              "      background-color: #E8F0FE;\n",
              "      border: none;\n",
              "      border-radius: 50%;\n",
              "      cursor: pointer;\n",
              "      display: none;\n",
              "      fill: #1967D2;\n",
              "      height: 32px;\n",
              "      padding: 0 0 0 0;\n",
              "      width: 32px;\n",
              "    }\n",
              "\n",
              "    .colab-df-convert:hover {\n",
              "      background-color: #E2EBFA;\n",
              "      box-shadow: 0px 1px 2px rgba(60, 64, 67, 0.3), 0px 1px 3px 1px rgba(60, 64, 67, 0.15);\n",
              "      fill: #174EA6;\n",
              "    }\n",
              "\n",
              "    .colab-df-buttons div {\n",
              "      margin-bottom: 4px;\n",
              "    }\n",
              "\n",
              "    [theme=dark] .colab-df-convert {\n",
              "      background-color: #3B4455;\n",
              "      fill: #D2E3FC;\n",
              "    }\n",
              "\n",
              "    [theme=dark] .colab-df-convert:hover {\n",
              "      background-color: #434B5C;\n",
              "      box-shadow: 0px 1px 3px 1px rgba(0, 0, 0, 0.15);\n",
              "      filter: drop-shadow(0px 1px 2px rgba(0, 0, 0, 0.3));\n",
              "      fill: #FFFFFF;\n",
              "    }\n",
              "  </style>\n",
              "\n",
              "    <script>\n",
              "      const buttonEl =\n",
              "        document.querySelector('#df-3c2c120a-09be-4bf0-8565-9076f340f5b0 button.colab-df-convert');\n",
              "      buttonEl.style.display =\n",
              "        google.colab.kernel.accessAllowed ? 'block' : 'none';\n",
              "\n",
              "      async function convertToInteractive(key) {\n",
              "        const element = document.querySelector('#df-3c2c120a-09be-4bf0-8565-9076f340f5b0');\n",
              "        const dataTable =\n",
              "          await google.colab.kernel.invokeFunction('convertToInteractive',\n",
              "                                                    [key], {});\n",
              "        if (!dataTable) return;\n",
              "\n",
              "        const docLinkHtml = 'Like what you see? Visit the ' +\n",
              "          '<a target=\"_blank\" href=https://colab.research.google.com/notebooks/data_table.ipynb>data table notebook</a>'\n",
              "          + ' to learn more about interactive tables.';\n",
              "        element.innerHTML = '';\n",
              "        dataTable['output_type'] = 'display_data';\n",
              "        await google.colab.output.renderOutput(dataTable, element);\n",
              "        const docLink = document.createElement('div');\n",
              "        docLink.innerHTML = docLinkHtml;\n",
              "        element.appendChild(docLink);\n",
              "      }\n",
              "    </script>\n",
              "  </div>\n",
              "\n",
              "\n",
              "<div id=\"df-1dfd07d4-6df8-415a-b196-43d8fed845e7\">\n",
              "  <button class=\"colab-df-quickchart\" onclick=\"quickchart('df-1dfd07d4-6df8-415a-b196-43d8fed845e7')\"\n",
              "            title=\"Suggest charts\"\n",
              "            style=\"display:none;\">\n",
              "\n",
              "<svg xmlns=\"http://www.w3.org/2000/svg\" height=\"24px\"viewBox=\"0 0 24 24\"\n",
              "     width=\"24px\">\n",
              "    <g>\n",
              "        <path d=\"M19 3H5c-1.1 0-2 .9-2 2v14c0 1.1.9 2 2 2h14c1.1 0 2-.9 2-2V5c0-1.1-.9-2-2-2zM9 17H7v-7h2v7zm4 0h-2V7h2v10zm4 0h-2v-4h2v4z\"/>\n",
              "    </g>\n",
              "</svg>\n",
              "  </button>\n",
              "\n",
              "<style>\n",
              "  .colab-df-quickchart {\n",
              "      --bg-color: #E8F0FE;\n",
              "      --fill-color: #1967D2;\n",
              "      --hover-bg-color: #E2EBFA;\n",
              "      --hover-fill-color: #174EA6;\n",
              "      --disabled-fill-color: #AAA;\n",
              "      --disabled-bg-color: #DDD;\n",
              "  }\n",
              "\n",
              "  [theme=dark] .colab-df-quickchart {\n",
              "      --bg-color: #3B4455;\n",
              "      --fill-color: #D2E3FC;\n",
              "      --hover-bg-color: #434B5C;\n",
              "      --hover-fill-color: #FFFFFF;\n",
              "      --disabled-bg-color: #3B4455;\n",
              "      --disabled-fill-color: #666;\n",
              "  }\n",
              "\n",
              "  .colab-df-quickchart {\n",
              "    background-color: var(--bg-color);\n",
              "    border: none;\n",
              "    border-radius: 50%;\n",
              "    cursor: pointer;\n",
              "    display: none;\n",
              "    fill: var(--fill-color);\n",
              "    height: 32px;\n",
              "    padding: 0;\n",
              "    width: 32px;\n",
              "  }\n",
              "\n",
              "  .colab-df-quickchart:hover {\n",
              "    background-color: var(--hover-bg-color);\n",
              "    box-shadow: 0 1px 2px rgba(60, 64, 67, 0.3), 0 1px 3px 1px rgba(60, 64, 67, 0.15);\n",
              "    fill: var(--button-hover-fill-color);\n",
              "  }\n",
              "\n",
              "  .colab-df-quickchart-complete:disabled,\n",
              "  .colab-df-quickchart-complete:disabled:hover {\n",
              "    background-color: var(--disabled-bg-color);\n",
              "    fill: var(--disabled-fill-color);\n",
              "    box-shadow: none;\n",
              "  }\n",
              "\n",
              "  .colab-df-spinner {\n",
              "    border: 2px solid var(--fill-color);\n",
              "    border-color: transparent;\n",
              "    border-bottom-color: var(--fill-color);\n",
              "    animation:\n",
              "      spin 1s steps(1) infinite;\n",
              "  }\n",
              "\n",
              "  @keyframes spin {\n",
              "    0% {\n",
              "      border-color: transparent;\n",
              "      border-bottom-color: var(--fill-color);\n",
              "      border-left-color: var(--fill-color);\n",
              "    }\n",
              "    20% {\n",
              "      border-color: transparent;\n",
              "      border-left-color: var(--fill-color);\n",
              "      border-top-color: var(--fill-color);\n",
              "    }\n",
              "    30% {\n",
              "      border-color: transparent;\n",
              "      border-left-color: var(--fill-color);\n",
              "      border-top-color: var(--fill-color);\n",
              "      border-right-color: var(--fill-color);\n",
              "    }\n",
              "    40% {\n",
              "      border-color: transparent;\n",
              "      border-right-color: var(--fill-color);\n",
              "      border-top-color: var(--fill-color);\n",
              "    }\n",
              "    60% {\n",
              "      border-color: transparent;\n",
              "      border-right-color: var(--fill-color);\n",
              "    }\n",
              "    80% {\n",
              "      border-color: transparent;\n",
              "      border-right-color: var(--fill-color);\n",
              "      border-bottom-color: var(--fill-color);\n",
              "    }\n",
              "    90% {\n",
              "      border-color: transparent;\n",
              "      border-bottom-color: var(--fill-color);\n",
              "    }\n",
              "  }\n",
              "</style>\n",
              "\n",
              "  <script>\n",
              "    async function quickchart(key) {\n",
              "      const quickchartButtonEl =\n",
              "        document.querySelector('#' + key + ' button');\n",
              "      quickchartButtonEl.disabled = true;  // To prevent multiple clicks.\n",
              "      quickchartButtonEl.classList.add('colab-df-spinner');\n",
              "      try {\n",
              "        const charts = await google.colab.kernel.invokeFunction(\n",
              "            'suggestCharts', [key], {});\n",
              "      } catch (error) {\n",
              "        console.error('Error during call to suggestCharts:', error);\n",
              "      }\n",
              "      quickchartButtonEl.classList.remove('colab-df-spinner');\n",
              "      quickchartButtonEl.classList.add('colab-df-quickchart-complete');\n",
              "    }\n",
              "    (() => {\n",
              "      let quickchartButtonEl =\n",
              "        document.querySelector('#df-1dfd07d4-6df8-415a-b196-43d8fed845e7 button');\n",
              "      quickchartButtonEl.style.display =\n",
              "        google.colab.kernel.accessAllowed ? 'block' : 'none';\n",
              "    })();\n",
              "  </script>\n",
              "</div>\n",
              "\n",
              "    </div>\n",
              "  </div>\n"
            ],
            "application/vnd.google.colaboratory.intrinsic+json": {
              "type": "dataframe",
              "variable_name": "df_labels",
              "summary": "{\n  \"name\": \"df_labels\",\n  \"rows\": 10015,\n  \"fields\": [\n    {\n      \"column\": \"image_id\",\n      \"properties\": {\n        \"dtype\": \"string\",\n        \"num_unique_values\": 10015,\n        \"samples\": [\n          \"ISIC_0033272\",\n          \"ISIC_0031923\",\n          \"ISIC_0026652\"\n        ],\n        \"semantic_type\": \"\",\n        \"description\": \"\"\n      }\n    },\n    {\n      \"column\": \"label\",\n      \"properties\": {\n        \"dtype\": \"category\",\n        \"num_unique_values\": 7,\n        \"samples\": [\n          \"bkl\",\n          \"nv\",\n          \"bcc\"\n        ],\n        \"semantic_type\": \"\",\n        \"description\": \"\"\n      }\n    }\n  ]\n}"
            }
          },
          "metadata": {},
          "execution_count": 21
        }
      ],
      "source": [
        "import os\n",
        "import shutil\n",
        "import pandas as pd\n",
        "\n",
        "os.chdir('/content/drive/MyDrive/FYP/data')\n",
        "\n",
        "skin_df = pd.read_csv('HAM10000_metadata.csv')\n",
        "df_labels = skin_df[['image_id', 'dx']].rename(columns={'dx': 'label'})\n",
        "df_labels.head()"
      ]
    },
    {
      "cell_type": "code",
      "source": [
        "# Unmount Google Drive\n",
        "from google.colab import drive\n",
        "drive.flush_and_unmount()\n",
        "\n",
        "# Change directory to default Colab directory\n",
        "import os\n",
        "os.chdir('/content')\n",
        "\n",
        "# Verify current directory\n",
        "print(\"Current directory:\", os.getcwd())"
      ],
      "metadata": {
        "colab": {
          "base_uri": "https://localhost:8080/"
        },
        "id": "RGAHTRX-SObn",
        "outputId": "4b0698d7-121d-4903-ea0e-265bec1dc32b"
      },
      "execution_count": null,
      "outputs": [
        {
          "output_type": "stream",
          "name": "stdout",
          "text": [
            "Current directory: /content\n"
          ]
        }
      ]
    },
    {
      "cell_type": "code",
      "execution_count": null,
      "metadata": {
        "colab": {
          "base_uri": "https://localhost:8080/"
        },
        "id": "0E9Uq7ZR6nou",
        "outputId": "68364ab4-0143-4a7b-8d58-75ad47660516"
      },
      "outputs": [
        {
          "output_type": "stream",
          "name": "stderr",
          "text": [
            "Some weights of ViTForImageClassification were not initialized from the model checkpoint at google/vit-base-patch16-224 and are newly initialized because the shapes did not match:\n",
            "- classifier.bias: found shape torch.Size([1000]) in the checkpoint and torch.Size([7]) in the model instantiated\n",
            "- classifier.weight: found shape torch.Size([1000, 768]) in the checkpoint and torch.Size([7, 768]) in the model instantiated\n",
            "You should probably TRAIN this model on a down-stream task to be able to use it for predictions and inference.\n"
          ]
        }
      ],
      "source": [
        "from transformers import ViTForImageClassification, ViTConfig\n",
        "\n",
        "# Initialize a ViT base configuration\n",
        "configuration = ViTConfig()\n",
        "\n",
        "# No dropout initially\n",
        "# Set dropout probabilities (adjust as needed)\n",
        "\n",
        "configuration.attention_probs_dropout_prob = 0.5\n",
        "\n",
        "# Set classification head\n",
        "# configuration.num_labels=len(labels)\n",
        "configuration.id2label={str(i): c for i, c in enumerate(labels)}\n",
        "configuration.label2id={c: str(i) for i, c in enumerate(labels)}\n",
        "\n",
        "# Instantiate the model with the custom configuration and classification head\n",
        "device = torch.device('cuda' if torch.cuda.is_available() else 'cpu')\n",
        "model = ViTForImageClassification.from_pretrained(\n",
        "    model_id,  # classification head\n",
        "    config=configuration,\n",
        "    ignore_mismatched_sizes=True,)\n",
        "model.to(device)\n"
      ]
    },
    {
      "cell_type": "markdown",
      "metadata": {
        "id": "bz483QDIdRtP"
      },
      "source": [
        "# Trainer"
      ]
    },
    {
      "cell_type": "markdown",
      "metadata": {
        "id": "9-kB2e9ABUmc"
      },
      "source": [
        "## Arguments"
      ]
    },
    {
      "cell_type": "code",
      "execution_count": null,
      "metadata": {
        "id": "8sNchL1Ma8Xr"
      },
      "outputs": [],
      "source": [
        "epochs=100"
      ]
    },
    {
      "cell_type": "markdown",
      "metadata": {
        "id": "maS7DU-KvaXQ"
      },
      "source": [
        "Since early-stopping is employed, the total training steps calculated using the epochs may not be suitable, the total training steps will be extracted from the previous experiment using cosine scheduler which is 3852 (12 epochs)"
      ]
    },
    {
      "cell_type": "code",
      "execution_count": null,
      "metadata": {
        "id": "JAAprw589C2D"
      },
      "outputs": [],
      "source": [
        "# total_training_steps = 3852\n",
        "# warmup_steps = int(total_training_steps * 0.2) #0.05-0.2"
      ]
    },
    {
      "cell_type": "code",
      "source": [
        "total_training_steps = \t8667 \t#from dropout 0.5\n",
        "warmup_steps = int(total_training_steps * 0.2) #0.05-0.2"
      ],
      "metadata": {
        "id": "3zIIbTcjK8Im"
      },
      "execution_count": null,
      "outputs": []
    },
    {
      "cell_type": "code",
      "execution_count": null,
      "metadata": {
        "id": "aqBJN8kB0Bc2"
      },
      "outputs": [],
      "source": [
        "from transformers import TrainingArguments, Trainer, EarlyStoppingCallback\n",
        "\n",
        "args = TrainingArguments(\n",
        "  output_dir=\"./vit-beta2-0.99\",\n",
        "  per_device_train_batch_size=16,\n",
        "  evaluation_strategy=\"epoch\",\n",
        "  save_strategy=\"epoch\",\n",
        "  logging_strategy=\"epoch\",\n",
        "  num_train_epochs=epochs,\n",
        "  fp16=True,\n",
        "  learning_rate= 0.0001,\n",
        "  save_total_limit=2,\n",
        "  remove_unused_columns=False,\n",
        "  push_to_hub=True,\n",
        "  report_to='tensorboard',\n",
        "  load_best_model_at_end=True,\n",
        "  metric_for_best_model=\"eval_loss\", # early stopping criteria\n",
        "  greater_is_better=False,\n",
        "  lr_scheduler_type='cosine',\n",
        "  warmup_steps=warmup_steps,\n",
        "  lr_scheduler_kwargs={'num_cycles': 2},\n",
        "  # logging_dir='logs', #tensorboard dir defaults to 'runs'\n",
        "\n",
        "  weight_decay = 1e-2, #defaults to 0 [0, 0.1] (1e-5, 1e-4, 1e-3,1e-2)\n",
        "  adam_beta1 = 0.9, #defaults to 0.9 [0.8, 0.99] (0.85, 0.88, 0.95)\n",
        "  adam_beta2=0.99, #defaults to 0.999 [0.8, 0.999] (0.99, 0.995, 0.9995)\n",
        "  # adam_epsilon=1e-08, #defaults to 1e-08  [1e-10, 1e-6] (1e-9,5e-09,1e-7)\n",
        ")"
      ]
    },
    {
      "cell_type": "markdown",
      "source": [
        "AdamW hyperparameter\n",
        "https://huggingface.co/docs/transformers/main_classes/trainer#transformers.TrainingArguments\n",
        "- weight_decay (float, optional, defaults to 0) — The weight decay to apply (if\n",
        "not zero) to all layers except all bias and LayerNorm weights in AdamW optimizer.\n",
        "- adam_beta1 (float, optional, defaults to 0.9) — The beta1 hyperparameter for the AdamW optimizer.\n",
        "- adam_beta2 (float, optional, defaults to 0.999) — The beta2 hyperparameter for the AdamW optimizer.\n",
        "- adam_epsilon (float, optional, defaults to 1e-8) — The epsilon hyperparameter for the AdamW optimizer.\n"
      ],
      "metadata": {
        "id": "OvNH3ZXJUdmH"
      }
    },
    {
      "cell_type": "markdown",
      "metadata": {
        "id": "VTUc_TnCoxwV"
      },
      "source": [
        "## Custom Trainer: Loss function\n",
        "\n"
      ]
    },
    {
      "cell_type": "markdown",
      "metadata": {
        "id": "9TELx6I8EkOz"
      },
      "source": [
        "**Loss Function**\n",
        "\n",
        "For consistency among models, the compute_loss is overidden so that it is similar to CategoricalCrossentropy in Tensorflow\n",
        "\n",
        "*EfficientNet and ResNet will be trained with Tensorflow framework*"
      ]
    },
    {
      "cell_type": "markdown",
      "metadata": {
        "id": "QRBwrWpXK-zQ"
      },
      "source": [
        "## **Class Weight**"
      ]
    },
    {
      "cell_type": "code",
      "execution_count": null,
      "metadata": {
        "id": "jRZUmvHzKrVM"
      },
      "outputs": [],
      "source": [
        "from sklearn.utils import class_weight\n",
        "\n",
        "class_weights = class_weight.compute_class_weight(class_weight='balanced',\n",
        "                                                  classes=['akiec', 'bcc', 'bkl', 'df', 'mel', 'nv', 'vasc'],\n",
        "                                                  y=df_labels[\"label\"])"
      ]
    },
    {
      "cell_type": "code",
      "source": [
        "class_weights"
      ],
      "metadata": {
        "colab": {
          "base_uri": "https://localhost:8080/"
        },
        "id": "zcYQu20AQG8S",
        "outputId": "4e944b06-dcb9-4124-bcc2-849ed25a1b51"
      },
      "execution_count": null,
      "outputs": [
        {
          "output_type": "execute_result",
          "data": {
            "text/plain": [
              "array([ 4.37527304,  2.78349083,  1.30183284, 12.44099379,  1.28545758,\n",
              "        0.21338021, 10.07545272])"
            ]
          },
          "metadata": {},
          "execution_count": 87
        }
      ]
    },
    {
      "cell_type": "code",
      "execution_count": null,
      "metadata": {
        "id": "ozA0Dxf8vVXf"
      },
      "outputs": [],
      "source": [
        "loss_fct = torch.nn.CrossEntropyLoss(weight=torch.tensor(class_weights))"
      ]
    },
    {
      "cell_type": "code",
      "execution_count": null,
      "metadata": {
        "colab": {
          "base_uri": "https://localhost:8080/"
        },
        "id": "k00CkZ8hvduG",
        "outputId": "8488ec83-a8a5-4c50-c67d-58fc7a6bd30a"
      },
      "outputs": [
        {
          "output_type": "execute_result",
          "data": {
            "text/plain": [
              "tensor([ 4.3753,  2.7835,  1.3018, 12.4410,  1.2855,  0.2134, 10.0755],\n",
              "       dtype=torch.float64)"
            ]
          },
          "metadata": {},
          "execution_count": 89
        }
      ],
      "source": [
        "loss_fct.weight"
      ]
    },
    {
      "cell_type": "code",
      "execution_count": null,
      "metadata": {
        "id": "VF6Ts9NAwYMo"
      },
      "outputs": [],
      "source": [
        "# Convert class weights to a tensor with the correct data type (Float)\n",
        "# this is required to avoid error : expected scalar type Float but found Double\n",
        "class_weights_tensor = torch.tensor(class_weights, dtype=torch.float)"
      ]
    },
    {
      "cell_type": "code",
      "execution_count": null,
      "metadata": {
        "colab": {
          "base_uri": "https://localhost:8080/",
          "height": 36
        },
        "id": "yiSDc8YpBStB",
        "outputId": "32ba583a-a1e7-4e08-dda6-a1ccc1af8504"
      },
      "outputs": [
        {
          "output_type": "execute_result",
          "data": {
            "text/plain": [
              "'cuda'"
            ],
            "application/vnd.google.colaboratory.intrinsic+json": {
              "type": "string"
            }
          },
          "metadata": {},
          "execution_count": 91
        }
      ],
      "source": [
        "# for class weight\n",
        "import torch\n",
        "class CustomTrainer(Trainer):\n",
        "    def compute_loss(self, model, inputs, return_outputs=False):\n",
        "        labels = inputs.get(\"labels\")\n",
        "        # forward pass\n",
        "        outputs = model(**inputs)\n",
        "        logits = outputs.get(\"logits\")\n",
        "        # compute custom loss (suppose one has 3 labels with different weights)\n",
        "        loss_fct = torch.nn.CrossEntropyLoss(weight=class_weights_tensor ).to('cuda')\n",
        "        loss = loss_fct(logits.view(-1, self.model.config.num_labels), labels.view(-1))\n",
        "        return (loss, outputs) if return_outputs else loss\n",
        "device = 'cuda' if torch.cuda.is_available() else 'cpu'\n",
        "device"
      ]
    },
    {
      "cell_type": "markdown",
      "metadata": {
        "id": "XWgsSv_bpUcU"
      },
      "source": [
        "## Apply Early Stopping\n",
        "\n"
      ]
    },
    {
      "cell_type": "markdown",
      "metadata": {
        "id": "FdsgKbm8NrTc"
      },
      "source": [
        " The training will stop if there is no improvement in the evaluation metric (in this case, validation loss) for 10 evaluation steps."
      ]
    },
    {
      "cell_type": "code",
      "execution_count": null,
      "metadata": {
        "id": "BRIXrkykmgDm"
      },
      "outputs": [],
      "source": [
        "trainer = CustomTrainer(\n",
        "    model,\n",
        "    args,\n",
        "    train_dataset=skin_dataset['train'],\n",
        "    eval_dataset=skin_dataset['validation'],\n",
        "    data_collator=collate_fn,\n",
        "    compute_metrics=compute_metrics,\n",
        "    tokenizer=feature_extractor,\n",
        "    callbacks=[EarlyStoppingCallback(10, 0.0)],\n",
        "    # lr_scheduler=ReduceLROnPlateau(optimizer, mode='min', factor=0.1, patience=2, verbose=True)\n",
        "    # optimizers=(optimizer, trainer.create_scheduler(total_training_steps)),\n",
        ")"
      ]
    },
    {
      "cell_type": "markdown",
      "metadata": {
        "id": "hoNrr9PTFrDz"
      },
      "source": [
        "# Fine-tuning\n",
        "We can now finetune our model by just calling the train method:"
      ]
    },
    {
      "cell_type": "code",
      "execution_count": null,
      "metadata": {
        "colab": {
          "base_uri": "https://localhost:8080/",
          "height": 1000
        },
        "id": "-ykc1QbWQIHJ",
        "outputId": "865321d4-f832-4a1c-ccfc-65d51c716657"
      },
      "outputs": [
        {
          "data": {
            "text/html": [
              "\n",
              "    <div>\n",
              "      \n",
              "      <progress value='8988' max='32100' style='width:300px; height:20px; vertical-align: middle;'></progress>\n",
              "      [ 8988/32100 55:28 < 2:22:41, 2.70 it/s, Epoch 28/100]\n",
              "    </div>\n",
              "    <table border=\"1\" class=\"dataframe\">\n",
              "  <thead>\n",
              " <tr style=\"text-align: left;\">\n",
              "      <th>Epoch</th>\n",
              "      <th>Training Loss</th>\n",
              "      <th>Validation Loss</th>\n",
              "      <th>Accuracy</th>\n",
              "      <th>Precision</th>\n",
              "      <th>Recall</th>\n",
              "      <th>F1</th>\n",
              "    </tr>\n",
              "  </thead>\n",
              "  <tbody>\n",
              "    <tr>\n",
              "      <td>1</td>\n",
              "      <td>1.721700</td>\n",
              "      <td>1.019027</td>\n",
              "      <td>0.703537</td>\n",
              "      <td>0.663537</td>\n",
              "      <td>0.703537</td>\n",
              "      <td>0.652701</td>\n",
              "    </tr>\n",
              "    <tr>\n",
              "      <td>2</td>\n",
              "      <td>1.162200</td>\n",
              "      <td>0.738560</td>\n",
              "      <td>0.705617</td>\n",
              "      <td>0.757581</td>\n",
              "      <td>0.705617</td>\n",
              "      <td>0.719166</td>\n",
              "    </tr>\n",
              "    <tr>\n",
              "      <td>3</td>\n",
              "      <td>1.036800</td>\n",
              "      <td>0.655035</td>\n",
              "      <td>0.751734</td>\n",
              "      <td>0.756351</td>\n",
              "      <td>0.751734</td>\n",
              "      <td>0.721429</td>\n",
              "    </tr>\n",
              "    <tr>\n",
              "      <td>4</td>\n",
              "      <td>0.965300</td>\n",
              "      <td>0.564063</td>\n",
              "      <td>0.784327</td>\n",
              "      <td>0.794817</td>\n",
              "      <td>0.784327</td>\n",
              "      <td>0.786305</td>\n",
              "    </tr>\n",
              "    <tr>\n",
              "      <td>5</td>\n",
              "      <td>0.927200</td>\n",
              "      <td>0.795690</td>\n",
              "      <td>0.676838</td>\n",
              "      <td>0.795913</td>\n",
              "      <td>0.676838</td>\n",
              "      <td>0.703514</td>\n",
              "    </tr>\n",
              "    <tr>\n",
              "      <td>6</td>\n",
              "      <td>0.987800</td>\n",
              "      <td>0.580938</td>\n",
              "      <td>0.787101</td>\n",
              "      <td>0.806186</td>\n",
              "      <td>0.787101</td>\n",
              "      <td>0.790373</td>\n",
              "    </tr>\n",
              "    <tr>\n",
              "      <td>7</td>\n",
              "      <td>0.872000</td>\n",
              "      <td>0.681545</td>\n",
              "      <td>0.721567</td>\n",
              "      <td>0.808140</td>\n",
              "      <td>0.721567</td>\n",
              "      <td>0.744187</td>\n",
              "    </tr>\n",
              "    <tr>\n",
              "      <td>8</td>\n",
              "      <td>0.799800</td>\n",
              "      <td>0.610411</td>\n",
              "      <td>0.755895</td>\n",
              "      <td>0.814341</td>\n",
              "      <td>0.755895</td>\n",
              "      <td>0.772275</td>\n",
              "    </tr>\n",
              "    <tr>\n",
              "      <td>9</td>\n",
              "      <td>0.733000</td>\n",
              "      <td>0.529640</td>\n",
              "      <td>0.814840</td>\n",
              "      <td>0.825437</td>\n",
              "      <td>0.814840</td>\n",
              "      <td>0.817196</td>\n",
              "    </tr>\n",
              "    <tr>\n",
              "      <td>10</td>\n",
              "      <td>0.695700</td>\n",
              "      <td>0.579708</td>\n",
              "      <td>0.799584</td>\n",
              "      <td>0.832230</td>\n",
              "      <td>0.799584</td>\n",
              "      <td>0.805202</td>\n",
              "    </tr>\n",
              "    <tr>\n",
              "      <td>11</td>\n",
              "      <td>0.627100</td>\n",
              "      <td>0.592562</td>\n",
              "      <td>0.793343</td>\n",
              "      <td>0.834272</td>\n",
              "      <td>0.793343</td>\n",
              "      <td>0.805789</td>\n",
              "    </tr>\n",
              "    <tr>\n",
              "      <td>12</td>\n",
              "      <td>0.561400</td>\n",
              "      <td>0.587851</td>\n",
              "      <td>0.791956</td>\n",
              "      <td>0.838403</td>\n",
              "      <td>0.791956</td>\n",
              "      <td>0.806048</td>\n",
              "    </tr>\n",
              "    <tr>\n",
              "      <td>13</td>\n",
              "      <td>0.457600</td>\n",
              "      <td>0.666456</td>\n",
              "      <td>0.813800</td>\n",
              "      <td>0.831220</td>\n",
              "      <td>0.813800</td>\n",
              "      <td>0.802756</td>\n",
              "    </tr>\n",
              "    <tr>\n",
              "      <td>14</td>\n",
              "      <td>0.464500</td>\n",
              "      <td>0.551456</td>\n",
              "      <td>0.829404</td>\n",
              "      <td>0.847000</td>\n",
              "      <td>0.829404</td>\n",
              "      <td>0.832937</td>\n",
              "    </tr>\n",
              "    <tr>\n",
              "      <td>15</td>\n",
              "      <td>0.391300</td>\n",
              "      <td>0.547394</td>\n",
              "      <td>0.822469</td>\n",
              "      <td>0.846552</td>\n",
              "      <td>0.822469</td>\n",
              "      <td>0.828824</td>\n",
              "    </tr>\n",
              "    <tr>\n",
              "      <td>16</td>\n",
              "      <td>0.369300</td>\n",
              "      <td>0.576927</td>\n",
              "      <td>0.823509</td>\n",
              "      <td>0.846398</td>\n",
              "      <td>0.823509</td>\n",
              "      <td>0.830849</td>\n",
              "    </tr>\n",
              "    <tr>\n",
              "      <td>17</td>\n",
              "      <td>0.279400</td>\n",
              "      <td>0.532797</td>\n",
              "      <td>0.850902</td>\n",
              "      <td>0.857127</td>\n",
              "      <td>0.850902</td>\n",
              "      <td>0.851625</td>\n",
              "    </tr>\n",
              "    <tr>\n",
              "      <td>18</td>\n",
              "      <td>0.267700</td>\n",
              "      <td>0.524825</td>\n",
              "      <td>0.862344</td>\n",
              "      <td>0.858356</td>\n",
              "      <td>0.862344</td>\n",
              "      <td>0.859626</td>\n",
              "    </tr>\n",
              "    <tr>\n",
              "      <td>19</td>\n",
              "      <td>0.210400</td>\n",
              "      <td>0.628375</td>\n",
              "      <td>0.843273</td>\n",
              "      <td>0.857217</td>\n",
              "      <td>0.843273</td>\n",
              "      <td>0.847324</td>\n",
              "    </tr>\n",
              "    <tr>\n",
              "      <td>20</td>\n",
              "      <td>0.245900</td>\n",
              "      <td>0.613720</td>\n",
              "      <td>0.854369</td>\n",
              "      <td>0.859551</td>\n",
              "      <td>0.854369</td>\n",
              "      <td>0.855494</td>\n",
              "    </tr>\n",
              "    <tr>\n",
              "      <td>21</td>\n",
              "      <td>0.176900</td>\n",
              "      <td>0.595964</td>\n",
              "      <td>0.863731</td>\n",
              "      <td>0.857277</td>\n",
              "      <td>0.863731</td>\n",
              "      <td>0.856615</td>\n",
              "    </tr>\n",
              "    <tr>\n",
              "      <td>22</td>\n",
              "      <td>0.129400</td>\n",
              "      <td>0.584354</td>\n",
              "      <td>0.869972</td>\n",
              "      <td>0.868745</td>\n",
              "      <td>0.869972</td>\n",
              "      <td>0.868660</td>\n",
              "    </tr>\n",
              "    <tr>\n",
              "      <td>23</td>\n",
              "      <td>0.159700</td>\n",
              "      <td>0.658031</td>\n",
              "      <td>0.866505</td>\n",
              "      <td>0.860389</td>\n",
              "      <td>0.866505</td>\n",
              "      <td>0.858931</td>\n",
              "    </tr>\n",
              "    <tr>\n",
              "      <td>24</td>\n",
              "      <td>0.122700</td>\n",
              "      <td>0.622589</td>\n",
              "      <td>0.873093</td>\n",
              "      <td>0.872001</td>\n",
              "      <td>0.873093</td>\n",
              "      <td>0.871236</td>\n",
              "    </tr>\n",
              "    <tr>\n",
              "      <td>25</td>\n",
              "      <td>0.105400</td>\n",
              "      <td>0.619788</td>\n",
              "      <td>0.875173</td>\n",
              "      <td>0.872762</td>\n",
              "      <td>0.875173</td>\n",
              "      <td>0.872090</td>\n",
              "    </tr>\n",
              "    <tr>\n",
              "      <td>26</td>\n",
              "      <td>0.094500</td>\n",
              "      <td>0.604980</td>\n",
              "      <td>0.879334</td>\n",
              "      <td>0.875738</td>\n",
              "      <td>0.879334</td>\n",
              "      <td>0.876413</td>\n",
              "    </tr>\n",
              "    <tr>\n",
              "      <td>27</td>\n",
              "      <td>0.124200</td>\n",
              "      <td>0.607780</td>\n",
              "      <td>0.882802</td>\n",
              "      <td>0.878850</td>\n",
              "      <td>0.882802</td>\n",
              "      <td>0.879754</td>\n",
              "    </tr>\n",
              "    <tr>\n",
              "      <td>28</td>\n",
              "      <td>0.081900</td>\n",
              "      <td>0.618965</td>\n",
              "      <td>0.879681</td>\n",
              "      <td>0.874818</td>\n",
              "      <td>0.879681</td>\n",
              "      <td>0.875569</td>\n",
              "    </tr>\n",
              "  </tbody>\n",
              "</table><p>"
            ],
            "text/plain": [
              "<IPython.core.display.HTML object>"
            ]
          },
          "metadata": {},
          "output_type": "display_data"
        },
        {
          "metadata": {
            "tags": null
          },
          "name": "stdout",
          "output_type": "stream",
          "text": [
            "***** train metrics *****\n",
            "  epoch                    =          28.0\n",
            "  total_flos               = 10362927297GF\n",
            "  train_loss               =        0.5275\n",
            "  train_runtime            =    0:55:29.25\n",
            "  train_samples_per_second =       154.028\n",
            "  train_steps_per_second   =         9.642\n"
          ]
        }
      ],
      "source": [
        "train_results = trainer.train()\n",
        "trainer.save_model()\n",
        "trainer.log_metrics(\"train\", train_results.metrics)\n",
        "trainer.save_metrics(\"train\", train_results.metrics)\n",
        "trainer.save_state()"
      ]
    },
    {
      "cell_type": "markdown",
      "metadata": {
        "id": "isFFJXL4TSTp"
      },
      "source": [
        "*The train metrics are saved as train_results.json (assesible in the hub)*"
      ]
    },
    {
      "cell_type": "markdown",
      "metadata": {
        "id": "mb4g0RWV6Wwq"
      },
      "source": [
        "# Evaluation on validation set"
      ]
    },
    {
      "cell_type": "markdown",
      "metadata": {
        "id": "tsrvONpAmL3s"
      },
      "source": [
        "A good learning rate\n",
        "-  leads to improved performance metrics such as accuracy, precision, recall, or F1-score on the validation set.\n",
        "\n",
        "- promotes stable training, exihibiting a smooth decrease in loss over time\n",
        "\n",
        "- results in a decreasing training loss without significant overfitting (validation loss remains low)"
      ]
    },
    {
      "cell_type": "code",
      "execution_count": null,
      "metadata": {
        "id": "7fFsGHbLhxYK",
        "colab": {
          "base_uri": "https://localhost:8080/",
          "height": 231
        },
        "outputId": "fe8902f5-e894-4e3d-b137-e46e7d7854fb"
      },
      "outputs": [
        {
          "data": {
            "text/html": [
              "\n",
              "    <div>\n",
              "      \n",
              "      <progress value='136' max='361' style='width:300px; height:20px; vertical-align: middle;'></progress>\n",
              "      [136/361 00:08 < 00:14, 15.52 it/s]\n",
              "    </div>\n",
              "    "
            ],
            "text/plain": [
              "<IPython.core.display.HTML object>"
            ]
          },
          "metadata": {},
          "output_type": "display_data"
        },
        {
          "output_type": "display_data",
          "data": {
            "text/plain": [
              "<IPython.core.display.HTML object>"
            ],
            "text/html": [
              "\n",
              "    <div>\n",
              "      \n",
              "      <progress value='361' max='361' style='width:300px; height:20px; vertical-align: middle;'></progress>\n",
              "      [361/361 00:22]\n",
              "    </div>\n",
              "    "
            ]
          },
          "metadata": {}
        },
        {
          "output_type": "stream",
          "name": "stdout",
          "text": [
            "***** eval metrics *****\n",
            "  epoch                   =       28.0\n",
            "  eval_accuracy           =     0.8623\n",
            "  eval_f1                 =     0.8596\n",
            "  eval_loss               =     0.5248\n",
            "  eval_precision          =     0.8584\n",
            "  eval_recall             =     0.8623\n",
            "  eval_runtime            = 0:00:22.69\n",
            "  eval_samples_per_second =    127.075\n",
            "  eval_steps_per_second   =     15.906\n"
          ]
        }
      ],
      "source": [
        "metrics = trainer.evaluate(skin_dataset['validation'])\n",
        "trainer.log_metrics(\"eval\", metrics)\n",
        "trainer.save_metrics(\"eval\", metrics)"
      ]
    },
    {
      "cell_type": "code",
      "execution_count": null,
      "metadata": {
        "id": "f8AUb7y1FuTU",
        "colab": {
          "base_uri": "https://localhost:8080/"
        },
        "outputId": "25858b1c-813b-4df7-8bf4-035e963d43b6"
      },
      "outputs": [
        {
          "output_type": "stream",
          "name": "stdout",
          "text": [
            "TrainerState(epoch=28.0, global_step=8988, max_steps=32100, logging_steps=500, eval_steps=500, save_steps=500, train_batch_size=16, num_train_epochs=100, num_input_tokens_seen=0, total_flos=1.1127108458244538e+19, log_history=[{'loss': 1.7217, 'grad_norm': 27.36143684387207, 'learning_rate': 1.8291979226774382e-05, 'epoch': 1.0, 'step': 321}, {'eval_loss': 1.0190271139144897, 'eval_accuracy': 0.7035367545076283, 'eval_precision': 0.6635371340134015, 'eval_recall': 0.7035367545076283, 'eval_f1': 0.6527006206875058, 'eval_runtime': 22.7678, 'eval_samples_per_second': 126.67, 'eval_steps_per_second': 15.856, 'epoch': 1.0, 'step': 321}, {'loss': 1.1622, 'grad_norm': 32.75101089477539, 'learning_rate': 3.681477207155222e-05, 'epoch': 2.0, 'step': 642}, {'eval_loss': 0.7385604977607727, 'eval_accuracy': 0.705617198335645, 'eval_precision': 0.7575809849286596, 'eval_recall': 0.705617198335645, 'eval_f1': 0.7191659456414141, 'eval_runtime': 23.0256, 'eval_samples_per_second': 125.252, 'eval_steps_per_second': 15.678, 'epoch': 2.0, 'step': 642}, {'loss': 1.0368, 'grad_norm': 7.780852317810059, 'learning_rate': 5.5337564916330066e-05, 'epoch': 3.0, 'step': 963}, {'eval_loss': 0.655035138130188, 'eval_accuracy': 0.7517337031900139, 'eval_precision': 0.7563510144231254, 'eval_recall': 0.7517337031900139, 'eval_f1': 0.7214294760102591, 'eval_runtime': 22.8211, 'eval_samples_per_second': 126.374, 'eval_steps_per_second': 15.819, 'epoch': 3.0, 'step': 963}, {'loss': 0.9653, 'grad_norm': 30.053781509399414, 'learning_rate': 7.386035776110792e-05, 'epoch': 4.0, 'step': 1284}, {'eval_loss': 0.5640625953674316, 'eval_accuracy': 0.7843273231622746, 'eval_precision': 0.7948170600442105, 'eval_recall': 0.7843273231622746, 'eval_f1': 0.7863050211732793, 'eval_runtime': 22.4916, 'eval_samples_per_second': 128.226, 'eval_steps_per_second': 16.05, 'epoch': 4.0, 'step': 1284}, {'loss': 0.9272, 'grad_norm': 10.72180461883545, 'learning_rate': 9.238315060588575e-05, 'epoch': 5.0, 'step': 1605}, {'eval_loss': 0.7956904172897339, 'eval_accuracy': 0.6768377253814147, 'eval_precision': 0.7959127541379581, 'eval_recall': 0.6768377253814147, 'eval_f1': 0.703514416314774, 'eval_runtime': 22.4157, 'eval_samples_per_second': 128.66, 'eval_steps_per_second': 16.105, 'epoch': 5.0, 'step': 1605}, {'loss': 0.9878, 'grad_norm': 9.665838241577148, 'learning_rate': 9.984715255878176e-05, 'epoch': 6.0, 'step': 1926}, {'eval_loss': 0.580937922000885, 'eval_accuracy': 0.7871012482662968, 'eval_precision': 0.8061861183645468, 'eval_recall': 0.7871012482662968, 'eval_f1': 0.7903728309886872, 'eval_runtime': 22.8489, 'eval_samples_per_second': 126.221, 'eval_steps_per_second': 15.799, 'epoch': 6.0, 'step': 1926}, {'loss': 0.872, 'grad_norm': 7.413944244384766, 'learning_rate': 9.889061131437471e-05, 'epoch': 7.0, 'step': 2247}, {'eval_loss': 0.681545078754425, 'eval_accuracy': 0.7215672676837726, 'eval_precision': 0.8081398492651465, 'eval_recall': 0.7215672676837726, 'eval_f1': 0.7441866963098906, 'eval_runtime': 22.5223, 'eval_samples_per_second': 128.051, 'eval_steps_per_second': 16.029, 'epoch': 7.0, 'step': 2247}, {'loss': 0.7998, 'grad_norm': 3.1963610649108887, 'learning_rate': 9.707265436104638e-05, 'epoch': 8.0, 'step': 2568}, {'eval_loss': 0.6104105114936829, 'eval_accuracy': 0.7558945908460472, 'eval_precision': 0.8143413614427701, 'eval_recall': 0.7558945908460472, 'eval_f1': 0.7722745826002211, 'eval_runtime': 22.1997, 'eval_samples_per_second': 129.912, 'eval_steps_per_second': 16.261, 'epoch': 8.0, 'step': 2568}, {'loss': 0.733, 'grad_norm': 5.708278656005859, 'learning_rate': 9.44253127296151e-05, 'epoch': 9.0, 'step': 2889}, {'eval_loss': 0.5296399593353271, 'eval_accuracy': 0.8148404993065187, 'eval_precision': 0.8254366092776788, 'eval_recall': 0.8148404993065187, 'eval_f1': 0.817195928987888, 'eval_runtime': 22.2658, 'eval_samples_per_second': 129.526, 'eval_steps_per_second': 16.213, 'epoch': 9.0, 'step': 2889}, {'loss': 0.6957, 'grad_norm': 8.459081649780273, 'learning_rate': 9.099523058358976e-05, 'epoch': 10.0, 'step': 3210}, {'eval_loss': 0.579708456993103, 'eval_accuracy': 0.7995839112343966, 'eval_precision': 0.8322303167903897, 'eval_recall': 0.7995839112343966, 'eval_f1': 0.8052016823215509, 'eval_runtime': 22.874, 'eval_samples_per_second': 126.082, 'eval_steps_per_second': 15.782, 'epoch': 10.0, 'step': 3210}, {'loss': 0.6271, 'grad_norm': 23.16131591796875, 'learning_rate': 8.684284338417735e-05, 'epoch': 11.0, 'step': 3531}, {'eval_loss': 0.5925618410110474, 'eval_accuracy': 0.7933425797503467, 'eval_precision': 0.8342721256554735, 'eval_recall': 0.7933425797503467, 'eval_f1': 0.8057886771155975, 'eval_runtime': 22.4086, 'eval_samples_per_second': 128.7, 'eval_steps_per_second': 16.11, 'epoch': 11.0, 'step': 3531}, {'loss': 0.5614, 'grad_norm': 13.86120319366455, 'learning_rate': 8.204131306302357e-05, 'epoch': 12.0, 'step': 3852}, {'eval_loss': 0.58785080909729, 'eval_accuracy': 0.7919556171983356, 'eval_precision': 0.8384030380760077, 'eval_recall': 0.7919556171983356, 'eval_f1': 0.8060480658501534, 'eval_runtime': 22.7711, 'eval_samples_per_second': 126.652, 'eval_steps_per_second': 15.853, 'epoch': 12.0, 'step': 3852}, {'loss': 0.4576, 'grad_norm': 14.25642204284668, 'learning_rate': 7.667523896413962e-05, 'epoch': 13.0, 'step': 4173}, {'eval_loss': 0.6664562225341797, 'eval_accuracy': 0.8138002773925104, 'eval_precision': 0.8312195418319966, 'eval_recall': 0.8138002773925104, 'eval_f1': 0.802756356097153, 'eval_runtime': 22.7626, 'eval_samples_per_second': 126.699, 'eval_steps_per_second': 15.859, 'epoch': 13.0, 'step': 4173}, {'loss': 0.4645, 'grad_norm': 2.4907939434051514, 'learning_rate': 7.083916726724684e-05, 'epoch': 14.0, 'step': 4494}, {'eval_loss': 0.5514557957649231, 'eval_accuracy': 0.8294036061026352, 'eval_precision': 0.8470000675264909, 'eval_recall': 0.8294036061026352, 'eval_f1': 0.8329373166180268, 'eval_runtime': 22.6903, 'eval_samples_per_second': 127.103, 'eval_steps_per_second': 15.91, 'epoch': 14.0, 'step': 4494}, {'loss': 0.3913, 'grad_norm': 6.062983512878418, 'learning_rate': 6.463592515537568e-05, 'epoch': 15.0, 'step': 4815}, {'eval_loss': 0.5473943948745728, 'eval_accuracy': 0.8224687933425797, 'eval_precision': 0.8465516026472886, 'eval_recall': 0.8224687933425797, 'eval_f1': 0.8288240804348163, 'eval_runtime': 22.9153, 'eval_samples_per_second': 125.855, 'eval_steps_per_second': 15.754, 'epoch': 15.0, 'step': 4815}, {'loss': 0.3693, 'grad_norm': 8.832720756530762, 'learning_rate': 5.8174809077430184e-05, 'epoch': 16.0, 'step': 5136}, {'eval_loss': 0.5769267082214355, 'eval_accuracy': 0.823509015256588, 'eval_precision': 0.8463977879369676, 'eval_recall': 0.823509015256588, 'eval_f1': 0.8308490392951902, 'eval_runtime': 22.4364, 'eval_samples_per_second': 128.541, 'eval_steps_per_second': 16.09, 'epoch': 16.0, 'step': 5136}, {'loss': 0.2794, 'grad_norm': 3.554053783416748, 'learning_rate': 5.156965902716534e-05, 'epoch': 17.0, 'step': 5457}, {'eval_loss': 0.5327965617179871, 'eval_accuracy': 0.8509015256588072, 'eval_precision': 0.8571269483137886, 'eval_recall': 0.8509015256588072, 'eval_f1': 0.851625286103631, 'eval_runtime': 22.5058, 'eval_samples_per_second': 128.145, 'eval_steps_per_second': 16.04, 'epoch': 17.0, 'step': 5457}, {'loss': 0.2677, 'grad_norm': 12.536526679992676, 'learning_rate': 4.493685276832998e-05, 'epoch': 18.0, 'step': 5778}, {'eval_loss': 0.5248246192932129, 'eval_accuracy': 0.8623439667128987, 'eval_precision': 0.8583558881059454, 'eval_recall': 0.8623439667128987, 'eval_f1': 0.8596257980493167, 'eval_runtime': 23.0138, 'eval_samples_per_second': 125.316, 'eval_steps_per_second': 15.686, 'epoch': 18.0, 'step': 5778}, {'loss': 0.2104, 'grad_norm': 0.8805328011512756, 'learning_rate': 3.839325534621579e-05, 'epoch': 19.0, 'step': 6099}, {'eval_loss': 0.6283748745918274, 'eval_accuracy': 0.8432732316227461, 'eval_precision': 0.8572165883311328, 'eval_recall': 0.8432732316227461, 'eval_f1': 0.8473236873027821, 'eval_runtime': 22.0808, 'eval_samples_per_second': 130.611, 'eval_steps_per_second': 16.349, 'epoch': 19.0, 'step': 6099}, {'loss': 0.2459, 'grad_norm': 0.04168611392378807, 'learning_rate': 3.2073473743477955e-05, 'epoch': 20.0, 'step': 6420}, {'eval_loss': 0.6137195229530334, 'eval_accuracy': 0.8543689320388349, 'eval_precision': 0.8595513589850039, 'eval_recall': 0.8543689320388349, 'eval_f1': 0.8554941368452752, 'eval_runtime': 22.5224, 'eval_samples_per_second': 128.05, 'eval_steps_per_second': 16.028, 'epoch': 20.0, 'step': 6420}, {'loss': 0.1769, 'grad_norm': 3.362337350845337, 'learning_rate': 2.604941738980618e-05, 'epoch': 21.0, 'step': 6741}, {'eval_loss': 0.5959635376930237, 'eval_accuracy': 0.8637309292649098, 'eval_precision': 0.8572769111277326, 'eval_recall': 0.8637309292649098, 'eval_f1': 0.8566147037629545, 'eval_runtime': 22.6796, 'eval_samples_per_second': 127.162, 'eval_steps_per_second': 15.917, 'epoch': 21.0, 'step': 6741}, {'loss': 0.1294, 'grad_norm': 32.62522506713867, 'learning_rate': 2.0447352243517255e-05, 'epoch': 22.0, 'step': 7062}, {'eval_loss': 0.5843542814254761, 'eval_accuracy': 0.8699722607489597, 'eval_precision': 0.8687454531579298, 'eval_recall': 0.8699722607489597, 'eval_f1': 0.868659902198456, 'eval_runtime': 22.7408, 'eval_samples_per_second': 126.82, 'eval_steps_per_second': 15.875, 'epoch': 22.0, 'step': 7062}, {'loss': 0.1597, 'grad_norm': 4.362905502319336, 'learning_rate': 1.536598246865575e-05, 'epoch': 23.0, 'step': 7383}, {'eval_loss': 0.6580309867858887, 'eval_accuracy': 0.866504854368932, 'eval_precision': 0.8603887819342586, 'eval_recall': 0.866504854368932, 'eval_f1': 0.8589306843328246, 'eval_runtime': 22.8065, 'eval_samples_per_second': 126.455, 'eval_steps_per_second': 15.829, 'epoch': 23.0, 'step': 7383}, {'loss': 0.1227, 'grad_norm': 1.3405486345291138, 'learning_rate': 1.0894837969414489e-05, 'epoch': 24.0, 'step': 7704}, {'eval_loss': 0.6225888729095459, 'eval_accuracy': 0.8730929264909847, 'eval_precision': 0.8720005451749013, 'eval_recall': 0.8730929264909847, 'eval_f1': 0.8712364081669894, 'eval_runtime': 22.4336, 'eval_samples_per_second': 128.557, 'eval_steps_per_second': 16.092, 'epoch': 24.0, 'step': 7704}, {'loss': 0.1054, 'grad_norm': 0.08982106298208237, 'learning_rate': 7.112696940726155e-06, 'epoch': 25.0, 'step': 8025}, {'eval_loss': 0.6197877526283264, 'eval_accuracy': 0.8751733703190014, 'eval_precision': 0.8727615417504975, 'eval_recall': 0.8751733703190014, 'eval_f1': 0.8720900906443607, 'eval_runtime': 22.3517, 'eval_samples_per_second': 129.028, 'eval_steps_per_second': 16.151, 'epoch': 25.0, 'step': 8025}, {'loss': 0.0945, 'grad_norm': 16.338762283325195, 'learning_rate': 4.094394131694684e-06, 'epoch': 26.0, 'step': 8346}, {'eval_loss': 0.6049804091453552, 'eval_accuracy': 0.8793342579750347, 'eval_precision': 0.8757375120219936, 'eval_recall': 0.8793342579750347, 'eval_f1': 0.8764130000059128, 'eval_runtime': 22.9615, 'eval_samples_per_second': 125.601, 'eval_steps_per_second': 15.722, 'epoch': 26.0, 'step': 8346}, {'loss': 0.1242, 'grad_norm': 0.07402696460485458, 'learning_rate': 1.8742732027931087e-06, 'epoch': 27.0, 'step': 8667}, {'eval_loss': 0.6077802181243896, 'eval_accuracy': 0.8828016643550625, 'eval_precision': 0.8788497875866979, 'eval_recall': 0.8828016643550625, 'eval_f1': 0.8797538930980352, 'eval_runtime': 22.9003, 'eval_samples_per_second': 125.937, 'eval_steps_per_second': 15.764, 'epoch': 27.0, 'step': 8667}, {'loss': 0.0819, 'grad_norm': 0.06073630228638649, 'learning_rate': 5.020912943263345e-07, 'epoch': 28.0, 'step': 8988}, {'eval_loss': 0.6189650893211365, 'eval_accuracy': 0.8796809986130375, 'eval_precision': 0.8748178599277232, 'eval_recall': 0.8796809986130375, 'eval_f1': 0.8755693874564652, 'eval_runtime': 23.1664, 'eval_samples_per_second': 124.49, 'eval_steps_per_second': 15.583, 'epoch': 28.0, 'step': 8988}, {'train_runtime': 3329.2548, 'train_samples_per_second': 154.028, 'train_steps_per_second': 9.642, 'total_flos': 1.1127108458244538e+19, 'train_loss': 0.5275238134301817, 'epoch': 28.0, 'step': 8988}, {'eval_loss': 0.5248246192932129, 'eval_accuracy': 0.8623439667128987, 'eval_precision': 0.8583558881059454, 'eval_recall': 0.8623439667128987, 'eval_f1': 0.8596257980493167, 'eval_runtime': 22.6952, 'eval_samples_per_second': 127.075, 'eval_steps_per_second': 15.906, 'epoch': 28.0, 'step': 8988}], best_metric=0.5248246192932129, best_model_checkpoint='./vit-beta2-0.99/checkpoint-5778', is_local_process_zero=True, is_world_process_zero=True, is_hyper_param_search=False, trial_name=None, trial_params=None)\n"
          ]
        }
      ],
      "source": [
        "print(trainer.state)"
      ]
    },
    {
      "cell_type": "code",
      "execution_count": null,
      "metadata": {
        "id": "X6pJAxp8FDUm",
        "colab": {
          "base_uri": "https://localhost:8080/"
        },
        "outputId": "09822449-0bcc-43b7-ca85-ec1b7ec0f9d8"
      },
      "outputs": [
        {
          "output_type": "stream",
          "name": "stdout",
          "text": [
            "[{'loss': 1.7217, 'grad_norm': 27.36143684387207, 'learning_rate': 1.8291979226774382e-05, 'epoch': 1.0, 'step': 321}, {'eval_loss': 1.0190271139144897, 'eval_accuracy': 0.7035367545076283, 'eval_precision': 0.6635371340134015, 'eval_recall': 0.7035367545076283, 'eval_f1': 0.6527006206875058, 'eval_runtime': 22.7678, 'eval_samples_per_second': 126.67, 'eval_steps_per_second': 15.856, 'epoch': 1.0, 'step': 321}, {'loss': 1.1622, 'grad_norm': 32.75101089477539, 'learning_rate': 3.681477207155222e-05, 'epoch': 2.0, 'step': 642}, {'eval_loss': 0.7385604977607727, 'eval_accuracy': 0.705617198335645, 'eval_precision': 0.7575809849286596, 'eval_recall': 0.705617198335645, 'eval_f1': 0.7191659456414141, 'eval_runtime': 23.0256, 'eval_samples_per_second': 125.252, 'eval_steps_per_second': 15.678, 'epoch': 2.0, 'step': 642}, {'loss': 1.0368, 'grad_norm': 7.780852317810059, 'learning_rate': 5.5337564916330066e-05, 'epoch': 3.0, 'step': 963}, {'eval_loss': 0.655035138130188, 'eval_accuracy': 0.7517337031900139, 'eval_precision': 0.7563510144231254, 'eval_recall': 0.7517337031900139, 'eval_f1': 0.7214294760102591, 'eval_runtime': 22.8211, 'eval_samples_per_second': 126.374, 'eval_steps_per_second': 15.819, 'epoch': 3.0, 'step': 963}, {'loss': 0.9653, 'grad_norm': 30.053781509399414, 'learning_rate': 7.386035776110792e-05, 'epoch': 4.0, 'step': 1284}, {'eval_loss': 0.5640625953674316, 'eval_accuracy': 0.7843273231622746, 'eval_precision': 0.7948170600442105, 'eval_recall': 0.7843273231622746, 'eval_f1': 0.7863050211732793, 'eval_runtime': 22.4916, 'eval_samples_per_second': 128.226, 'eval_steps_per_second': 16.05, 'epoch': 4.0, 'step': 1284}, {'loss': 0.9272, 'grad_norm': 10.72180461883545, 'learning_rate': 9.238315060588575e-05, 'epoch': 5.0, 'step': 1605}, {'eval_loss': 0.7956904172897339, 'eval_accuracy': 0.6768377253814147, 'eval_precision': 0.7959127541379581, 'eval_recall': 0.6768377253814147, 'eval_f1': 0.703514416314774, 'eval_runtime': 22.4157, 'eval_samples_per_second': 128.66, 'eval_steps_per_second': 16.105, 'epoch': 5.0, 'step': 1605}, {'loss': 0.9878, 'grad_norm': 9.665838241577148, 'learning_rate': 9.984715255878176e-05, 'epoch': 6.0, 'step': 1926}, {'eval_loss': 0.580937922000885, 'eval_accuracy': 0.7871012482662968, 'eval_precision': 0.8061861183645468, 'eval_recall': 0.7871012482662968, 'eval_f1': 0.7903728309886872, 'eval_runtime': 22.8489, 'eval_samples_per_second': 126.221, 'eval_steps_per_second': 15.799, 'epoch': 6.0, 'step': 1926}, {'loss': 0.872, 'grad_norm': 7.413944244384766, 'learning_rate': 9.889061131437471e-05, 'epoch': 7.0, 'step': 2247}, {'eval_loss': 0.681545078754425, 'eval_accuracy': 0.7215672676837726, 'eval_precision': 0.8081398492651465, 'eval_recall': 0.7215672676837726, 'eval_f1': 0.7441866963098906, 'eval_runtime': 22.5223, 'eval_samples_per_second': 128.051, 'eval_steps_per_second': 16.029, 'epoch': 7.0, 'step': 2247}, {'loss': 0.7998, 'grad_norm': 3.1963610649108887, 'learning_rate': 9.707265436104638e-05, 'epoch': 8.0, 'step': 2568}, {'eval_loss': 0.6104105114936829, 'eval_accuracy': 0.7558945908460472, 'eval_precision': 0.8143413614427701, 'eval_recall': 0.7558945908460472, 'eval_f1': 0.7722745826002211, 'eval_runtime': 22.1997, 'eval_samples_per_second': 129.912, 'eval_steps_per_second': 16.261, 'epoch': 8.0, 'step': 2568}, {'loss': 0.733, 'grad_norm': 5.708278656005859, 'learning_rate': 9.44253127296151e-05, 'epoch': 9.0, 'step': 2889}, {'eval_loss': 0.5296399593353271, 'eval_accuracy': 0.8148404993065187, 'eval_precision': 0.8254366092776788, 'eval_recall': 0.8148404993065187, 'eval_f1': 0.817195928987888, 'eval_runtime': 22.2658, 'eval_samples_per_second': 129.526, 'eval_steps_per_second': 16.213, 'epoch': 9.0, 'step': 2889}, {'loss': 0.6957, 'grad_norm': 8.459081649780273, 'learning_rate': 9.099523058358976e-05, 'epoch': 10.0, 'step': 3210}, {'eval_loss': 0.579708456993103, 'eval_accuracy': 0.7995839112343966, 'eval_precision': 0.8322303167903897, 'eval_recall': 0.7995839112343966, 'eval_f1': 0.8052016823215509, 'eval_runtime': 22.874, 'eval_samples_per_second': 126.082, 'eval_steps_per_second': 15.782, 'epoch': 10.0, 'step': 3210}, {'loss': 0.6271, 'grad_norm': 23.16131591796875, 'learning_rate': 8.684284338417735e-05, 'epoch': 11.0, 'step': 3531}, {'eval_loss': 0.5925618410110474, 'eval_accuracy': 0.7933425797503467, 'eval_precision': 0.8342721256554735, 'eval_recall': 0.7933425797503467, 'eval_f1': 0.8057886771155975, 'eval_runtime': 22.4086, 'eval_samples_per_second': 128.7, 'eval_steps_per_second': 16.11, 'epoch': 11.0, 'step': 3531}, {'loss': 0.5614, 'grad_norm': 13.86120319366455, 'learning_rate': 8.204131306302357e-05, 'epoch': 12.0, 'step': 3852}, {'eval_loss': 0.58785080909729, 'eval_accuracy': 0.7919556171983356, 'eval_precision': 0.8384030380760077, 'eval_recall': 0.7919556171983356, 'eval_f1': 0.8060480658501534, 'eval_runtime': 22.7711, 'eval_samples_per_second': 126.652, 'eval_steps_per_second': 15.853, 'epoch': 12.0, 'step': 3852}, {'loss': 0.4576, 'grad_norm': 14.25642204284668, 'learning_rate': 7.667523896413962e-05, 'epoch': 13.0, 'step': 4173}, {'eval_loss': 0.6664562225341797, 'eval_accuracy': 0.8138002773925104, 'eval_precision': 0.8312195418319966, 'eval_recall': 0.8138002773925104, 'eval_f1': 0.802756356097153, 'eval_runtime': 22.7626, 'eval_samples_per_second': 126.699, 'eval_steps_per_second': 15.859, 'epoch': 13.0, 'step': 4173}, {'loss': 0.4645, 'grad_norm': 2.4907939434051514, 'learning_rate': 7.083916726724684e-05, 'epoch': 14.0, 'step': 4494}, {'eval_loss': 0.5514557957649231, 'eval_accuracy': 0.8294036061026352, 'eval_precision': 0.8470000675264909, 'eval_recall': 0.8294036061026352, 'eval_f1': 0.8329373166180268, 'eval_runtime': 22.6903, 'eval_samples_per_second': 127.103, 'eval_steps_per_second': 15.91, 'epoch': 14.0, 'step': 4494}, {'loss': 0.3913, 'grad_norm': 6.062983512878418, 'learning_rate': 6.463592515537568e-05, 'epoch': 15.0, 'step': 4815}, {'eval_loss': 0.5473943948745728, 'eval_accuracy': 0.8224687933425797, 'eval_precision': 0.8465516026472886, 'eval_recall': 0.8224687933425797, 'eval_f1': 0.8288240804348163, 'eval_runtime': 22.9153, 'eval_samples_per_second': 125.855, 'eval_steps_per_second': 15.754, 'epoch': 15.0, 'step': 4815}, {'loss': 0.3693, 'grad_norm': 8.832720756530762, 'learning_rate': 5.8174809077430184e-05, 'epoch': 16.0, 'step': 5136}, {'eval_loss': 0.5769267082214355, 'eval_accuracy': 0.823509015256588, 'eval_precision': 0.8463977879369676, 'eval_recall': 0.823509015256588, 'eval_f1': 0.8308490392951902, 'eval_runtime': 22.4364, 'eval_samples_per_second': 128.541, 'eval_steps_per_second': 16.09, 'epoch': 16.0, 'step': 5136}, {'loss': 0.2794, 'grad_norm': 3.554053783416748, 'learning_rate': 5.156965902716534e-05, 'epoch': 17.0, 'step': 5457}, {'eval_loss': 0.5327965617179871, 'eval_accuracy': 0.8509015256588072, 'eval_precision': 0.8571269483137886, 'eval_recall': 0.8509015256588072, 'eval_f1': 0.851625286103631, 'eval_runtime': 22.5058, 'eval_samples_per_second': 128.145, 'eval_steps_per_second': 16.04, 'epoch': 17.0, 'step': 5457}, {'loss': 0.2677, 'grad_norm': 12.536526679992676, 'learning_rate': 4.493685276832998e-05, 'epoch': 18.0, 'step': 5778}, {'eval_loss': 0.5248246192932129, 'eval_accuracy': 0.8623439667128987, 'eval_precision': 0.8583558881059454, 'eval_recall': 0.8623439667128987, 'eval_f1': 0.8596257980493167, 'eval_runtime': 23.0138, 'eval_samples_per_second': 125.316, 'eval_steps_per_second': 15.686, 'epoch': 18.0, 'step': 5778}, {'loss': 0.2104, 'grad_norm': 0.8805328011512756, 'learning_rate': 3.839325534621579e-05, 'epoch': 19.0, 'step': 6099}, {'eval_loss': 0.6283748745918274, 'eval_accuracy': 0.8432732316227461, 'eval_precision': 0.8572165883311328, 'eval_recall': 0.8432732316227461, 'eval_f1': 0.8473236873027821, 'eval_runtime': 22.0808, 'eval_samples_per_second': 130.611, 'eval_steps_per_second': 16.349, 'epoch': 19.0, 'step': 6099}, {'loss': 0.2459, 'grad_norm': 0.04168611392378807, 'learning_rate': 3.2073473743477955e-05, 'epoch': 20.0, 'step': 6420}, {'eval_loss': 0.6137195229530334, 'eval_accuracy': 0.8543689320388349, 'eval_precision': 0.8595513589850039, 'eval_recall': 0.8543689320388349, 'eval_f1': 0.8554941368452752, 'eval_runtime': 22.5224, 'eval_samples_per_second': 128.05, 'eval_steps_per_second': 16.028, 'epoch': 20.0, 'step': 6420}, {'loss': 0.1769, 'grad_norm': 3.362337350845337, 'learning_rate': 2.604941738980618e-05, 'epoch': 21.0, 'step': 6741}, {'eval_loss': 0.5959635376930237, 'eval_accuracy': 0.8637309292649098, 'eval_precision': 0.8572769111277326, 'eval_recall': 0.8637309292649098, 'eval_f1': 0.8566147037629545, 'eval_runtime': 22.6796, 'eval_samples_per_second': 127.162, 'eval_steps_per_second': 15.917, 'epoch': 21.0, 'step': 6741}, {'loss': 0.1294, 'grad_norm': 32.62522506713867, 'learning_rate': 2.0447352243517255e-05, 'epoch': 22.0, 'step': 7062}, {'eval_loss': 0.5843542814254761, 'eval_accuracy': 0.8699722607489597, 'eval_precision': 0.8687454531579298, 'eval_recall': 0.8699722607489597, 'eval_f1': 0.868659902198456, 'eval_runtime': 22.7408, 'eval_samples_per_second': 126.82, 'eval_steps_per_second': 15.875, 'epoch': 22.0, 'step': 7062}, {'loss': 0.1597, 'grad_norm': 4.362905502319336, 'learning_rate': 1.536598246865575e-05, 'epoch': 23.0, 'step': 7383}, {'eval_loss': 0.6580309867858887, 'eval_accuracy': 0.866504854368932, 'eval_precision': 0.8603887819342586, 'eval_recall': 0.866504854368932, 'eval_f1': 0.8589306843328246, 'eval_runtime': 22.8065, 'eval_samples_per_second': 126.455, 'eval_steps_per_second': 15.829, 'epoch': 23.0, 'step': 7383}, {'loss': 0.1227, 'grad_norm': 1.3405486345291138, 'learning_rate': 1.0894837969414489e-05, 'epoch': 24.0, 'step': 7704}, {'eval_loss': 0.6225888729095459, 'eval_accuracy': 0.8730929264909847, 'eval_precision': 0.8720005451749013, 'eval_recall': 0.8730929264909847, 'eval_f1': 0.8712364081669894, 'eval_runtime': 22.4336, 'eval_samples_per_second': 128.557, 'eval_steps_per_second': 16.092, 'epoch': 24.0, 'step': 7704}, {'loss': 0.1054, 'grad_norm': 0.08982106298208237, 'learning_rate': 7.112696940726155e-06, 'epoch': 25.0, 'step': 8025}, {'eval_loss': 0.6197877526283264, 'eval_accuracy': 0.8751733703190014, 'eval_precision': 0.8727615417504975, 'eval_recall': 0.8751733703190014, 'eval_f1': 0.8720900906443607, 'eval_runtime': 22.3517, 'eval_samples_per_second': 129.028, 'eval_steps_per_second': 16.151, 'epoch': 25.0, 'step': 8025}, {'loss': 0.0945, 'grad_norm': 16.338762283325195, 'learning_rate': 4.094394131694684e-06, 'epoch': 26.0, 'step': 8346}, {'eval_loss': 0.6049804091453552, 'eval_accuracy': 0.8793342579750347, 'eval_precision': 0.8757375120219936, 'eval_recall': 0.8793342579750347, 'eval_f1': 0.8764130000059128, 'eval_runtime': 22.9615, 'eval_samples_per_second': 125.601, 'eval_steps_per_second': 15.722, 'epoch': 26.0, 'step': 8346}, {'loss': 0.1242, 'grad_norm': 0.07402696460485458, 'learning_rate': 1.8742732027931087e-06, 'epoch': 27.0, 'step': 8667}, {'eval_loss': 0.6077802181243896, 'eval_accuracy': 0.8828016643550625, 'eval_precision': 0.8788497875866979, 'eval_recall': 0.8828016643550625, 'eval_f1': 0.8797538930980352, 'eval_runtime': 22.9003, 'eval_samples_per_second': 125.937, 'eval_steps_per_second': 15.764, 'epoch': 27.0, 'step': 8667}, {'loss': 0.0819, 'grad_norm': 0.06073630228638649, 'learning_rate': 5.020912943263345e-07, 'epoch': 28.0, 'step': 8988}, {'eval_loss': 0.6189650893211365, 'eval_accuracy': 0.8796809986130375, 'eval_precision': 0.8748178599277232, 'eval_recall': 0.8796809986130375, 'eval_f1': 0.8755693874564652, 'eval_runtime': 23.1664, 'eval_samples_per_second': 124.49, 'eval_steps_per_second': 15.583, 'epoch': 28.0, 'step': 8988}, {'train_runtime': 3329.2548, 'train_samples_per_second': 154.028, 'train_steps_per_second': 9.642, 'total_flos': 1.1127108458244538e+19, 'train_loss': 0.5275238134301817, 'epoch': 28.0, 'step': 8988}, {'eval_loss': 0.5248246192932129, 'eval_accuracy': 0.8623439667128987, 'eval_precision': 0.8583558881059454, 'eval_recall': 0.8623439667128987, 'eval_f1': 0.8596257980493167, 'eval_runtime': 22.6952, 'eval_samples_per_second': 127.075, 'eval_steps_per_second': 15.906, 'epoch': 28.0, 'step': 8988}]\n"
          ]
        }
      ],
      "source": [
        "print(trainer.state.log_history)"
      ]
    },
    {
      "cell_type": "code",
      "execution_count": null,
      "metadata": {
        "id": "skyg8Zk7Scy4",
        "colab": {
          "base_uri": "https://localhost:8080/"
        },
        "outputId": "06a0612d-9179-42a6-e7a6-e2d7f361da2b"
      },
      "outputs": [
        {
          "metadata": {
            "tags": null
          },
          "name": "stdout",
          "output_type": "stream",
          "text": [
            "[1.7217, 1.1622, 1.0368, 0.9653, 0.9272, 0.9878, 0.872, 0.7998, 0.733, 0.6957, 0.6271, 0.5614, 0.4576, 0.4645, 0.3913, 0.3693, 0.2794, 0.2677, 0.2104, 0.2459, 0.1769, 0.1294, 0.1597, 0.1227, 0.1054, 0.0945, 0.1242, 0.0819]\n"
          ]
        }
      ],
      "source": [
        "loss = []\n",
        "for elem in trainer.state.log_history:\n",
        "    if 'loss' in elem.keys():\n",
        "        loss.append(elem['loss'])\n",
        "print(loss)"
      ]
    },
    {
      "cell_type": "code",
      "execution_count": null,
      "metadata": {
        "id": "RntfiqvSTMv4",
        "colab": {
          "base_uri": "https://localhost:8080/"
        },
        "outputId": "03a67fa7-1626-401d-9ee6-351f63cfc975"
      },
      "outputs": [
        {
          "metadata": {
            "tags": null
          },
          "name": "stdout",
          "output_type": "stream",
          "text": [
            "Length of loss: 28\n"
          ]
        }
      ],
      "source": [
        "print(\"Length of loss:\", len(loss))"
      ]
    },
    {
      "cell_type": "code",
      "execution_count": null,
      "metadata": {
        "id": "nHpifVQPR-is",
        "colab": {
          "base_uri": "https://localhost:8080/"
        },
        "outputId": "01820c54-03c8-422f-e372-7e729d69d564"
      },
      "outputs": [
        {
          "metadata": {
            "tags": null
          },
          "name": "stdout",
          "output_type": "stream",
          "text": [
            "[1.0190271139144897, 0.7385604977607727, 0.655035138130188, 0.5640625953674316, 0.7956904172897339, 0.580937922000885, 0.681545078754425, 0.6104105114936829, 0.5296399593353271, 0.579708456993103, 0.5925618410110474, 0.58785080909729, 0.6664562225341797, 0.5514557957649231, 0.5473943948745728, 0.5769267082214355, 0.5327965617179871, 0.5248246192932129, 0.6283748745918274, 0.6137195229530334, 0.5959635376930237, 0.5843542814254761, 0.6580309867858887, 0.6225888729095459, 0.6197877526283264, 0.6049804091453552, 0.6077802181243896, 0.6189650893211365]\n"
          ]
        }
      ],
      "source": [
        "eval_loss = []\n",
        "for elem in trainer.state.log_history:\n",
        "    if 'eval_loss' in elem.keys():\n",
        "        eval_loss.append(elem['eval_loss'])\n",
        "\n",
        "eval_loss = eval_loss[:-1]\n",
        "print(eval_loss)"
      ]
    },
    {
      "cell_type": "code",
      "execution_count": null,
      "metadata": {
        "id": "NiZjl6ZTTFu5",
        "colab": {
          "base_uri": "https://localhost:8080/"
        },
        "outputId": "97b3d955-08cd-49af-dd2f-44429cca6281"
      },
      "outputs": [
        {
          "metadata": {
            "tags": null
          },
          "name": "stdout",
          "output_type": "stream",
          "text": [
            "Length of eval_loss: 28\n"
          ]
        }
      ],
      "source": [
        "print(\"Length of eval_loss:\", len(eval_loss))"
      ]
    },
    {
      "cell_type": "markdown",
      "metadata": {
        "id": "qTvx-zKg1Syi"
      },
      "source": [
        "### Loss curve\n",
        "\n"
      ]
    },
    {
      "cell_type": "code",
      "execution_count": null,
      "metadata": {
        "id": "QmNL3INONh9_",
        "colab": {
          "base_uri": "https://localhost:8080/",
          "height": 827
        },
        "outputId": "ee2ce0e9-8b29-42c4-9c1a-775a69120dfe"
      },
      "outputs": [
        {
          "output_type": "display_data",
          "data": {
            "text/plain": [
              "<Figure size 1500x1000 with 1 Axes>"
            ],
            "image/png": "[encoded data removed]"
          },
          "metadata": {}
        }
      ],
      "source": [
        "import matplotlib.pyplot as plt\n",
        "\n",
        "x_values = range(0, int(trainer.state.epoch), 1)\n",
        "plt.figure(figsize=(15, 10))\n",
        "plt.plot(x_values, loss, 'b-', label='Training Loss')\n",
        "plt.plot(x_values, eval_loss, 'r-', label='Validation Loss')\n",
        "plt.ylim(0,2)\n",
        "\n",
        "plt.title('Learning Curve')\n",
        "plt.xlabel('Epochs')\n",
        "plt.ylabel('Loss')\n",
        "plt.xticks(range(0, int(trainer.state.epoch), 1))\n",
        "plt.legend()\n",
        "\n",
        "plt.show()\n"
      ]
    },
    {
      "cell_type": "markdown",
      "source": [
        "**Below is the learning curve before beta1 =  0.99 is applied:![download (2).png](data:image/png;base64,iVBORw0KGgoAAAANSUhEUgAABNoAAANXCAYAAADjAjLCAAAAOXRFWHRTb2Z0d2FyZQBNYXRwbG90bGliIHZlcnNpb24zLjcuMSwgaHR0cHM6Ly9tYXRwbG90bGliLm9yZy/bCgiHAAAACXBIWXMAAA9hAAAPYQGoP6dpAADLiklEQVR4nOzde3zO9f/H8ee1jc3G5jzUnELOI6dQITQSOZRDyiGSQiQpXyU6SUkSUTlFySGHVM4ihUhsyKFozufTZsNm2/X74/3btJx2uK59dl3X4367Xbd9rs/1uT7X65rh2vPzfr9fNrvdbhcAAAAAAACATPGyugAAAAAAAADAHRC0AQAAAAAAAA5A0AYAAAAAAAA4AEEbAAAAAAAA4AAEbQAAAAAAAIADELQBAAAAAAAADkDQBgAAAAAAADgAQRsAAAAAAADgAARtAAAAAAAAgAMQtAEAALi5kiVLqlu3blaXAQAA4PYI2gAAANJg+vTpstls2rJli9WluJwrV67oo48+Up06dRQUFCQ/Pz+VK1dOffv21V9//WV1eQAAAA7jY3UBAAAAcK69e/fKy8ua66tnzpxRs2bN9Mcff+iRRx7RE088ody5c2vv3r2aPXu2Pv/8c8XHx1tSGwAAgKMRtAEAALiQhIQEJSUlKWfOnGl+jq+vrxMrurVu3bpp27Zt+vbbb9WuXbtUj7311lsaOnSoQ14nI98XAAAAR2PqKAAAgAMdPXpUTz/9tIKDg+Xr66tKlSpp6tSpqY6Jj4/XsGHDVKNGDQUFBSkgIED333+/1qxZk+q4AwcOyGazafTo0Ro7dqzuuusu+fr6ateuXRo+fLhsNpv27dunbt26KW/evAoKClL37t116dKlVOf57xptydNg169fr4EDB6pQoUIKCAhQmzZtdPr06VTPTUpK0vDhw1WsWDH5+/urUaNG2rVrV5rWfdu0aZN+/PFH9ejR47qQTTIB4OjRo1PuN2zYUA0bNrzuuG7duqlkyZK3/b5s27ZNPj4+GjFixHXn2Lt3r2w2m8aPH5+y78KFCxowYIBCQkLk6+urMmXKaNSoUUpKSrrl+wIAALgZRrQBAAA4yMmTJ3XvvffKZrOpb9++KlSokJYuXaoePXooOjpaAwYMkCRFR0dr8uTJ6tSpk5555hldvHhRU6ZMUVhYmDZv3qxq1aqlOu+0adN05coV9erVS76+vsqfP3/KY+3bt1epUqU0cuRIbd26VZMnT1bhwoU1atSo29bbr18/5cuXT2+88YYOHDigsWPHqm/fvpozZ07KMUOGDNH777+vli1bKiwsTBEREQoLC9OVK1due/7FixdLkp566qk0fPfS77/fl6JFi6pBgwaaO3eu3njjjVTHzpkzR97e3nr88cclSZcuXVKDBg109OhRPfvssypevLg2bNigIUOG6Pjx4xo7dqxTagYAAO6NoA0AAMBBhg4dqsTERO3YsUMFChSQJPXu3VudOnXS8OHD9eyzzypXrlzKly+fDhw4kGqa4zPPPKPy5cvrk08+0ZQpU1Kd98iRI9q3b58KFSp03WtWr1491fFnz57VlClT0hS0FShQQCtWrJDNZpNkRq+NGzdOUVFRCgoK0smTJzVmzBi1bt1aCxcuTHneiBEjNHz48Nuef/fu3ZKkKlWq3PbYjLjR96VDhw569tlntXPnTlWuXDll/5w5c9SgQQMFBwdLksaMGaP9+/dr27ZtKlu2rCTp2WefVbFixfTBBx/opZdeUkhIiFPqBgAA7oupowAAAA5gt9s1f/58tWzZUna7XWfOnEm5hYWFKSoqSlu3bpUkeXt7p4RsSUlJOnfunBISElSzZs2UY/6tXbt2NwzZJBPk/dv999+vs2fPKjo6+rY19+rVKyVkS35uYmKiDh48KElavXq1EhIS9Pzzz6d6Xr9+/W57bkkpNeTJkydNx6fXjb4vbdu2lY+PT6pReTt37tSuXbvUoUOHlH3z5s3T/fffr3z58qX6s2rSpIkSExO1bt06p9QMAADcGyPaAAAAHOD06dO6cOGCPv/8c33++ec3PObUqVMp219++aU+/PBD7dmzR1evXk3ZX6pUqeued6N9yYoXL57qfr58+SRJ58+fV2Bg4C1rvtVzJaUEbmXKlEl1XP78+VOOvZXk17948aLy5s172+PT60bfl4IFC6px48aaO3eu3nrrLUlmNJuPj4/atm2bctzff/+t7du33zTA/PefFQAAQFoRtAEAADhA8gL6Tz75pLp27XrDY6pWrSpJ+uqrr9StWze1bt1aL7/8sgoXLixvb2+NHDlS+/fvv+55uXLluunrent733C/3W6/bc2ZeW5alC9fXpK0Y8cO3X///bc93maz3fC1ExMTb3j8zb4vHTt2VPfu3RUeHq5q1app7ty5aty4sQoWLJhyTFJSkpo2barBgwff8BzlypW7bb0AAAD/RdAGAADgAIUKFVKePHmUmJioJk2a3PLYb7/9VqVLl9aCBQtSTd387wL+VitRooQkad++falGj509ezZl1NuttGzZUiNHjtRXX32VpqAtX758+ueff67bnzyyLq1at26tZ599NmX66F9//aUhQ4akOuauu+5STEzMbf+sAAAA0oM12gAAABzA29tb7dq10/z587Vz587rHj99+nSqY6XUI8c2bdqkjRs3Or/QdGjcuLF8fHw0ceLEVPvHjx+fpufXrVtXzZo10+TJk7Vo0aLrHo+Pj9egQYNS7t91113as2dPqu9VRESE1q9fn6668+bNq7CwMM2dO1ezZ89Wzpw51bp161THtG/fXhs3btTy5cuve/6FCxeUkJCQrtcEAACQGNEGAACQLlOnTtWyZcuu29+/f3+99957WrNmjerUqaNnnnlGFStW1Llz57R161atWrVK586dkyQ98sgjWrBggdq0aaMWLVooMjJSkyZNUsWKFRUTE5PVb+mmgoOD1b9/f3344Ydq1aqVmjVrpoiICC1dulQFCxZMNRrvZmbMmKGHHnpIbdu2VcuWLdW4cWMFBATo77//1uzZs3X8+HGNHj1akvT0009rzJgxCgsLU48ePXTq1ClNmjRJlSpVSlNzh3/r0KGDnnzySX366acKCwu7bo24l19+WYsXL9Yjjzyibt26qUaNGoqNjdWOHTv07bff6sCBA6mmmgIAAKQFQRsAAEA6/Hd0V7Ju3brpzjvv1ObNm/Xmm29qwYIF+vTTT1WgQAFVqlRJo0aNSnXsiRMn9Nlnn2n58uWqWLGivvrqK82bN09r167NoneSNqNGjZK/v7+++OILrVq1SnXr1tWKFSt03333yc/P77bPL1SokDZs2KBPP/1Uc+bM0dChQxUfH68SJUqoVatW6t+/f8qxFSpU0IwZMzRs2DANHDhQFStW1MyZMzVr1qx0f19atWqlXLly6eLFi6m6jSbz9/fXzz//rHfffVfz5s3TjBkzFBgYqHLlymnEiBEKCgpK1+sBAABIks3uqNVuAQAA4BEuXLigfPny6e2339bQoUOtLgcAACDbYI02AAAA3NTly5ev2zd27FhJUsOGDbO2GAAAgGyOqaMAAAC4qTlz5mj69Ol6+OGHlTt3bv3666/65ptv9NBDD6l+/fpWlwcAAJCtELQBAADgpqpWrSofHx+9//77io6OTmmQ8Pbbb1tdGgAAQLZj6dTRkSNHqlatWsqTJ48KFy6s1q1ba+/evbd93rx581S+fHn5+fmpSpUqWrJkSarH7Xa7hg0bpqJFiypXrlxq0qSJ/v77b2e9DQAAALd1zz33aNWqVTpz5ozi4+N1+PBhjR07Vrlz57a6NAAAgGzH0qDt559/Vp8+ffTbb79p5cqVunr1qh566CHFxsbe9DkbNmxQp06d1KNHD23btk2tW7dW69attXPnzpRj3n//fY0bN06TJk3Spk2bFBAQoLCwMF25ciUr3hYAAAAAAAA8ULbqOnr69GkVLlxYP//8sx544IEbHtOhQwfFxsbqhx9+SNl37733qlq1apo0aZLsdruKFSuml156SYMGDZIkRUVFKTg4WNOnT1fHjh2z5L0AAAAAAADAs2SrNdqioqIkSfnz57/pMRs3btTAgQNT7QsLC9OiRYskSZGRkTpx4oSaNGmS8nhQUJDq1KmjjRs33jBoi4uLU1xcXMr9pKQknTt3TgUKFJDNZsvMWwIAAAAAAICLs9vtunjxoooVKyYvr5tPEM02QVtSUpIGDBig+vXrq3Llyjc97sSJEwoODk61Lzg4WCdOnEh5PHnfzY75r5EjR2rEiBGZKR8AAAAAAABu7vDhw7rzzjtv+ni2Cdr69OmjnTt36tdff83y1x4yZEiqUXJRUVEqXry4Dh8+rMDAwCyvBwAAAAAAANlHdHS0QkJClCdPnlsely2Ctr59++qHH37QunXrbpkKSlKRIkV08uTJVPtOnjypIkWKpDyevK9o0aKpjqlWrdoNz+nr6ytfX9/r9gcGBhK0AQAAAAAAQJJuu8SYpV1H7Xa7+vbtq4ULF+qnn35SqVKlbvucunXravXq1an2rVy5UnXr1pUklSpVSkWKFEl1THR0tDZt2pRyDAAAAAAAAOBolo5o69Onj2bNmqXvvvtOefLkSVlDLSgoSLly5ZIkdenSRXfccYdGjhwpSerfv78aNGigDz/8UC1atNDs2bO1ZcsWff7555JMsjhgwAC9/fbbKlu2rEqVKqXXX39dxYoVU+vWrS15nwAAAAAAAHB/lgZtEydOlCQ1bNgw1f5p06apW7dukqRDhw6l6uZQr149zZo1S6+99pr+97//qWzZslq0aFGqBgqDBw9WbGysevXqpQsXLui+++7TsmXL5Ofn5/T3BAAAAAAAAM9ks9vtdquLyG6io6MVFBSkqKgo1mgDAAAAACCbsNvtSkhIUGJiotWlwM14e3vLx8fnpmuwpTUryhbNEAAAAAAAAG4lPj5ex48f16VLl6wuBW7K399fRYsWVc6cOTN8DoI2AAAAAACQrSUlJSkyMlLe3t4qVqyYcubMedvuj0Ba2e12xcfH6/Tp04qMjFTZsmVTLWOWHgRtAAAAAAAgW4uPj1dSUpJCQkLk7+9vdTlwQ7ly5VKOHDl08OBBxcfHZ3id/4zFcwAAAAAAAFkso6OMgLRwxM8XP6EAAAAAAACAAxC0AQAAAAAAAA5A0AYAAAAAAOBCSpYsqbFjx6b5+LVr18pms+nChQtOqwkGQRsAAAAAAIAT2Gy2W96GDx+eofP+/vvv6tWrV5qPr1evno4fP66goKAMvV5aEejRdRQAAAAAAMApjh8/nrI9Z84cDRs2THv37k3Zlzt37pRtu92uxMRE+fjcPqopVKhQuurImTOnihQpkq7nIGMY0QYAAAAAAFyO3S7Fxmb9zW5Pe41FihRJuQUFBclms6Xc37Nnj/LkyaOlS5eqRo0a8vX11a+//qr9+/fr0UcfVXBwsHLnzq1atWpp1apVqc7736mjNptNkydPVps2beTv76+yZctq8eLFKY//d6TZ9OnTlTdvXi1fvlwVKlRQ7ty51axZs1TBYEJCgl544QXlzZtXBQoU0CuvvKKuXbuqdevWGfnjkiSdP39eXbp0Ub58+eTv76/mzZvr77//Tnn84MGDatmypfLly6eAgABVqlRJS5YsSXlu586dVahQIeXKlUtly5bVtGnTMlyLsxC0AQAAAAAAl3PpkpQ7d9bfLl1y7Pt49dVX9d5772n37t2qWrWqYmJi9PDDD2v16tXatm2bmjVrppYtW+rQoUO3PM+IESPUvn17bd++XQ8//LA6d+6sc+fO3eL7d0mjR4/WzJkztW7dOh06dEiDBg1KeXzUqFH6+uuvNW3aNK1fv17R0dFatGhRpt5rt27dtGXLFi1evFgbN26U3W7Xww8/rKtXr0qS+vTpo7i4OK1bt047duzQqFGjUkb9vf7669q1a5eWLl2q3bt3a+LEiSpYsGCm6nEGpo4CAAAAAABY5M0331TTpk1T7ufPn1+hoaEp99966y0tXLhQixcvVt++fW96nm7duqlTp06SpHfffVfjxo3T5s2b1axZsxsef/XqVU2aNEl33XWXJKlv37568803Ux7/5JNPNGTIELVp00aSNH78+JTRZRnx999/a/HixVq/fr3q1asnSfr6668VEhKiRYsW6fHHH9ehQ4fUrl07ValSRZJUunTplOcfOnRI1atXV82aNSWZUX3ZEUEbAAAAAABwOf7+UkyMNa/rSMnBUbKYmBgNHz5cP/74o44fP66EhARdvnz5tiPaqlatmrIdEBCgwMBAnTp16qbH+/v7p4RsklS0aNGU46OionTy5EnVrl075XFvb2/VqFFDSUlJ6Xp/yXbv3i0fHx/VqVMnZV+BAgV09913a/fu3ZKkF154Qc8995xWrFihJk2aqF27dinv67nnnlO7du20detWPfTQQ2rdunVKYJedMHUUAAAAAAC4HJtNCgjI+pvN5tj3ERAQkOr+oEGDtHDhQr377rv65ZdfFB4eripVqig+Pv6W58mRI8d/vj+2W4ZiNzrenp4F6JygZ8+e+ueff/TUU09px44dqlmzpj755BNJUvPmzXXw4EG9+OKLOnbsmBo3bpxqqmt2QdAGAAAAAACQTaxfv17dunVTmzZtVKVKFRUpUkQHDhzI0hqCgoIUHBys33//PWVfYmKitm7dmuFzVqhQQQkJCdq0aVPKvrNnz2rv3r2qWLFiyr6QkBD17t1bCxYs0EsvvaQvvvgi5bFChQqpa9eu+uqrrzR27Fh9/vnnGa7HWZg6CgAAAAAAkE2ULVtWCxYsUMuWLWWz2fT6669neLpmZvTr108jR45UmTJlVL58eX3yySc6f/68bGkY0rdjxw7lyZMn5b7NZlNoaKgeffRRPfPMM/rss8+UJ08evfrqq7rjjjv06KOPSpIGDBig5s2bq1y5cjp//rzWrFmjChUqSJKGDRumGjVqqFKlSoqLi9MPP/yQ8lh2QtAGAAAAAACQTYwZM0ZPP/206tWrp4IFC+qVV15RdHR0ltfxyiuv6MSJE+rSpYu8vb3Vq1cvhYWFydvb+7bPfeCBB1Ld9/b2VkJCgqZNm6b+/fvrkUceUXx8vB544AEtWbIkZRprYmKi+vTpoyNHjigwMFDNmjXTRx99JEnKmTOnhgwZogMHDihXrly6//77NXv2bMe/8Uyy2a2egJsNRUdHKygoSFFRUQoMDLS6HAAAAAAAPNqVK1cUGRmpUqVKyc/Pz+pyPFJSUpIqVKig9u3b66233rK6HKe41c9ZWrMiRrQBAAAAAAAglYMHD2rFihVq0KCB4uLiNH78eEVGRuqJJ56wurRsjWYIAAAAAAAASMXLy0vTp09XrVq1VL9+fe3YsUOrVq3KluuiZSeMaAMAAAAAAEAqISEhWr9+vdVluBxGtAEAAAAAAAAOQNAGAAAAAAAAOABBGwAAAAAAAOAABG0AAAAAAACAAxC0AQAAAAAAAA5A0AYAAAAAAAA4AEEbAAAAAABANtawYUMNGDAg5X7JkiU1duzYWz7HZrNp0aJFmX5tR53HUxC0AQAAAAAAOEHLli3VrFmzGz72yy+/yGazafv27ek+7++//65evXpltrxUhg8frmrVql23//jx42revLlDX+u/pk+frrx58zr1NbIKQRsAAAAAAIAT9OjRQytXrtSRI0eue2zatGmqWbOmqlatmu7zFipUSP7+/o4o8baKFCkiX1/fLHktd0DQBgAAAAAAXI/dLsXGZv3Nbk9ziY888ogKFSqk6dOnp9ofExOjefPmqUePHjp79qw6deqkO+64Q/7+/qpSpYq++eabW573v1NH//77bz3wwAPy8/NTxYoVtXLlyuue88orr6hcuXLy9/dX6dKl9frrr+vq1auSzIiyESNGKCIiQjabTTabLaXm/04d3bFjhx588EHlypVLBQoUUK9evRQTE5PyeLdu3dS6dWuNHj1aRYsWVYECBdSnT5+U18qIQ4cO6dFHH1Xu3LkVGBio9u3b6+TJkymPR0REqFGjRsqTJ48CAwNVo0YNbdmyRZJ08OBBtWzZUvny5VNAQIAqVaqkJUuWZLiW2/Fx2pkBAAAAAACc5dIlKXfurH/dmBgpICBNh/r4+KhLly6aPn26hg4dKpvNJkmaN2+eEhMT1alTJ8XExKhGjRp65ZVXFBgYqB9//FFPPfWU7rrrLtWuXfu2r5GUlKS2bdsqODhYmzZtUlRUVKr13JLlyZNH06dPV7FixbRjxw4988wzypMnjwYPHqwOHTpo586dWrZsmVatWiVJCgoKuu4csbGxCgsLU926dfX777/r1KlT6tmzp/r27ZsqTFyzZo2KFi2qNWvWaN++ferQoYOqVaumZ555Jk3ft/++v+SQ7eeff1ZCQoL69OmjDh06aO3atZKkzp07q3r16po4caK8vb0VHh6uHDlySJL69Omj+Ph4rVu3TgEBAdq1a5dyO/HnhqANAAAAAADASZ5++ml98MEH+vnnn9WwYUNJZtpou3btFBQUpKCgIA0aNCjl+H79+mn58uWaO3dumoK2VatWac+ePVq+fLmKFSsmSXr33XevW1fttddeS9kuWbKkBg0apNmzZ2vw4MHKlSuXcufOLR8fHxUpUuSmrzVr1ixduXJFM2bMUMD/h43jx49Xy5YtNWrUKAUHB0uS8uXLp/Hjx8vb21vly5dXixYttHr16gwFbatXr9aOHTsUGRmpkJAQSdKMGTNUqVIl/f7776pVq5YOHTqkl19+WeXLl5cklS1bNuX5hw4dUrt27VSlShVJUunSpdNdQ3oQtAEAAAAAANfj729Gl1nxuulQvnx51atXT1OnTlXDhg21b98+/fLLL3rzzTclSYmJiXr33Xc1d+5cHT16VPHx8YqLi0vzGmy7d+9WSEhISsgmSXXr1r3uuDlz5mjcuHHav3+/YmJilJCQoMDAwHS9l927dys0NDQlZJOk+vXrKykpSXv37k0J2ipVqiRvb++UY4oWLaodO3ak67X+/ZohISEpIZskVaxYUXnz5tXu3btVq1YtDRw4UD179tTMmTPVpEkTPf7447rrrrskSS+88IKee+45rVixQk2aNFG7du0ytC5eWrFGGwAAAAAAcD02m5nCmdW3/5/+mR49evTQ/PnzdfHiRU2bNk133XWXGjRoIEn64IMP9PHHH+uVV17RmjVrFB4errCwMMXHxzvsW7Vx40Z17txZDz/8sH744Qdt27ZNQ4cOdehr/FvytM1kNptNSUlJTnktyXRM/fPPP9WiRQv99NNPqlixohYuXChJ6tmzp/755x899dRT2rFjh2rWrKlPPvnEabUQtAEAAAAAADhR+/bt5eXlpVmzZmnGjBl6+umnU9ZrW79+vR599FE9+eSTCg0NVenSpfXXX3+l+dwVKlTQ4cOHdfz48ZR9v/32W6pjNmzYoBIlSmjo0KGqWbOmypYtq4MHD6Y6JmfOnEpMTLzta0VERCg2NjZl3/r16+Xl5aW77747zTWnR/L7O3z4cMq+Xbt26cKFC6pYsWLKvnLlyunFF1/UihUr1LZtW02bNi3lsZCQEPXu3VsLFizQSy+9pC+++MIptUoEbQAAAAAAAE6VO3dudejQQUOGDNHx48fVrVu3lMfKli2rlStXasOGDdq9e7eeffbZVB01b6dJkyYqV66cunbtqoiICP3yyy8aOnRoqmPKli2rQ4cOafbs2dq/f7/GjRuXMuIrWcmSJRUZGanw8HCdOXNGcXFx171W586d5efnp65du2rnzp1as2aN+vXrp6eeeipl2mhGJSYmKjw8PNVt9+7datKkiapUqaLOnTtr69at2rx5s7p06aIGDRqoZs2aunz5svr27au1a9fq4MGDWr9+vX7//XdVqFBBkjRgwAAtX75ckZGR2rp1q9asWZPymDMQtAEAAAAAADhZjx49dP78eYWFhaVaT+21117TPffco7CwMDVs2FBFihRR69at03xeLy8vLVy4UJcvX1bt2rXVs2dPvfPOO6mOadWqlV588UX17dtX1apV04YNG/T666+nOqZdu3Zq1qyZGjVqpEKFCumbb7657rX8/f21fPlynTt3TrVq1dJjjz2mxo0ba/z48en7ZtxATEyMqlevnurWsmVL2Ww2fffdd8qXL58eeOABNWnSRKVLl9acOXMkSd7e3jp79qy6dOmicuXKqX379mrevLlGjBghyQR4ffr0UYUKFdSsWTOVK1dOn376aabrvRmb3W63O+3sLio6OlpBQUGKiopK98KAAAAAAADAsa5cuaLIyEiVKlVKfn5+VpcDN3Wrn7O0ZkWMaAMAAAAAAAAcgKANAAAAAAAAcACCNgAAAAAAAMABCNoAAAAAAAAAByBoAwAAAAAALoF+jnAmR/x8EbQBAAAAAIBsLUeOHJKkS5cuWVwJ3Fnyz1fyz1tG+DiqGAAAAAAAAGfw9vZW3rx5derUKUmSv7+/bDabxVXBXdjtdl26dEmnTp1S3rx55e3tneFzEbQBAAAAAIBsr0iRIpKUErYBjpY3b96Un7OMImgDAAAAAADZns1mU9GiRVW4cGFdvXrV6nLgZnLkyJGpkWzJCNoAAAAAAIDL8Pb2dkggAjgDzRAAAAAAAAAAByBoAwAAAAAAAByAoA0AAAAAAABwAII2AAAAAAAAwAEI2gAAAAAAAAAHIGgDAAAAAAAAHICgDQAAAAAAAHAAgjYAAAAAAADAAQjaAAAAAAAAAAcgaAMAAAAAAAAcgKANAAAAAAAAcACCNgAAAAAAAMABCNoAAAAAAAAAByBoAwAAAAAAAByAoA0AAAAAAABwAII2AAAAAAAAwAEI2gAAAAAAAAAHIGgDAAAAAAAAHICgDQAAAAAAAHAAgjYAAAAAAADAAQjaAAAAAAAAAAcgaAMAAAAAAAAcgKANAAAAAAAAcACCNgAAAAAAAMABCNoAAAAAAAAAByBoAwAAAAAAAByAoA0AAAAAAABwAII2AAAAAAAAwAEI2gAAAAAAAAAHIGgDAAAAAAAAHICgDQAAAAAAAHAAgjYAAAAAAADAAQjaAAAAAAAAAAcgaAMAAAAAAAAcgKANAAAAAAAAcACCNgAAAAAAAMABLA3a1q1bp5YtW6pYsWKy2WxatGjRLY/v1q2bbDbbdbdKlSqlHDN8+PDrHi9fvryT3wkAAAAAAAA8naVBW2xsrEJDQzVhwoQ0Hf/xxx/r+PHjKbfDhw8rf/78evzxx1MdV6lSpVTH/frrr84oHwAAAAAAAEjhY+WLN2/eXM2bN0/z8UFBQQoKCkq5v2jRIp0/f17du3dPdZyPj4+KFCnisDoBAAAAAACA23HpNdqmTJmiJk2aqESJEqn2//333ypWrJhKly6tzp0769ChQ7c8T1xcnKKjo1PdAAAAAAAAgPRw2aDt2LFjWrp0qXr27Jlqf506dTR9+nQtW7ZMEydOVGRkpO6//35dvHjxpucaOXJkymi5oKAghYSEOLt8AAAAAAAAuBmb3W63W12EJNlsNi1cuFCtW7dO0/EjR47Uhx9+qGPHjilnzpw3Pe7ChQsqUaKExowZox49etzwmLi4OMXFxaXcj46OVkhIiKKiohQYGJiu9wEAAAAAAAD3Eh0draCgoNtmRZau0ZZRdrtdU6dO1VNPPXXLkE2S8ubNq3Llymnfvn03PcbX11e+vr6OLhMAAAAAAAAexCWnjv7888/at2/fTUeo/VtMTIz279+vokWLZkFlAAAAAAAA8FSWBm0xMTEKDw9XeHi4JCkyMlLh4eEpzQuGDBmiLl26XPe8KVOmqE6dOqpcufJ1jw0aNEg///yzDhw4oA0bNqhNmzby9vZWp06dnPpeAAAAAAAA4NksnTq6ZcsWNWrUKOX+wIEDJUldu3bV9OnTdfz48es6hkZFRWn+/Pn6+OOPb3jOI0eOqFOnTjp79qwKFSqk++67T7/99psKFSrkvDcCAAAAAAAAj5dtmiFkJ2ld4A4AAAAAAADuL61ZkUuu0QYAAAAAAABkNwRtAAAAAAAAgAMQtAEAAAAAAAAOQNAGAAAAAAAAOABBGwAAAAAAAOAABG0AAAAAAACAA/hYXQCc759/pIkTJbtdGj3a6moAAAAAAADcEyPaPMDFiyZgmzzZhG0AAAAAAABwPII2D1ChgpQjhxQVJR08aHU1AAAAAAAA7omgzQPkzClVrGi2w8MtLQUAAAAAAMBtEbR5iGrVzFeCNgAAAAAAAOcgaPMQBG0AAAAAAADORdDmIZKDtogIS8sAAAAAAABwWwRtHiI01Hw9cEC6cMHKSgAAAAAAANwTQZuHyJdPKlHCbDOqDQAAAAAAwPEI2jwI67QBAAAAAAA4D0GbB0mePkrQBgAAAAAA4HgEbR6EEW0AAAAAAADOQ9DmQZKDtl27pPh4S0sBAAAAAABwOwRtHqRkSSkw0IRse/ZYXQ0AAAAAAIB7IWjzIDYb00cBAAAAAACchaDNwxC0AQAAAAAAOAdBm4chaAMAAAAAAHAOgjYPExpqvoaHS3a7paUAAAAAAAC4FYI2D1OxouTjI50/Lx0+bHU1AAAAAAAA7oOgzcP4+UkVKpjtiAhrawEAAAAAAHAnBG0eiHXaAAAAAAAAHI+gzQMRtAEAAAAAADgeQZsHImgDAAAAAABwPII2D5TcefSff6SoKGtrAQAAAAAAcBcEbR6oQAHpzjvN9vbt1tYCAAAAAADgLgjaPBTTRwEAAAAAAByLoM1DJQdtERGWlgEAAAAAAOA2CNo8FCPaAAAAAAAAHIugzUMlB207d0pXr1paCgAAAAAAgFsgaPNQpUpJefJIcXHS3r1WVwMAAAAAAOD6CNo8lJeXVLWq2Wb6KAAAAAAAQOYRtHkw1mkDAAAAAABwHII2D0bnUQAAAAAAAMchaPNg/x7RZrdbWQkAAAAAAIDrI2jzYJUqSd7e0pkz0rFjVlcDAAAAAADg2gjaPFiuXFL58mabddoAAAAAAAAyh6DNw9EQAQAAAAAAwDEI2jxcaKj5StAGAAAAAACQOQRtHo4RbQAAAAAAAI5B0Obhkke07d8vXbxobS0AAAAAAACujKDNwxUuLBUrJtnt0o4dVlcDAAAAAADgugjawPRRAAAAAAAAByBoA0EbAAAAAACAAxC0gaANAAAAAADAAQjakNIQYccOKSHB2loAAAAAAABcFUEbdNddUkCAdOWK9NdfVlcDAAAAAADgmgjaIG9vqWpVsx0RYW0tAAAAAAAAroqgDZJYpw0AAAAAACCzCNogiaANAAAAAAAgswjaIOla0LZtm2S3W1oKAAAAAACASyJogySpcmXJy0s6fVo6ccLqagAAAAAAAFwPQRskSf7+UrlyZpvpowAAAAAAAOlH0IYUrNMGAAAAAACQcQRtSJEctEVEWFoGAAAAAACASyJoQwpGtAEAAAAAAGQcQRtSJAdtf/0lxcZaWgoAAAAAAIDLIWhDiuBgqUgRyW6XduywuhoAAAAAAADXQtCGVJg+CgAAAAAAkDEEbUglNNR8JWgDAAAAAABIH4I2pELnUQAAAAAAgIwhaEMqyUHb9u1SYqKlpQAAAAAAALgUgjakUraslCuXdOmStG+f1dUAAAAAAAC4DoI2pOLtLVWtarZZpw0AAAAAACDtCNpwHTqPAgAAAAAApB9BG65D0AYAAAAAAJB+BG24Tmio+UrQBgAAAAAAkHYEbbhOlSqSzSadOCGdPGl1NQAAAAAAAK6BoA3XyZ3bdB+VpIgIa2sBAAAAAABwFQRtuCHWaQMAAAAAAEgfgjbcEEEbAAAAAABA+hC04YYI2gAAAAAAANKHoA03lBy07d0rXbpkaSkAAAAAAAAugaANN1SkiFSokJSUJO3caXU1AAAAAAAA2R9BG27IZrs2qo3OowAAAAAAALdH0IabYp02AAAAAACAtCNow00RtAEAAAAAAKQdQRtu6t9TR5OSLC0FAAAAAAAg2yNow02VKyf5+UmxsdL+/VZXAwAAAAAAkL0RtOGmfHykKlXMNtNHAQAAAAAAbs3SoG3dunVq2bKlihUrJpvNpkWLFt3y+LVr18pms113O3HiRKrjJkyYoJIlS8rPz0916tTR5s2bnfgu3FtoqPlK51EAAAAAAIBbszRoi42NVWhoqCZMmJCu5+3du1fHjx9PuRUuXDjlsTlz5mjgwIF64403tHXrVoWGhiosLEynTp1ydPkegYYIAAAAAAAAaeNj5Ys3b95czZs3T/fzChcurLx5897wsTFjxuiZZ55R9+7dJUmTJk3Sjz/+qKlTp+rVV1/NTLkeiaANAAAAAAAgbVxyjbZq1aqpaNGiatq0qdavX5+yPz4+Xn/88YeaNGmSss/Ly0tNmjTRxo0bb3q+uLg4RUdHp7rBqFrVfD16VDp92tpaAAAAAAAAsjOXCtqKFi2qSZMmaf78+Zo/f75CQkLUsGFDbd26VZJ05swZJSYmKjg4ONXzgoODr1vH7d9GjhypoKCglFtISIhT34cryZNHKlPGbLNOGwAAAAAAwM25VNB2991369lnn1WNGjVUr149TZ06VfXq1dNHH32UqfMOGTJEUVFRKbfDhw87qGL3wPRRAAAAAACA23OpoO1GateurX379kmSChYsKG9vb508eTLVMSdPnlSRIkVueg5fX18FBgamuuEagjYAAAAAAIDbc/mgLTw8XEWLFpUk5cyZUzVq1NDq1atTHk9KStLq1atVt25dq0p0eaGh5itTRwEAAAAAAG7O0q6jMTExKaPRJCkyMlLh4eHKnz+/ihcvriFDhujo0aOaMWOGJGns2LEqVaqUKlWqpCtXrmjy5Mn66aeftGLFipRzDBw4UF27dlXNmjVVu3ZtjR07VrGxsSldSJF+ySPadu+WrlyR/PwsLQcAAAAAACBbsjRo27Jlixo1apRyf+DAgZKkrl27avr06Tp+/LgOHTqU8nh8fLxeeuklHT16VP7+/qpatapWrVqV6hwdOnTQ6dOnNWzYMJ04cULVqlXTsmXLrmuQgLS74w6pQAHp7Fnpzz+lGjWsrggAAAAAACD7sdntdrvVRWQ30dHRCgoKUlRUFOu1/b8mTaTVq6XJk6UePayuBgAAAAAAIOukNSty+TXakDVoiAAAAAAAAHBrBG1IE4I2AAAAAACAWyNoQ5okB20REVJSkqWlAAAAAAAAZEsEbUiTu++WcuaULl6UDhywuhoAAAAAAIDsh6ANaZIjh1S5stlm+igAAAAAAMD1CNqQZqzTBgAAAAAAcHMEbUgzgjYAAAAAAICbI2hDmhG0AQAAAAAA3BxBG9KsalXz9fBh6dw5a2sBAAAAAADIbgjakGZBQVLp0mY7IsLaWgAAAAAAALIbgjakS2io+cr0UQAAAAAAgNQI2pAurNMGAAAAAABwYwRtSBeCNgAAAAAAgBsjaEO6JAdtu3ZJcXGWlgIAAAAAAJCtELQhXUJCpHz5pIQEE7YBAAAAAADAIGhDuthsTB8FAAAAAAC4EYI2pFty0BYRYWkZAAAAAAAA2QpBG9ItNNR8ZUQbAAAAAADANQRtSLd/Tx21262sBAAAAAAAIPsgaEO6Vagg5cghRUVJBw9aXQ0AAAAAAED2QNCGdMuZU6pUyWwzfRQAAAAAAMAgaEOG0HkUAAAAAAAgNYI2ZAhBGwAAAAAAQGoEbciQ5KAtIsLSMgAAAAAAALINgjZkSNWq5uuBA9KFC1ZWAgAAAAAAkD0QtCFD8uWTSpQw24xqAwAAAAAAIGhDJrBOGwAAAAAAwDUEbcgwgjYAAAAAAIBrCNqQYQRtAAAAAAAA1xC0IcOSg7Zdu6T4eEtLAQAAAAAAsBxBGzKsRAkpKMiEbHv2WF0NAAAAAACAtQjakGE2mxQaaraZPgoAAAAAADwdQRsyhXXaAAAAAAAADII2ZApBGwAAAAAAgEHQhkz5d9Bmt1tZCQAAAAAAgLUI2pApFStKPj7S+fPS4cNWVwMAAAAAAGAdgjZkiq+vCdskKSLC2loAAAAAAACsRNCGTGOdNgAAAAAAAII2OEBoqPlK0AYAAAAAADwZQRsyjRFtAAAAAAAABG1wgOQRbf/8I0VFWVsLAAAAAACAVQjakGkFCkghIWZ7+3ZrawEAAAAAALAKQRscgumjAAAAAADA0xG0wSGSg7aICEvLAAAAAAAAsAxBGxyCzqMAAAAAAMDTEbTBIZJHtO3cKV29amkpAAAAAAAAliBog0OUKiXlySPFxUl791pdDQAAAAAAQNYjaINDeHkxfRQAAAAAAHg2gjY4DJ1HAQAAAACAJyNog8PQeRQAAAAAAHgygjY4zL9HtNntVlYCAAAAAACQ9Qja4DCVKkne3tKZM9KxY1ZXAwAAAAAAkLUI2uAwfn5S+fJmm3XaAAAAAACApyFog0PREAEAAAAAAHgqgjY4FEEbAAAAAADwVARtcCiCNgAAAAAA4KkI2uBQoaHm6/790sWL1tYCAAAAAACQlQja4FCFCkl33CHZ7dKOHVZXAwAAAAAAkHUI2uBwyaPamD4KAAAAAAA8CUEbHI512gAAAAAAgCciaIPDEbQBAAAAAABPRNAGh0sO2nbskBISLC0FAAAAAAAgyxC0weHuuksKCJCuXJH++svqagAAAAAAALIGQRsczsvrWkOEiAhrawEAAAAAAMgqBG1wCtZpAwAAAAAAnoagDU6RPKKNoA0AAAAAAHgKgjY4RfKItm3bJLvd0lIAAAAAAACyBEEbnKJyZbNW2+nT0okTVlcDAAAAAADgfARtcAp/f+nuu80200cBAAAAAIAnIGiD0yRPH6XzKAAAAAAA8AQEbXAaOo8CAAAAAABPQtAGpyFoAwAAAAAAnoSgDU4TGmq+/vWXFBtrbS0AAAAAAADORtAGpwkOlooUkex2accOq6sBAAAAAABwLoI2OBXTRwEAAAAAgKcgaINTEbQBAAAAAABPQdAGp0oO2iIiLC0DAAAAAADA6Qja4FTJQdv27VJioqWlAAAAAAAAOBVBG5yqTBnJ31+6dEnat8/qagAAAAAAAJyHoA1O5e0tValitlmnDQAAAAAAuDOCNjgdDREAAAAAAIAnIGiD0xG0AQAAAAAAT0DQBqcjaAMAAAAAAJ6AoA1OV6WKZLNJJ05IJ09aXQ0AAAAAAIBzELTB6QICpHLlzHZEhLW1AAAAAAAAOAtBG7IE00cBAAAAAIC7szRoW7dunVq2bKlixYrJZrNp0aJFtzx+wYIFatq0qQoVKqTAwEDVrVtXy5cvT3XM8OHDZbPZUt3Kly/vxHeBtAgNNV8J2gAAAAAAgLuyNGiLjY1VaGioJkyYkKbj161bp6ZNm2rJkiX6448/1KhRI7Vs2VLbtm1LdVylSpV0/PjxlNuvv/7qjPKRDoxoAwAAAAAA7s7Hyhdv3ry5mjdvnubjx44dm+r+u+++q++++07ff/+9qlevnrLfx8dHRYoUSfN54+LiFBcXl3I/Ojo6zc9F2iQHbXv3SpcuSf7+lpYDAAAAAADgcC69RltSUpIuXryo/Pnzp9r/999/q1ixYipdurQ6d+6sQ4cO3fI8I0eOVFBQUMotJCTEmWV7pCJFpMKFpaQkaedOq6sBAAAAAABwPJcO2kaPHq2YmBi1b98+ZV+dOnU0ffp0LVu2TBMnTlRkZKTuv/9+Xbx48abnGTJkiKKiolJuhw8fzoryPYrNdm1UG51HAQAAAACAO7J06mhmzJo1SyNGjNB3332nwoULp+z/91TUqlWrqk6dOipRooTmzp2rHj163PBcvr6+8vX1dXrNnq5aNWnFCtZpAwAAAAAA7sklg7bZs2erZ8+emjdvnpo0aXLLY/Pmzaty5cpp3759WVQdboaGCAAAAAAAwJ253NTRb775Rt27d9c333yjFi1a3Pb4mJgY7d+/X0WLFs2C6nAroaHma0SEWasNAAAAAADAnVgatMXExCg8PFzh/z/EKTIyUuHh4SnNC4YMGaIuXbqkHD9r1ix16dJFH374oerUqaMTJ07oxIkTioqKSjlm0KBB+vnnn3XgwAFt2LBBbdq0kbe3tzp16pSl7w3XK1dO8vOTYmOl/futrgYAAAAAAMCxLA3atmzZourVq6t69eqSpIEDB6p69eoaNmyYJOn48eOpOoZ+/vnnSkhIUJ8+fVS0aNGUW//+/VOOOXLkiDp16qS7775b7du3V4ECBfTbb7+pUKFCWfvmcB0fH6lKFbPN9FEAAAAAAOBubHa73W51EdlNdHS0goKCFBUVpcDAQKvLcSu9eklffCENHSq9/bbV1QAAAAAAANxeWrMil1ujDa6NhggAAAAAAMBdEbQhSxG0AQAAAAAAd0XQhixVpYpks0lHj0qnT1tdDQAAAAAAgOMQtCFL5ckj3XWX2Y6IsLYWAAAAAAAARyJoQ5Zj+igAAAAAAHBHBG3IcgRtAAAAAADAHRG0IcslB21MHQUAAAAAAO6EoA1ZLjlo271bunLF0lIAAAAAAAAchqANWa5YMalgQSkxUfrzT6urAQAAAAAAcAyCNmQ5m4112gAAAAAAgPshaIMlQkPNV4I2AAAAAADgLgjaYAlGtAEAAAAAAHdD0AZL/LvzaFKSpaUAAAAAAAA4BEEbLHH33ZKvr3TxonTggNXVAAAAAAAAZB5BGyyRI4dUubLZZvooAAAAAABwBwRtsAzrtAEAAAAAAHdC0AbLELQBAAAAAAB3QtAGy4SGmq8EbQAAAAAAwB0QtMEyVauar4cPS+fOWVsLAAAAAABAZhG0wTJBQVLp0mY7IsLaWgAAAAAAADKLoA2WYp02AAAAAADgLgjaYCmCNgAAAAAA4C4I2mApgjYAAAAAAOAuCNpgqeSgbdcuKS7O0lIAAAAAAAAyhaANlrrzTilfPikhwYRtAAAAAAAAroqgDZay2Zg+CgAAAAAA3ANBGyyXHLRFRFhaBgAAAAAAQKYQtMFyjGgDAAAAAADugKANlvt30Ga3W1kJAAAAAABAxhG0wXLly0s5c0pRUdLBg1ZXAwAAAAAAkDEEbbBczpxSpUpmm+mjAAAAAADAVRG0IVsIDTVfx4+XzpyxthYAAAAAAICMIGhDttCtm5Qjh7R6tVSlirR0qdUVAQAAAAAApA9BG7KFBg2kzZulihWlEyekhx+W+vaVLl2yujIAAAAAAIC0IWhDtlGtmrRli9S/v7k/YYJUs6a0daulZQEAAAAAAKQJQRuylVy5pLFjpeXLpaJFpd27pXvvld57T0pMtLo6AAAAAACAmyNoQ7b00EPSjh1S27bS1avSkCFSo0bSgQNWVwYAAAAAAHBjBG3ItgoUkL79Vpo2TcqdW/rlF9Od9KuvJLvd6uoAAAAAAABSI2hDtmazmY6kERFSvXpSdLT01FNSp07S+fNWVwcAAAAAAHANQRtcQunS0s8/S2+9JXl7S3PmSFWrSj/9ZHVlAAAAAAAABkEbXIaPj/Taa9KGDVLZstKRI1LjxtKgQVJcnNXVAQAAAAAAT0fQBpdTu7a0bZv07LPm/ocfSrVqmeYJAAAAAAAAViFog0sKCJAmTZIWL5YKFTIhW61a0tixUlKS1dUBAAAAAABPRNAGl9aypQnZWrQw00dffFF66CEzrRQAAAAAACArEbTB5QUHS99/L02cKOXKJa1ebRolzJtndWUAAAAAAMCTELTBLdhsUu/eZu22mjWl8+el9u2lrl2l6GirqwMAAAAAAJ6AoA1u5e67TVfS116TvLykGTOk0FDpl1+srgwAAAAAALg7gja4nRw5pLfektatk0qVkg4ckBo2lIYOleLjra4OAAAAAAC4K4I2uK369aXwcKlbN9OJ9N13pXr1pD17rK4MAAAAAAC4I4I2uLXAQGnaNNMYIX9+6Y8/pHvuMY0T7HarqwMAAAAAAO6EoA0e4bHHpO3bpaZNpcuXpeeflx55RDpxwurKAAAAAACAuyBog8e44w5p2TJp7FjJ11daskSqUkX67jurKwMAAAAAAO6AoA0exctL6t9f2rJFqlpVOnNGat1a6tVLiomxujoAAAAAAODKCNrgkSpXljZvlgYNkmw26YsvpOrVpU2brK4MAAAAAAC4KoI2eCxfX+mDD6TVq6U775T27TOdSt98U0pIsLo6AAAAAADgagja4PEaNTKNEjp2lBITpTfekO6/X9q/3+rKAAAAAACAKyFoAyTlyyd984309ddSYKD0229SaKg0dapkt1tdHQAAAAAAcAUEbcC/PPGEGd3WoIEUGyv16CG1bWuaJgAAAAAAANwKQRvwHyVKmHXbRo2ScuSQFi2SqlSRli2zujIAAAAAAJCdEbQBN+DtLQ0ebLqQVqggnTghNW8uPfecdOSI1dUBAAAAAIDsiKANuIXq1aU//pD69TP3J02SSpaUOnWSNm+2tDQAAAAAAJDNELQBt5ErlzRunLRqlVm7LTFRmj1bqlNHqldPmjtXSkiwukoAAAAAAGA1gjYgjRo3ltaulbZulbp2Neu3bdwodegglS4tffCBdP681VUCAAAAAACrELQB6VS9ujR9unTokDRsmFSokHT4sFnT7c47pT59pL/+srpKAAAAAACQ1QjagAwqUkQaMcIEblOnms6kly5Jn34q3X239MgjZrqp3W51pQAAAAAAICsQtAGZ5Ocnde8uRURIq1dLLVtKNpv0449S06ZS1arSlCnS5ctWVwoAAAAAAJyJoA1wEJtNevBBafFiae9eqW9fKSBA2rlT6tlTKl5cev116fhxqysFAAAAAADOQNAGOEHZstInn0hHjkijR5uQ7cwZ6e23pRIlpC5dTFMFAAAAAADgPgjaACfKm1d66SVp/35p3jypfn3p6lVp5kypRg2pQQNp4UIpMdHqSgEAAAAAQGYRtAFZwMdHeuwx6ddfpc2bpSeeMPvWrZPatpXKlJE++kiKirK6UgAAAAAAkFEEbUAWq1VL+vpr6cAB6X//k/LnN9sDB0ohIdKAAWYEHAAAAAAAcC0EbYBF7rhDeucd6fBh6bPPpAoVpIsXpY8/Nmu8tW4t/fyzZLdbXSkAAAAAAEgLgjbAYv7+Uq9e0p9/SsuXS82bm3Dtu++khg2le+6RvvxSiouzulIAAAAAAHArBG1ANmGzSQ89JC1ZIu3aJfXuLeXKJYWHS926mW6lb74pnTpldaUAAAAAAOBGCNqAbKhCBWniRDOtdORIM8305EnpjTek4sWlp5+Wtm+3ukoAAAAAAPBvBG1ANlaggPTqq1JkpPTNN1Lt2mYK6bRpUmio1Lix9P33UlKS1ZUCAAAAAACCNsAF5MghdewobdokbdggtW8veXtLP/0ktWol3X23NH68FBNjdaUAAAAAAHiuDAVthw8f1pEjR1Lub968WQMGDNDnn3/usMIA3FjdutKcOdI//0gvvyzlzSvt2yf16yfdeac0dqzVFQIAAAAA4JkyFLQ98cQTWrNmjSTpxIkTatq0qTZv3qyhQ4fqzTffdGiBAG6seHHp/ffNOm4TJkjlyklRUdKLL0offmh1dQAAAAAAeJ4MBW07d+5U7dq1JUlz585V5cqVtWHDBn399deaPn26I+sDcBu5c0vPPy/t3i2NGGH2DRokMcAUAAAAAICslaGg7erVq/L19ZUkrVq1Sq1atZIklS9fXsePH3dcdQDSzMtLev11afBgc793b+nrr62tCQAAAAAAT5KhoK1SpUqaNGmSfvnlF61cuVLNmjWTJB07dkwFChRwaIEA0s5mk957z4xws9ulrl2lRYusrgoAAAAAAM+QoaBt1KhR+uyzz9SwYUN16tRJoaGhkqTFixenTCkFYA2bTfrkE6lLFykxUerQQVq50uqqAAAAAABwfza73W7PyBMTExMVHR2tfPnypew7cOCA/P39VbhwYYcVaIXo6GgFBQUpKipKgYGBVpcDZEhCgtSxozR/vpQrl7RihXTffVZXBQAAAACA60lrVpShEW2XL19WXFxcSsh28OBBjR07Vnv37nX5kA1wFz4+0qxZUrNm0uXLUosW0h9/WF0VAAAAAADuK0NB26OPPqoZM2ZIki5cuKA6deroww8/VOvWrTVx4sQ0n2fdunVq2bKlihUrJpvNpkVpWExq7dq1uueee+Tr66syZcrcsMvphAkTVLJkSfn5+alOnTravHlzmmsC3EnOnGZE2wMPSNHRUliY9OefVlcFAAAAAIB7ylDQtnXrVt1///2SpG+//VbBwcE6ePCgZsyYoXHjxqX5PLGxsQoNDdWECRPSdHxkZKRatGihRo0aKTw8XAMGDFDPnj21fPnylGPmzJmjgQMH6o033tDWrVsVGhqqsLAwnTp1Kn1vEnAT/v7S999LtWpJZ89KTZtK+/dbXRUAAAAAAO4nQ2u0+fv7a8+ePSpevLjat2+vSpUq6Y033tDhw4d1991369KlS+kvxGbTwoUL1bp165se88orr+jHH3/Uzp07U/Z17NhRFy5c0LJlyyRJderUUa1atTR+/HhJUlJSkkJCQtSvXz+9+uqraaqFNdrgjs6elRo2lHbulEqUkH75RQoJsboqAAAAAACyP6eu0VamTBktWrRIhw8f1vLly/XQQw9Jkk6dOuXUYGrjxo1q0qRJqn1hYWHauHGjJCk+Pl5//PFHqmO8vLzUpEmTlGNuJC4uTtHR0alugLspUMB0Hy1bVjp4UGrSRDp50uqqAAAAAABwHxkK2oYNG6ZBgwapZMmSql27turWrStJWrFihapXr+7QAv/txIkTCg4OTrUvODhY0dHRunz5ss6cOaPExMQbHnPixImbnnfkyJEKCgpKuYUwzAduqkgRadUqqXhx6a+/pIceks6ds7oqAAAAAADcQ4aCtscee0yHDh3Sli1bUq2P1rhxY3300UcOKy6rDBkyRFFRUSm3w4cPW10S4DTFi5uwLThY2r5devhh6eJFq6sCAAAAAMD1+WT0iUWKFFGRIkV05MgRSdKdd96p2rVrO6ywm73myf/MdTt58qQCAwOVK1cueXt7y9vb+4bHFClS5Kbn9fX1la+vr1NqBrKjsmVN2NaggbRpk9SqlbRkiZQrl9WVAQAAAADgujI0oi0pKUlvvvmmgoKCVKJECZUoUUJ58+bVW2+9paSkJEfXmKJu3bpavXp1qn0rV65MmbqaM2dO1ahRI9UxSUlJWr16dcoxAIzKlaVly6Q8eaS1a6XHHpPi462uCgAAAAAA15WhoG3o0KEaP3683nvvPW3btk3btm3Tu+++q08++USvv/56ms8TExOj8PBwhYeHS5IiIyMVHh6uQ4cOSTJTOrt06ZJyfO/evfXPP/9o8ODB2rNnjz799FPNnTtXL774YsoxAwcO1BdffKEvv/xSu3fv1nPPPafY2Fh17949I28VcGu1akk//GBGsi1ZIj35pJSQYHVVAAAAAAC4Jpvdbren90nFihXTpEmT1KpVq1T7v/vuOz3//PM6evRoms6zdu1aNWrU6Lr9Xbt21fTp09WtWzcdOHBAa9euTfWcF198Ubt27dKdd96p119/Xd26dUv1/PHjx+uDDz7QiRMnVK1aNY0bN0516tRJ8/tLa8tWwF0sXy61bCldvSp16yZNmSJ5ZSiGBwAAAADA/aQ1K8pQ0Obn56ft27erXLlyqfbv3btX1apV0+XLl9NfcTZC0AZPtGCB1L69lJgo9esnffyxZLNZXRUAAAAAANZLa1aUoTEroaGhGj9+/HX7x48fr6pVq2bklAAs1ratNG2a2f7kE+m116ytBwAAAAAAV5OhrqPvv/++WrRooVWrVqU0Gdi4caMOHz6sJUuWOLRAAFnnqaekmBjp+eeld981jRJefdXqqgAAAAAAcA0ZGtHWoEED/fXXX2rTpo0uXLigCxcuqG3btvrzzz81c+ZMR9cIIAs995z0/vtme8gQ6QaDVwEAAAAAwA1kaI22m4mIiNA999yjxMRER53SEqzRBkivvy69/bbZnjbNNEkAAAAAAMATOXWNNgDu7803pf79zXaPHtK331pbDwAAAAAA2R1BG4Abstmkjz4yIVtSkvTEExJLMAIAAAAAcHMEbQBuymaTPvtM6thRunpVatdOWrvW6qoAAAAAAMie0tV1tG3btrd8/MKFC5mpBUA25O0tzZghxcZK338vtWwprVol1aljdWUAAAAAAGQv6QragoKCbvt4ly5dMlUQgOwnRw5p7lypRQvpp5+k5s3NyLaqVa2uDAAAAACA7MOhXUfdBV1HgRuLiZEeekjauFEqXFj65RepXDmrqwIAAAAAwLnoOgrA4XLnNg0RqlWTTp2SmjSRDh60uioAAAAAALIHgjYA6ZI3r7RihVS+vHT4sNS4sXT8uNVVAQAAAABgPYI2AOlWqJBpiFCqlLR/v9S0qXTmjNVVAQAAAABgLYI2ABlyxx3S6tVSsWLSn39KzZpJUVFWVwUAAAAAgHUI2gBkWKlSZmRbwYLSH39IjzwiXbpkdVUAAAAAAFiDoA1AplSoYNZsCwqSfv1VatNGiouzuioAAAAAALIeQRuATKte3XQjDQgwoVunTlJCgtVVAQAAAACQtQjaADhEvXrSd99Jvr7SwoVS9+5SUpLVVQEAAAAAkHUI2gA4TOPG0rx5ko+P9NVXUp8+kt1udVUAAAAAAGQNgjYADtWypTRzpmSzSZMmSYMHE7YBAAAAADwDQRsAh+vYUfriC7M9erT09tvW1gMAAAAAQFYgaAPgFD16SB99ZLaHDZPGjrW0HAAAAAAAnI6gDYDTDBggvfmm2X7xRWnyZEvLAQAAAADAqXysLgCAe3vtNeniRemDD6RevaSAAKlTp7Q91243t6Qkc0tMvLZ9q33pOfZG+8qXl4KDnft9AQAAAAC4H5vdzjLl/xUdHa2goCBFRUUpMDDQ6nIAl2e3mw6kEydKXl5SgQJpC8Cs+tfJz09auVK67z5rXh8AAAAAkL2kNStiRBsAp7PZpPHjpStXpGnTpNOnnfMaXl6St7f5+t9bWvfHxEjHjkmPPSZt2SLdeafjawUAAAAAuCdGtN0AI9oA5/nnH+ny5bSHYWkJyGw2c3OE2Fipbl1pxw6pZk1p3TopVy7HnBsAAAAA4JoY0QYgWypd2uoKbi0gQPruOxOybdki9e4tTZ/uuCAPAAAAAOC+6DoKAP9RqpQ0d64ZNTdjhvTxx1ZXBAAAAABwBQRtAHADjRtLo0eb7UGDpNWrra0HAAAAAJD9EbQBwE307y917Wo6oLZvb9aXAwAAAADgZgjaAOAmbDZp0iSpVi3p3DmpdWvTLAEAAAAAgBshaAOAW/DzkxYskIKDTSfS7t0lejUDAAAAAG6EoA0AbuPOO6X586UcOaR586SRI62uCAAAAACQHRG0AUAa1K8vjR9vtl97TfrxR2vrAQAAAABkPwRtAJBGvXpJvXubqaNPPCHt2WN1RQAAAACA7ISgDQDS4eOPpfvuk6KjTXOEqCirKwIAAAAAZBcEbQCQDjlzSt9+a9Zt27tXevJJKSnJ6qoAAAAAANkBQRsApFNwsLRwoelI+sMP0rBhVlcEAAAAAMgOCNoAIANq1pS++MJsv/OOGeUGAAAAAPBsBG0AkEFPPikNHGi2u3aVtm+3th4AAAAAgLUI2jxFeLi0Y4fVVQBuZ9QoqWlT6dIl0xzh7FmrKwIAAAAAWIWgzRP8+KN0773SY49JMTFWVwO4FR8fafZsqXRpKTJS6tBBSkiwuioAAAAAgBUI2jxBnTpSwYLSX39JffpYXQ3gdvLnlxYtkgICpNWrpcGDra4IAAAAAGAFgjZPULCg9M03kpeXNGOG9OWXVlcEuJ0qVa791froI/NXDQAAAADgWQjaPMX990sjRpjt55+X9uyxth7ADbVrJ732mtnu1UvassXaegAAAAAAWYugzZMMGSI9+KBZtb19e+nyZasrAtzOiBFSy5ZSXJzUpo108qTVFQEAAAAAsgpBmyfx9pa++koqXNh0IB040OqKALfj5WX+mpUvLx05Yka5xcdbXRUAAAAAICsQtHmaokWlmTPN9qRJ0rx51tYDuKHAQNMcITBQWr9eeuEFqysCAAAAAGQFgjZP9NBDZhqpJPXsKf3zj7X1AG7o7rtNDxKbTfrsM3MDAAAAALg3gjZP9eabUr16UnS01KEDc9sAJ3j4Yemdd8x2v35mdBsAAAAAwH0RtHkqHx8z3CZfPtMaMXmEGwCHevVV03vk6lWzXtuRI1ZXBAAAAABwFoI2T1a8uDR9utkeM0b64QdLywHckc0mTZ0qVa1qOpC2aUPDXwAAAABwVwRtnq5VK6l/f7PdtSvDbQAnCAgwzREKFDADSJ99VrLbra4KAAAAAOBoBG2QRo2S7rlHOndO6tRJSkiwuiLA7ZQqJc2dK3l7m8a/H39sdUUAAAAAAEcjaIPk6yvNmSPlySP9+qs0YoTVFQFu6cEHpQ8/NNuDBkmrV1tbDwAAAADAsQjaYJQpI33+udl+5x1p1Spr6wHc1AsvmFnaiYmmScI//1hdEQAAAADAUQjacE3HjtIzz5jFo5580qzcDsChbDZp0iSpVi0zW7t1aykmxuqqAAAAAACOQNCG1MaOlSpVMiHbU09JSUlWVwS4HT8/acECKThY2rFD6t6d5ggAAAAA4A4I2pCav79ZsT1XLmnlStMoAYDD3XmnCdty5JC+/VYaOdLqigAAAAAAmUXQhutVrChNmGC2X39dWr/e2noAN1Wv3rW/aq+9Jv34o7X1AAAAAAAyh6ANN9atm9S5s1mxvVMn6exZqysC3NIzz0jPPWemjj7xhLRnj9UVAQAAAAAyiqANN2azSRMnSmXLSocPS08/zSJSgJOMHSvdf78UHW2aI0RFWV0RAAAAACAjCNpwc3nymPXacuaUFi+Wxo2zuiLALeXMKc2bZ9Zt27vXDCalDwkAAAAAuB6CNtxatWrSmDFm++WXpS1bLC0HcFfBwdKiRaYj6Y8/SsOGWV0RAAAAACC9CNpwe88/L7VpI129KnXowLw2wElq1JAmTzbb77xjupECAAAAAFwHQRtuz2aTpkyRSpSQ/vlHevZZ1msDnKRzZ+mll8x2167S9u3W1gMAAAAASDuCNqRNvnzS7NmSj480Z861YTcAHO6996SmTaVLl0xzBJr+AgAAAIBrIGhD2t17r/Tuu2b7hRekHTusrQdwUz4+JtcuXVqKjDQzthMSrK4KAAAAAHA7BG1In5dekpo3l65cMb/9x8ZaXRHglvLnl777TgoIkFavlgYPtroiAAAAAMDtELQhfby8pC+/lIoVk3bvlvr1s7oiwG1VrizNmGG2P/ro2jYAAAAAIHsiaEP6FSokff21Cd2mTZO++srqigC31bat9PrrZrtXL+n3362tBwAAAABwcwRtyJiGDaVhw8x2797SX39ZWg7gzoYPl1q1kuLipDZtpJMnra4IAAAAAHAjBG3IuNdeM4FbbKxZr+3KFasrAtySl5c0c6ZUvrx09KjUrp0UH291VQAAAACA/yJoQ8Z5e5sppAULSuHh0qBBVlcEuK3AQNMcIShIWr9eatZMWrlSstutrgwAAAAAkIygDZlTrJgZaiNJEyZICxZYWw/gxsqVk775RsqRQ1qzRnroIalSJWniRCkmxurqAAAAAAAEbci8Zs2kwYPN9tNPSwcOWFoO4M6aN5f+/FN64QUpTx7T/Pf556U775Reekn65x+rKwQAAAAAz0XQBsd4+23p3nulqCipY0fp6lWrKwLcVtmy0scfS0eOmK9lypi/emPGmO1HH5VWr2ZaKQAAAABkNYI2OEaOHGZOW9680qZN0tChVlcEuL3AQDOybe9e6ccfpbAwE64tXiw1aSJVqSJ99pnpVwIAAAAAcD6CNjhOyZLSlClm+4MPpKVLLS0H8BReXtLDD0vLlpmppH36SAEBZopp795SSIiZ3c2sbgAAAABwLoI2OFbbtlLfvma7Sxfp6FFr6wE8TPny0vjx5q/eRx9JpUtL58+b7Puuu8xf0bVrmVYKAAAAAM5A0AbH++ADqVo16cwZqXNnKTHR6ooAjxMUJA0YIP31l/T991LTplJSkrRwodSokRQaKk2eLF26ZHWlAAAAAOA+CNrgeH5+0pw5Uu7c0s8/S2+9ZXVFgMfy9pYeeURaseLaVFJ/f2nHDumZZ8y00ldflQ4dsrpSAAAAAHB9BG1wjnLlpEmTzPabb0pr1lhbDwBVrChNnGi6lY4ebZZVPHdOGjVKKlVKeuwxad06ppUCAAAAQEYRtMF5OneWnn7a/NbeubN06pTVFQGQlC+f9NJL0r590qJF0oMPmmml8+dLDRpI99wjTZsmXblidaUAAAAA4FqyRdA2YcIElSxZUn5+fqpTp442b95802MbNmwom8123a1FixYpx3Tr1u26x5s1a5YVbwX/NW6cVKGCdPy41LWr+W0eQLbg7S09+qi0erWZStqrl5QrlxQebjLykBBp6FAzAg4AAAAAcHuWB21z5szRwIED9cYbb2jr1q0KDQ1VWFiYTt1k9NOCBQt0/PjxlNvOnTvl7e2txx9/PNVxzZo1S3XcN998kxVvB/8VECDNnWvWbVu2zMxXA5DtVK4sffaZCdXef18qXtz0M3n3XTPFtEMHaf16ppUCAAAAwK1YHrSNGTNGzzzzjLp3766KFStq0qRJ8vf319SpU294fP78+VWkSJGU28qVK+Xv739d0Obr65vquHz58mXF28GNVK5sRrZJ0v/+J23caG09AG4qf37p5Zel/fuvTSVNTDR5+X33STVrSl9+ybRSAAAAALgRS4O2+Ph4/fHHH2rSpEnKPi8vLzVp0kQb0xjGTJkyRR07dlRAQECq/WvXrlXhwoV1991367nnntPZs2dveo64uDhFR0enusHBevaUOnY0v7F37CidP291RQBuwcdHattWWrvWTCXt0cMMTN26VerWzYx4e/116dgxiwsFAAAAgGzE0qDtzJkzSkxMVHBwcKr9wcHBOnHixG2fv3nzZu3cuVM9e/ZMtb9Zs2aaMWOGVq9erVGjRunnn39W8+bNlZiYeMPzjBw5UkFBQSm3kJCQjL8p3JjNZual3XWXdOjQtSYJALK90FBp8mTp8GFp5Ejpzjul06elt9+WSpSQOnUyA1X5Kw0AAADA01k+dTQzpkyZoipVqqh27dqp9nfs2FGtWrVSlSpV1Lp1a/3www/6/ffftXbt2hueZ8iQIYqKikq5HT58OAuq90CBgdKcOVKOHKbV4YQJVlcEIB0KFpRefVWKjJTmzZPuv19KSJBmz5bq1ZPq1JG++kqKi7O6UgAAAACwhqVBW8GCBeXt7a2TJ0+m2n/y5EkVKVLkls+NjY3V7Nmz1aNHj9u+TunSpVWwYEHt27fvho/7+voqMDAw1Q1OUqOG9MEHZvull8w8NAAuxcdHeuwxad0681e4e3fJ11f6/XfpqafMKLfhw5khDgAAAMDzWBq05cyZUzVq1NDq1atT9iUlJWn16tWqW7fuLZ87b948xcXF6cknn7zt6xw5ckRnz55V0aJFM10zHOCFF6RWraT4eNPK8OJFqysCkEHVq0tTp5pppe+8I91xh3TypDRihFSmjPTxx+avOgAAAAB4Asunjg4cOFBffPGFvvzyS+3evVvPPfecYmNj1b17d0lSly5dNGTIkOueN2XKFLVu3VoFChRItT8mJkYvv/yyfvvtNx04cECrV6/Wo48+qjJlyigsLCxL3hNuw2aTpk2TQkKkffuk3r1Z3AlwcYUKmabCkZFmKmmlStK5c9KAAVLFiqaDKX/NAQAAALg7y4O2Dh06aPTo0Ro2bJiqVaum8PBwLVu2LKVBwqFDh3T8+PFUz9m7d69+/fXXG04b9fb21vbt29WqVSuVK1dOPXr0UI0aNfTLL7/I19c3S94T0iB/fumbbyRvb2nWLBO8AXB5OXKYgarh4dLnn0vBwdL+/Waq6X33Sb/9ZnWFAAAAAOA8NrudMQb/FR0draCgIEVFRbFem7ONHGmGweTKZRZ4qlTJ6ooAOFBMjFmW8YMPpMuXzb727c1f/dKlra0NAAAAANIqrVmR5SPa4OFeeUVq2tT8Bt6hg3TpktUVAXCg3LnNem1//y09/bSZOT53rlS+vOmHQsMEAAAAAO6EoA3W8vKSZs6UihSR/vxTatZMOnHC6qoAONgdd0hTpkjbtpls/epVacwY6a67pLFjaZgAAAAAwD0QtMF6wcHSnDlSnjzSL79INWpIGzdaXRUAJwgNlZYvl5YulSpXNiPaXnzRNEz49lsaJgAAAABwbQRtyB4eeMCs0VaxonTsmNSggfTpp/zWDbghm80MXg0Pl774wgxo3b9fevxxqX59cnYAAAAArougDdnH3XebloSPPWbmlfXpI3Xrdm0FdQBuxdtb6tnTrN/2xhuSv78J2erVMw0T9u+3ukIAAAAASB+CNmQvefKYldI/+MCs3zZjhhniEhlpdWUAnCR3bmn4cBO49ehhRrzNmydVqCANHCidO2d1hQAAAACQNgRtyH5sNmnQIGnlSqlgQbN6eo0aZmEnAG6rWDFp8mQzpTQszAxs/egjqUwZ0zghLs7qCgEAAADg1gjakH09+KC0datUu7ZZMb15c+mdd6SkJKsrA+BEVatKy5aZW5Uq5q//Sy+ZEW5z57J0IwAAAIDsi6AN2VtIiLRundSrl/nt+rXXpDZtpKgoqysD4GRhYWZA65QpUtGiZgZ5hw5mDbcNG6yuDgAAAACuR9CG7M/XV/rsMzOnzNdXWrxYqlVL2rnT6soAOJm3t/T009Jff5l13Pz9Tc+U+vVNl1IaJgAAAADITgja4Dp69JB+/VUqXtysmn7vvWYeGQC3lzu36Uy6b5/pVOrlJX37rZlO+uKLNEwAAAAAkD0QtMG11Kwp/fGH1LixFBtr5pG99JKUkGB1ZUiLb74xjS2WLLG6EriookWlL74wDROaNTMNE8aOle66S/rwQxomAAAAALAWQRtcT8GCZpX0V14x98eMkZo2lU6dsrYu3NqiRdKTT5oGF23bSmvXWl0RXFiVKtLSpaYZcdWq0oULpllxhQrSnDk0TAAAAABgDYI2uCYfH+m996T5882csrVrpXvuMYs3IftZu1bq2NF0jC1a1Aw7atVK2rLF6srg4h56yGS3U6dea5jQsaNUt660fr3V1QEAAADwNARtcG1t20qbN0vly0tHj0oPPGAaJzCcJfvYutWEanFxUuvWZn29Bx+ULl40c/9277a6Qrg4b2+pe3fzozVihBQQIG3aJN13n/TYY2ZdNwAAAADICgRtcH0VKpiwrW1bs2BT796mccLly1ZXhr/+MmHaxYtSw4ZmjbaAADONtFYt6exZM+334EGrK4UbCAiQhg0zgdszz5iGCfPnSxUrSgMGmB83AAAAAHAmgja4hzx5TAvC994zv11Pm2aGsxDgWOfoUTOv7/RpM633u+8kPz/zWJ48ZoGtihXNcU2bSidPWlsv3EbRotLnn0sREVLz5iZ///hj0zBh9GjpyhWrKwQAAADgrgja4D5sNtMgYcUKqUABM2WxRg1p5UqrK/M8586ZkO3gQalsWROqBQamPqZAAfNnVaKEGYLUrJlZ0R5wkMqVTYPbFStMw4SoKOnll80g2NmzmWEOAAAAwPEI2uB+Gjc2IVvNmmauWLNmZqQbv1VnjdhYqUULadcu6Y47TNBZuPCNj73jDmnVKik4WAoPl1q2lC5dytJy4f6aNjX/JEybJhUrJh04IHXqZAZajh/PlFIAgIeIjzczDQAATkXQBvdUvLj0yy9mrbakJGnIEKldOyk62urK3Ft8vPk+//ablC+ftHy5GbF2K2XKmOOCgqRffzWr18fHZ0298Bje3lK3bmbZwLfeMuu5hYdL/fqZqabt2kmLF5tppgAAuJ2TJ81Q7+LFTTd4AIDTELTBffn5SZMnm8WacuaUFi6Uatc2I63geElJUteuJjTz9zdz9ipVSttzQ0OlH3+UcuUy00y7dpUSE51bLzxSQID02mtmVNvYsVL16iZcW7BAevRRM8jyxRdNCAcAgFuIiZEeecQs1XHlitShg3TkiNVVAYDbImiD+3vmGTO67c47pb17pTp1TOMEOI7dLr3wgln4KkcOk1rce2/6zlG/vnlejhzmPP36Md0XTlOwoNS/v5lSGhEhDRxoZjifPn0tgKtWTfroI/p0AABc2NWrUvv20pYtZn3cSpWkU6fMDIK4OKurAwC3RNAGz1C7tvTHH1KjRuaq3uOPS4MHSwkJVlfmHkaMkCZMMA0pZsyQwsIydp5mzaSZM815Jk6UXn/dsXUCN1C1qvThh+bi/vffm989cua8FsDdcYdZPnD+fH4nAQC4ELtd6t3bzBbIlUv64QezTkK+fNKmTeaKEwDA4Qja4DkKFzbtB19+2dz/4AMTCLEobOaMH2+CtuTtjh0zd74OHUzIJknvvGMSECAL5MhhZtbMmycdP26y49q1zSzmH34wAVzRolKfPtLmzQy4BABkcyNGSFOnSl5eZrbAvfdKpUtLs2aZi5qffWYeBwA4lM1u51eF/4qOjlZQUJCioqIUGBhodTlwhnnzpO7dTYfMkBAzVKVWLaurcj3ffCM98YTZHjFCGjbMced+7z3TxEKSpkyRnn7aceeG88THm6FhsbFSlSpWV+MQu3ebgZozZkjHjl3bX6GCWU7wySfNqDcAALKNyZPN8imSuYDZu3fqx99+28wc8PU1zahq1sz6GgHAxaQ1KyJouwGCNg+xa5fUpo1pQ5gzpxm+0rOn1VW5jmXLzHy6hASpb19p3DhzddSRXnlFev99cyV27lzTGhLWiouTDh0y3QQOHJAOHkz99ejRa0O9xowxnQXcRGKitHq19OWXZjnBK1fMfi8vqWlTE7q1bm1m5wAAYJklS6RWrcx/XP/7n5kh8F9JSeZz8OLF5qLzH39IhQplfa0A4EII2jKBoM2DREVJ3bpJixaZ+z17Sp98YjqW4uY2bpQaN5YuX5Y6dZK++sqkDY5mt0u9epmrsjlzmvl7TZs6/nVwzeXL14dn/94+fvz258iZ04xsy5nTdBtIa/dZFxIVZQbGfvmlGQiQLDDQrDndrZtUr57js2cAAG7p99+lhg2lS5ekLl2k6dNv/p9RVJSZ0fH33+Zz3bJlko9PVlYLAC6FoC0TCNo8TFKSNGqUNHSoCXZq1TJTSUNCrK4se9q5U3rgAen8eal5cxNS5szpvNdLTDRh3rx5UkCAtGpV+jua4pqYmFsHaadO3f4cAQFSiRJSyZLm9t/tQoXMYmdLl0r33CP99ptZAM1N7dt3bWrpwYPX9pcpY37H6dLFfFsAAHCq/fulunXN+sNNm5oLlLf7jPbnn1KdOmbJh8GDzWdiAMANEbRlAkGbh1qxwgQ6585JBQtKc+ZIDz5odVXZS2SkVL++GdVUt660cqUJXZwtLs5MgVixwnTKWrdOqlzZ+a/riqKibh2knT17+3PkyXMtOLtRkFagwO2Hah0/bv6Mzp0za/clN8xwY0lJ0s8/m1Fu335rfmdJ1qiRmVrarp2UO7d1NQIA3NTp02Yo9b59UrVq5rNSnjxpe+68eWY4tmSW6nj8caeVCQCujKAtEwjaPNiBA+Y34a1bzVTI996TBg1i/pcknTwp3Xef+QBXubJJFPLnz7rXj401V2c3bjStH3/91XTO8kR//22uQP83RDtwQLpw4fbPz5fvWnh2o5FpefM65md+zhzThdbb2/y5eVDDkZgYs47b9OnSmjXX9gcEmO6lXbtKDRo4Z8Y1AMDDXLpkLg5v2mT+L0/+rJQeL78sjR5t/qPavFmqWNE5tQKACyNoywSCNg93+bL0/PPmN2TJ/FY8dWrarwq6o6goMyRn2zYTxKxfLxUrlvV1nD9v0okdO0zI9uuv6f8g6cpOnTIfhGfMuPVxBQrcfDRaiRJSUJDza03WsaMJ3MqXNwG2B3YKOHhQmjnTjHTbt+/a/hIlrk0tLVPGuvoAAC4sIUFq21b6/ntzIW39etMWOyPneeghc3WoXDkTtmXl5wUAcAEEbZlA0AbZ7dJnn0kvvCBdvWo+sCxYYMICT3PlitSsmRnBVriwCbfKlrWunuPHzci6f/6xZmSdFZKSTEOIV181YaPNJtWsKZUqdeMgLTvNTTx7VqpSxfy5DRggffSR1RVZxm6XNmwwgducOVJ09LXH6tc3o9zat+f3GgBAGtnt0nPPmc+svr6mNXb9+hk/3+nTUo0a0uHD0qOPms++DL0GgBQEbZlA0IYUv/1mRrQdPWpGtE2fbq4aeoqEBPP+v/vOtFNcu1aqXt3qqkzIdt99Jry5917TICEr1oqzQkSE1Lu3+VmUzLorkyaZhYtdxZIlUosWZvunn8zoSA93+bLpI/Lll2apw6Qks9/PT2rTxoRuTZqYWbcAANzQO+9Ir71mLsB9+61jPqP+/rv5jBUfb87/v/9l/pwA4CbSmhVxiQK4lXvvlf74w0xXvHjRrN/2yCPSrl1WV+Z8drvUq5cJ2Xx9pcWLs0fIJplpo8mNEX77zSQTcXFWV+VYFy9KAweaK8u//WZGqY0daz4Au1LIJkkPP2x+liSpW7fUQ7k8VK5cpvfKsmXSoUNmOcgKFcwA0m++MYNIixeXJk40fxUBAEjlyy9NyCZJ48Y57kJwrVrSp5+a7ddek5Yvd8x5AcCDELQBtxMcbIacDB4s+fhIP/5opsL17m0aBLirV16Rpk0zUwbmzDFhY3ZSubIZKRUQYP58nnxSSky0uqrMs9ul+fNN6vLRR+Y9Pf64tGeP1L+/+Rl0RaNHm6muhw6ZKaRIcccd5q/bn3+aJXH69DEZ8rFjZrnI1q2lM2esrhIAkG0sXy717Gm2Bw+W+vZ17Pl79DAXyOx2c1UoMtKx5wcAN0fQBqRFjhzSqFHSzp3mt96kJLMeRpkyZlj9pUtWV+hY778vffCB2Z482azTkR3de6+Zf5czp5ky8eyzrj38JzLSjJhMnq5curS0dKk0d65JY1xZnjzm6rvNZgLc77+3uqJsx2YzAwnGjzezoseMMT/aixdLoaFm1i0AwMNt3WpmWCQkSJ07SyNHOud1xo2Tatc2a8O2bet+n3UBwIkI2oD0uPtuaeFCswB/rVpSTIwZVl+unAkRkhdacmVTppjhNZIZhdS9u7X13E6TJmaunZeXqX3wYNcL2+LjpXfflSpWNKP0cuQwP1c7d5o5hO7i/vull14y2z17mkWXcUO+vtKLL0qbNpkeLMeOmR/1IUNMfxYAgAeKjDTLMcTGSg8+KE2d6rxmBb6+5iJmoUJSeLiZyeFqn68AwCIEbUBGPPCAWTdr1izT5fHoUbP2VI0apuOTq1q48NpaWq+8ci0Uye7atpW++MJsjx5tRh+6irVrTYODoUPNAl2NGknbt0tvvWUW8nI3b70lVaoknTplOqXxof2WqlWTtmwxuaTdbtZyu+8+af9+qysDAGSps2el5s3NsiVVq5qOoDlzOvc1Q0LM8iHe3tLMmdKECc59PQBwEwRtQEZ5eZl1K/bsMVMtg4LMFb8mTUyHxT//tLrC9FmzRurY0YzK69HDeVMRnOXpp6UPPzTbQ4aYqb3Z2alTprVko0bS7t1S4cLSV1+ZoLZ8eaurcx4/P2nGDLPW3Pz5JqzGLQUEmBx53jwpb16zjlv16tLXX1tdGQAgS1y+LLVsKe3da8KvJUvM586s0KiR+ZwrmaHW69dnzesCgAsjaAMyy89Pevllad8+qV8/EyAsWWKuNj77rHTihNUV3t4ff5h12OLjTQfPSZPMglGuZuBAMzJMMqOl5syxtp4bSUqSPv/chGkzZpjvc+/eJrDt3Nk1v+/pdc890rBhZrtvX+nIEWvrcRGPPSZFRJgRbRcvmv4fXbuabQCAm0pMlJ54Qtq40VxtWbo069dtffFFqUMHsy7cY4+ZhUQBADdF0AY4SsGCZuHYP/80YVVyoFK2rPT229l3Edm//jJTES5eNFctZ81y3c6WkpmamDwl8cknpWXLrK7omogIqX59E8CeP2/mBW7cKE2caNpMepIhQ8w6hxcumBGUTCFNk+LFzeDT4cPNoNoZM0xu+fvvVlcGAHA4u910HE9u/LRokVl+IavZbGYd3MqVzQXkxx83F2cBADdE0AY4WrlyZt2MdeuuNUx4/XUTuE2fbq5MZhdHjkhNm5pF6e+5x3yA8/OzuqrMsdlM28ZOncyV17ZtrZ/mcPGiGW1Xo4ZZ2y93bmnsWJOO1KljbW1W8fExKZGfn7RihRlFiTTx8ZHeeMP0ZAkJMYNp69UzM3vcoR8LAOD/vf/+tXXRZs6UGjSwrpaAAPP5NijIfK5ylXV8AcACBG2As9x/vwlVvvnGNEw4dsx08KxRQ1q1yurqzKK6YWHSoUMmHFy6VAoMtLoqx/DyMl1gH37YrGvSooUZTZbV7HazDlmFCtJHH5mQ9fHHzTTR/v1de+SgI5Qvb1b3l6RBg0xihDS77z7zY/3YYyZTfuUV81eaGT0A4Aa+/lp69VWzPWaM1L69tfVI5qLxV1+Z7fHjzQUzAMB1CNoAZ/LyMg0G9uyRPvjAXAWMiDCjyB5+WNq505q6YmJM+LRrl1nnY8UKsxi/O8mRw6wef999UlSUSSD+/jvrXj8yUnrkEZOCHD0qlS5twsy5c7N+bZXsrF8/M2X50iWz4Fh2GvHpAvLlMz9SX3xhmtSuWmWWh/zxR6srAwBk2OrV5uKsZNZHe/FFa+v5t0ceubbO6rPPStu2WVsPAGRDBG1AVvDzMyN29u+XXnjBjGRaulQKDZV69crahgnx8VK7dtKmTVL+/CZkK1Ei614/K/n7S99/b9ZCO3nSBJzOXng/Pl56912pYkXTFCNHDum110yo2qyZc1/bFXl5SdOmSXnySBs2SKNHW12Ry7HZpJ49TU+T0FDpzBnze1D//tKVK1ZXBwBIl4gIs9bv1atmFFt2/H/xjTfMBeMrV8wSHWfPWl0RAGQrBG1AVipQQPr4YzOSrF07s6DSF19IZcpIb74pxcY69/UTE6UuXUy4FhBggqCKFZ37mlbLm9c0RChbVjp4UHroIZNEOMPatSbpGDrUfPh88EFpxw7ToCFXLue8pjsoUcL8vZDMeobbt1tbj4uqUMHMVu/f39wfN066915p925r6wIApNGhQybAunjRrMc2Y4a5IJXdeHmZKaSlS0sHDpiu6YxIB4AU2fBfbsADlC0rffut9OuvZjH82FhzdbBcOWnqVOd8WLHbzWi6OXPMKKsFCzxnIf7gYGnlSjNlc/fua11WHeXUKRNgNmpkpgkXLmw+gK5aJd19t+Nex5116ya1amWu4HfpQjezDPLzM302fvjBNEKOiDDLQn7xBY1dASBbO3/ejHw/dsx0Fl20SPL1tbqqm8uXT1q40FxIXL7cfI4FAEgiaAOsVb++tHGjNHu2VLKk+XDVo4fpALpypWNfa/hw6dNPzTyzmTPNyC5PUqKE+Z4WLCht2SI9+mjm59UlJUmffWbCtJkzzff2uedM2Na5s7mPtLHZpM8/v5YOjRhhdUUurUULMzCwSRPTD6RXLzMD6fx5qysDAFznyhXzuWT3bnNRcOlSMyI/u6taVZo82Wy/844JBwEAstntXOP+r+joaAUFBSkqKkqB7tKFEdlfXJzp4PT229KFC2Zfs2amiULlypk79yefmNFskgnbnnsuc+dzZX/8YUaeXbxoPtR++23Gun+Gh5vv42+/mfvVq0uTJkm1azu0XI8zf75pIOHlZUZ81q1rdUUuLSlJ+vBD6X//M51JQ0KkWbNMjxAAQDaQlCR16GA+jwQGmv/7qlSxuqr0GTDALAGRJ4/0+++M5rdKXJz0zTfmz2LfPjOjo0gRc/v39r9vwcFSzpxWVw64jLRmRQRtN0DQBkudPWvCtgkTzDQ6Ly/p6afNGm5Fi6b/fF9/LT35pNl+802zBpanW7vWhJhxcabT5dSpaV8D5eJFMz3i44/Nh+M8ecwabH36ZCyww/WeespMvS1b1nQzCwiwuiKXt2WL1KmT+dzt5WX+GXjtNX5kAcBSdrvpKPrxx2ZZj+XLzcVAV3P1qtS4sfTLL2bB0E2bzOcjZI0zZ8zF3vHjTfOv9Mqf/8YB3H/3FSyYPdcMBLIQQVsmELQhW9i3TxoyxFzhlEzY8PLLpntpWoOHpUvNulcJCVK/fuaDHNMZjcWLTaesxESzevxHH936e2O3m3Xt+veXjh41+x5/3DzvjjuypmZPceGCGcV59KjUt68ZkYlMu3jR/DPw5Zfmfv36Jod316bDAJDtffih+VwnmeHGnTpZW09mnDhhFgU9dsw0/Jo3j8+czrZnj1mY9csvry2HcscdZhZLy5bSuXPmz+W/t5Mnr21fvZr21/P2NusQpyWUCwzkzx9uiaAtEwjakK1s2CC99NK1KYpFi5oRVN26mf/wbvW85AWannjCrCHGVajUZs40C+9Ltx7t988/JvBZutTcL13ajDhs1ixr6vREK1ZIYWFme+VK87MMh5g1S+rd2wRvefOaRgmPPWZ1VQDgYWbPvhasvf++uZjq6jZuNN1Sr16VRo2SBg+2uiL3Y7dLa9ZIY8ZIP/54bf8995jfFx5/3IyOTOu5zp+/cRj339uZM+nrquTnd+Opqv8O5oKDzc3fP33fA8BCBG2ZQNCGbMduN1cGX31Viow0+6pUMeu3JYcR/7Zjh/TAA2ZkUPPm0nffpf0/XU8zbpwZpSaZkVN9+157LC5OGj3aTOW9csV8D1991Yw0zJXLmno9SZ8+Zk3BO+80P9OusDC0i/jnH/P73ebN5n7PnuaiOLN0ASALrF1rPr/Fx7vfjINJk8watl5e5qJZ48ZWV+Qe4uNNODtmjGkaJZmfmVatpIEDpfvvd+7PUEKCdPp02kK56Oj0nTt37muhW3CwGTX37/v/vuXJ4z5/V+CSCNoygaAN2VZcnBlJ9dZb1xomhIWZwC154dzISDMn7PhxqV49MxqIK0W3NmKE6coqmVFuTz5pPgQndxCVpAcfNKEPC/xmndhYqVo1M436qaekGTOsrsitXL1qlht87z2T5Zcvb9ZQrlbN6soAwI3t2GFCkagos4TF3Lm3nqHgaux2qUcPado0qUAB04SKNQoy7tw50+H+k0/MZ3vJfK7v3t1cKC5b1tr6buTSJTM99d9TVG82hTV5ymta+fndPIj77/58+ZjNA4cjaMsEgjZke+fOmVFW48dfa5jQvbsZAfT449L+/WaNq3XrzH8yuDW73XTMGjfOfNht3lz64QfzWOHC5urhE09wBc0KGzaYX0iSkswaeW3aWF2R2/npJ5NjHjtmGo+9/75Z3oUfdwBwsCNHpHvvNWuQ1q9vLoa64wj5y5dNe+utW826bb/+agISpN3ff5uh5tOnm+BKkooVMyMge/UyDQxcnd1u1rFIDuWSb6dOXb/v5EkpJiZ95/fxuRa+3WqUXHCwafRgZeBtt5t1o69eNaMH/3u72X5J8vW9/pYzp/maIwcf6ByMoC0TCNrgMvbvN9MY581Lvb9kSWn9evMfMtImKcmsezdzprlvs5mFrN55h7DSakOGmGFXhQpJO3eaD0twqDNnzACExYvN/YcfNoMR+FYDgINcuGAuHO3caYYQr1/vHmHJzRw8aEK2s2fNxeApU/iF/3bsdnORfMwY6fvvr62JVq2amR7aoYMJUDzVpUs3D+H+G9CdP5++c9tsJmz7d/iWP7/5M7hd2HWrx9K6PzHROd8zm+1a6HazMO5mt8w+nnxMnjxu9YGSoC0TCNrgcjZsMF2rNm40/5CtXy+VKWN1Va7n6lUzKvCff6R335Vq17a6IkhmynTt2tL27dKjj0oLF/Jh3QnsdjM7+qWXzLe8SBEzW7dpU6srAwAXFxdnGiitXWuaWm3c6BnTKVeuNO87Kcms3fbss1ZXlD1dvWqmEI8ZY0YBJnvkEROwNWzI5570io9PHbzdKqBLb6OHrOTtbUbm+fiY0WnJ28k3u938+/Lvm7NCu4xq1MhMn3ATBG2ZQNAGl2S3S7/8YgI2RrLB3URESLVqmQ+j06dLXbtaXZHb2rHDNEr4809z/+WXzUx1T76I7jQJCWYdyFKl6EQBuKukJKlzZ7OQfZ48ZsSSJy2GOWqUaSSVI4d57/fea3VF2cf586b197hxZjqxZKYSd+1qljRhXeCskZhowrb/BnDnz6cOum4WdmVkf1qe4+2dsYA1MdEEjf8N4P57y6pjHnzw2pQJN0DQlgkEbQCQDY0cKf3vf1JgoEmDihe3uiK3dfmyGdk2caK5X7OmNGtW9lxz2eUcOyYtWyYtXWpGe0RFmYWtW7Qwa2w+/DChG+BOXn7ZdDD38ZGWLPG8YcJ2u/m3bf586Y47THOE4GCrq7LW/v2m0+zUqabxk2SGkffta0b9FSxobX0AboqgLRMI2gAgG0pIkB54wEy5efBBE1LQTcqpFi0ya7edOyflzm2aHj/1FDNY0iUhQfrtN/ML9tKlUnh46sdz5jRXg5MRugHuY9w40xlSMnPxn3rK2nqscvGiWQJizx6pQQPz/3eOHFZXlbXsdrO0y5gx5j/X5F/Bq1QxV7Y6djRrWgHI1gjaMoGgDQCyqb//NlNuLl0yv8D062d1RW7vyBHpySeln3829594wox047/HWzhxwoxaW7LE/EJ54ULqx2vWNCFa8+ZmSnR4uGlqM3euFBl57ThCN8B1zZ9v/u7a7Wbd1yFDrK7IWnv2mLDt4kXpxRdN4OQJEhKkb7817/f336/tb97crL/WuDFXrwAXQtCWCQRtAJCNTZhgplf4+ZmAgjVMnC4x0czcHT7cbJcqZaaSstTO/0tIkDZtMiPWliyRtm1L/Xj+/FJYmPnFKizs5t237HazEDahG+DafvnFTBGNi5Oee878v0WYYpoZtW1rtmfNMguCuquoKGnyZHNR8NAhs8/XV+rSxay/VrGipeUByBiCtkwgaAOAbCwpyXQxW7nSXB1fv96sfQOn27jRjGg7cMCs0Tt8uPTMMx663M7Jk9fWWluxwiya/G81a5pgrXlz83Pq7Z2+8xO6Aa5p1y7pvvvMvwmPPmpGtqX37787+9//zJWbXLnMtPqqVa2uyLEiI024NnmyFBNj9hUubLra9+598wstAFwCQVsmELQBQDZ35IhUubK5Yvz229LQoVZX5DGioszvCrNnX9tXsaLp3t6okVl+xy3XcU5MvDZqbelSs6D3v+XLl3rUmiPTR0I313fhghQUxKgmd3fsmFS3rhnBdO+90urV5u8orklMNP9Orlwp3XWXmU6ZL5/VVWXexo1meuiCBeaCoCRVqmSmhz7xhBmFD8DlEbRlAkEbALiAmTPNFAwfH2nzZql6dasr8hh2u/n2jxkjRURc/3jVqteCtwcecOHfoU6dujZqbfny60et1aiRetRaVoysJHRzHXa79NNP0nvvSatWmSYu48dLFSpYXRkc7fJl849h797ma9my0oYNbnrVwQHOnjX/fh48aP6t+v5712xulJBgpsOOGWNG5yULCzMBW9OmhOuAmyFoywSCNgBwAXa79Nhj5upx5crSli107LLA2bOmUcKaNeb255+pH7fZTAbasOG14C3b/teamGhC2+RRa1u2pH48b97Uo9aKFLGkzBSEbtlTYqLpKvjee9f/DOXIYX4Bf+0108oXrufiRbM+6Nat1267d5s/d8lMDdy4USpd2tIys72tW6X69aUrV8w6BG+8YXVFaRcdLU2ZIn38sQkLJdNB+sknTaOHypWtrQ+A0xC0ZQJBGwC4iNOnzQfaU6ekwYOlUaOsrsjjnTolrV17LXjbuzf1415eZiBD8oi3++6zOG84dcqMVksetXbuXOrH77nn2qi1OnWy73qAhG7Wi4+XvvpKev/9az/4fn5Sz55Shw7m36cffjD777xTGjvWLAzPiJf/a+/e43OuHzeOX/dmJ4fNeQdsjhE5DnOKQg755pAiKXTWV3IooUJnRFKIkkMlkb6RhNKKSnPIWQ45n0cO25jz9vn98f5tMxsbu92fe9vr+Xjcj+3+3PfuXffMfbj2PrivU6fM5iZr15rp4mvXmt2v03v7VLy4Gdn6zjtS1aquz5odffaZ1KOH+fz776X//MfWOJLMv+3p09KhQ2YqcHof//47Zf21okWl//7XnHLlgqVA7kLRlgUUbQCQjXz3ndS+vXmz+ttvprmB2zh8OHXxtmtX6svz5JHq1Ekp3ho0uMVLGiUkmDWBrhy1duVLoYIFpRYtTLHWqpX9o9ZuBqWba505I33yiZk+duiQOVawoNkduXfv1Iuff/+99PzzZkcRyfyujR9vphrCXseOpR6ltnZt6v87VypZ0vzFoFatlFNwMKXpzejVS/roI7OG4V9/SeXL37rvdeGCdORI2vLs6iItPj7j26pUyYxOfeQRs7EDgFyBoi0LKNoAIJt57DFp+nQzVWfDBqZkubEDB1JKt19/TZl1k8Tb2wwcSyre6tVzwhrS//6betTaiROpL69ZM2XUWr167jtq7WZQut06x49L48aZU9L6fcHB5s33M89IBQqk/3Vnz5pppSNHmlFw3t7SgAFmN0YWzr/1LMsUKleOUlu7NqUkvVrZsqkLtZo12TnSmS5eNGsLREWZEeorVtz4Y1Fionmcv94otMOHzf/ZzAoIkEqUkEJC0n4MC5Nq1Mie68oByBKKtiygaAOAbCY21qzAv3+/eYM7aZLdiZBJe/akLt6ufq/r62s28Usq3urWNb1Euk6fNiOF9u0zH/fulX7/3Yxgu/LlTkBA6lFrwcG35s65G0o359i/X3rvPWnyZLMIvmRGpL30kvToo5lfK3LnTjPibfFicz4szKz51LYtI6OcxbLM48DVI9WOHUt7XYdDuu02U6YljVarUSMb7+aSjRw+bH7eR49KDz0kzZxp/j0yM43z8GEzSu3y5cx9Lx8fU5alV6AlfQwJ4TEQQLoo2rKAog0AsqFffpGaNTOfL1pkChRkK5Zluocri7ejR5MvVUHF6HbfvWpRcZ8aldyrKvn3KfD8Xnns//9i7epdQa9Uo0bKqLX69XPWqLWbQel247ZsMeuvffllypv6WrWkQYPMWmuenjd+m5ZlNk7o08cM95TMz/zDD6Vy5ZwWPVdITDQPIFePVIuJSXtdT0+pcuXUI9WqV7/2KETcer//bnbmvXxZql3bbDiQ2WmckinmAgOvX6CVKCEVLkyRDeCmUbRlAUUbAGRTffqYN6ghIdKmTeYFNbIHyzJTf/btSx6RZu3dpzN/79XFf/bJ79he5b18OuObKVJEjrAwqXRpM0KoalWzQ2hIyK2/D9lVRqXbvfea4i27rlmXVStWmKme332XcqxpU1OwNW/unDft8fHS229Lo0dLly6ZUTeDBkkDB7L+U3ouX5a2bUs9Sm3dupQF6q/k5WUeB64cqVa1Kj9XdzRunFnD8GoBARkXaIGB5t8aAG4hirYsoGgDgGzq7Fmzfs4//0hdupjpJ3APiYlSdHTKtM70PiZNw7uOS0UCdSJ/mHZdLq01x8O07UJp7VOY9sp8zBOQX40bp0w1rVaNZXRuyPVKNyllF9Z77zWL6d3MKK7swLKkn34yBdvSpeaYwyF16GDKr7p1b8333b7dbKLw88/mfNmy5o8Hbdrcmu+XXcTHm5F/f/5pRqtt2CCdP5/2er6+ZvTqlSPVqlS5znxzuBXLMhuGnDmTukhjVC0AN0HRlgUUbQCQja1aZbauTEgwRcGDD9qdKHdISDDTfK5VpO3fbxa9vh6HI2Wh6aQRaVd+DA1NNQolMVHauDFlmumyZWa20ZWqVJHmzzd9BW5QUun23XcpO7ReqVAhs9bdvfeaUYOBgfbkdKaEBOmbb0zBtn69OZYnj1l7bcAA6fbbb30GyzJFZ79+Zv0pSWrXTho71vw/yC0sy/zOffqp9NVXZq2uK+XPb/6wcmWpVqkS08IBALcMRVsWULQBQDY3ZIj01ltSkSJmCmluWezeVY4eNaMOli9P2XTg4MGMF6P29JRKlrx2kVaqVJZGniQkmNljScXbb7+ZgTDFi0sLFkh16tz0TUMy/+5X7t569Zp44eGmdGvd2oz4yk6j3c6flz77TBo1Stq1yxzLl096+mlTeJUq5fpMp09Lb74pvf+++b/l5ye98or04ouZ33AhOzp50qyD9+mnpklPUq6c1L69Wb+rVi2pfHmGqwIAXIqiLQso2gAgm7t4UapXz7QubdqYUojFj7Nm2zYzsum778yaVem9fPDyMqPO0ivRwsLMNCAXjjY5fNj8869fb5YamzVLuu8+l337nO3yZTN6dNEiaeFCM/LtSoULm1FurVubj8WL25MzI3FxZpfi9983U5slU9A//7zUq5f53G5//22mkyZNYa1Qwaxl1bKlrbGcKjHR3L9PP5W+/Va6cMEc9/GRHnhAeuIJqUkTijUAgK0o2rKAog0AcoDNm80Im4sXzZu3J56wO1H2kpAgRUWZYm3+fLPu3ZVq1zajlypWTCnSgoPd7o3w6dNm9vCPP5po48dLzz5rd6ocKDra/JAXLjRrm12506PDYX5fknZ9rVPH/tFuR49KH3wgffSRFBtrjpUsaUaLPfmk+60JZVmmKX7hBenIEXOsY0dTENox2s5ZDh2Spk+Xpk6Vdu9OOV69uvl36NrVTFEGAMANULRlAUUbAOQQo0ZJL71k1vLZuFEqU8buRO7t7FlpyRJTri1YYHYBTeLlZXZabNdOatvWjE7LJi5dMuXalCnm/MCB0jvvuF0nmHNcviytXGlKt0WLzMjSKxUpYkZjJa3tVrSo67Lt2WN29pw6NWUx/dtvN78UXbq4/6L5cXHSa6+ZDRISEsxQzaFDzfRWd8+e5NIl87vx6afmY2KiOe7vLz38sCnYatViFDIAwO1QtGUBRRsA5BAJCdJdd0l//GGmHf3yC+3K1Y4dM6Xad9+Zku3KnT8LFjRzL9u2lVq1Mm+EsynLMsv2DR1qznfpIk2blrOXunIbR45Iixeb0u2nn1JGkEmmTKlTJ2Vtt9q1b83/0U2bzAYHs2ebxwXJrCM3eLD5/c5ujwsbN5qprX/8Yc5XqmSGazZrZm+u69mxw7Td06ebEYVJ7rzTlGsPPGCKQwAA3BRFWxZQtAFADrJ7t1StmlkVf8wYM/Ijt9u+PWW9taio1OuthYWZUWvt2pk3wF5e9uW8BT77zLynv3zZdK9z5zIzzaUuXza/c0lru23YkPryokVNqdu6tdnRNKuj3f74wxRsP/yQcqxlS2nQIPMLkJ1HTVmW9MUXZjfUY8fMsc6dpffec58Rp2fPSv/7nynYli1LOV68uNS9u5nSX7GiffkAALgBFG1ZQNEGADnMJ59Izzxjhi+tXStVrmx3ItdKSDBT+ZLKte3bU19eq1ZKuVatWvYuHzJhyRKzvNXp0+ZXYeFC0y/CBocPm9FuCxeaf5i4uJTLHA4pIiJlbbfw8MyNPLMsU6yNGGF2xpXM1z3wgCnYata8NffFLjExZqfljz4y0zDz5zfTS59/3r6ifN06MzX0yy9TRjB6eJgS9cknpf/8J8eV+ACAnI+iLQso2gAgh7EsMwVy0SLzZj0qKue/yTt3Tvr5Z1Osff99yogXydz3u+82U+bats3ei6nfpI0bzWzFQ4ekoCDT8+S0/iXbuXTJ/N9MWttt48bUlxcrlnq029U7gl6+bKaGjhhhNkORzLplPXqYTQ4qVHDJ3bDNunVmOmlUlDlfpYo0YYIZuecKMTHSzJmmYLtyXb7Spc3ItR49zIYTAABkUxRtWUDRBgA50OHD0h13SKdOmdEew4bZncj5/v3XjOT57juzFtbZsymXBQSYZqldO1NWBATYl9NNHDxoOpvNm80goDlzzI8GbuLgwZS13ZYsMUMQk3h4pIx2a9lSWr3abHKwd6+5vEABswNG375mN9zcIjHRrIE2cKB0/Lg51rWr+dkEBTn/+1mW9NtvZmronDkpG0x4e0sdOpjRa02bZr818AAASAdFWxZQtAFADjVrllkF39NTWrHCLLye3e3YkTIl9M8/U3bwk8xItaQpoY0bZ59dCV0oNtZMI42MNL8WH39sBt/AzVy8aH6/k9Z2SxqxdrVixUy59t//ms08cquTJ6VXXjG/0JZlNjJ54w0z4i1PnqzffnS0WfBwyhTzGJTkjjtMufbII2lHHAIAkM1RtGUBRRsA5GCdO0tff23eeJYtKxUunPZUqFD6x/387F+/LDFRWrUqpVzbujX15TVrmmKtbVupRg3782YDFy+abuCLL8z5IUOk11/nR+fWDhxIWdstMtIsrt+/v/TYY+b/KYy//jKl4+rV5ny1amYtt4YNb/y2Ll82P/NPPzU7FSft3po/v/kDxhNPmJ1c+Y8DAMihslXRNmHCBI0aNUrR0dGqXr26xo0bp7p166Z73enTp+uxxx5LdczHx0fnk4aqS7IsS8OGDdPkyZMVExOjhg0bauLEiaqQybU5KNoAIAc7ccK8Gdy9+8a/1sfn+kXctYo6f/+sTZ06f96UCUnrrUVHp1yWJ490110p5Vpo6M1/n1zMsqShQ6W33jLnu3c3e2gwCDAbsCzKnetJTDTl2ODBZqSbZH7B333XFJQZ2b1bmjpVmjbNTMFP0qCBKdc6dTJlGwAAOVy2Kdpmz56tbt26adKkSYqIiNDYsWM1Z84cbd++XcXTefKfPn26+vTpo+1X7JjmcDgUGBiYfH7kyJEaPny4PvvsM5UpU0ZDhgzRpk2btGXLFvn6+maYiaINAHK4c+ekTZvMm86k06lTqc9ffbp8+ea/n4dHSvmW2ZLOz09atsyUaz/+KMXHp9yev79Zm6pdO/MxN0+Rc7LJk83SXgkJUvPm0v/+Z37cQLZ3/Lgp2z791JwvWFB6+22zI7OnZ+rrnj8vzZ1rrvvLLynHixaVunUzBVtu270ZAJDrZZuiLSIiQnXq1NH48eMlSYmJiSpVqpR69+6tQYMGpbn+9OnT1bdvX8XExKR7e5ZlKSQkRC+88IJefPFFSVJsbKwCAwM1ffp0PfTQQxlmomgDAKRiWaboulYJd72S7soNCbKiZMmUUWt33cVQq1to4UIzSCc+3sy0W7hQKlHC7lSAk6xYYdZqW7vWnK9Vy+xOWq+e2en100+lGTPM45pkRgu2aGHmV7dty2MPACDXymxX5ITVUG/exYsXtWbNGg0ePDj5mIeHh5o3b66opK3J03HmzBmFhYUpMTFRtWrV0jvvvKMqVapIkvbs2aPo6Gg1b948+foBAQGKiIhQVFRUukXbhQsXdOHCheTzcXFxzrh7AICcwuEwU6Py57/xqZkXLly7iLteQRcXJ1WtmrKZQc2aTI9zkXvvNRsptmljeod69UzZVrWq3ckAJ6hXz6zz+PHHZsOEtWul+vWlSpWkbdtSrhcaKj3+uNSjhxQWZltcAACyG1uLtuPHjyshISHVtE9JCgwM1LYrn+ivULFiRU2dOlXVqlVTbGysRo8erQYNGujvv/9WyZIlFf3/69akd5vRV65pc4Xhw4fr9ddfd8I9AgDgKj4+UlCQOd0I1p2yVa1aUlSUKd22bpUaNZK+/VZq1szuZIATeHqaTRIeeEAaOFCaPt2UbF5epth/8kkzd/rqKaUAACBDWViZ2R7169dXt27dVKNGDTVp0kTffvutihUrpo8//vimb3Pw4MGKjY1NPh04cMCJiQEAuAmUbLYrXVpavlxq3NgMMGzdOmVnUiBHKF7cbHKwerX0+efSoUPSnDlSy5aUbAAA3CRbi7aiRYvK09NTR48eTXX86NGjCsrkX/69vLxUs2ZN7dy5U5KSv+5GbtPHx0f+/v6pTgAAAIUKST/9JHXuLF26ZNaBf/ttM+AQyDFq15YefVQqVszuJAAAZHu2Fm3e3t4KDw9XZGRk8rHExERFRkaqfv36mbqNhIQEbdq0ScHBwZKkMmXKKCgoKNVtxsXFaeXKlZm+TQAAgCQ+PtLMmdJLL5nzr74qPf101jaiBQAAQM5k6xptktS/f391795dtWvXVt26dTV27FjFx8frsccekyR169ZNJUqU0PDhwyVJb7zxhurVq6fy5csrJiZGo0aN0r59+/Tkk09KkhwOh/r27au33npLFSpUUJkyZTRkyBCFhISoffv2dt1NAACQjXl4SCNHmvXhn3/ebMx46JD09ddmjwwAAABAcoOirXPnzvr33381dOhQRUdHq0aNGlq8eHHyZgb79++Xh0fKwLtTp07pqaeeUnR0tAoVKqTw8HD9+eefqly5cvJ1XnrpJcXHx+vpp59WTEyMGjVqpMWLF8vX19fl9w8AAOQcvXpJJUtKXbpIixZJTZpIP/xw43tdAAAAIGdyWBarjFwtLi5OAQEBio2NZb02AACQxsqV0n33Sf/+K4WFmdLt9tvtTgUAAIBbJbNdUbbbdRQAAMBuERFSVJRUoYK0b5/UoIH02292pwIAAIDdKNoAAABuQrly0p9/SvXrSzEx0j33SLNm2Z0KAAAAdqJoAwAAuElFi0qRkdL990sXL5q120aNkliYAwAAIHeiaAMAAMgCPz+z+2ifPub8Sy9JvXtLCQn25gIAAIDrUbQBAABkkaenNHasNGaM5HBIEyZIHTtKZ8/anQwAAACuRNEGAADgJP36mdFtPj7Sd99Jd98tHTtmdyoAAAC4CkUbAACAEz3wgFm3rXBhadUqs1nCjh12pwIAAIArULQBAAA4WcOGZkfSMmWk3btN2RYVZXcqAAAA3GoUbQAAALdAxYqmXKtdWzpxQmraVPr2W7tTAQAA4FaiaAMAALhFAgOlpUul//xHOn/eTCv94AO7UwEAAOBWoWgDAAC4hfLlk+bOlZ59VrIsqW9fqX9/KTHR7mQAAABwNoo2AACAWyxPHmnCBGnECHP+/felzp3NKDcAAADkHBRtAAAALuBwSAMHSjNnSt7e0jffSM2bSxs2SJcv250OAAAAzpDH7gAAAAC5SZcuUkiI1L69tHy5VKOGlDevVKuWVLeuVKeO+VimjCnnAAAAkH04LMuy7A7hbuLi4hQQEKDY2Fj5+/vbHQcAAORAW7ZIL7xgyrbTp9NeXqRISulWp445BQa6PicAAAAy3xVRtKWDog0AALhKYqL0zz/SqlXmtHq1tH69dPFi2uuGhqYe9RYeLhUo4PLIAAAAuQ5FWxZQtAEAADtduCBt2pS6fNu61exaeiWHQ7r99tTlW7VqZg04AAAAOA9FWxZQtAEAAHcTFyetXZu6fNu/P+31vL3Num9Xlm+33SZ5sAUWAADATaNoywKKNgAAkB0cPWoKt6TibdUq6eTJtNfz95dq104p3urWlUqUYLMFAACAzKJoywKKNgAAkB1ZlrR7d+rybc0a6dy5tNcNCko96q12balwYddnBgAAyA4o2rKAog0AAOQUly9Lf/+dunzbtElKSEh73fLlU5dvNWtKfn6uzwwAAOBuKNqygKINAADkZGfPSuvWpS7fdu5Mez1PT1O6jR0rRUS4PCYAAIDboGjLAoo2AACQ25w4If31V0r5tmqVWQNOMoXba69JgwebzwEAAHIbirYsoGgDAAC5nWWZXU0HDZJmzTLHGjWSvvhCKl3a1mgAAAAul9muiI3eAQAAkIbDIYWFSTNnmnKtQAHpjz+k6tWlr76yOx0AAIB7omgDAADANTkc0iOPSOvXS/XrS3Fx0sMPS48+KsXG2p0OAADAvVC0AQAAIENly0q//SYNGyZ5eEgzZkg1akh//ml3MgAAAPdB0QYAAIBMyZPHbIrw++9mnba9e6U77zTHLl+2NxsAAIA7oGgDAADADWnQwEwlffRRKTFRev11qXFjafduu5MBAADYi6INAAAANywgQPr8c7NZgr+/FBVlppJ+8YXZsRQAACA3omgDAADATevSRdqwQWrUSDp9WurWTeraVYqJsTsZAACA61G0AQAAIEtKl5Z+/VV6803J01P66iupenWzlhsAAEBuQtEGAACALMuTR3r1VWn5crND6f790l13SUOGSJcu2Z0OAADANSjaAAAA4DQREWajhB49zEYJb71lppXu3Gl3MgAAgFuPog0AAABOVaCANG2aNHu2VLCgtGqVVLOmNH06GyUAAICcjaINAAAAt0SnTmajhCZNpDNnpMcekzp3lk6dsjsZAADArUHRBgAAgFsmNFSKjJSGDzfruM2ZI1WrJi1dancyAAAA56NoAwAAwC3l6SkNGiT9+adUoYJ08KDUtKk0eLB08aLd6QAAAJyHog0AAAAuUaeOtHat9OSTZq22ESOkhg2lf/6xOxkAAIBzULQBAADAZfLnlyZPlr75RipUSPrrL7NRwpQpbJQAAACyP4o2AAAAuFzHjtLGjWYK6dmzZpTbAw9IJ07YnQwAAODmUbQBAADAFiVLSkuWSO++K3l5Sd9+K1WvLv3yi93JAAAAbg5FGwAAAGzj4SENGCCtWCFVrCgdOiQ1by699BIbJQAAgOyHog0AAAC2q1XLbJTwzDNmrbZRo6R69aRt2+xOBgAAkHkUbQAAAHALefNKkyZJ8+ZJRYpI69aZAu7jj9koAQAAZA8UbQAAAHAr7dqZjRLuuUc6d07q2VPq0EE6ftzuZAAAANdH0QYAAAC3ExIiLV4sjRkjeXtL330nVa1qNk8AAABwVxRtAAAAcEseHlK/ftKqVVLlylJ0tNSihfTCC9KFC3anAwAASIuiDQAAAG6tenXpr7+kXr3M+TFjpLp1pS1b7M0FAABwNYo2AAAAuD0/P2n8eOn776VixcwabuHh0kcfsVECAABwHxRtAAAAyDb+8x9TsrVqJZ0/b0a5NW0qLVwoJSbanQ4AAOR2FG0AAADIVoKCTLH2wQeSj4+0dKnUpo1UqZI0bpx0+rTdCQEAQG5F0QYAAIBsx+GQnn9e2rbNbI4QECDt2GGOlSgh9e0r7dpld0oAAJDbULQBAAAg2ypdWho9Wjp4UJowQapY0Yxo++ADqUIF6b77pJ9/Zh03AADgGhRtAAAAyPby55f++1+zE+nixdK995pybcEC6Z57pDvukD7+WIqPtzspAADIySjaAAAAkGN4eEgtW0o//CBt3y717m1KuC1bpJ49pVKlpJdekvbtszspAADIiSjaAAAAkCPddpv04YdmWunYsVK5ctKpU9KoUVLZslLHjtJvvzGtFAAAOA9FGwAAAHK0gACpTx8zwm3+fKl5cykxUfr2W6lJE6lWLWnaNOn8ebuTAgCA7I6iDQAAALmCp6fZHGHJEmnzZumZZyQ/P2n9eunxx8200ldflQ4dsjspAADIrijaAAAAkOtUqSJNmmSmlb77rhQaKh0/Lr39ttnJtEsXacUKppUCAIAbQ9EGAACAXKtwYWnAAGnXLumbb6TGjaXLl6VZs6T69aWICOnLL6WLF+1OCgAAsgOKNgAAAOR6efKYzRGWLZPWrpUee0zy8ZFWr5YeeUQKC5PeeEM6etTupAAAwJ1RtAEAAABXqFlTmjpVOnBAevNNKThYio6Whg0zU0y7dzdlHAAAwNUo2gAAAIB0FCtmNkfYu1eaOVOqV89MIf38cyk8XGrUSJozx0w1BQAAkCjaAAAAgOvy9jabI0RFSStXSl27Sl5e0vLlUqdOUpky0ogR0okTdicFAAB2o2gDAAAAMqluXWnGDGnfPmnoUKl4cbNz6eDBUsmS0lNPSZs22Z0SAADYhaINAAAAuEHBwdLrr0v790vTp5t13c6flz79VKpWTWraVPruOykhwe6kAADAlSjaAAAAgJvk42M2R1izRvr9d+nBByVPT+nXX6X27aUKFaQxY6RTp+xOCgAAXIGiDQAAAMgih8NsjvD119Lu3dKgQVLhwtKePdILL0glSkhPPslupQAA5HQUbQAAAIAThYZKw4dLBw5IkydLVatK585JU6aY3Urr1TM7l54/b3dSAADgbBRtAAAAwC2QN68ZxbZhg/THH9LDD5vdSleuNNNNS5aUXnrJjIADAAA5A0UbAAAAcAs5HFLDhtKXX5pRbu+8Y0a9nTghjRollS8v3XuvtGABmycAAJDdUbQBAAAALhIYKA0ebEaxzZ8vtWolWZa0aJF0331SuXLSiBHSsWN2JwUAADeDog0AAABwMU9PU6wtWiTt2CG9+KLZPGHfPlPElSolPfKI9OefpogDAADZA0UbAAAAYKPy5c0U0oMHpenTpbp1pYsXzVTThg2lGjWkjz+WzpyxOykAAMgIRRsAAADgBvz8zCYJK1dKq1dLjz8u+fpKGzdKPXtKISFS797Sli12JwUAANdC0QYAAAC4mdq1pSlTpMOHpTFjpAoVpNOnpfHjpSpVpLvvlubMkS5dsjspAAC4EkUbAAAA4KYKFZL69ZO2bZN++klq317y8JCWLpU6dZLCwqRhw8y0UwAAYD+KNgAAAMDNeXhI99wjzZ0r7d0rDRlidjA9ckR64w2pdGmpY0cpMpLNEwAAsBNFGwAAAJCNlCplyrX9+6VZs6TGjaWEBOnbb6XmzaXbb5c++ECKibE7KQAAuQ9FGwAAAJANeXtLnTtLy5ZJmzZJvXpJBQpI27dLffuazROeekpau9bupAAA5B4UbQAAAEA2d8cdZqOEQ4ekiRPN+XPnpE8/lcLDpfr1pS++kM6ftzspAAA5G0UbAAAAkEMUKCD17Clt3Cj9/rvUpYvk5SWtWCF16yaVLCkNHCjt3m13UgAAciaKNgAAACCHcTikRo2kmTOlAwekt982a7udOCG9+65Uvrx0773SDz+Y9d3cVWKidOkSI/EAANmHw7LYl+hqcXFxCggIUGxsrPz9/e2OAwAAAGTZ5cvSwoXSRx9JP/6YcjwsTOrUyaz5dvmyKd6SPl75eWaP3czXXOt2rnynEhEhTZtmNnsAAMDVMtsVUbSlg6INAAAAOdnOndKkSdLUqdKpU3anyTxfX2nUKLPxg8NhdxoAQG6SrYq2CRMmaNSoUYqOjlb16tU1btw41a1bN93rTp48WZ9//rk2b94sSQoPD9c777yT6vo9evTQZ599lurrWrZsqcWLF2cqD0UbAAAAcoNz56TZs6W//pI8PVNOefKk/nitz1117NQp6dlnU0bitWxpSsKQEHt/fgCA3CPbFG2zZ89Wt27dNGnSJEVERGjs2LGaM2eOtm/fruLFi6e5fteuXdWwYUM1aNBAvr6+GjlypObOnau///5bJUqUkGSKtqNHj2ratGnJX+fj46NChQplKhNFGwAAAOBeLEuaMEEaMMCs2Va4sDR5snT//XYnAwDkBtmmaIuIiFCdOnU0fvx4SVJiYqJKlSql3r17a9CgQRl+fUJCggoVKqTx48erW7dukkzRFhMTo3nz5mUqw4ULF3ThwoXk83FxcSpVqhRFGwAAAOBmtmyRHnlEWrfOnO/RQ/rgA4mX7QCAWymzRZutu45evHhRa9asUfPmzZOPeXh4qHnz5oqKisrUbZw9e1aXLl1S4cKFUx1funSpihcvrooVK+rZZ5/ViRMnrnkbw4cPV0BAQPKpVKlSN3eHAAAAANxSlStLK1ZIgwebddqmT5dq1JCWL7c7GQAANhdtx48fV0JCggIDA1MdDwwMVHR0dKZuY+DAgQoJCUlV1rVq1Uqff/65IiMjNXLkSC1btkytW7dWwjX2Lh88eLBiY2OTTwcOHLj5OwUAAADglvL2lt55R1q2zOyaumeP1Lix9Oqr0qVLdqcDAORmeewOkBUjRozQrFmztHTpUvn6+iYff+ihh5I/r1q1qqpVq6Zy5cpp6dKlatasWZrb8fHxkY+Pj0syAwAAAHCOO++UNmyQnn9e+vxz6e23pcWLpRkzpEqV7E4HAMiNbB3RVrRoUXl6euro0aOpjh89elRBQUHX/drRo0drxIgR+umnn1StWrXrXrds2bIqWrSodu7cmeXMAAAAANxHQID02WfS119LhQpJa9ZItWpJH31kNlAAAMCVbC3avL29FR4ersjIyORjiYmJioyMVP369a/5de+++67efPNNLV68WLVr187w+xw8eFAnTpxQcHCwU3IDAAAAcC8PPiht2iTdc4907pzUq5fUpo2UyRVpAABwCluLNknq37+/Jk+erM8++0xbt27Vs88+q/j4eD322GOSpG7dumnw4MHJ1x85cqSGDBmiqVOnqnTp0oqOjlZ0dLTOnDkjSTpz5owGDBigFStWaO/evYqMjFS7du1Uvnx5tWzZ0pb7CAAAAODWK1HCTB0dO1by8ZEWLZKqVpXmzbM7GQAgt7C9aOvcubNGjx6toUOHqkaNGlq/fr0WL16cvEHC/v37deTIkeTrT5w4URcvXtQDDzyg4ODg5NPo0aMlSZ6entq4caPatm2r2267TU888YTCw8P1+++/sw4bAAAAkMN5eEh9+pgppNWrS8ePSx06SE8+Kf3/3+YBALhlHJbFygVXi4uLU0BAgGJjY+Xv7293HAAAAAA34cIFaehQadQos15buXLSF19I11mlBgCAdGW2K7J9RBsAAAAA3Ao+PtLIkdKvv0qhodKuXVKjRqZ8u3TJ7nQAgJyIog0AAABAjtakibRxo/TII1JiovTmm1LDhtI//9idDACQ01C0AQAAAMjxAgLMtNFZs6SCBaXVq6WaNaWPPzbTSgEAcAaKNgAAAAC5RufO0qZNUtOm0tmzUs+eUtu20tGjdicDAOQEFG0AAAAAcpWSJaUlS6QxY8w6bgsWSFWrSvPn250MAJDdUbQBAAAAyHU8PKR+/cwU0qpVpX//ldq1k55+Wjpzxu50AIDsiqINAAAAQK5Vtaop2158UXI4pMmTzdptK1fanQwAkB1RtAEAAADI1Xx8pFGjpMhIM610506zK+nrr0uXL9udDgCQnVC0AQAAAICku++WNm6UunSREhKk116TGjWSduywO1nWxMRIy5dLq1axwyoA3GoUbQAAAADw/woVkmbONKeAADOFtEYNM6XU3UuqpELtk0+kvn2le+6RQkLMfWrUSIqIkOrXlxYudP/7AgDZlcOyeIi9WlxcnAICAhQbGyt/f3+74wAAAACwwf79Uvfu0tKl5nzbtqZwK17c1liKiZH+/tuctmxJ+fzIkWt/TcmS0vHj0vnz5nx4uDRkiLlPDodLYgNAtpbZroiiLR0UbQAAAAAkKTFRev996eWXpYsXTck2darUps2t/95JhdqVZdqWLdLhw9f+mpIlpSpVpMqVzccqVaTbbzej86Kjpffekz76SDp71ly/enVTuHXoYHZiBQCkj6ItCyjaAAAAAFxp40apa1dp82ZzvmdPafRoKV++rN+2swu1jPz7rykPx42Tzpwxx6pUMYXbAw9Inp5Zv08AkNNQtGUBRRsAAACAq50/L73yijRmjDlfoYL05ZdSnTqZ+3pXF2oZOXlSGjtW+uADKS7OHKtUydzHhx6S8uTJ+vcAgJyCoi0LKNoAAAAAXEtkpFm77dAhM/pr2DBp8OCUYiomJm2Z9vff9hVqGYmJMaPb3n9fOnXKHCtf3hRuXbtKXl63PgMAuDuKtiygaAMAAABwPSdPSs8+K339tTkfHi4VLuzehVpG4uKkCRPMOm4nTphjZcqY9em6dZO8ve3NBwB2omjLAoo2AAAAABmxLDN1tFevlKmXSdy5UMvImTPSxInSqFFmPTdJCg01o/Yee0zy8bE3HwDYgaItCyjaAAAAAGTW/v3SV19JRYtmr0ItI2fPSh9/LL37rtmxVJJKlJAGDpSefFLy87M3HwC4EkVbFlC0AQAAAIBx7pw0ZYo0YoRZl06SgoKkl16SnnlGypvX3nwA4AqZ7Yo8XJgJAAAAAJDN+PlJzz0n7dplppSGhpoRbv37mzXcRo0y000BABRtAAAAAIBM8PGRevaUduyQPv3UlGzHjpmRbaVLS8OHp12rDgByG4o2AAAAAECmeXtLTzwhbd8uTZ8ulS9vdil9+WVTuL3xhhQTY3NIALAJRRsAAAAA4IZ5eUndu0tbt0ozZkiVKkmnTknDhklhYdLQodLJk3anBADXomgDAAAAANy0PHmkrl2lzZulWbOkO+4wU0jffNMUbi+/LB0/bndKAHANijYAAAAAQJZ5ekqdO0sbNkj/+59UvbrZJGH4cDOldMAA6ehRu1MCwK1F0QYAAAAAcBoPD+n++6V166TvvpPCw6X4eGn0aLOBQr9+0uHDdqcEgFuDog0AAAAA4HQOh9S2rbR6tbRwoRQRIZ07J40dK5UtK/XuLR08aHdKAHAuijYAAAAAwC3jcEitW0tRUdJPP0kNG0oXLkjjx0vlyknPPivt22d3SgBwDoo2AAAAAMAt53BI99wj/f679Msv0l13SRcvSpMmSeXLS08+Kf39t90pASBrKNoAAAAAAC7jcEh33y39+qv022+mfLt8WZoyxexYWrWq9NZb0j//2J0UAG4cRRsAAAAAwBZ33mmmk/75p9S+veTlJW3eLA0ZIlWsKNWsKY0YIe3ebXdSAMgch2VZlt0h3E1cXJwCAgIUGxsrf39/u+MAAAAAQK4QEyPNmyfNni39/LMZ6ZakTh2pUydzCg21KyGA3CqzXRFFWzoo2gAAAADAXidOSN9+K339tVnTLTEx5bL69aXOnaUHH5RCQuzLCCD3oGjLAoo2AAAAAHAfx45J//ufGen2229S0rtYh8NMP+3USXrgASkw0N6cAHIuirYsoGgDAAAAAPd0+HBK6bZ8ecpxDw+zk2nnztL990tFi9oWEUAORNGWBRRtAAAAAOD+DhyQ5swxpduqVSnHPT2lZs1M6dahg1SokH0ZAeQMFG1ZQNEGAAAAANnLnj1mPbevv5bWrk057uUltWhhSre2baWAAPsyArmFZZl1FT097U7iPJntijxcmAkAAAAAgFuiTBlp4EBpzRrpn3+kt96SqlaVLl2SfvhB6tbNrOHWvr301VfSmTN2JwZypuXLpSZNpAkT7E5iD0a0pYMRbQAAAACQM2zdaka5zZ5tPk/i5ye1aWM2UmjTRsqb176MQE6wYYP0yium2Jak0FBp9+6cM6qNqaNZQNEGAAAAADmLZUmbN5vCbfZsaefOlMvy5ZPuu89ML23VSvL1tS8nkN3s3CkNHWpGikqmWHv8cXOsZEl7szkTRVsWULQBAAAAQM5lWdK6dSkj3fbuTbmsQAGpXTtTurVoIXl72xbzuixLunhRio+Xzp41p/h4yeGQCheWihQxo/QcDruTIqc6fFh64w1pyhTp8mVzrHNnc+y22+zNditQtGUBRRsAAAAA5A6WJa1ebQq3r7+WDh5MuaxgQbNraefOUtOmZmOFzEpISF2AXfkxvWM3c1li4vUz+PiYwu3qU1IRl96pUCEpT56b+lEilzh5UhoxQho3Tjp/3hxr3Vp6+22pZk17s91KFG1ZQNEGAAAAALlPYqIUFWUKtzlzpCNHUi4rUkS6914zrfR6ZVjSxwsXXJfby8tMf82b19yHEyfMJhA3q2DBzBdzSad8+Rg9l9OdOSONHSuNGiXFxZljDRtKw4dLd95pazSXoGjLAoo2AAAAAMjdEhKkP/4wI92++Ub699+bux2HwxRgSaekQiyjj5m9Tt68aUfaWZYpRU6cSDmdPJn6fHqn2Nib/3l5e2e+lAsMlIKCpPz5KeeygwsXpI8/NiPWjh0zx6pVk955x5TPueXfkKItCyjaAAAAAABJLl+Wli2TfvvNlFo3Uoz5+mafIuLy5dSFXGbKuRMnzFpxNyNvXlO4BQebj0mnq88XL35j03bhHAkJ0owZ0rBh0r595li5ctKbb5rp1B4e9uZzNYq2LKBoAwAAAAAgY5ZlpstmdvTc8eNmVNSZM5n/Hg6HVLTotYu4K88HBGSfYtNdWZY0b5706qvSli3mWHCwKdwefzz3lp6Z7YpY4hAAAAAAANwUh8NMAc2fXwoLy/zXnTkjRUenPh05kvbY0aNmZNW//5rTpk3Xv11f39Ql3LWKucBA991R1k6RkdLLL0urVpnzhQpJgwZJzz1nRiAiYxRtAAAAAADApfLnl8qXN6frSUgwI+GuVcZdeT421uyCuXevOWWkcOH0i7hSpczi/iEhzrin2cOqVaZgi4w05/Pmlfr1k1580WyOgcyjaAMAAAAAAG7J09Os0Va8uFmA/3rOnct4lFzS+aT16E6eTJkeebUqVaQWLcypceOcOaJryxYzRXTuXHPey0vq2VN65RUz6g83jjXa0sEabQAAAAAA5EyJidKpU9eerrptm7R2rVmrLIm3txnl1qKFdM89UvXq2XszgL17pddek774wvw8PDykRx81x0qXtjebu2IzhCygaAMAAAAAIPc6ccJMo/zpJ3M6cCD15cWKmcItqXjLLtNMjx6V3n5bmjRJunTJHOvQQXrrLalyZXuzuTuKtiygaAMAAAAAAJIZ2fbPPyml26+/mp1Wr3THHSmlmztOM42NlUaNksaOTcnerJn0zjtS3bq2Rss2KNqygKINAAAAAACk5+JFKSpKWrLEFG9//XXtaaYtWpi15eyaZnr2rDR+vDRihJkuK0l16piCrXlzezJlVxRtWUDRBgAAAAAAMiOjaabFi5tSy5XTTC9dkqZOld54Qzp82By7/XYzRbRDB8nhuPUZchqKtiygaAMAAAAAADfqRqaZtmhhRr45c5ppYqI0e7Y0dKi0c6c5FhpqCrdHHjG7uOLmULRlAUUbAAAAAADIqoymmfr4SI0aZX2aqWVJCxdKr7wibdhgjhUrJr36qvTMM+b7IGso2rKAog0AAAAAADhbZqaZXrmbaXBwxrf5++/S4MHS8uXmvL+/NGCA1LevlD+/0+9CrkXRlgUUbQAAAAAA4FbK6jTT9eull1+WFi0y5319pd69pYEDpSJFXHY3cg2KtiygaAMAAAAAAK6UNM30p5/MVNNrTTO95x5p3TqzFptk1l178klpyBCpRAl7sucGFG1ZQNEGAAAAAADslNE0U0nq0sVsdFC+vOvz5TYUbVlA0QYAAAAAANzFldNMf/5ZypdPeuklqUYNu5PlHhRtWUDRBgAAAAAAgCSZ7YpuYtNYAAAAAAAAAFejaAMAAAAAAACcgKINAAAAAAAAcAKKNgAAAAAAAMAJKNoAAAAAAAAAJ6BoAwAAAAAAAJyAog0AAAAAAABwAoo2AAAAAAAAwAko2gAAAAAAAAAnoGgDAAAAAAAAnICiDQAAAAAAAHACijYAAAAAAADACSjaAAAAAAAAACegaAMAAAAAAACcgKINAAAAAAAAcAKKNgAAAAAAAMAJKNoAAAAAAAAAJ6BoAwAAAAAAAJyAog0AAAAAAABwAoo2AAAAAAAAwAko2gAAAAAAAAAnoGgDAAAAAAAAnICiDQAAAAAAAHACtyjaJkyYoNKlS8vX11cRERFatWrVda8/Z84cVapUSb6+vqpataoWLlyY6nLLsjR06FAFBwfLz89PzZs3144dO27lXQAAAAAAAEAuZ3vRNnv2bPXv31/Dhg3T2rVrVb16dbVs2VLHjh1L9/p//vmnunTpoieeeELr1q1T+/bt1b59e23evDn5Ou+++64+/PBDTZo0SStXrlS+fPnUsmVLnT9/3lV3CwAAAAAAALmMw7Isy84AERERqlOnjsaPHy9JSkxMVKlSpdS7d28NGjQozfU7d+6s+Ph4LViwIPlYvXr1VKNGDU2aNEmWZSkkJEQvvPCCXnzxRUlSbGysAgMDNX36dD300EMZZoqLi1NAQIBiY2Pl7+/vpHsKAAAAAACA7CizXVEeF2ZK4+LFi1qzZo0GDx6cfMzDw0PNmzdXVFRUul8TFRWl/v37pzrWsmVLzZs3T5K0Z88eRUdHq3nz5smXBwQEKCIiQlFRUekWbRcuXNCFCxeSz8fGxkoyP0QAAAAAAADkbkkdUUbj1Wwt2o4fP66EhAQFBgamOh4YGKht27al+zXR0dHpXj86Ojr58qRj17rO1YYPH67XX389zfFSpUpl7o4AAAAAAAAgxzt9+rQCAgKuebmtRZu7GDx4cKpRcomJiTp58qSKFCkih8NhYzLniYuLU6lSpXTgwAG3nQ7r7hndPZ/k/hndPZ9ERmdw93wSGZ3B3fNJZHQGd88nkdEZ3D2fREZncPd8kvtndPd8Ehmdwd3zSWS0i2VZOn36tEJCQq57PVuLtqJFi8rT01NHjx5Ndfzo0aMKCgpK92uCgoKue/2kj0ePHlVwcHCq69SoUSPd2/Tx8ZGPj0+qYwULFryRu5Jt+Pv7u/0vubtndPd8kvtndPd8Ehmdwd3zSWR0BnfPJ5HRGdw9n0RGZ3D3fBIZncHd80nun9Hd80lkdAZ3zyeR0Q7XG8mWxNZdR729vRUeHq7IyMjkY4mJiYqMjFT9+vXT/Zr69eunur4kLVmyJPn6ZcqUUVBQUKrrxMXFaeXKlde8TQAAAAAAACCrbJ862r9/f3Xv3l21a9dW3bp1NXbsWMXHx+uxxx6TJHXr1k0lSpTQ8OHDJUl9+vRRkyZN9N5776lNmzaaNWuW/vrrL33yySeSJIfDob59++qtt95ShQoVVKZMGQ0ZMkQhISFq3769XXcTAAAAAAAAOZztRVvnzp3177//aujQoYqOjlaNGjW0ePHi5M0M9u/fLw+PlIF3DRo00MyZM/Xqq6/q5ZdfVoUKFTRv3jzdcccdydd56aWXFB8fr6effloxMTFq1KiRFi9eLF9fX5ffP3fh4+OjYcOGpZki607cPaO755PcP6O755PI6Azunk8iozO4ez6JjM7g7vkkMjqDu+eTyOgM7p5Pcv+M7p5PIqMzuHs+iYzuzmFltC8pAAAAAAAAgAzZukYbAAAAAAAAkFNQtAEAAAAAAABOQNEGAAAAAAAAOAFFGwAAAAAAAOAEFG25wIQJE1S6dGn5+voqIiJCq1atsjtSKr/99pvuu+8+hYSEyOFwaN68eXZHSmX48OGqU6eOChQooOLFi6t9+/bavn273bGSTZw4UdWqVZO/v7/8/f1Vv359LVq0yO5Y1zVixAg5HA717dvX7ijJXnvtNTkcjlSnSpUq2R0rlUOHDumRRx5RkSJF5Ofnp6pVq+qvv/6yO1ay0qVLp/kZOhwO9erVy+5oyRISEjRkyBCVKVNGfn5+KleunN588025075Ap0+fVt++fRUWFiY/Pz81aNBAq1evti1PRo/RlmVp6NChCg4Olp+fn5o3b64dO3a4VcZvv/1WLVq0UJEiReRwOLR+/Xq3yXfp0iUNHDhQVatWVb58+RQSEqJu3brp8OHDbpNRMo+RlSpVUr58+VSoUCE1b95cK1eudKuMV+rZs6ccDofGjh3rNvl69OiR5vGxVatWLsuXmYyStHXrVrVt21YBAQHKly+f6tSpo/3797tNxvSeZxwOh0aNGuUW+c6cOaPnnntOJUuWlJ+fnypXrqxJkya5JFtmMx49elQ9evRQSEiI8ubNq1atWrn0cTszr63Pnz+vXr16qUiRIsqfP786duyoo0ePulXGTz75RHfddZf8/f3lcDgUExPjNvlOnjyp3r17q2LFivLz81NoaKief/55xcbGuk1GSXrmmWdUrlw5+fn5qVixYmrXrp22bdvmVhmTWJal1q1bu/T9amby3XXXXWkeD3v27OmSfJnNKElRUVFq2rSp8uXLJ39/fzVu3Fjnzp1zWU5Xo2jL4WbPnq3+/ftr2LBhWrt2rapXr66WLVvq2LFjdkdLFh8fr+rVq2vChAl2R0nXsmXL1KtXL61YsUJLlizRpUuX1KJFC8XHx9sdTZJUsmRJjRgxQmvWrNFff/2lpk2bql27dvr777/tjpau1atX6+OPP1a1atXsjpJGlSpVdOTIkeTTH3/8YXekZKdOnVLDhg3l5eWlRYsWacuWLXrvvfdUqFAhu6MlW716daqf35IlSyRJDz74oM3JUowcOVITJ07U+PHjtXXrVo0cOVLvvvuuxo0bZ3e0ZE8++aSWLFmiL774Qps2bVKLFi3UvHlzHTp0yJY8GT1Gv/vuu/rwww81adIkrVy5Uvny5VPLli11/vx5t8kYHx+vRo0aaeTIkS7LdPX3v1a+s2fPau3atRoyZIjWrl2rb7/9Vtu3b1fbtm3dJqMk3XbbbRo/frw2bdqkP/74Q6VLl1aLFi3077//uk3GJHPnztWKFSsUEhLiomRGZvK1atUq1ePkV1995cKEGWfctWuXGjVqpEqVKmnp0qXauHGjhgwZIl9fX7fJeOXP78iRI5o6daocDoc6duzoFvn69++vxYsXa8aMGdq6dav69u2r5557TvPnz3dJvowyWpal9u3ba/fu3fruu++0bt06hYWFqXnz5i57bZuZ19b9+vXT999/rzlz5mjZsmU6fPiw7r//fpfky2zGs2fPqlWrVnr55Zddliuz+Q4fPqzDhw9r9OjR2rx5s6ZPn67FixfriSeecJuMkhQeHq5p06Zp69at+vHHH2VZllq0aKGEhAS3yZhk7NixcjgcLsl1o/meeuqpVI+L7777rltljIqKUqtWrdSiRQutWrVKq1ev1nPPPScPjxxcR1nI0erWrWv16tUr+XxCQoIVEhJiDR8+3MZU1ybJmjt3rt0xruvYsWOWJGvZsmV2R7mmQoUKWZ9++qndMdI4ffq0VaFCBWvJkiVWkyZNrD59+tgdKdmwYcOs6tWr2x3jmgYOHGg1atTI7hg3pE+fPla5cuWsxMREu6Mka9OmjfX444+nOnb//fdbXbt2tSlRamfPnrU8PT2tBQsWpDpeq1Yt65VXXrEpVYqrH6MTExOtoKAga9SoUcnHYmJiLB8fH+urr76yIeH1n0f27NljSbLWrVvn0kxXyszz3KpVqyxJ1r59+1wT6iqZyRgbG2tJsn7++WfXhLrKtTIePHjQKlGihLV582YrLCzMev/9912ezbLSz9e9e3erXbt2tuRJT3oZO3fubD3yyCP2BEpHZn4X27VrZzVt2tQ1ga6SXr4qVapYb7zxRqpjdj6GX51x+/btliRr8+bNyccSEhKsYsWKWZMnT7YhYdrX1jExMZaXl5c1Z86c5Ots3brVkmRFRUW5RcYr/frrr5Yk69SpU64P9v8y8/7k66+/try9va1Lly65MFmKzGTcsGGDJcnauXOnC5OluFbGdevWWSVKlLCOHDli6/vV9PK523uq9DJGRERYr776qo2pXC8HV4i4ePGi1qxZo+bNmycf8/DwUPPmzRUVFWVjsuwtach14cKFbU6SVkJCgmbNmqX4+HjVr1/f7jhp9OrVS23atEn1O+lOduzYoZCQEJUtW1Zdu3Z16VSZjMyfP1+1a9fWgw8+qOLFi6tmzZqaPHmy3bGu6eLFi5oxY4Yef/xxl//173oaNGigyMhI/fPPP5KkDRs26I8//lDr1q1tTmZcvnxZCQkJaUaP+Pn5udUIyyR79uxRdHR0qv/TAQEBioiI4HkmC2JjY+VwOFSwYEG7o6Tr4sWL+uSTTxQQEKDq1avbHSdZYmKiHn30UQ0YMEBVqlSxO066li5dquLFi6tixYp69tlndeLECbsjJUtMTNQPP/yg2267TS1btlTx4sUVERHhdkt6XOno0aP64YcfXDpKJyMNGjTQ/PnzdejQIVmWpV9//VX//POPWrRoYXc0SdKFCxckKdXzjIeHh3x8fGx7nrn6tfWaNWt06dKlVM8tlSpVUmhoqG3PLe78+l/KXL7Y2Fj5+/srT548roqV5vtL184YHx+vadOmqUyZMipVqpQroyVLL+PZs2f18MMPa8KECQoKCrIlV5Jr/Qy//PJLFS1aVHfccYcGDx6ss2fP2hFPUtqMx44d08qVK1W8eHE1aNBAgYGBatKkiVu+rnUmirYc7Pjx40pISFBgYGCq44GBgYqOjrYpVfaWmJiovn37qmHDhrrjjjvsjpNs06ZNyp8/v3x8fNSzZ0/NnTtXlStXtjtWKrNmzdLatWs1fPhwu6OkKyIiInlY/cSJE7Vnzx7deeedOn36tN3RJEm7d+/WxIkTVaFCBf3444969tln9fzzz+uzzz6zO1q65s2bp5iYGPXo0cPuKKkMGjRIDz30kCpVqiQvLy/VrFlTffv2VdeuXe2OJkkqUKCA6tevrzfffFOHDx9WQkKCZsyYoaioKB05csTueGkkPZfwPOM858+f18CBA9WlSxf5+/vbHSeVBQsWKH/+/PL19dX777+vJUuWqGjRonbHSjZy5EjlyZNHzz//vN1R0tWqVSt9/vnnioyM1MiRI7Vs2TK1bt3aZVOkMnLs2DGdOXNGI0aMUKtWrfTTTz+pQ4cOuv/++7Vs2TK746Xrs88+U4ECBVw6pTAj48aNU+XKlVWyZEl5e3urVatWmjBhgho3bmx3NEkphdXgwYN16tQpXbx4USNHjtTBgwdteZ5J77V1dHS0vL290/yxwa7nFnd9/Z8kM/mOHz+uN998U08//bSL0xnXy/jRRx8pf/78yp8/vxYtWqQlS5bI29vbbTL269dPDRo0ULt27Vye6UrXyvfwww9rxowZ+vXXXzV48GB98cUXeuSRR9wm4+7duyWZtV6feuopLV68WLVq1VKzZs1cvqavK9lTZwPZVK9evbR582a3a+ArVqyo9evXKzY2Vt988426d++uZcuWuU3ZduDAAfXp00dLlixx6TovN+LKEU3VqlVTRESEwsLC9PXXX7vFX8oTExNVu3ZtvfPOO5KkmjVravPmzZo0aZK6d+9uc7q0pkyZotatW7t8jaSMfP311/ryyy81c+ZMValSRevXr1ffvn0VEhLiNj/HL774Qo8//rhKlCghT09P1apVS126dNGaNWvsjoZb7NKlS+rUqZMsy9LEiRPtjpPG3XffrfXr1+v48eOaPHmyOnXqlPxXarutWbNGH3zwgdauXetWo2iv9NBDDyV/XrVqVVWrVk3lypXT0qVL1axZMxuTGYmJiZKkdu3aqV+/fpKkGjVq6M8//9SkSZPUpEkTO+Ola+rUqeratatbvbYYN26cVqxYofnz5yssLEy//fabevXqpZCQELcY0e/l5aVvv/1WTzzxhAoXLixPT081b95crVu3tmVjIHd9bX0ld8+YUb64uDi1adNGlStX1muvvebacP/vehm7du2qe+65R0eOHNHo0aPVqVMnLV++3OX/r9PLOH/+fP3yyy9at26dS7Ok51o/wyvL06pVqyo4OFjNmjXTrl27VK5cOdszJj23PPPMM3rsscckmfcxkZGRmjp1qtsOwsgqRrTlYEWLFpWnp2eaHXqOHj1q+7DX7Oi5557TggUL9Ouvv6pkyZJ2x0nF29tb5cuXV3h4uIYPH67q1avrgw8+sDtWsjVr1ujYsWOqVauW8uTJozx58mjZsmX68MMPlSdPHrf5a/6VChYsqNtuu007d+60O4okKTg4OE1xevvtt7vV9NYk+/bt088//6wnn3zS7ihpDBgwIHlUW9WqVfXoo4+qX79+bvUkX65cOS1btkxnzpzRgQMHtGrVKl26dElly5a1O1oaSc8lPM9kXVLJtm/fPi1ZssTtRrNJUr58+VS+fHnVq1dPU6ZMUZ48eTRlyhS7Y0mSfv/9dx07dkyhoaHJzzP79u3TCy+8oNKlS9sdL11ly5ZV0aJF3eZ5pmjRosqTJ0+2ea75/ffftX37drd6rjl37pxefvlljRkzRvfdd5+qVaum5557Tp07d9bo0aPtjpcsPDxc69evV0xMjI4cOaLFixfrxIkTLn+eudZr66CgIF28eDHNLp52PLe48+t/KeN8p0+fVqtWrVSgQAHNnTtXXl5ebpcxICBAFSpUUOPGjfXNN99o27Ztmjt3rltk/OWXX7Rr1y4VLFgw+blFkjp27Ki77rrL9nzpiYiIkCSXP7dcK2NwcLAkZZvnFmehaMvBvL29FR4ersjIyORjiYmJioyMdMv1u9yVZVl67rnnNHfuXP3yyy8qU6aM3ZEylJiYmLwGhzto1qyZNm3apPXr1yefateura5du2r9+vXy9PS0O2IaZ86c0a5du5KfHOzWsGHDNFtl//PPPwoLC7Mp0bVNmzZNxYsXV5s2beyOksbZs2fT7HDk6emZ/Nc2d5IvXz4FBwfr1KlT+vHHH22fspCeMmXKKCgoKNXzTFxcnFauXMnzzA1IKtl27Nihn3/+WUWKFLE7Uqa403PNo48+qo0bN6Z6ngkJCdGAAQP0448/2h0vXQcPHtSJEyfc5nnG29tbderUyTbPNVOmTFF4eLhbrRN46dIlXbp0Kds8zwQEBKhYsWLasWOH/vrrL5c9z2T02jo8PFxeXl6pnlu2b9+u/fv3u+y5xd1f/2cmX1xcnFq0aCFvb2/Nnz/f5SPEbuZnaFmWLMty2XNLRhkHDRqU5rlFkt5//31NmzbN9nzpScroqueWjDKWLl1aISEh2ea5xVmYOprD9e/fX927d1ft2rVVt25djR07VvHx8cnDNt3BmTNnUjXue/bs0fr161W4cGGFhobamMzo1auXZs6cqe+++04FChRIXhsiICBAfn5+NqeTBg8erNatWys0NFSnT5/WzJkztXTpUrd6Y1GgQIE06zHky5dPRYoUcZu1Ll588UXdd999CgsL0+HDhzVs2DB5enqqS5cudkeTlLI+xDvvvKNOnTpp1apV+uSTT/TJJ5/YHS2VxMRETZs2Td27d7dtsd3rue+++/T2228rNDRUVapU0bp16zRmzBg9/vjjdkdLlrS9fcWKFbVz504NGDBAlSpVsu1xO6PH6L59++qtt95ShQoVVKZMGQ0ZMkQhISFq376922Q8efKk9u/fr8OHD0tS8ou9oKAgl4yOuF6+4OBgPfDAA1q7dq0WLFighISE5OeZwoULu2ydmutlLFKkiN5++221bdtWwcHBOn78uCZMmKBDhw7pwQcfdEm+jDKGhoamKSi9vLwUFBSkihUr2p6vcOHCev3119WxY0cFBQVp165deumll1S+fHm1bNnSJfkyyhgaGqoBAwaoc+fOaty4se6++24tXrxY33//vZYuXeo2GSVTIMyZM0fvvfeey3JlNl+TJk00YMAA+fn5KSwsTMuWLdPnn3+uMWPGuE3GOXPmqFixYgoNDdWmTZvUp08ftW/f3mUbNmT02jogIEBPPPGE+vfvr8KFC8vf31+9e/dW/fr1Va9ePbfIKJm15KKjo5N/1ps2bVKBAgUUGhp6yzdNyChfUsl29uxZzZgxQ3FxcYqLi5MkFStWzCV/5M4o4+7duzV79my1aNFCxYoV08GDBzVixAj5+fnp3nvvveX5MpPxWq8TQkNDXVK+ZpRv165dmjlzpu69914VKVJEGzduVL9+/dS4cWNVq1btlufLTEaHw6EBAwZo2LBhql69umrUqKHPPvtM27Zt0zfffOOSjLawY6tTuNa4ceOs0NBQy9vb26pbt661YsUKuyOlkrQl9tWn7t272x3Nsiwr3WySrGnTptkdzbIsy3r88cetsLAwy9vb2ypWrJjVrFkz66effrI7VobcbSvqzp07W8HBwZa3t7dVokQJq3PnzrZtLX4t33//vXXHHXdYPj4+VqVKlaxPPvnE7khp/Pjjj5Yka/v27XZHSVdcXJzVp08fKzQ01PL19bXKli1rvfLKK9aFCxfsjpZs9uzZVtmyZS1vb28rKCjI6tWrlxUTE2NbnoweoxMTE60hQ4ZYgYGBlo+Pj9WsWTOX//tnlHHatGnpXj5s2DDb8+3Zs+eazzO//vqrS/JllPHcuXNWhw4drJCQEMvb29sKDg622rZta61atcpl+TLKmJ6wsDDr/fffd4t8Z8+etVq0aGEVK1bM8vLyssLCwqynnnrKio6Odlm+jDImmTJlilW+fHnL19fXql69ujVv3jy3y/jxxx9bfn5+tjw2ZpTvyJEjVo8ePayQkBDL19fXqlixovXee+9ZiYmJbpPxgw8+sEqWLGl5eXlZoaGh1quvvurS58HMvLY+d+6c9d///tcqVKiQlTdvXqtDhw7WkSNH3CrjsGHDbHuPkFG+a/0OSLL27Nlzy/NlJuOhQ4es1q1bW8WLF7e8vLyskiVLWg8//LC1bds2l+TLTMZrfc3cuXPdIt/+/futxo0bW4ULF7Z8fHys8uXLWwMGDLBiY2Ndki8zGZMMHz7cKlmypJU3b16rfv361u+//+6yjHZwWJYNq14CAAAAAAAAOQxrtAEAAAAAAABOQNEGAAAAAAAAOAFFGwAAAAAAAOAEFG0AAAAAAACAE1C0AQAAAAAAAE5A0QYAAAAAAAA4AUUbAAAAAAAA4AQUbQAAAAAAAIATULQBAAAgyxwOh+bNm2d3DAAAAFtRtAEAAGRzPXr0kMPhSHNq1aqV3dEAAABylTx2BwAAAEDWtWrVStOmTUt1zMfHx6Y0AAAAuRMj2gAAAHIAHx8fBQUFpToVKlRIkpnWOXHiRLVu3Vp+fn4qW7asvvnmm1Rfv2nTJjVt2lR+fn4qUqSInn76aZ05cybVdaZOnaoqVarIx8dHwcHBeu6551Jdfvz4cXXo0EF58+ZVhQoVNH/+/OTLTp06pa5du6pYsWLy8/NThQoV0hSDAAAA2R1FGwAAQC4wZMgQdezYURs2bFDXrl310EMPaevWrZKk+Ph4tWzZUoUKFdLq1as1Z84c/fzzz6mKtIkTJ6pXr156+umntWnTJs2fP1/ly5dP9T1ef/11derUSRs3btS9996rrl276uTJk8nff8uWLVq0aJG2bt2qiRMnqmjRoq77AQAAALiAw7Isy+4QAAAAuHk9evTQjBkz5Ovrm+r4yy+/rJdfflkOh0M9e/bUxIkTky+rV6+eatWqpY8++kiTJ0/WwIEDdeDAAeXLl0+StHDhQt133306fPiwAgMDVaJECT322GN666230s3gcDj06quv6s0335Rkyrv8+fNr0aJFatWqldq2bauiRYtq6tSpt+inAAAAYD/WaAMAAMgB7r777lRFmiQVLlw4+fP69eunuqx+/fpav369JGnr1q2qXr16cskmSQ0bNlRiYqK2b98uh8Ohw4cPq1mzZtfNUK1ateTP8+XLJ39/fx07dkyS9Oyzz6pjx45au3atWrRoofbt26tBgwY3dV8BAADcFUUbAABADpAvX740Uzmdxc/PL1PX8/LySnXe4XAoMTFRktS6dWvt27dPCxcu1JIlS9SsWTP16tVLo0ePdnpeAAAAu7BGGwAAQC6wYsWKNOdvv/12SdLtt9+uDRs2KD4+Pvny5cuXy8PDQxUrVlSBAgVUunRpRUZGZilDsWLF1L17d82YMUNjx47VJ598kqXbAwAAcDeMaAMAAMgBLly4oOjo6FTH8uTJk7zhwJw5c1S7dm01atRIX375pVatWqUpU6ZIkrp27aphw4ape/fueu211/Tvv/+qd+/eevTRRxUYGChJeu2119SzZ08VL15crVu31unTp7V8+XL17t07U/mGDh2q8PBwValSRRcuXNCCBQuSiz4AAICcgqINAAAgB1i8eLGCg4NTHatYsaK2bdsmyewIOmvWLP33v/9VcHCwvvrqK1WuXFmSlDdvXv3444/q06eP6tSpo7x586pjx44aM2ZM8m11795d58+f1/vvv68XX3xRRYsW1QMPPJDpfN7e3ho8eLD27t0rPz8/3XnnnZo1a5YT7jkAAID7YNdRAACAHM7hcGju3Llq37693VEAAAByNNZoAwAAAAAAAJyAog0AAAAAAABwAtZoAwAAyOFYKQQAAMA1GNEGAAAAAAAAOAFFGwAAAAAAAOAEFG0AAAAAAACAE1C0AQAAAAAAAE5A0QYAAAAAAAA4AUUbAAAAAAAA4AQUbQAAAAAAAIATULQBAAAAAAAATvB/Z72obSgjn4kAAAAASUVORK5CYII=)**"
      ],
      "metadata": {
        "id": "eBWY5hMP0olK"
      }
    },
    {
      "cell_type": "markdown",
      "metadata": {
        "id": "aBersrIOPIAv"
      },
      "source": [
        "## Tensorboard"
      ]
    },
    {
      "cell_type": "markdown",
      "metadata": {
        "id": "zoLdOtMjPRp_"
      },
      "source": [
        "From the tensorboard, it shows the plots for training loss over steps,validation loss over steps, validation accuracy, gradient norms.\n",
        "\n",
        "A stable/converging model should show:\n",
        "- Smooth decrease in loss over time, sudden jumps may indicate instability\n",
        "- Increasing accuracy\n",
        "- Gradual decrease in gradient norms (indicate convergence)\n"
      ]
    },
    {
      "cell_type": "markdown",
      "source": [
        "[Access Tensorboard](https://huggingface.co/sharren/vit-beta2-0.99/tensorboard)"
      ],
      "metadata": {
        "id": "wqCnM-eMIJkf"
      }
    },
    {
      "cell_type": "code",
      "execution_count": null,
      "metadata": {
        "id": "AKKwWuO-bt1B"
      },
      "outputs": [],
      "source": [
        "%load_ext tensorboard\n",
        "%tensorboard --logdir vit-beta2-0.99/runs/Mar22_07-40-30_80a90583e6d6"
      ]
    },
    {
      "cell_type": "markdown",
      "metadata": {
        "id": "0bvXRsWO4y7u"
      },
      "source": [
        "# Performance on Test Set"
      ]
    },
    {
      "cell_type": "code",
      "execution_count": null,
      "metadata": {
        "id": "vZGbat6bKLWn"
      },
      "outputs": [],
      "source": [
        "outputs = trainer.predict(skin_dataset['test'])"
      ]
    },
    {
      "cell_type": "code",
      "source": [
        "print(outputs.metrics)"
      ],
      "metadata": {
        "colab": {
          "base_uri": "https://localhost:8080/"
        },
        "id": "wyqS100DL0Sp",
        "outputId": "c5867912-f55e-446f-882b-3753ecc35ef4"
      },
      "execution_count": null,
      "outputs": [
        {
          "output_type": "stream",
          "name": "stdout",
          "text": [
            "{'test_loss': 0.5478606820106506, 'test_accuracy': 0.8582126809785322, 'test_precision': 0.8538092192616079, 'test_recall': 0.8582126809785322, 'test_f1': 0.8549718463126642, 'test_runtime': 16.089, 'test_samples_per_second': 124.495, 'test_steps_per_second': 15.601}\n"
          ]
        }
      ]
    },
    {
      "cell_type": "markdown",
      "metadata": {
        "id": "nL8_4QfVZHQX"
      },
      "source": [
        "Comparing test performance of the current model using beta2 = 0.99 vs model using beta2 = 0.999 (1e-2 Weight Decay - ExptOverfit.ipynb)"
      ]
    },
    {
      "cell_type": "code",
      "source": [
        "import pandas as pd\n",
        "\n",
        "# Define the dictionaries containing the metrics\n",
        "metrics_before = {\n",
        "    'Metric': ['Test Loss', 'Test Accuracy', 'Test Precision', 'Test Recall', 'Test F1', 'Test Runtime', 'Test Samples/Second', 'Test Steps/Second'],\n",
        "    'Value': [0.5128945708274841, 0.8517224163754369, 0.8516945393444719,\n",
        "                 0.8517224163754369, 0.8514896537014855, 17.7983, 112.539, 14.102]\n",
        "}\n",
        "\n",
        "metrics_after = {\n",
        "    'Metric': ['Test Loss', 'Test Accuracy', 'Test Precision', 'Test Recall', 'Test F1', 'Test Runtime', 'Test Samples/Second', 'Test Steps/Second'],\n",
        "    'Value': [outputs.metrics['test_loss'], outputs.metrics['test_accuracy'], outputs.metrics['test_precision'],\n",
        "              outputs.metrics['test_recall'], outputs.metrics['test_f1'], outputs.metrics['test_runtime'],\n",
        "              outputs.metrics['test_samples_per_second'], outputs.metrics['test_steps_per_second']]\n",
        "}\n",
        "\n",
        "# Create pandas DataFrames\n",
        "df_1 = pd.DataFrame(metrics_before)\n",
        "df_2 = pd.DataFrame(metrics_after)\n",
        "\n",
        "# Set Metric column as index for both DataFrames\n",
        "df_1.set_index('Metric', inplace=True)\n",
        "df_2.set_index('Metric', inplace=True)\n",
        "\n",
        "# Concatenate DataFrames horizontally\n",
        "df_combined = pd.concat([df_1, df_2], axis=1, keys=['Before', 'After'])\n",
        "\n",
        "# Display the combined DataFrame\n",
        "print(df_combined)\n"
      ],
      "metadata": {
        "colab": {
          "base_uri": "https://localhost:8080/"
        },
        "id": "TJwlymvFU2M6",
        "outputId": "ee7e09d0-ff41-47fe-938e-8b43af85f83a"
      },
      "execution_count": null,
      "outputs": [
        {
          "output_type": "stream",
          "name": "stdout",
          "text": [
            "                         Before       After\n",
            "                          Value       Value\n",
            "Metric                                     \n",
            "Test Loss              0.512895    0.547861\n",
            "Test Accuracy          0.851722    0.858213\n",
            "Test Precision         0.851695    0.853809\n",
            "Test Recall            0.851722    0.858213\n",
            "Test F1                0.851490    0.854972\n",
            "Test Runtime          17.798300   16.089000\n",
            "Test Samples/Second  112.539000  124.495000\n",
            "Test Steps/Second     14.102000   15.601000\n"
          ]
        }
      ]
    },
    {
      "cell_type": "markdown",
      "metadata": {
        "id": "waKd19sadw2_"
      },
      "source": [
        "When compared to model using beta2 of 0.999, this model shows a\n",
        "- Better test performance especially recall.\n",
        "- Smoother decrease of grad norm. (in the tensorboard)\n",
        "- Validation performances are comparable.\n",
        "\n",
        "Therefore, beta2 = 0.99 is the optimal beta2"
      ]
    },
    {
      "cell_type": "markdown",
      "source": [
        "## Confusion Matrix\n",
        "\n"
      ],
      "metadata": {
        "id": "-xSkAmyZLd0X"
      }
    },
    {
      "cell_type": "code",
      "source": [
        "from sklearn.metrics import confusion_matrix, ConfusionMatrixDisplay\n",
        "\n",
        "y_true = outputs.label_ids\n",
        "y_pred = outputs.predictions.argmax(1)\n",
        "\n",
        "labels = skin_dataset['train'].features['label'].names\n",
        "cm = confusion_matrix(y_true, y_pred)\n",
        "disp = ConfusionMatrixDisplay(confusion_matrix=cm, display_labels=labels)\n",
        "disp.plot(xticks_rotation=45)"
      ],
      "metadata": {
        "colab": {
          "base_uri": "https://localhost:8080/",
          "height": 488
        },
        "id": "Ut5b6dv7LUkn",
        "outputId": "3472b15e-e658-4315-bb9b-872ca9658969"
      },
      "execution_count": null,
      "outputs": [
        {
          "output_type": "execute_result",
          "data": {
            "text/plain": [
              "<sklearn.metrics._plot.confusion_matrix.ConfusionMatrixDisplay at 0x7a16af6c3310>"
            ]
          },
          "metadata": {},
          "execution_count": 110
        },
        {
          "output_type": "display_data",
          "data": {
            "text/plain": [
              "<Figure size 640x480 with 2 Axes>"
            ],
            "image/png": "[encoded data removed]"
          },
          "metadata": {}
        }
      ]
    },
    {
      "cell_type": "code",
      "source": [
        "from sklearn.metrics import precision_score, recall_score, f1_score\n",
        "import pandas as pd\n",
        "# Assuming you have defined y_true and y_pred as mentioned before\n",
        "\n",
        "# Calculate precision, recall, and F1-score for each class\n",
        "precision_per_class = precision_score(y_true, y_pred, average=None)\n",
        "recall_per_class = recall_score(y_true, y_pred, average=None)\n",
        "f1_per_class = f1_score(y_true, y_pred, average=None)\n",
        "\n",
        "# Create a DataFrame to store precision, recall, and F1-score for each class\n",
        "metrics_per_class_df = pd.DataFrame({\n",
        "    'Class': labels,\n",
        "    'Precision': precision_per_class,\n",
        "    'Recall': recall_per_class,\n",
        "    'F1-score': f1_per_class\n",
        "})\n",
        "\n",
        "print(metrics_per_class_df)\n"
      ],
      "metadata": {
        "colab": {
          "base_uri": "https://localhost:8080/"
        },
        "id": "pFbxapIlYgW8",
        "outputId": "27da5639-a96e-48eb-a99a-45aecace8bd8"
      },
      "execution_count": null,
      "outputs": [
        {
          "output_type": "stream",
          "name": "stdout",
          "text": [
            "   Class  Precision    Recall  F1-score\n",
            "0  akiec   0.777778  0.600000  0.677419\n",
            "1    bcc   0.737374  0.776596  0.756477\n",
            "2    bkl   0.728643  0.641593  0.682353\n",
            "3     df   0.809524  0.850000  0.829268\n",
            "4    mel   0.682464  0.645740  0.663594\n",
            "5     nv   0.916064  0.946188  0.930882\n",
            "6   vasc   0.864865  1.000000  0.927536\n"
          ]
        }
      ]
    },
    {
      "cell_type": "markdown",
      "metadata": {
        "id": "5cmm4VEw4AX3"
      },
      "source": [
        "# Push model to hub"
      ]
    },
    {
      "cell_type": "code",
      "execution_count": null,
      "metadata": {
        "id": "dePRjHqsZM6M",
        "colab": {
          "base_uri": "https://localhost:8080/",
          "height": 49,
          "referenced_widgets": [
            "d33ed09691a946218de94465a5180e51",
            "f859ca6e27994482bc74816b65391d84",
            "b1fb50d1882b4d9dab4972b6c4a661b1",
            "7eb08526c0124d6dab21d7b5bdd3c3ad",
            "e60e128e702341128b6f1518ec171c51",
            "c1410dfc94e24fa5b8c7f55a9b275db7",
            "f5334685aca248afbae1a9da82ade654",
            "54f1214e4d53417f91b61036f3589b06",
            "d33421b3fc0a4cd89a01b6007bc806e4",
            "700abe5d61fd4f1480787c36bc80b05c",
            "4366a290e1f0442cbde12c1f60b68cb6"
          ]
        },
        "outputId": "63caf10b-54f8-4d73-fc61-b0c8259754a4"
      },
      "outputs": [
        {
          "data": {
            "application/vnd.jupyter.widget-view+json": {
              "model_id": "d33ed09691a946218de94465a5180e51",
              "version_major": 2,
              "version_minor": 0
            },
            "text/plain": [
              "events.out.tfevents.1711096616.80a90583e6d6.2864.5:   0%|          | 0.00/560 [00:00<?, ?B/s]"
            ]
          },
          "metadata": {},
          "output_type": "display_data"
        }
      ],
      "source": [
        "kwargs = {\n",
        "    \"finetuned_from\": model.config._name_or_path,\n",
        "    \"tasks\": \"image-classification\",\n",
        "    \"dataset\": 'skin-cancer',\n",
        "    \"tags\": ['image-classification'],\n",
        "}\n",
        "\n",
        "if args.push_to_hub:\n",
        "    trainer.push_to_hub('🍻 cheers', **kwargs)\n",
        "else:\n",
        "    trainer.create_model_card(**kwargs)"
      ]
    }
  ],
  "metadata": {
    "accelerator": "GPU",
    "colab": {
      "gpuType": "T4",
      "machine_shape": "hm",
      "provenance": [],
      "toc_visible": true
    },
    "kernelspec": {
      "display_name": "Python 3",
      "name": "python3"
    },
    "language_info": {
      "name": "python"
    },
    "widgets": {
      "application/vnd.jupyter.widget-state+json": {
        "7eab2be76c514f50822201609117287e": {
          "model_module": "@jupyter-widgets/controls",
          "model_name": "VBoxModel",
          "model_module_version": "1.5.0",
          "state": {
            "_dom_classes": [],
            "_model_module": "@jupyter-widgets/controls",
            "_model_module_version": "1.5.0",
            "_model_name": "VBoxModel",
            "_view_count": null,
            "_view_module": "@jupyter-widgets/controls",
            "_view_module_version": "1.5.0",
            "_view_name": "VBoxView",
            "box_style": "",
            "children": [
              "IPY_MODEL_d2f601623cb7433086bad83113df1578",
              "IPY_MODEL_d229eab867c64a95a109e2cbab863751",
              "IPY_MODEL_1dd479ef6bd843cca5106813bd052d63",
              "IPY_MODEL_c619e0718a1c41349b675d9fd8bfff01"
            ],
            "layout": "IPY_MODEL_be9f7ee046bd416fae3588a14710cb08"
          }
        },
        "b2a0fbfa61894d43a09a5c3921ce438c": {
          "model_module": "@jupyter-widgets/controls",
          "model_name": "HTMLModel",
          "model_module_version": "1.5.0",
          "state": {
            "_dom_classes": [],
            "_model_module": "@jupyter-widgets/controls",
            "_model_module_version": "1.5.0",
            "_model_name": "HTMLModel",
            "_view_count": null,
            "_view_module": "@jupyter-widgets/controls",
            "_view_module_version": "1.5.0",
            "_view_name": "HTMLView",
            "description": "",
            "description_tooltip": null,
            "layout": "IPY_MODEL_7cbe3ba5213e4b539e6efd42e061458c",
            "placeholder": "​",
            "style": "IPY_MODEL_606712a12f38466383c0f93ce4bcd8a8",
            "value": "<center> <img\nsrc=https://huggingface.co/front/assets/huggingface_logo-noborder.svg\nalt='Hugging Face'> <br> Copy a token from <a\nhref=\"https://huggingface.co/settings/tokens\" target=\"_blank\">your Hugging Face\ntokens page</a> and paste it below. <br> Immediately click login after copying\nyour token or it might be stored in plain text in this notebook file. </center>"
          }
        },
        "3771945fcbd9415597f2cc2525403f1b": {
          "model_module": "@jupyter-widgets/controls",
          "model_name": "PasswordModel",
          "model_module_version": "1.5.0",
          "state": {
            "_dom_classes": [],
            "_model_module": "@jupyter-widgets/controls",
            "_model_module_version": "1.5.0",
            "_model_name": "PasswordModel",
            "_view_count": null,
            "_view_module": "@jupyter-widgets/controls",
            "_view_module_version": "1.5.0",
            "_view_name": "PasswordView",
            "continuous_update": true,
            "description": "Token:",
            "description_tooltip": null,
            "disabled": false,
            "layout": "IPY_MODEL_cd9a61d4c0744e36aa8cc89787c1145a",
            "placeholder": "​",
            "style": "IPY_MODEL_c26c1dff2fb24246a4dd6458d3fece51",
            "value": ""
          }
        },
        "b369b6adbd65401cb7e3e86e5a8cc297": {
          "model_module": "@jupyter-widgets/controls",
          "model_name": "CheckboxModel",
          "model_module_version": "1.5.0",
          "state": {
            "_dom_classes": [],
            "_model_module": "@jupyter-widgets/controls",
            "_model_module_version": "1.5.0",
            "_model_name": "CheckboxModel",
            "_view_count": null,
            "_view_module": "@jupyter-widgets/controls",
            "_view_module_version": "1.5.0",
            "_view_name": "CheckboxView",
            "description": "Add token as git credential?",
            "description_tooltip": null,
            "disabled": false,
            "indent": true,
            "layout": "IPY_MODEL_b80ac9b2d6cf4e9a9932ea52bb09e724",
            "style": "IPY_MODEL_ed2c53ee82db4eb5b624e1e52325baf2",
            "value": true
          }
        },
        "b0794683a2184a02924ac474df46405c": {
          "model_module": "@jupyter-widgets/controls",
          "model_name": "ButtonModel",
          "model_module_version": "1.5.0",
          "state": {
            "_dom_classes": [],
            "_model_module": "@jupyter-widgets/controls",
            "_model_module_version": "1.5.0",
            "_model_name": "ButtonModel",
            "_view_count": null,
            "_view_module": "@jupyter-widgets/controls",
            "_view_module_version": "1.5.0",
            "_view_name": "ButtonView",
            "button_style": "",
            "description": "Login",
            "disabled": false,
            "icon": "",
            "layout": "IPY_MODEL_a638ce7ee4f94709aa7340354b0eb71b",
            "style": "IPY_MODEL_45e8911043cf4b42a7cc2a8f43b705b7",
            "tooltip": ""
          }
        },
        "d669ebb233374a2caa0a03e7804bf112": {
          "model_module": "@jupyter-widgets/controls",
          "model_name": "HTMLModel",
          "model_module_version": "1.5.0",
          "state": {
            "_dom_classes": [],
            "_model_module": "@jupyter-widgets/controls",
            "_model_module_version": "1.5.0",
            "_model_name": "HTMLModel",
            "_view_count": null,
            "_view_module": "@jupyter-widgets/controls",
            "_view_module_version": "1.5.0",
            "_view_name": "HTMLView",
            "description": "",
            "description_tooltip": null,
            "layout": "IPY_MODEL_6f363e250f144234934663b28a59d228",
            "placeholder": "​",
            "style": "IPY_MODEL_97e0229dd91e4ba8b013d7eefe63c122",
            "value": "\n<b>Pro Tip:</b> If you don't already have one, you can create a dedicated\n'notebooks' token with 'write' access, that you can then easily reuse for all\nnotebooks. </center>"
          }
        },
        "be9f7ee046bd416fae3588a14710cb08": {
          "model_module": "@jupyter-widgets/base",
          "model_name": "LayoutModel",
          "model_module_version": "1.2.0",
          "state": {
            "_model_module": "@jupyter-widgets/base",
            "_model_module_version": "1.2.0",
            "_model_name": "LayoutModel",
            "_view_count": null,
            "_view_module": "@jupyter-widgets/base",
            "_view_module_version": "1.2.0",
            "_view_name": "LayoutView",
            "align_content": null,
            "align_items": "center",
            "align_self": null,
            "border": null,
            "bottom": null,
            "display": "flex",
            "flex": null,
            "flex_flow": "column",
            "grid_area": null,
            "grid_auto_columns": null,
            "grid_auto_flow": null,
            "grid_auto_rows": null,
            "grid_column": null,
            "grid_gap": null,
            "grid_row": null,
            "grid_template_areas": null,
            "grid_template_columns": null,
            "grid_template_rows": null,
            "height": null,
            "justify_content": null,
            "justify_items": null,
            "left": null,
            "margin": null,
            "max_height": null,
            "max_width": null,
            "min_height": null,
            "min_width": null,
            "object_fit": null,
            "object_position": null,
            "order": null,
            "overflow": null,
            "overflow_x": null,
            "overflow_y": null,
            "padding": null,
            "right": null,
            "top": null,
            "visibility": null,
            "width": "50%"
          }
        },
        "7cbe3ba5213e4b539e6efd42e061458c": {
          "model_module": "@jupyter-widgets/base",
          "model_name": "LayoutModel",
          "model_module_version": "1.2.0",
          "state": {
            "_model_module": "@jupyter-widgets/base",
            "_model_module_version": "1.2.0",
            "_model_name": "LayoutModel",
            "_view_count": null,
            "_view_module": "@jupyter-widgets/base",
            "_view_module_version": "1.2.0",
            "_view_name": "LayoutView",
            "align_content": null,
            "align_items": null,
            "align_self": null,
            "border": null,
            "bottom": null,
            "display": null,
            "flex": null,
            "flex_flow": null,
            "grid_area": null,
            "grid_auto_columns": null,
            "grid_auto_flow": null,
            "grid_auto_rows": null,
            "grid_column": null,
            "grid_gap": null,
            "grid_row": null,
            "grid_template_areas": null,
            "grid_template_columns": null,
            "grid_template_rows": null,
            "height": null,
            "justify_content": null,
            "justify_items": null,
            "left": null,
            "margin": null,
            "max_height": null,
            "max_width": null,
            "min_height": null,
            "min_width": null,
            "object_fit": null,
            "object_position": null,
            "order": null,
            "overflow": null,
            "overflow_x": null,
            "overflow_y": null,
            "padding": null,
            "right": null,
            "top": null,
            "visibility": null,
            "width": null
          }
        },
        "606712a12f38466383c0f93ce4bcd8a8": {
          "model_module": "@jupyter-widgets/controls",
          "model_name": "DescriptionStyleModel",
          "model_module_version": "1.5.0",
          "state": {
            "_model_module": "@jupyter-widgets/controls",
            "_model_module_version": "1.5.0",
            "_model_name": "DescriptionStyleModel",
            "_view_count": null,
            "_view_module": "@jupyter-widgets/base",
            "_view_module_version": "1.2.0",
            "_view_name": "StyleView",
            "description_width": ""
          }
        },
        "cd9a61d4c0744e36aa8cc89787c1145a": {
          "model_module": "@jupyter-widgets/base",
          "model_name": "LayoutModel",
          "model_module_version": "1.2.0",
          "state": {
            "_model_module": "@jupyter-widgets/base",
            "_model_module_version": "1.2.0",
            "_model_name": "LayoutModel",
            "_view_count": null,
            "_view_module": "@jupyter-widgets/base",
            "_view_module_version": "1.2.0",
            "_view_name": "LayoutView",
            "align_content": null,
            "align_items": null,
            "align_self": null,
            "border": null,
            "bottom": null,
            "display": null,
            "flex": null,
            "flex_flow": null,
            "grid_area": null,
            "grid_auto_columns": null,
            "grid_auto_flow": null,
            "grid_auto_rows": null,
            "grid_column": null,
            "grid_gap": null,
            "grid_row": null,
            "grid_template_areas": null,
            "grid_template_columns": null,
            "grid_template_rows": null,
            "height": null,
            "justify_content": null,
            "justify_items": null,
            "left": null,
            "margin": null,
            "max_height": null,
            "max_width": null,
            "min_height": null,
            "min_width": null,
            "object_fit": null,
            "object_position": null,
            "order": null,
            "overflow": null,
            "overflow_x": null,
            "overflow_y": null,
            "padding": null,
            "right": null,
            "top": null,
            "visibility": null,
            "width": null
          }
        },
        "c26c1dff2fb24246a4dd6458d3fece51": {
          "model_module": "@jupyter-widgets/controls",
          "model_name": "DescriptionStyleModel",
          "model_module_version": "1.5.0",
          "state": {
            "_model_module": "@jupyter-widgets/controls",
            "_model_module_version": "1.5.0",
            "_model_name": "DescriptionStyleModel",
            "_view_count": null,
            "_view_module": "@jupyter-widgets/base",
            "_view_module_version": "1.2.0",
            "_view_name": "StyleView",
            "description_width": ""
          }
        },
        "b80ac9b2d6cf4e9a9932ea52bb09e724": {
          "model_module": "@jupyter-widgets/base",
          "model_name": "LayoutModel",
          "model_module_version": "1.2.0",
          "state": {
            "_model_module": "@jupyter-widgets/base",
            "_model_module_version": "1.2.0",
            "_model_name": "LayoutModel",
            "_view_count": null,
            "_view_module": "@jupyter-widgets/base",
            "_view_module_version": "1.2.0",
            "_view_name": "LayoutView",
            "align_content": null,
            "align_items": null,
            "align_self": null,
            "border": null,
            "bottom": null,
            "display": null,
            "flex": null,
            "flex_flow": null,
            "grid_area": null,
            "grid_auto_columns": null,
            "grid_auto_flow": null,
            "grid_auto_rows": null,
            "grid_column": null,
            "grid_gap": null,
            "grid_row": null,
            "grid_template_areas": null,
            "grid_template_columns": null,
            "grid_template_rows": null,
            "height": null,
            "justify_content": null,
            "justify_items": null,
            "left": null,
            "margin": null,
            "max_height": null,
            "max_width": null,
            "min_height": null,
            "min_width": null,
            "object_fit": null,
            "object_position": null,
            "order": null,
            "overflow": null,
            "overflow_x": null,
            "overflow_y": null,
            "padding": null,
            "right": null,
            "top": null,
            "visibility": null,
            "width": null
          }
        },
        "ed2c53ee82db4eb5b624e1e52325baf2": {
          "model_module": "@jupyter-widgets/controls",
          "model_name": "DescriptionStyleModel",
          "model_module_version": "1.5.0",
          "state": {
            "_model_module": "@jupyter-widgets/controls",
            "_model_module_version": "1.5.0",
            "_model_name": "DescriptionStyleModel",
            "_view_count": null,
            "_view_module": "@jupyter-widgets/base",
            "_view_module_version": "1.2.0",
            "_view_name": "StyleView",
            "description_width": ""
          }
        },
        "a638ce7ee4f94709aa7340354b0eb71b": {
          "model_module": "@jupyter-widgets/base",
          "model_name": "LayoutModel",
          "model_module_version": "1.2.0",
          "state": {
            "_model_module": "@jupyter-widgets/base",
            "_model_module_version": "1.2.0",
            "_model_name": "LayoutModel",
            "_view_count": null,
            "_view_module": "@jupyter-widgets/base",
            "_view_module_version": "1.2.0",
            "_view_name": "LayoutView",
            "align_content": null,
            "align_items": null,
            "align_self": null,
            "border": null,
            "bottom": null,
            "display": null,
            "flex": null,
            "flex_flow": null,
            "grid_area": null,
            "grid_auto_columns": null,
            "grid_auto_flow": null,
            "grid_auto_rows": null,
            "grid_column": null,
            "grid_gap": null,
            "grid_row": null,
            "grid_template_areas": null,
            "grid_template_columns": null,
            "grid_template_rows": null,
            "height": null,
            "justify_content": null,
            "justify_items": null,
            "left": null,
            "margin": null,
            "max_height": null,
            "max_width": null,
            "min_height": null,
            "min_width": null,
            "object_fit": null,
            "object_position": null,
            "order": null,
            "overflow": null,
            "overflow_x": null,
            "overflow_y": null,
            "padding": null,
            "right": null,
            "top": null,
            "visibility": null,
            "width": null
          }
        },
        "45e8911043cf4b42a7cc2a8f43b705b7": {
          "model_module": "@jupyter-widgets/controls",
          "model_name": "ButtonStyleModel",
          "model_module_version": "1.5.0",
          "state": {
            "_model_module": "@jupyter-widgets/controls",
            "_model_module_version": "1.5.0",
            "_model_name": "ButtonStyleModel",
            "_view_count": null,
            "_view_module": "@jupyter-widgets/base",
            "_view_module_version": "1.2.0",
            "_view_name": "StyleView",
            "button_color": null,
            "font_weight": ""
          }
        },
        "6f363e250f144234934663b28a59d228": {
          "model_module": "@jupyter-widgets/base",
          "model_name": "LayoutModel",
          "model_module_version": "1.2.0",
          "state": {
            "_model_module": "@jupyter-widgets/base",
            "_model_module_version": "1.2.0",
            "_model_name": "LayoutModel",
            "_view_count": null,
            "_view_module": "@jupyter-widgets/base",
            "_view_module_version": "1.2.0",
            "_view_name": "LayoutView",
            "align_content": null,
            "align_items": null,
            "align_self": null,
            "border": null,
            "bottom": null,
            "display": null,
            "flex": null,
            "flex_flow": null,
            "grid_area": null,
            "grid_auto_columns": null,
            "grid_auto_flow": null,
            "grid_auto_rows": null,
            "grid_column": null,
            "grid_gap": null,
            "grid_row": null,
            "grid_template_areas": null,
            "grid_template_columns": null,
            "grid_template_rows": null,
            "height": null,
            "justify_content": null,
            "justify_items": null,
            "left": null,
            "margin": null,
            "max_height": null,
            "max_width": null,
            "min_height": null,
            "min_width": null,
            "object_fit": null,
            "object_position": null,
            "order": null,
            "overflow": null,
            "overflow_x": null,
            "overflow_y": null,
            "padding": null,
            "right": null,
            "top": null,
            "visibility": null,
            "width": null
          }
        },
        "97e0229dd91e4ba8b013d7eefe63c122": {
          "model_module": "@jupyter-widgets/controls",
          "model_name": "DescriptionStyleModel",
          "model_module_version": "1.5.0",
          "state": {
            "_model_module": "@jupyter-widgets/controls",
            "_model_module_version": "1.5.0",
            "_model_name": "DescriptionStyleModel",
            "_view_count": null,
            "_view_module": "@jupyter-widgets/base",
            "_view_module_version": "1.2.0",
            "_view_name": "StyleView",
            "description_width": ""
          }
        },
        "10470497396b460492da1e69a82b346b": {
          "model_module": "@jupyter-widgets/controls",
          "model_name": "LabelModel",
          "model_module_version": "1.5.0",
          "state": {
            "_dom_classes": [],
            "_model_module": "@jupyter-widgets/controls",
            "_model_module_version": "1.5.0",
            "_model_name": "LabelModel",
            "_view_count": null,
            "_view_module": "@jupyter-widgets/controls",
            "_view_module_version": "1.5.0",
            "_view_name": "LabelView",
            "description": "",
            "description_tooltip": null,
            "layout": "IPY_MODEL_bb7e6a3bfe3d4e6e8a197a9235c159d9",
            "placeholder": "​",
            "style": "IPY_MODEL_040f3db00c3145219cf288eb0e60453b",
            "value": "Connecting..."
          }
        },
        "bb7e6a3bfe3d4e6e8a197a9235c159d9": {
          "model_module": "@jupyter-widgets/base",
          "model_name": "LayoutModel",
          "model_module_version": "1.2.0",
          "state": {
            "_model_module": "@jupyter-widgets/base",
            "_model_module_version": "1.2.0",
            "_model_name": "LayoutModel",
            "_view_count": null,
            "_view_module": "@jupyter-widgets/base",
            "_view_module_version": "1.2.0",
            "_view_name": "LayoutView",
            "align_content": null,
            "align_items": null,
            "align_self": null,
            "border": null,
            "bottom": null,
            "display": null,
            "flex": null,
            "flex_flow": null,
            "grid_area": null,
            "grid_auto_columns": null,
            "grid_auto_flow": null,
            "grid_auto_rows": null,
            "grid_column": null,
            "grid_gap": null,
            "grid_row": null,
            "grid_template_areas": null,
            "grid_template_columns": null,
            "grid_template_rows": null,
            "height": null,
            "justify_content": null,
            "justify_items": null,
            "left": null,
            "margin": null,
            "max_height": null,
            "max_width": null,
            "min_height": null,
            "min_width": null,
            "object_fit": null,
            "object_position": null,
            "order": null,
            "overflow": null,
            "overflow_x": null,
            "overflow_y": null,
            "padding": null,
            "right": null,
            "top": null,
            "visibility": null,
            "width": null
          }
        },
        "040f3db00c3145219cf288eb0e60453b": {
          "model_module": "@jupyter-widgets/controls",
          "model_name": "DescriptionStyleModel",
          "model_module_version": "1.5.0",
          "state": {
            "_model_module": "@jupyter-widgets/controls",
            "_model_module_version": "1.5.0",
            "_model_name": "DescriptionStyleModel",
            "_view_count": null,
            "_view_module": "@jupyter-widgets/base",
            "_view_module_version": "1.2.0",
            "_view_name": "StyleView",
            "description_width": ""
          }
        },
        "d2f601623cb7433086bad83113df1578": {
          "model_module": "@jupyter-widgets/controls",
          "model_name": "LabelModel",
          "model_module_version": "1.5.0",
          "state": {
            "_dom_classes": [],
            "_model_module": "@jupyter-widgets/controls",
            "_model_module_version": "1.5.0",
            "_model_name": "LabelModel",
            "_view_count": null,
            "_view_module": "@jupyter-widgets/controls",
            "_view_module_version": "1.5.0",
            "_view_name": "LabelView",
            "description": "",
            "description_tooltip": null,
            "layout": "IPY_MODEL_fe820009a8cb478a9e78b649ae963b19",
            "placeholder": "​",
            "style": "IPY_MODEL_08d73395c3984d48a1767f6e8ae9eda7",
            "value": "Token is valid (permission: write)."
          }
        },
        "d229eab867c64a95a109e2cbab863751": {
          "model_module": "@jupyter-widgets/controls",
          "model_name": "LabelModel",
          "model_module_version": "1.5.0",
          "state": {
            "_dom_classes": [],
            "_model_module": "@jupyter-widgets/controls",
            "_model_module_version": "1.5.0",
            "_model_name": "LabelModel",
            "_view_count": null,
            "_view_module": "@jupyter-widgets/controls",
            "_view_module_version": "1.5.0",
            "_view_name": "LabelView",
            "description": "",
            "description_tooltip": null,
            "layout": "IPY_MODEL_8d9c39bc701e48f387c6a8281cc0abe2",
            "placeholder": "​",
            "style": "IPY_MODEL_9ef4d41bbae045dc8bb61d470afa95f7",
            "value": "Your token has been saved in your configured git credential helpers (store)."
          }
        },
        "1dd479ef6bd843cca5106813bd052d63": {
          "model_module": "@jupyter-widgets/controls",
          "model_name": "LabelModel",
          "model_module_version": "1.5.0",
          "state": {
            "_dom_classes": [],
            "_model_module": "@jupyter-widgets/controls",
            "_model_module_version": "1.5.0",
            "_model_name": "LabelModel",
            "_view_count": null,
            "_view_module": "@jupyter-widgets/controls",
            "_view_module_version": "1.5.0",
            "_view_name": "LabelView",
            "description": "",
            "description_tooltip": null,
            "layout": "IPY_MODEL_324f869d1eda4afeb0241dcc36b4fe06",
            "placeholder": "​",
            "style": "IPY_MODEL_5d37ddbedb234cee97f4c96e1db68b35",
            "value": "Your token has been saved to /root/.cache/huggingface/token"
          }
        },
        "c619e0718a1c41349b675d9fd8bfff01": {
          "model_module": "@jupyter-widgets/controls",
          "model_name": "LabelModel",
          "model_module_version": "1.5.0",
          "state": {
            "_dom_classes": [],
            "_model_module": "@jupyter-widgets/controls",
            "_model_module_version": "1.5.0",
            "_model_name": "LabelModel",
            "_view_count": null,
            "_view_module": "@jupyter-widgets/controls",
            "_view_module_version": "1.5.0",
            "_view_name": "LabelView",
            "description": "",
            "description_tooltip": null,
            "layout": "IPY_MODEL_a53a9cae76c34df0a48f84c456f03401",
            "placeholder": "​",
            "style": "IPY_MODEL_f221976e14424cb1a9d0cb28f906e02f",
            "value": "Login successful"
          }
        },
        "fe820009a8cb478a9e78b649ae963b19": {
          "model_module": "@jupyter-widgets/base",
          "model_name": "LayoutModel",
          "model_module_version": "1.2.0",
          "state": {
            "_model_module": "@jupyter-widgets/base",
            "_model_module_version": "1.2.0",
            "_model_name": "LayoutModel",
            "_view_count": null,
            "_view_module": "@jupyter-widgets/base",
            "_view_module_version": "1.2.0",
            "_view_name": "LayoutView",
            "align_content": null,
            "align_items": null,
            "align_self": null,
            "border": null,
            "bottom": null,
            "display": null,
            "flex": null,
            "flex_flow": null,
            "grid_area": null,
            "grid_auto_columns": null,
            "grid_auto_flow": null,
            "grid_auto_rows": null,
            "grid_column": null,
            "grid_gap": null,
            "grid_row": null,
            "grid_template_areas": null,
            "grid_template_columns": null,
            "grid_template_rows": null,
            "height": null,
            "justify_content": null,
            "justify_items": null,
            "left": null,
            "margin": null,
            "max_height": null,
            "max_width": null,
            "min_height": null,
            "min_width": null,
            "object_fit": null,
            "object_position": null,
            "order": null,
            "overflow": null,
            "overflow_x": null,
            "overflow_y": null,
            "padding": null,
            "right": null,
            "top": null,
            "visibility": null,
            "width": null
          }
        },
        "08d73395c3984d48a1767f6e8ae9eda7": {
          "model_module": "@jupyter-widgets/controls",
          "model_name": "DescriptionStyleModel",
          "model_module_version": "1.5.0",
          "state": {
            "_model_module": "@jupyter-widgets/controls",
            "_model_module_version": "1.5.0",
            "_model_name": "DescriptionStyleModel",
            "_view_count": null,
            "_view_module": "@jupyter-widgets/base",
            "_view_module_version": "1.2.0",
            "_view_name": "StyleView",
            "description_width": ""
          }
        },
        "8d9c39bc701e48f387c6a8281cc0abe2": {
          "model_module": "@jupyter-widgets/base",
          "model_name": "LayoutModel",
          "model_module_version": "1.2.0",
          "state": {
            "_model_module": "@jupyter-widgets/base",
            "_model_module_version": "1.2.0",
            "_model_name": "LayoutModel",
            "_view_count": null,
            "_view_module": "@jupyter-widgets/base",
            "_view_module_version": "1.2.0",
            "_view_name": "LayoutView",
            "align_content": null,
            "align_items": null,
            "align_self": null,
            "border": null,
            "bottom": null,
            "display": null,
            "flex": null,
            "flex_flow": null,
            "grid_area": null,
            "grid_auto_columns": null,
            "grid_auto_flow": null,
            "grid_auto_rows": null,
            "grid_column": null,
            "grid_gap": null,
            "grid_row": null,
            "grid_template_areas": null,
            "grid_template_columns": null,
            "grid_template_rows": null,
            "height": null,
            "justify_content": null,
            "justify_items": null,
            "left": null,
            "margin": null,
            "max_height": null,
            "max_width": null,
            "min_height": null,
            "min_width": null,
            "object_fit": null,
            "object_position": null,
            "order": null,
            "overflow": null,
            "overflow_x": null,
            "overflow_y": null,
            "padding": null,
            "right": null,
            "top": null,
            "visibility": null,
            "width": null
          }
        },
        "9ef4d41bbae045dc8bb61d470afa95f7": {
          "model_module": "@jupyter-widgets/controls",
          "model_name": "DescriptionStyleModel",
          "model_module_version": "1.5.0",
          "state": {
            "_model_module": "@jupyter-widgets/controls",
            "_model_module_version": "1.5.0",
            "_model_name": "DescriptionStyleModel",
            "_view_count": null,
            "_view_module": "@jupyter-widgets/base",
            "_view_module_version": "1.2.0",
            "_view_name": "StyleView",
            "description_width": ""
          }
        },
        "324f869d1eda4afeb0241dcc36b4fe06": {
          "model_module": "@jupyter-widgets/base",
          "model_name": "LayoutModel",
          "model_module_version": "1.2.0",
          "state": {
            "_model_module": "@jupyter-widgets/base",
            "_model_module_version": "1.2.0",
            "_model_name": "LayoutModel",
            "_view_count": null,
            "_view_module": "@jupyter-widgets/base",
            "_view_module_version": "1.2.0",
            "_view_name": "LayoutView",
            "align_content": null,
            "align_items": null,
            "align_self": null,
            "border": null,
            "bottom": null,
            "display": null,
            "flex": null,
            "flex_flow": null,
            "grid_area": null,
            "grid_auto_columns": null,
            "grid_auto_flow": null,
            "grid_auto_rows": null,
            "grid_column": null,
            "grid_gap": null,
            "grid_row": null,
            "grid_template_areas": null,
            "grid_template_columns": null,
            "grid_template_rows": null,
            "height": null,
            "justify_content": null,
            "justify_items": null,
            "left": null,
            "margin": null,
            "max_height": null,
            "max_width": null,
            "min_height": null,
            "min_width": null,
            "object_fit": null,
            "object_position": null,
            "order": null,
            "overflow": null,
            "overflow_x": null,
            "overflow_y": null,
            "padding": null,
            "right": null,
            "top": null,
            "visibility": null,
            "width": null
          }
        },
        "5d37ddbedb234cee97f4c96e1db68b35": {
          "model_module": "@jupyter-widgets/controls",
          "model_name": "DescriptionStyleModel",
          "model_module_version": "1.5.0",
          "state": {
            "_model_module": "@jupyter-widgets/controls",
            "_model_module_version": "1.5.0",
            "_model_name": "DescriptionStyleModel",
            "_view_count": null,
            "_view_module": "@jupyter-widgets/base",
            "_view_module_version": "1.2.0",
            "_view_name": "StyleView",
            "description_width": ""
          }
        },
        "a53a9cae76c34df0a48f84c456f03401": {
          "model_module": "@jupyter-widgets/base",
          "model_name": "LayoutModel",
          "model_module_version": "1.2.0",
          "state": {
            "_model_module": "@jupyter-widgets/base",
            "_model_module_version": "1.2.0",
            "_model_name": "LayoutModel",
            "_view_count": null,
            "_view_module": "@jupyter-widgets/base",
            "_view_module_version": "1.2.0",
            "_view_name": "LayoutView",
            "align_content": null,
            "align_items": null,
            "align_self": null,
            "border": null,
            "bottom": null,
            "display": null,
            "flex": null,
            "flex_flow": null,
            "grid_area": null,
            "grid_auto_columns": null,
            "grid_auto_flow": null,
            "grid_auto_rows": null,
            "grid_column": null,
            "grid_gap": null,
            "grid_row": null,
            "grid_template_areas": null,
            "grid_template_columns": null,
            "grid_template_rows": null,
            "height": null,
            "justify_content": null,
            "justify_items": null,
            "left": null,
            "margin": null,
            "max_height": null,
            "max_width": null,
            "min_height": null,
            "min_width": null,
            "object_fit": null,
            "object_position": null,
            "order": null,
            "overflow": null,
            "overflow_x": null,
            "overflow_y": null,
            "padding": null,
            "right": null,
            "top": null,
            "visibility": null,
            "width": null
          }
        },
        "f221976e14424cb1a9d0cb28f906e02f": {
          "model_module": "@jupyter-widgets/controls",
          "model_name": "DescriptionStyleModel",
          "model_module_version": "1.5.0",
          "state": {
            "_model_module": "@jupyter-widgets/controls",
            "_model_module_version": "1.5.0",
            "_model_name": "DescriptionStyleModel",
            "_view_count": null,
            "_view_module": "@jupyter-widgets/base",
            "_view_module_version": "1.2.0",
            "_view_name": "StyleView",
            "description_width": ""
          }
        },
        "42e4eea2d475442ca83e79c156b88572": {
          "model_module": "@jupyter-widgets/controls",
          "model_name": "HBoxModel",
          "model_module_version": "1.5.0",
          "state": {
            "_dom_classes": [],
            "_model_module": "@jupyter-widgets/controls",
            "_model_module_version": "1.5.0",
            "_model_name": "HBoxModel",
            "_view_count": null,
            "_view_module": "@jupyter-widgets/controls",
            "_view_module_version": "1.5.0",
            "_view_name": "HBoxView",
            "box_style": "",
            "children": [
              "IPY_MODEL_889992ebe5b541e595a8dc5d91227fc4",
              "IPY_MODEL_d5f58c8753144d8a87ab49e6d2b599fd",
              "IPY_MODEL_d5ed1db5f6554442b0d052b5887e4008"
            ],
            "layout": "IPY_MODEL_9a42647245164d098a45f147b462b071"
          }
        },
        "889992ebe5b541e595a8dc5d91227fc4": {
          "model_module": "@jupyter-widgets/controls",
          "model_name": "HTMLModel",
          "model_module_version": "1.5.0",
          "state": {
            "_dom_classes": [],
            "_model_module": "@jupyter-widgets/controls",
            "_model_module_version": "1.5.0",
            "_model_name": "HTMLModel",
            "_view_count": null,
            "_view_module": "@jupyter-widgets/controls",
            "_view_module_version": "1.5.0",
            "_view_name": "HTMLView",
            "description": "",
            "description_tooltip": null,
            "layout": "IPY_MODEL_07836be390204fdbb5b557edceb7902f",
            "placeholder": "​",
            "style": "IPY_MODEL_9798235751984a4ab2cb4748f7066bdd",
            "value": "Downloading readme: 100%"
          }
        },
        "d5f58c8753144d8a87ab49e6d2b599fd": {
          "model_module": "@jupyter-widgets/controls",
          "model_name": "FloatProgressModel",
          "model_module_version": "1.5.0",
          "state": {
            "_dom_classes": [],
            "_model_module": "@jupyter-widgets/controls",
            "_model_module_version": "1.5.0",
            "_model_name": "FloatProgressModel",
            "_view_count": null,
            "_view_module": "@jupyter-widgets/controls",
            "_view_module_version": "1.5.0",
            "_view_name": "ProgressView",
            "bar_style": "success",
            "description": "",
            "description_tooltip": null,
            "layout": "IPY_MODEL_0f2ebba70b164175b0052f6484cf18c5",
            "max": 715,
            "min": 0,
            "orientation": "horizontal",
            "style": "IPY_MODEL_706a946143f041cc823d47115331ce21",
            "value": 715
          }
        },
        "d5ed1db5f6554442b0d052b5887e4008": {
          "model_module": "@jupyter-widgets/controls",
          "model_name": "HTMLModel",
          "model_module_version": "1.5.0",
          "state": {
            "_dom_classes": [],
            "_model_module": "@jupyter-widgets/controls",
            "_model_module_version": "1.5.0",
            "_model_name": "HTMLModel",
            "_view_count": null,
            "_view_module": "@jupyter-widgets/controls",
            "_view_module_version": "1.5.0",
            "_view_name": "HTMLView",
            "description": "",
            "description_tooltip": null,
            "layout": "IPY_MODEL_02f0862e40504372ab8a259ab9fb7697",
            "placeholder": "​",
            "style": "IPY_MODEL_c409447e7aa540acaad575a8e355b17d",
            "value": " 715/715 [00:00&lt;00:00, 60.4kB/s]"
          }
        },
        "9a42647245164d098a45f147b462b071": {
          "model_module": "@jupyter-widgets/base",
          "model_name": "LayoutModel",
          "model_module_version": "1.2.0",
          "state": {
            "_model_module": "@jupyter-widgets/base",
            "_model_module_version": "1.2.0",
            "_model_name": "LayoutModel",
            "_view_count": null,
            "_view_module": "@jupyter-widgets/base",
            "_view_module_version": "1.2.0",
            "_view_name": "LayoutView",
            "align_content": null,
            "align_items": null,
            "align_self": null,
            "border": null,
            "bottom": null,
            "display": null,
            "flex": null,
            "flex_flow": null,
            "grid_area": null,
            "grid_auto_columns": null,
            "grid_auto_flow": null,
            "grid_auto_rows": null,
            "grid_column": null,
            "grid_gap": null,
            "grid_row": null,
            "grid_template_areas": null,
            "grid_template_columns": null,
            "grid_template_rows": null,
            "height": null,
            "justify_content": null,
            "justify_items": null,
            "left": null,
            "margin": null,
            "max_height": null,
            "max_width": null,
            "min_height": null,
            "min_width": null,
            "object_fit": null,
            "object_position": null,
            "order": null,
            "overflow": null,
            "overflow_x": null,
            "overflow_y": null,
            "padding": null,
            "right": null,
            "top": null,
            "visibility": null,
            "width": null
          }
        },
        "07836be390204fdbb5b557edceb7902f": {
          "model_module": "@jupyter-widgets/base",
          "model_name": "LayoutModel",
          "model_module_version": "1.2.0",
          "state": {
            "_model_module": "@jupyter-widgets/base",
            "_model_module_version": "1.2.0",
            "_model_name": "LayoutModel",
            "_view_count": null,
            "_view_module": "@jupyter-widgets/base",
            "_view_module_version": "1.2.0",
            "_view_name": "LayoutView",
            "align_content": null,
            "align_items": null,
            "align_self": null,
            "border": null,
            "bottom": null,
            "display": null,
            "flex": null,
            "flex_flow": null,
            "grid_area": null,
            "grid_auto_columns": null,
            "grid_auto_flow": null,
            "grid_auto_rows": null,
            "grid_column": null,
            "grid_gap": null,
            "grid_row": null,
            "grid_template_areas": null,
            "grid_template_columns": null,
            "grid_template_rows": null,
            "height": null,
            "justify_content": null,
            "justify_items": null,
            "left": null,
            "margin": null,
            "max_height": null,
            "max_width": null,
            "min_height": null,
            "min_width": null,
            "object_fit": null,
            "object_position": null,
            "order": null,
            "overflow": null,
            "overflow_x": null,
            "overflow_y": null,
            "padding": null,
            "right": null,
            "top": null,
            "visibility": null,
            "width": null
          }
        },
        "9798235751984a4ab2cb4748f7066bdd": {
          "model_module": "@jupyter-widgets/controls",
          "model_name": "DescriptionStyleModel",
          "model_module_version": "1.5.0",
          "state": {
            "_model_module": "@jupyter-widgets/controls",
            "_model_module_version": "1.5.0",
            "_model_name": "DescriptionStyleModel",
            "_view_count": null,
            "_view_module": "@jupyter-widgets/base",
            "_view_module_version": "1.2.0",
            "_view_name": "StyleView",
            "description_width": ""
          }
        },
        "0f2ebba70b164175b0052f6484cf18c5": {
          "model_module": "@jupyter-widgets/base",
          "model_name": "LayoutModel",
          "model_module_version": "1.2.0",
          "state": {
            "_model_module": "@jupyter-widgets/base",
            "_model_module_version": "1.2.0",
            "_model_name": "LayoutModel",
            "_view_count": null,
            "_view_module": "@jupyter-widgets/base",
            "_view_module_version": "1.2.0",
            "_view_name": "LayoutView",
            "align_content": null,
            "align_items": null,
            "align_self": null,
            "border": null,
            "bottom": null,
            "display": null,
            "flex": null,
            "flex_flow": null,
            "grid_area": null,
            "grid_auto_columns": null,
            "grid_auto_flow": null,
            "grid_auto_rows": null,
            "grid_column": null,
            "grid_gap": null,
            "grid_row": null,
            "grid_template_areas": null,
            "grid_template_columns": null,
            "grid_template_rows": null,
            "height": null,
            "justify_content": null,
            "justify_items": null,
            "left": null,
            "margin": null,
            "max_height": null,
            "max_width": null,
            "min_height": null,
            "min_width": null,
            "object_fit": null,
            "object_position": null,
            "order": null,
            "overflow": null,
            "overflow_x": null,
            "overflow_y": null,
            "padding": null,
            "right": null,
            "top": null,
            "visibility": null,
            "width": null
          }
        },
        "706a946143f041cc823d47115331ce21": {
          "model_module": "@jupyter-widgets/controls",
          "model_name": "ProgressStyleModel",
          "model_module_version": "1.5.0",
          "state": {
            "_model_module": "@jupyter-widgets/controls",
            "_model_module_version": "1.5.0",
            "_model_name": "ProgressStyleModel",
            "_view_count": null,
            "_view_module": "@jupyter-widgets/base",
            "_view_module_version": "1.2.0",
            "_view_name": "StyleView",
            "bar_color": null,
            "description_width": ""
          }
        },
        "02f0862e40504372ab8a259ab9fb7697": {
          "model_module": "@jupyter-widgets/base",
          "model_name": "LayoutModel",
          "model_module_version": "1.2.0",
          "state": {
            "_model_module": "@jupyter-widgets/base",
            "_model_module_version": "1.2.0",
            "_model_name": "LayoutModel",
            "_view_count": null,
            "_view_module": "@jupyter-widgets/base",
            "_view_module_version": "1.2.0",
            "_view_name": "LayoutView",
            "align_content": null,
            "align_items": null,
            "align_self": null,
            "border": null,
            "bottom": null,
            "display": null,
            "flex": null,
            "flex_flow": null,
            "grid_area": null,
            "grid_auto_columns": null,
            "grid_auto_flow": null,
            "grid_auto_rows": null,
            "grid_column": null,
            "grid_gap": null,
            "grid_row": null,
            "grid_template_areas": null,
            "grid_template_columns": null,
            "grid_template_rows": null,
            "height": null,
            "justify_content": null,
            "justify_items": null,
            "left": null,
            "margin": null,
            "max_height": null,
            "max_width": null,
            "min_height": null,
            "min_width": null,
            "object_fit": null,
            "object_position": null,
            "order": null,
            "overflow": null,
            "overflow_x": null,
            "overflow_y": null,
            "padding": null,
            "right": null,
            "top": null,
            "visibility": null,
            "width": null
          }
        },
        "c409447e7aa540acaad575a8e355b17d": {
          "model_module": "@jupyter-widgets/controls",
          "model_name": "DescriptionStyleModel",
          "model_module_version": "1.5.0",
          "state": {
            "_model_module": "@jupyter-widgets/controls",
            "_model_module_version": "1.5.0",
            "_model_name": "DescriptionStyleModel",
            "_view_count": null,
            "_view_module": "@jupyter-widgets/base",
            "_view_module_version": "1.2.0",
            "_view_name": "StyleView",
            "description_width": ""
          }
        },
        "d21eb5149fd64c82888e8692c23bef0e": {
          "model_module": "@jupyter-widgets/controls",
          "model_name": "HBoxModel",
          "model_module_version": "1.5.0",
          "state": {
            "_dom_classes": [],
            "_model_module": "@jupyter-widgets/controls",
            "_model_module_version": "1.5.0",
            "_model_name": "HBoxModel",
            "_view_count": null,
            "_view_module": "@jupyter-widgets/controls",
            "_view_module_version": "1.5.0",
            "_view_name": "HBoxView",
            "box_style": "",
            "children": [
              "IPY_MODEL_01928c8ac37f4e2ba36f742852f5bdf1",
              "IPY_MODEL_690faeaf374648b09267a9f24260a563",
              "IPY_MODEL_46ee32d0c63047239bc431fe9bb2d81a"
            ],
            "layout": "IPY_MODEL_eaad1534e69d41a4800c2eea884d28a1"
          }
        },
        "01928c8ac37f4e2ba36f742852f5bdf1": {
          "model_module": "@jupyter-widgets/controls",
          "model_name": "HTMLModel",
          "model_module_version": "1.5.0",
          "state": {
            "_dom_classes": [],
            "_model_module": "@jupyter-widgets/controls",
            "_model_module_version": "1.5.0",
            "_model_name": "HTMLModel",
            "_view_count": null,
            "_view_module": "@jupyter-widgets/controls",
            "_view_module_version": "1.5.0",
            "_view_name": "HTMLView",
            "description": "",
            "description_tooltip": null,
            "layout": "IPY_MODEL_65bc93cbcf384a32b7d1dc983c2df684",
            "placeholder": "​",
            "style": "IPY_MODEL_a7c7c12767734d07ab0b04c985c2fbd5",
            "value": "Downloading data: 100%"
          }
        },
        "690faeaf374648b09267a9f24260a563": {
          "model_module": "@jupyter-widgets/controls",
          "model_name": "FloatProgressModel",
          "model_module_version": "1.5.0",
          "state": {
            "_dom_classes": [],
            "_model_module": "@jupyter-widgets/controls",
            "_model_module_version": "1.5.0",
            "_model_name": "FloatProgressModel",
            "_view_count": null,
            "_view_module": "@jupyter-widgets/controls",
            "_view_module_version": "1.5.0",
            "_view_name": "ProgressView",
            "bar_style": "success",
            "description": "",
            "description_tooltip": null,
            "layout": "IPY_MODEL_faab090826c145328848c142292b63ad",
            "max": 340577927,
            "min": 0,
            "orientation": "horizontal",
            "style": "IPY_MODEL_0fc254412aa24d0e9b3063679dcd4623",
            "value": 340577927
          }
        },
        "46ee32d0c63047239bc431fe9bb2d81a": {
          "model_module": "@jupyter-widgets/controls",
          "model_name": "HTMLModel",
          "model_module_version": "1.5.0",
          "state": {
            "_dom_classes": [],
            "_model_module": "@jupyter-widgets/controls",
            "_model_module_version": "1.5.0",
            "_model_name": "HTMLModel",
            "_view_count": null,
            "_view_module": "@jupyter-widgets/controls",
            "_view_module_version": "1.5.0",
            "_view_name": "HTMLView",
            "description": "",
            "description_tooltip": null,
            "layout": "IPY_MODEL_204da9de5b9940a4819b3df34c2b8574",
            "placeholder": "​",
            "style": "IPY_MODEL_89f27ea6d6ee4c268ff5224f59885b48",
            "value": " 341M/341M [00:13&lt;00:00, 24.7MB/s]"
          }
        },
        "eaad1534e69d41a4800c2eea884d28a1": {
          "model_module": "@jupyter-widgets/base",
          "model_name": "LayoutModel",
          "model_module_version": "1.2.0",
          "state": {
            "_model_module": "@jupyter-widgets/base",
            "_model_module_version": "1.2.0",
            "_model_name": "LayoutModel",
            "_view_count": null,
            "_view_module": "@jupyter-widgets/base",
            "_view_module_version": "1.2.0",
            "_view_name": "LayoutView",
            "align_content": null,
            "align_items": null,
            "align_self": null,
            "border": null,
            "bottom": null,
            "display": null,
            "flex": null,
            "flex_flow": null,
            "grid_area": null,
            "grid_auto_columns": null,
            "grid_auto_flow": null,
            "grid_auto_rows": null,
            "grid_column": null,
            "grid_gap": null,
            "grid_row": null,
            "grid_template_areas": null,
            "grid_template_columns": null,
            "grid_template_rows": null,
            "height": null,
            "justify_content": null,
            "justify_items": null,
            "left": null,
            "margin": null,
            "max_height": null,
            "max_width": null,
            "min_height": null,
            "min_width": null,
            "object_fit": null,
            "object_position": null,
            "order": null,
            "overflow": null,
            "overflow_x": null,
            "overflow_y": null,
            "padding": null,
            "right": null,
            "top": null,
            "visibility": null,
            "width": null
          }
        },
        "65bc93cbcf384a32b7d1dc983c2df684": {
          "model_module": "@jupyter-widgets/base",
          "model_name": "LayoutModel",
          "model_module_version": "1.2.0",
          "state": {
            "_model_module": "@jupyter-widgets/base",
            "_model_module_version": "1.2.0",
            "_model_name": "LayoutModel",
            "_view_count": null,
            "_view_module": "@jupyter-widgets/base",
            "_view_module_version": "1.2.0",
            "_view_name": "LayoutView",
            "align_content": null,
            "align_items": null,
            "align_self": null,
            "border": null,
            "bottom": null,
            "display": null,
            "flex": null,
            "flex_flow": null,
            "grid_area": null,
            "grid_auto_columns": null,
            "grid_auto_flow": null,
            "grid_auto_rows": null,
            "grid_column": null,
            "grid_gap": null,
            "grid_row": null,
            "grid_template_areas": null,
            "grid_template_columns": null,
            "grid_template_rows": null,
            "height": null,
            "justify_content": null,
            "justify_items": null,
            "left": null,
            "margin": null,
            "max_height": null,
            "max_width": null,
            "min_height": null,
            "min_width": null,
            "object_fit": null,
            "object_position": null,
            "order": null,
            "overflow": null,
            "overflow_x": null,
            "overflow_y": null,
            "padding": null,
            "right": null,
            "top": null,
            "visibility": null,
            "width": null
          }
        },
        "a7c7c12767734d07ab0b04c985c2fbd5": {
          "model_module": "@jupyter-widgets/controls",
          "model_name": "DescriptionStyleModel",
          "model_module_version": "1.5.0",
          "state": {
            "_model_module": "@jupyter-widgets/controls",
            "_model_module_version": "1.5.0",
            "_model_name": "DescriptionStyleModel",
            "_view_count": null,
            "_view_module": "@jupyter-widgets/base",
            "_view_module_version": "1.2.0",
            "_view_name": "StyleView",
            "description_width": ""
          }
        },
        "faab090826c145328848c142292b63ad": {
          "model_module": "@jupyter-widgets/base",
          "model_name": "LayoutModel",
          "model_module_version": "1.2.0",
          "state": {
            "_model_module": "@jupyter-widgets/base",
            "_model_module_version": "1.2.0",
            "_model_name": "LayoutModel",
            "_view_count": null,
            "_view_module": "@jupyter-widgets/base",
            "_view_module_version": "1.2.0",
            "_view_name": "LayoutView",
            "align_content": null,
            "align_items": null,
            "align_self": null,
            "border": null,
            "bottom": null,
            "display": null,
            "flex": null,
            "flex_flow": null,
            "grid_area": null,
            "grid_auto_columns": null,
            "grid_auto_flow": null,
            "grid_auto_rows": null,
            "grid_column": null,
            "grid_gap": null,
            "grid_row": null,
            "grid_template_areas": null,
            "grid_template_columns": null,
            "grid_template_rows": null,
            "height": null,
            "justify_content": null,
            "justify_items": null,
            "left": null,
            "margin": null,
            "max_height": null,
            "max_width": null,
            "min_height": null,
            "min_width": null,
            "object_fit": null,
            "object_position": null,
            "order": null,
            "overflow": null,
            "overflow_x": null,
            "overflow_y": null,
            "padding": null,
            "right": null,
            "top": null,
            "visibility": null,
            "width": null
          }
        },
        "0fc254412aa24d0e9b3063679dcd4623": {
          "model_module": "@jupyter-widgets/controls",
          "model_name": "ProgressStyleModel",
          "model_module_version": "1.5.0",
          "state": {
            "_model_module": "@jupyter-widgets/controls",
            "_model_module_version": "1.5.0",
            "_model_name": "ProgressStyleModel",
            "_view_count": null,
            "_view_module": "@jupyter-widgets/base",
            "_view_module_version": "1.2.0",
            "_view_name": "StyleView",
            "bar_color": null,
            "description_width": ""
          }
        },
        "204da9de5b9940a4819b3df34c2b8574": {
          "model_module": "@jupyter-widgets/base",
          "model_name": "LayoutModel",
          "model_module_version": "1.2.0",
          "state": {
            "_model_module": "@jupyter-widgets/base",
            "_model_module_version": "1.2.0",
            "_model_name": "LayoutModel",
            "_view_count": null,
            "_view_module": "@jupyter-widgets/base",
            "_view_module_version": "1.2.0",
            "_view_name": "LayoutView",
            "align_content": null,
            "align_items": null,
            "align_self": null,
            "border": null,
            "bottom": null,
            "display": null,
            "flex": null,
            "flex_flow": null,
            "grid_area": null,
            "grid_auto_columns": null,
            "grid_auto_flow": null,
            "grid_auto_rows": null,
            "grid_column": null,
            "grid_gap": null,
            "grid_row": null,
            "grid_template_areas": null,
            "grid_template_columns": null,
            "grid_template_rows": null,
            "height": null,
            "justify_content": null,
            "justify_items": null,
            "left": null,
            "margin": null,
            "max_height": null,
            "max_width": null,
            "min_height": null,
            "min_width": null,
            "object_fit": null,
            "object_position": null,
            "order": null,
            "overflow": null,
            "overflow_x": null,
            "overflow_y": null,
            "padding": null,
            "right": null,
            "top": null,
            "visibility": null,
            "width": null
          }
        },
        "89f27ea6d6ee4c268ff5224f59885b48": {
          "model_module": "@jupyter-widgets/controls",
          "model_name": "DescriptionStyleModel",
          "model_module_version": "1.5.0",
          "state": {
            "_model_module": "@jupyter-widgets/controls",
            "_model_module_version": "1.5.0",
            "_model_name": "DescriptionStyleModel",
            "_view_count": null,
            "_view_module": "@jupyter-widgets/base",
            "_view_module_version": "1.2.0",
            "_view_name": "StyleView",
            "description_width": ""
          }
        },
        "476d1f4f73fd45b49f00023c494f7571": {
          "model_module": "@jupyter-widgets/controls",
          "model_name": "HBoxModel",
          "model_module_version": "1.5.0",
          "state": {
            "_dom_classes": [],
            "_model_module": "@jupyter-widgets/controls",
            "_model_module_version": "1.5.0",
            "_model_name": "HBoxModel",
            "_view_count": null,
            "_view_module": "@jupyter-widgets/controls",
            "_view_module_version": "1.5.0",
            "_view_name": "HBoxView",
            "box_style": "",
            "children": [
              "IPY_MODEL_704ffa2471c84dc991fb2b84d67b4ba0",
              "IPY_MODEL_7ea76978f1714746808860d7a20de53f",
              "IPY_MODEL_9a97c90e443f48c0bbbe49eb0d5744a7"
            ],
            "layout": "IPY_MODEL_8d42edf3604846748584532d6ddbedee"
          }
        },
        "704ffa2471c84dc991fb2b84d67b4ba0": {
          "model_module": "@jupyter-widgets/controls",
          "model_name": "HTMLModel",
          "model_module_version": "1.5.0",
          "state": {
            "_dom_classes": [],
            "_model_module": "@jupyter-widgets/controls",
            "_model_module_version": "1.5.0",
            "_model_name": "HTMLModel",
            "_view_count": null,
            "_view_module": "@jupyter-widgets/controls",
            "_view_module_version": "1.5.0",
            "_view_name": "HTMLView",
            "description": "",
            "description_tooltip": null,
            "layout": "IPY_MODEL_20058a41249b477aaa214fee941e9053",
            "placeholder": "​",
            "style": "IPY_MODEL_c2eaf26c29ae4f6b9509fb375c8212f3",
            "value": "Downloading data: 100%"
          }
        },
        "7ea76978f1714746808860d7a20de53f": {
          "model_module": "@jupyter-widgets/controls",
          "model_name": "FloatProgressModel",
          "model_module_version": "1.5.0",
          "state": {
            "_dom_classes": [],
            "_model_module": "@jupyter-widgets/controls",
            "_model_module_version": "1.5.0",
            "_model_name": "FloatProgressModel",
            "_view_count": null,
            "_view_module": "@jupyter-widgets/controls",
            "_view_module_version": "1.5.0",
            "_view_name": "ProgressView",
            "bar_style": "success",
            "description": "",
            "description_tooltip": null,
            "layout": "IPY_MODEL_29215a25377c4909beb0ed819dfc96d4",
            "max": 191912023,
            "min": 0,
            "orientation": "horizontal",
            "style": "IPY_MODEL_a9f0bf78822d4e6489d06382f945395b",
            "value": 191912023
          }
        },
        "9a97c90e443f48c0bbbe49eb0d5744a7": {
          "model_module": "@jupyter-widgets/controls",
          "model_name": "HTMLModel",
          "model_module_version": "1.5.0",
          "state": {
            "_dom_classes": [],
            "_model_module": "@jupyter-widgets/controls",
            "_model_module_version": "1.5.0",
            "_model_name": "HTMLModel",
            "_view_count": null,
            "_view_module": "@jupyter-widgets/controls",
            "_view_module_version": "1.5.0",
            "_view_name": "HTMLView",
            "description": "",
            "description_tooltip": null,
            "layout": "IPY_MODEL_b5a64aadbba44c94a8e1e7f9fc33b80e",
            "placeholder": "​",
            "style": "IPY_MODEL_2f7a24f5a9f04b78b5e1b7697c094ba9",
            "value": " 192M/192M [00:07&lt;00:00, 26.9MB/s]"
          }
        },
        "8d42edf3604846748584532d6ddbedee": {
          "model_module": "@jupyter-widgets/base",
          "model_name": "LayoutModel",
          "model_module_version": "1.2.0",
          "state": {
            "_model_module": "@jupyter-widgets/base",
            "_model_module_version": "1.2.0",
            "_model_name": "LayoutModel",
            "_view_count": null,
            "_view_module": "@jupyter-widgets/base",
            "_view_module_version": "1.2.0",
            "_view_name": "LayoutView",
            "align_content": null,
            "align_items": null,
            "align_self": null,
            "border": null,
            "bottom": null,
            "display": null,
            "flex": null,
            "flex_flow": null,
            "grid_area": null,
            "grid_auto_columns": null,
            "grid_auto_flow": null,
            "grid_auto_rows": null,
            "grid_column": null,
            "grid_gap": null,
            "grid_row": null,
            "grid_template_areas": null,
            "grid_template_columns": null,
            "grid_template_rows": null,
            "height": null,
            "justify_content": null,
            "justify_items": null,
            "left": null,
            "margin": null,
            "max_height": null,
            "max_width": null,
            "min_height": null,
            "min_width": null,
            "object_fit": null,
            "object_position": null,
            "order": null,
            "overflow": null,
            "overflow_x": null,
            "overflow_y": null,
            "padding": null,
            "right": null,
            "top": null,
            "visibility": null,
            "width": null
          }
        },
        "20058a41249b477aaa214fee941e9053": {
          "model_module": "@jupyter-widgets/base",
          "model_name": "LayoutModel",
          "model_module_version": "1.2.0",
          "state": {
            "_model_module": "@jupyter-widgets/base",
            "_model_module_version": "1.2.0",
            "_model_name": "LayoutModel",
            "_view_count": null,
            "_view_module": "@jupyter-widgets/base",
            "_view_module_version": "1.2.0",
            "_view_name": "LayoutView",
            "align_content": null,
            "align_items": null,
            "align_self": null,
            "border": null,
            "bottom": null,
            "display": null,
            "flex": null,
            "flex_flow": null,
            "grid_area": null,
            "grid_auto_columns": null,
            "grid_auto_flow": null,
            "grid_auto_rows": null,
            "grid_column": null,
            "grid_gap": null,
            "grid_row": null,
            "grid_template_areas": null,
            "grid_template_columns": null,
            "grid_template_rows": null,
            "height": null,
            "justify_content": null,
            "justify_items": null,
            "left": null,
            "margin": null,
            "max_height": null,
            "max_width": null,
            "min_height": null,
            "min_width": null,
            "object_fit": null,
            "object_position": null,
            "order": null,
            "overflow": null,
            "overflow_x": null,
            "overflow_y": null,
            "padding": null,
            "right": null,
            "top": null,
            "visibility": null,
            "width": null
          }
        },
        "c2eaf26c29ae4f6b9509fb375c8212f3": {
          "model_module": "@jupyter-widgets/controls",
          "model_name": "DescriptionStyleModel",
          "model_module_version": "1.5.0",
          "state": {
            "_model_module": "@jupyter-widgets/controls",
            "_model_module_version": "1.5.0",
            "_model_name": "DescriptionStyleModel",
            "_view_count": null,
            "_view_module": "@jupyter-widgets/base",
            "_view_module_version": "1.2.0",
            "_view_name": "StyleView",
            "description_width": ""
          }
        },
        "29215a25377c4909beb0ed819dfc96d4": {
          "model_module": "@jupyter-widgets/base",
          "model_name": "LayoutModel",
          "model_module_version": "1.2.0",
          "state": {
            "_model_module": "@jupyter-widgets/base",
            "_model_module_version": "1.2.0",
            "_model_name": "LayoutModel",
            "_view_count": null,
            "_view_module": "@jupyter-widgets/base",
            "_view_module_version": "1.2.0",
            "_view_name": "LayoutView",
            "align_content": null,
            "align_items": null,
            "align_self": null,
            "border": null,
            "bottom": null,
            "display": null,
            "flex": null,
            "flex_flow": null,
            "grid_area": null,
            "grid_auto_columns": null,
            "grid_auto_flow": null,
            "grid_auto_rows": null,
            "grid_column": null,
            "grid_gap": null,
            "grid_row": null,
            "grid_template_areas": null,
            "grid_template_columns": null,
            "grid_template_rows": null,
            "height": null,
            "justify_content": null,
            "justify_items": null,
            "left": null,
            "margin": null,
            "max_height": null,
            "max_width": null,
            "min_height": null,
            "min_width": null,
            "object_fit": null,
            "object_position": null,
            "order": null,
            "overflow": null,
            "overflow_x": null,
            "overflow_y": null,
            "padding": null,
            "right": null,
            "top": null,
            "visibility": null,
            "width": null
          }
        },
        "a9f0bf78822d4e6489d06382f945395b": {
          "model_module": "@jupyter-widgets/controls",
          "model_name": "ProgressStyleModel",
          "model_module_version": "1.5.0",
          "state": {
            "_model_module": "@jupyter-widgets/controls",
            "_model_module_version": "1.5.0",
            "_model_name": "ProgressStyleModel",
            "_view_count": null,
            "_view_module": "@jupyter-widgets/base",
            "_view_module_version": "1.2.0",
            "_view_name": "StyleView",
            "bar_color": null,
            "description_width": ""
          }
        },
        "b5a64aadbba44c94a8e1e7f9fc33b80e": {
          "model_module": "@jupyter-widgets/base",
          "model_name": "LayoutModel",
          "model_module_version": "1.2.0",
          "state": {
            "_model_module": "@jupyter-widgets/base",
            "_model_module_version": "1.2.0",
            "_model_name": "LayoutModel",
            "_view_count": null,
            "_view_module": "@jupyter-widgets/base",
            "_view_module_version": "1.2.0",
            "_view_name": "LayoutView",
            "align_content": null,
            "align_items": null,
            "align_self": null,
            "border": null,
            "bottom": null,
            "display": null,
            "flex": null,
            "flex_flow": null,
            "grid_area": null,
            "grid_auto_columns": null,
            "grid_auto_flow": null,
            "grid_auto_rows": null,
            "grid_column": null,
            "grid_gap": null,
            "grid_row": null,
            "grid_template_areas": null,
            "grid_template_columns": null,
            "grid_template_rows": null,
            "height": null,
            "justify_content": null,
            "justify_items": null,
            "left": null,
            "margin": null,
            "max_height": null,
            "max_width": null,
            "min_height": null,
            "min_width": null,
            "object_fit": null,
            "object_position": null,
            "order": null,
            "overflow": null,
            "overflow_x": null,
            "overflow_y": null,
            "padding": null,
            "right": null,
            "top": null,
            "visibility": null,
            "width": null
          }
        },
        "2f7a24f5a9f04b78b5e1b7697c094ba9": {
          "model_module": "@jupyter-widgets/controls",
          "model_name": "DescriptionStyleModel",
          "model_module_version": "1.5.0",
          "state": {
            "_model_module": "@jupyter-widgets/controls",
            "_model_module_version": "1.5.0",
            "_model_name": "DescriptionStyleModel",
            "_view_count": null,
            "_view_module": "@jupyter-widgets/base",
            "_view_module_version": "1.2.0",
            "_view_name": "StyleView",
            "description_width": ""
          }
        },
        "beb92df1a4714588be440382c63b8fec": {
          "model_module": "@jupyter-widgets/controls",
          "model_name": "HBoxModel",
          "model_module_version": "1.5.0",
          "state": {
            "_dom_classes": [],
            "_model_module": "@jupyter-widgets/controls",
            "_model_module_version": "1.5.0",
            "_model_name": "HBoxModel",
            "_view_count": null,
            "_view_module": "@jupyter-widgets/controls",
            "_view_module_version": "1.5.0",
            "_view_name": "HBoxView",
            "box_style": "",
            "children": [
              "IPY_MODEL_469eba02c894485aa4eeed0e8ef66c8c",
              "IPY_MODEL_fe265d1fe15347fc964b0476ed338220",
              "IPY_MODEL_5ce89dba40614115885d915d2f62d773"
            ],
            "layout": "IPY_MODEL_c9359561427b4ebda1bf1324798fdde0"
          }
        },
        "469eba02c894485aa4eeed0e8ef66c8c": {
          "model_module": "@jupyter-widgets/controls",
          "model_name": "HTMLModel",
          "model_module_version": "1.5.0",
          "state": {
            "_dom_classes": [],
            "_model_module": "@jupyter-widgets/controls",
            "_model_module_version": "1.5.0",
            "_model_name": "HTMLModel",
            "_view_count": null,
            "_view_module": "@jupyter-widgets/controls",
            "_view_module_version": "1.5.0",
            "_view_name": "HTMLView",
            "description": "",
            "description_tooltip": null,
            "layout": "IPY_MODEL_366b285c1f9546ca8c845e463c0f5662",
            "placeholder": "​",
            "style": "IPY_MODEL_16ab456796d44070a35110ed96412796",
            "value": "Downloading data: 100%"
          }
        },
        "fe265d1fe15347fc964b0476ed338220": {
          "model_module": "@jupyter-widgets/controls",
          "model_name": "FloatProgressModel",
          "model_module_version": "1.5.0",
          "state": {
            "_dom_classes": [],
            "_model_module": "@jupyter-widgets/controls",
            "_model_module_version": "1.5.0",
            "_model_name": "FloatProgressModel",
            "_view_count": null,
            "_view_module": "@jupyter-widgets/controls",
            "_view_module_version": "1.5.0",
            "_view_name": "ProgressView",
            "bar_style": "success",
            "description": "",
            "description_tooltip": null,
            "layout": "IPY_MODEL_3ec974af536c4a2fa4b231e4fb0c6f1f",
            "max": 133669252,
            "min": 0,
            "orientation": "horizontal",
            "style": "IPY_MODEL_a5f7b323e9334668a26ad386c8ad8199",
            "value": 133669252
          }
        },
        "5ce89dba40614115885d915d2f62d773": {
          "model_module": "@jupyter-widgets/controls",
          "model_name": "HTMLModel",
          "model_module_version": "1.5.0",
          "state": {
            "_dom_classes": [],
            "_model_module": "@jupyter-widgets/controls",
            "_model_module_version": "1.5.0",
            "_model_name": "HTMLModel",
            "_view_count": null,
            "_view_module": "@jupyter-widgets/controls",
            "_view_module_version": "1.5.0",
            "_view_name": "HTMLView",
            "description": "",
            "description_tooltip": null,
            "layout": "IPY_MODEL_2586597651cb432382771c6bab88bb01",
            "placeholder": "​",
            "style": "IPY_MODEL_daa0f2eb7f3d4a4590caf45f08549183",
            "value": " 134M/134M [00:05&lt;00:00, 27.4MB/s]"
          }
        },
        "c9359561427b4ebda1bf1324798fdde0": {
          "model_module": "@jupyter-widgets/base",
          "model_name": "LayoutModel",
          "model_module_version": "1.2.0",
          "state": {
            "_model_module": "@jupyter-widgets/base",
            "_model_module_version": "1.2.0",
            "_model_name": "LayoutModel",
            "_view_count": null,
            "_view_module": "@jupyter-widgets/base",
            "_view_module_version": "1.2.0",
            "_view_name": "LayoutView",
            "align_content": null,
            "align_items": null,
            "align_self": null,
            "border": null,
            "bottom": null,
            "display": null,
            "flex": null,
            "flex_flow": null,
            "grid_area": null,
            "grid_auto_columns": null,
            "grid_auto_flow": null,
            "grid_auto_rows": null,
            "grid_column": null,
            "grid_gap": null,
            "grid_row": null,
            "grid_template_areas": null,
            "grid_template_columns": null,
            "grid_template_rows": null,
            "height": null,
            "justify_content": null,
            "justify_items": null,
            "left": null,
            "margin": null,
            "max_height": null,
            "max_width": null,
            "min_height": null,
            "min_width": null,
            "object_fit": null,
            "object_position": null,
            "order": null,
            "overflow": null,
            "overflow_x": null,
            "overflow_y": null,
            "padding": null,
            "right": null,
            "top": null,
            "visibility": null,
            "width": null
          }
        },
        "366b285c1f9546ca8c845e463c0f5662": {
          "model_module": "@jupyter-widgets/base",
          "model_name": "LayoutModel",
          "model_module_version": "1.2.0",
          "state": {
            "_model_module": "@jupyter-widgets/base",
            "_model_module_version": "1.2.0",
            "_model_name": "LayoutModel",
            "_view_count": null,
            "_view_module": "@jupyter-widgets/base",
            "_view_module_version": "1.2.0",
            "_view_name": "LayoutView",
            "align_content": null,
            "align_items": null,
            "align_self": null,
            "border": null,
            "bottom": null,
            "display": null,
            "flex": null,
            "flex_flow": null,
            "grid_area": null,
            "grid_auto_columns": null,
            "grid_auto_flow": null,
            "grid_auto_rows": null,
            "grid_column": null,
            "grid_gap": null,
            "grid_row": null,
            "grid_template_areas": null,
            "grid_template_columns": null,
            "grid_template_rows": null,
            "height": null,
            "justify_content": null,
            "justify_items": null,
            "left": null,
            "margin": null,
            "max_height": null,
            "max_width": null,
            "min_height": null,
            "min_width": null,
            "object_fit": null,
            "object_position": null,
            "order": null,
            "overflow": null,
            "overflow_x": null,
            "overflow_y": null,
            "padding": null,
            "right": null,
            "top": null,
            "visibility": null,
            "width": null
          }
        },
        "16ab456796d44070a35110ed96412796": {
          "model_module": "@jupyter-widgets/controls",
          "model_name": "DescriptionStyleModel",
          "model_module_version": "1.5.0",
          "state": {
            "_model_module": "@jupyter-widgets/controls",
            "_model_module_version": "1.5.0",
            "_model_name": "DescriptionStyleModel",
            "_view_count": null,
            "_view_module": "@jupyter-widgets/base",
            "_view_module_version": "1.2.0",
            "_view_name": "StyleView",
            "description_width": ""
          }
        },
        "3ec974af536c4a2fa4b231e4fb0c6f1f": {
          "model_module": "@jupyter-widgets/base",
          "model_name": "LayoutModel",
          "model_module_version": "1.2.0",
          "state": {
            "_model_module": "@jupyter-widgets/base",
            "_model_module_version": "1.2.0",
            "_model_name": "LayoutModel",
            "_view_count": null,
            "_view_module": "@jupyter-widgets/base",
            "_view_module_version": "1.2.0",
            "_view_name": "LayoutView",
            "align_content": null,
            "align_items": null,
            "align_self": null,
            "border": null,
            "bottom": null,
            "display": null,
            "flex": null,
            "flex_flow": null,
            "grid_area": null,
            "grid_auto_columns": null,
            "grid_auto_flow": null,
            "grid_auto_rows": null,
            "grid_column": null,
            "grid_gap": null,
            "grid_row": null,
            "grid_template_areas": null,
            "grid_template_columns": null,
            "grid_template_rows": null,
            "height": null,
            "justify_content": null,
            "justify_items": null,
            "left": null,
            "margin": null,
            "max_height": null,
            "max_width": null,
            "min_height": null,
            "min_width": null,
            "object_fit": null,
            "object_position": null,
            "order": null,
            "overflow": null,
            "overflow_x": null,
            "overflow_y": null,
            "padding": null,
            "right": null,
            "top": null,
            "visibility": null,
            "width": null
          }
        },
        "a5f7b323e9334668a26ad386c8ad8199": {
          "model_module": "@jupyter-widgets/controls",
          "model_name": "ProgressStyleModel",
          "model_module_version": "1.5.0",
          "state": {
            "_model_module": "@jupyter-widgets/controls",
            "_model_module_version": "1.5.0",
            "_model_name": "ProgressStyleModel",
            "_view_count": null,
            "_view_module": "@jupyter-widgets/base",
            "_view_module_version": "1.2.0",
            "_view_name": "StyleView",
            "bar_color": null,
            "description_width": ""
          }
        },
        "2586597651cb432382771c6bab88bb01": {
          "model_module": "@jupyter-widgets/base",
          "model_name": "LayoutModel",
          "model_module_version": "1.2.0",
          "state": {
            "_model_module": "@jupyter-widgets/base",
            "_model_module_version": "1.2.0",
            "_model_name": "LayoutModel",
            "_view_count": null,
            "_view_module": "@jupyter-widgets/base",
            "_view_module_version": "1.2.0",
            "_view_name": "LayoutView",
            "align_content": null,
            "align_items": null,
            "align_self": null,
            "border": null,
            "bottom": null,
            "display": null,
            "flex": null,
            "flex_flow": null,
            "grid_area": null,
            "grid_auto_columns": null,
            "grid_auto_flow": null,
            "grid_auto_rows": null,
            "grid_column": null,
            "grid_gap": null,
            "grid_row": null,
            "grid_template_areas": null,
            "grid_template_columns": null,
            "grid_template_rows": null,
            "height": null,
            "justify_content": null,
            "justify_items": null,
            "left": null,
            "margin": null,
            "max_height": null,
            "max_width": null,
            "min_height": null,
            "min_width": null,
            "object_fit": null,
            "object_position": null,
            "order": null,
            "overflow": null,
            "overflow_x": null,
            "overflow_y": null,
            "padding": null,
            "right": null,
            "top": null,
            "visibility": null,
            "width": null
          }
        },
        "daa0f2eb7f3d4a4590caf45f08549183": {
          "model_module": "@jupyter-widgets/controls",
          "model_name": "DescriptionStyleModel",
          "model_module_version": "1.5.0",
          "state": {
            "_model_module": "@jupyter-widgets/controls",
            "_model_module_version": "1.5.0",
            "_model_name": "DescriptionStyleModel",
            "_view_count": null,
            "_view_module": "@jupyter-widgets/base",
            "_view_module_version": "1.2.0",
            "_view_name": "StyleView",
            "description_width": ""
          }
        },
        "bf9a729aeb744189a006e087440115f2": {
          "model_module": "@jupyter-widgets/controls",
          "model_name": "HBoxModel",
          "model_module_version": "1.5.0",
          "state": {
            "_dom_classes": [],
            "_model_module": "@jupyter-widgets/controls",
            "_model_module_version": "1.5.0",
            "_model_name": "HBoxModel",
            "_view_count": null,
            "_view_module": "@jupyter-widgets/controls",
            "_view_module_version": "1.5.0",
            "_view_name": "HBoxView",
            "box_style": "",
            "children": [
              "IPY_MODEL_86b175cf0bdd4c379857ad9e10fb886d",
              "IPY_MODEL_53f12f2d2bf34569836b083411f58fff",
              "IPY_MODEL_678e9114a4124484b00f3e5c78100c71"
            ],
            "layout": "IPY_MODEL_c043d5e00bf7478b94f6bfc32de17fd6"
          }
        },
        "86b175cf0bdd4c379857ad9e10fb886d": {
          "model_module": "@jupyter-widgets/controls",
          "model_name": "HTMLModel",
          "model_module_version": "1.5.0",
          "state": {
            "_dom_classes": [],
            "_model_module": "@jupyter-widgets/controls",
            "_model_module_version": "1.5.0",
            "_model_name": "HTMLModel",
            "_view_count": null,
            "_view_module": "@jupyter-widgets/controls",
            "_view_module_version": "1.5.0",
            "_view_name": "HTMLView",
            "description": "",
            "description_tooltip": null,
            "layout": "IPY_MODEL_e4a0df1993994c8e90464005e9a5b5ae",
            "placeholder": "​",
            "style": "IPY_MODEL_ffe4338f5dd8447c8add3140b462231e",
            "value": "Generating train split: 100%"
          }
        },
        "53f12f2d2bf34569836b083411f58fff": {
          "model_module": "@jupyter-widgets/controls",
          "model_name": "FloatProgressModel",
          "model_module_version": "1.5.0",
          "state": {
            "_dom_classes": [],
            "_model_module": "@jupyter-widgets/controls",
            "_model_module_version": "1.5.0",
            "_model_name": "FloatProgressModel",
            "_view_count": null,
            "_view_module": "@jupyter-widgets/controls",
            "_view_module_version": "1.5.0",
            "_view_name": "ProgressView",
            "bar_style": "success",
            "description": "",
            "description_tooltip": null,
            "layout": "IPY_MODEL_4a26f978987b4f11809349267f1a3e6e",
            "max": 5128,
            "min": 0,
            "orientation": "horizontal",
            "style": "IPY_MODEL_f53c35f601824c119a7e3f5de67b27f0",
            "value": 5128
          }
        },
        "678e9114a4124484b00f3e5c78100c71": {
          "model_module": "@jupyter-widgets/controls",
          "model_name": "HTMLModel",
          "model_module_version": "1.5.0",
          "state": {
            "_dom_classes": [],
            "_model_module": "@jupyter-widgets/controls",
            "_model_module_version": "1.5.0",
            "_model_name": "HTMLModel",
            "_view_count": null,
            "_view_module": "@jupyter-widgets/controls",
            "_view_module_version": "1.5.0",
            "_view_name": "HTMLView",
            "description": "",
            "description_tooltip": null,
            "layout": "IPY_MODEL_de6e96d43eb147169b46f9fe70a5d332",
            "placeholder": "​",
            "style": "IPY_MODEL_f73c257a8dfc4c8eaaf9754f9b3c98a8",
            "value": " 5128/5128 [00:00&lt;00:00, 6604.01 examples/s]"
          }
        },
        "c043d5e00bf7478b94f6bfc32de17fd6": {
          "model_module": "@jupyter-widgets/base",
          "model_name": "LayoutModel",
          "model_module_version": "1.2.0",
          "state": {
            "_model_module": "@jupyter-widgets/base",
            "_model_module_version": "1.2.0",
            "_model_name": "LayoutModel",
            "_view_count": null,
            "_view_module": "@jupyter-widgets/base",
            "_view_module_version": "1.2.0",
            "_view_name": "LayoutView",
            "align_content": null,
            "align_items": null,
            "align_self": null,
            "border": null,
            "bottom": null,
            "display": null,
            "flex": null,
            "flex_flow": null,
            "grid_area": null,
            "grid_auto_columns": null,
            "grid_auto_flow": null,
            "grid_auto_rows": null,
            "grid_column": null,
            "grid_gap": null,
            "grid_row": null,
            "grid_template_areas": null,
            "grid_template_columns": null,
            "grid_template_rows": null,
            "height": null,
            "justify_content": null,
            "justify_items": null,
            "left": null,
            "margin": null,
            "max_height": null,
            "max_width": null,
            "min_height": null,
            "min_width": null,
            "object_fit": null,
            "object_position": null,
            "order": null,
            "overflow": null,
            "overflow_x": null,
            "overflow_y": null,
            "padding": null,
            "right": null,
            "top": null,
            "visibility": null,
            "width": null
          }
        },
        "e4a0df1993994c8e90464005e9a5b5ae": {
          "model_module": "@jupyter-widgets/base",
          "model_name": "LayoutModel",
          "model_module_version": "1.2.0",
          "state": {
            "_model_module": "@jupyter-widgets/base",
            "_model_module_version": "1.2.0",
            "_model_name": "LayoutModel",
            "_view_count": null,
            "_view_module": "@jupyter-widgets/base",
            "_view_module_version": "1.2.0",
            "_view_name": "LayoutView",
            "align_content": null,
            "align_items": null,
            "align_self": null,
            "border": null,
            "bottom": null,
            "display": null,
            "flex": null,
            "flex_flow": null,
            "grid_area": null,
            "grid_auto_columns": null,
            "grid_auto_flow": null,
            "grid_auto_rows": null,
            "grid_column": null,
            "grid_gap": null,
            "grid_row": null,
            "grid_template_areas": null,
            "grid_template_columns": null,
            "grid_template_rows": null,
            "height": null,
            "justify_content": null,
            "justify_items": null,
            "left": null,
            "margin": null,
            "max_height": null,
            "max_width": null,
            "min_height": null,
            "min_width": null,
            "object_fit": null,
            "object_position": null,
            "order": null,
            "overflow": null,
            "overflow_x": null,
            "overflow_y": null,
            "padding": null,
            "right": null,
            "top": null,
            "visibility": null,
            "width": null
          }
        },
        "ffe4338f5dd8447c8add3140b462231e": {
          "model_module": "@jupyter-widgets/controls",
          "model_name": "DescriptionStyleModel",
          "model_module_version": "1.5.0",
          "state": {
            "_model_module": "@jupyter-widgets/controls",
            "_model_module_version": "1.5.0",
            "_model_name": "DescriptionStyleModel",
            "_view_count": null,
            "_view_module": "@jupyter-widgets/base",
            "_view_module_version": "1.2.0",
            "_view_name": "StyleView",
            "description_width": ""
          }
        },
        "4a26f978987b4f11809349267f1a3e6e": {
          "model_module": "@jupyter-widgets/base",
          "model_name": "LayoutModel",
          "model_module_version": "1.2.0",
          "state": {
            "_model_module": "@jupyter-widgets/base",
            "_model_module_version": "1.2.0",
            "_model_name": "LayoutModel",
            "_view_count": null,
            "_view_module": "@jupyter-widgets/base",
            "_view_module_version": "1.2.0",
            "_view_name": "LayoutView",
            "align_content": null,
            "align_items": null,
            "align_self": null,
            "border": null,
            "bottom": null,
            "display": null,
            "flex": null,
            "flex_flow": null,
            "grid_area": null,
            "grid_auto_columns": null,
            "grid_auto_flow": null,
            "grid_auto_rows": null,
            "grid_column": null,
            "grid_gap": null,
            "grid_row": null,
            "grid_template_areas": null,
            "grid_template_columns": null,
            "grid_template_rows": null,
            "height": null,
            "justify_content": null,
            "justify_items": null,
            "left": null,
            "margin": null,
            "max_height": null,
            "max_width": null,
            "min_height": null,
            "min_width": null,
            "object_fit": null,
            "object_position": null,
            "order": null,
            "overflow": null,
            "overflow_x": null,
            "overflow_y": null,
            "padding": null,
            "right": null,
            "top": null,
            "visibility": null,
            "width": null
          }
        },
        "f53c35f601824c119a7e3f5de67b27f0": {
          "model_module": "@jupyter-widgets/controls",
          "model_name": "ProgressStyleModel",
          "model_module_version": "1.5.0",
          "state": {
            "_model_module": "@jupyter-widgets/controls",
            "_model_module_version": "1.5.0",
            "_model_name": "ProgressStyleModel",
            "_view_count": null,
            "_view_module": "@jupyter-widgets/base",
            "_view_module_version": "1.2.0",
            "_view_name": "StyleView",
            "bar_color": null,
            "description_width": ""
          }
        },
        "de6e96d43eb147169b46f9fe70a5d332": {
          "model_module": "@jupyter-widgets/base",
          "model_name": "LayoutModel",
          "model_module_version": "1.2.0",
          "state": {
            "_model_module": "@jupyter-widgets/base",
            "_model_module_version": "1.2.0",
            "_model_name": "LayoutModel",
            "_view_count": null,
            "_view_module": "@jupyter-widgets/base",
            "_view_module_version": "1.2.0",
            "_view_name": "LayoutView",
            "align_content": null,
            "align_items": null,
            "align_self": null,
            "border": null,
            "bottom": null,
            "display": null,
            "flex": null,
            "flex_flow": null,
            "grid_area": null,
            "grid_auto_columns": null,
            "grid_auto_flow": null,
            "grid_auto_rows": null,
            "grid_column": null,
            "grid_gap": null,
            "grid_row": null,
            "grid_template_areas": null,
            "grid_template_columns": null,
            "grid_template_rows": null,
            "height": null,
            "justify_content": null,
            "justify_items": null,
            "left": null,
            "margin": null,
            "max_height": null,
            "max_width": null,
            "min_height": null,
            "min_width": null,
            "object_fit": null,
            "object_position": null,
            "order": null,
            "overflow": null,
            "overflow_x": null,
            "overflow_y": null,
            "padding": null,
            "right": null,
            "top": null,
            "visibility": null,
            "width": null
          }
        },
        "f73c257a8dfc4c8eaaf9754f9b3c98a8": {
          "model_module": "@jupyter-widgets/controls",
          "model_name": "DescriptionStyleModel",
          "model_module_version": "1.5.0",
          "state": {
            "_model_module": "@jupyter-widgets/controls",
            "_model_module_version": "1.5.0",
            "_model_name": "DescriptionStyleModel",
            "_view_count": null,
            "_view_module": "@jupyter-widgets/base",
            "_view_module_version": "1.2.0",
            "_view_name": "StyleView",
            "description_width": ""
          }
        },
        "794530ad115f40b7be6a1173fe687c13": {
          "model_module": "@jupyter-widgets/controls",
          "model_name": "HBoxModel",
          "model_module_version": "1.5.0",
          "state": {
            "_dom_classes": [],
            "_model_module": "@jupyter-widgets/controls",
            "_model_module_version": "1.5.0",
            "_model_name": "HBoxModel",
            "_view_count": null,
            "_view_module": "@jupyter-widgets/controls",
            "_view_module_version": "1.5.0",
            "_view_name": "HBoxView",
            "box_style": "",
            "children": [
              "IPY_MODEL_5aa4f003b0eb4660a9c9f9fda672381a",
              "IPY_MODEL_ee4dd093cd8b4eea86a94990ae74f6e1",
              "IPY_MODEL_d0244d600c3c45efb8218125d7f508db"
            ],
            "layout": "IPY_MODEL_79cf78b3966042c5b10825c88b6fc365"
          }
        },
        "5aa4f003b0eb4660a9c9f9fda672381a": {
          "model_module": "@jupyter-widgets/controls",
          "model_name": "HTMLModel",
          "model_module_version": "1.5.0",
          "state": {
            "_dom_classes": [],
            "_model_module": "@jupyter-widgets/controls",
            "_model_module_version": "1.5.0",
            "_model_name": "HTMLModel",
            "_view_count": null,
            "_view_module": "@jupyter-widgets/controls",
            "_view_module_version": "1.5.0",
            "_view_name": "HTMLView",
            "description": "",
            "description_tooltip": null,
            "layout": "IPY_MODEL_68ee28af473c4552ba5af2d721a12a88",
            "placeholder": "​",
            "style": "IPY_MODEL_c1f09b2b0237405e84a55172c1581076",
            "value": "Generating validation split: 100%"
          }
        },
        "ee4dd093cd8b4eea86a94990ae74f6e1": {
          "model_module": "@jupyter-widgets/controls",
          "model_name": "FloatProgressModel",
          "model_module_version": "1.5.0",
          "state": {
            "_dom_classes": [],
            "_model_module": "@jupyter-widgets/controls",
            "_model_module_version": "1.5.0",
            "_model_name": "FloatProgressModel",
            "_view_count": null,
            "_view_module": "@jupyter-widgets/controls",
            "_view_module_version": "1.5.0",
            "_view_name": "ProgressView",
            "bar_style": "success",
            "description": "",
            "description_tooltip": null,
            "layout": "IPY_MODEL_bf1e3be222ff44dd8cd15e6e5c843d30",
            "max": 2884,
            "min": 0,
            "orientation": "horizontal",
            "style": "IPY_MODEL_16f427eff8004dbc9cf585c5e1830422",
            "value": 2884
          }
        },
        "d0244d600c3c45efb8218125d7f508db": {
          "model_module": "@jupyter-widgets/controls",
          "model_name": "HTMLModel",
          "model_module_version": "1.5.0",
          "state": {
            "_dom_classes": [],
            "_model_module": "@jupyter-widgets/controls",
            "_model_module_version": "1.5.0",
            "_model_name": "HTMLModel",
            "_view_count": null,
            "_view_module": "@jupyter-widgets/controls",
            "_view_module_version": "1.5.0",
            "_view_name": "HTMLView",
            "description": "",
            "description_tooltip": null,
            "layout": "IPY_MODEL_faa10c301d314bf7acbbaf5f8f6faa7c",
            "placeholder": "​",
            "style": "IPY_MODEL_ff4c689e057a45fc9edb111733a6ecc1",
            "value": " 2884/2884 [00:00&lt;00:00, 7236.66 examples/s]"
          }
        },
        "79cf78b3966042c5b10825c88b6fc365": {
          "model_module": "@jupyter-widgets/base",
          "model_name": "LayoutModel",
          "model_module_version": "1.2.0",
          "state": {
            "_model_module": "@jupyter-widgets/base",
            "_model_module_version": "1.2.0",
            "_model_name": "LayoutModel",
            "_view_count": null,
            "_view_module": "@jupyter-widgets/base",
            "_view_module_version": "1.2.0",
            "_view_name": "LayoutView",
            "align_content": null,
            "align_items": null,
            "align_self": null,
            "border": null,
            "bottom": null,
            "display": null,
            "flex": null,
            "flex_flow": null,
            "grid_area": null,
            "grid_auto_columns": null,
            "grid_auto_flow": null,
            "grid_auto_rows": null,
            "grid_column": null,
            "grid_gap": null,
            "grid_row": null,
            "grid_template_areas": null,
            "grid_template_columns": null,
            "grid_template_rows": null,
            "height": null,
            "justify_content": null,
            "justify_items": null,
            "left": null,
            "margin": null,
            "max_height": null,
            "max_width": null,
            "min_height": null,
            "min_width": null,
            "object_fit": null,
            "object_position": null,
            "order": null,
            "overflow": null,
            "overflow_x": null,
            "overflow_y": null,
            "padding": null,
            "right": null,
            "top": null,
            "visibility": null,
            "width": null
          }
        },
        "68ee28af473c4552ba5af2d721a12a88": {
          "model_module": "@jupyter-widgets/base",
          "model_name": "LayoutModel",
          "model_module_version": "1.2.0",
          "state": {
            "_model_module": "@jupyter-widgets/base",
            "_model_module_version": "1.2.0",
            "_model_name": "LayoutModel",
            "_view_count": null,
            "_view_module": "@jupyter-widgets/base",
            "_view_module_version": "1.2.0",
            "_view_name": "LayoutView",
            "align_content": null,
            "align_items": null,
            "align_self": null,
            "border": null,
            "bottom": null,
            "display": null,
            "flex": null,
            "flex_flow": null,
            "grid_area": null,
            "grid_auto_columns": null,
            "grid_auto_flow": null,
            "grid_auto_rows": null,
            "grid_column": null,
            "grid_gap": null,
            "grid_row": null,
            "grid_template_areas": null,
            "grid_template_columns": null,
            "grid_template_rows": null,
            "height": null,
            "justify_content": null,
            "justify_items": null,
            "left": null,
            "margin": null,
            "max_height": null,
            "max_width": null,
            "min_height": null,
            "min_width": null,
            "object_fit": null,
            "object_position": null,
            "order": null,
            "overflow": null,
            "overflow_x": null,
            "overflow_y": null,
            "padding": null,
            "right": null,
            "top": null,
            "visibility": null,
            "width": null
          }
        },
        "c1f09b2b0237405e84a55172c1581076": {
          "model_module": "@jupyter-widgets/controls",
          "model_name": "DescriptionStyleModel",
          "model_module_version": "1.5.0",
          "state": {
            "_model_module": "@jupyter-widgets/controls",
            "_model_module_version": "1.5.0",
            "_model_name": "DescriptionStyleModel",
            "_view_count": null,
            "_view_module": "@jupyter-widgets/base",
            "_view_module_version": "1.2.0",
            "_view_name": "StyleView",
            "description_width": ""
          }
        },
        "bf1e3be222ff44dd8cd15e6e5c843d30": {
          "model_module": "@jupyter-widgets/base",
          "model_name": "LayoutModel",
          "model_module_version": "1.2.0",
          "state": {
            "_model_module": "@jupyter-widgets/base",
            "_model_module_version": "1.2.0",
            "_model_name": "LayoutModel",
            "_view_count": null,
            "_view_module": "@jupyter-widgets/base",
            "_view_module_version": "1.2.0",
            "_view_name": "LayoutView",
            "align_content": null,
            "align_items": null,
            "align_self": null,
            "border": null,
            "bottom": null,
            "display": null,
            "flex": null,
            "flex_flow": null,
            "grid_area": null,
            "grid_auto_columns": null,
            "grid_auto_flow": null,
            "grid_auto_rows": null,
            "grid_column": null,
            "grid_gap": null,
            "grid_row": null,
            "grid_template_areas": null,
            "grid_template_columns": null,
            "grid_template_rows": null,
            "height": null,
            "justify_content": null,
            "justify_items": null,
            "left": null,
            "margin": null,
            "max_height": null,
            "max_width": null,
            "min_height": null,
            "min_width": null,
            "object_fit": null,
            "object_position": null,
            "order": null,
            "overflow": null,
            "overflow_x": null,
            "overflow_y": null,
            "padding": null,
            "right": null,
            "top": null,
            "visibility": null,
            "width": null
          }
        },
        "16f427eff8004dbc9cf585c5e1830422": {
          "model_module": "@jupyter-widgets/controls",
          "model_name": "ProgressStyleModel",
          "model_module_version": "1.5.0",
          "state": {
            "_model_module": "@jupyter-widgets/controls",
            "_model_module_version": "1.5.0",
            "_model_name": "ProgressStyleModel",
            "_view_count": null,
            "_view_module": "@jupyter-widgets/base",
            "_view_module_version": "1.2.0",
            "_view_name": "StyleView",
            "bar_color": null,
            "description_width": ""
          }
        },
        "faa10c301d314bf7acbbaf5f8f6faa7c": {
          "model_module": "@jupyter-widgets/base",
          "model_name": "LayoutModel",
          "model_module_version": "1.2.0",
          "state": {
            "_model_module": "@jupyter-widgets/base",
            "_model_module_version": "1.2.0",
            "_model_name": "LayoutModel",
            "_view_count": null,
            "_view_module": "@jupyter-widgets/base",
            "_view_module_version": "1.2.0",
            "_view_name": "LayoutView",
            "align_content": null,
            "align_items": null,
            "align_self": null,
            "border": null,
            "bottom": null,
            "display": null,
            "flex": null,
            "flex_flow": null,
            "grid_area": null,
            "grid_auto_columns": null,
            "grid_auto_flow": null,
            "grid_auto_rows": null,
            "grid_column": null,
            "grid_gap": null,
            "grid_row": null,
            "grid_template_areas": null,
            "grid_template_columns": null,
            "grid_template_rows": null,
            "height": null,
            "justify_content": null,
            "justify_items": null,
            "left": null,
            "margin": null,
            "max_height": null,
            "max_width": null,
            "min_height": null,
            "min_width": null,
            "object_fit": null,
            "object_position": null,
            "order": null,
            "overflow": null,
            "overflow_x": null,
            "overflow_y": null,
            "padding": null,
            "right": null,
            "top": null,
            "visibility": null,
            "width": null
          }
        },
        "ff4c689e057a45fc9edb111733a6ecc1": {
          "model_module": "@jupyter-widgets/controls",
          "model_name": "DescriptionStyleModel",
          "model_module_version": "1.5.0",
          "state": {
            "_model_module": "@jupyter-widgets/controls",
            "_model_module_version": "1.5.0",
            "_model_name": "DescriptionStyleModel",
            "_view_count": null,
            "_view_module": "@jupyter-widgets/base",
            "_view_module_version": "1.2.0",
            "_view_name": "StyleView",
            "description_width": ""
          }
        },
        "b325ecf4524f470db99e66bce62d0c8a": {
          "model_module": "@jupyter-widgets/controls",
          "model_name": "HBoxModel",
          "model_module_version": "1.5.0",
          "state": {
            "_dom_classes": [],
            "_model_module": "@jupyter-widgets/controls",
            "_model_module_version": "1.5.0",
            "_model_name": "HBoxModel",
            "_view_count": null,
            "_view_module": "@jupyter-widgets/controls",
            "_view_module_version": "1.5.0",
            "_view_name": "HBoxView",
            "box_style": "",
            "children": [
              "IPY_MODEL_9cf148ef87c547d59fcebebd281f960f",
              "IPY_MODEL_d95e5a4b0faf4fa18c9121e16be40e5c",
              "IPY_MODEL_c776f96b3bef41758259ced4e8ba35fa"
            ],
            "layout": "IPY_MODEL_a473c01d17d44900948aafbc238f9ad2"
          }
        },
        "9cf148ef87c547d59fcebebd281f960f": {
          "model_module": "@jupyter-widgets/controls",
          "model_name": "HTMLModel",
          "model_module_version": "1.5.0",
          "state": {
            "_dom_classes": [],
            "_model_module": "@jupyter-widgets/controls",
            "_model_module_version": "1.5.0",
            "_model_name": "HTMLModel",
            "_view_count": null,
            "_view_module": "@jupyter-widgets/controls",
            "_view_module_version": "1.5.0",
            "_view_name": "HTMLView",
            "description": "",
            "description_tooltip": null,
            "layout": "IPY_MODEL_9024b07afef049deb2e513b0fe154d10",
            "placeholder": "​",
            "style": "IPY_MODEL_5900a182a14e491aab2a3bbbb8430a13",
            "value": "Generating test split: 100%"
          }
        },
        "d95e5a4b0faf4fa18c9121e16be40e5c": {
          "model_module": "@jupyter-widgets/controls",
          "model_name": "FloatProgressModel",
          "model_module_version": "1.5.0",
          "state": {
            "_dom_classes": [],
            "_model_module": "@jupyter-widgets/controls",
            "_model_module_version": "1.5.0",
            "_model_name": "FloatProgressModel",
            "_view_count": null,
            "_view_module": "@jupyter-widgets/controls",
            "_view_module_version": "1.5.0",
            "_view_name": "ProgressView",
            "bar_style": "success",
            "description": "",
            "description_tooltip": null,
            "layout": "IPY_MODEL_1eb2f68ffcc74fa5a9e57e691b3fb971",
            "max": 2003,
            "min": 0,
            "orientation": "horizontal",
            "style": "IPY_MODEL_3e805c6408a146738b85d1c8624e051a",
            "value": 2003
          }
        },
        "c776f96b3bef41758259ced4e8ba35fa": {
          "model_module": "@jupyter-widgets/controls",
          "model_name": "HTMLModel",
          "model_module_version": "1.5.0",
          "state": {
            "_dom_classes": [],
            "_model_module": "@jupyter-widgets/controls",
            "_model_module_version": "1.5.0",
            "_model_name": "HTMLModel",
            "_view_count": null,
            "_view_module": "@jupyter-widgets/controls",
            "_view_module_version": "1.5.0",
            "_view_name": "HTMLView",
            "description": "",
            "description_tooltip": null,
            "layout": "IPY_MODEL_79b5d10dddda441193d502d126d160f1",
            "placeholder": "​",
            "style": "IPY_MODEL_1fd30c4bb25043059ba138edfd7ce0e7",
            "value": " 2003/2003 [00:00&lt;00:00, 6247.56 examples/s]"
          }
        },
        "a473c01d17d44900948aafbc238f9ad2": {
          "model_module": "@jupyter-widgets/base",
          "model_name": "LayoutModel",
          "model_module_version": "1.2.0",
          "state": {
            "_model_module": "@jupyter-widgets/base",
            "_model_module_version": "1.2.0",
            "_model_name": "LayoutModel",
            "_view_count": null,
            "_view_module": "@jupyter-widgets/base",
            "_view_module_version": "1.2.0",
            "_view_name": "LayoutView",
            "align_content": null,
            "align_items": null,
            "align_self": null,
            "border": null,
            "bottom": null,
            "display": null,
            "flex": null,
            "flex_flow": null,
            "grid_area": null,
            "grid_auto_columns": null,
            "grid_auto_flow": null,
            "grid_auto_rows": null,
            "grid_column": null,
            "grid_gap": null,
            "grid_row": null,
            "grid_template_areas": null,
            "grid_template_columns": null,
            "grid_template_rows": null,
            "height": null,
            "justify_content": null,
            "justify_items": null,
            "left": null,
            "margin": null,
            "max_height": null,
            "max_width": null,
            "min_height": null,
            "min_width": null,
            "object_fit": null,
            "object_position": null,
            "order": null,
            "overflow": null,
            "overflow_x": null,
            "overflow_y": null,
            "padding": null,
            "right": null,
            "top": null,
            "visibility": null,
            "width": null
          }
        },
        "9024b07afef049deb2e513b0fe154d10": {
          "model_module": "@jupyter-widgets/base",
          "model_name": "LayoutModel",
          "model_module_version": "1.2.0",
          "state": {
            "_model_module": "@jupyter-widgets/base",
            "_model_module_version": "1.2.0",
            "_model_name": "LayoutModel",
            "_view_count": null,
            "_view_module": "@jupyter-widgets/base",
            "_view_module_version": "1.2.0",
            "_view_name": "LayoutView",
            "align_content": null,
            "align_items": null,
            "align_self": null,
            "border": null,
            "bottom": null,
            "display": null,
            "flex": null,
            "flex_flow": null,
            "grid_area": null,
            "grid_auto_columns": null,
            "grid_auto_flow": null,
            "grid_auto_rows": null,
            "grid_column": null,
            "grid_gap": null,
            "grid_row": null,
            "grid_template_areas": null,
            "grid_template_columns": null,
            "grid_template_rows": null,
            "height": null,
            "justify_content": null,
            "justify_items": null,
            "left": null,
            "margin": null,
            "max_height": null,
            "max_width": null,
            "min_height": null,
            "min_width": null,
            "object_fit": null,
            "object_position": null,
            "order": null,
            "overflow": null,
            "overflow_x": null,
            "overflow_y": null,
            "padding": null,
            "right": null,
            "top": null,
            "visibility": null,
            "width": null
          }
        },
        "5900a182a14e491aab2a3bbbb8430a13": {
          "model_module": "@jupyter-widgets/controls",
          "model_name": "DescriptionStyleModel",
          "model_module_version": "1.5.0",
          "state": {
            "_model_module": "@jupyter-widgets/controls",
            "_model_module_version": "1.5.0",
            "_model_name": "DescriptionStyleModel",
            "_view_count": null,
            "_view_module": "@jupyter-widgets/base",
            "_view_module_version": "1.2.0",
            "_view_name": "StyleView",
            "description_width": ""
          }
        },
        "1eb2f68ffcc74fa5a9e57e691b3fb971": {
          "model_module": "@jupyter-widgets/base",
          "model_name": "LayoutModel",
          "model_module_version": "1.2.0",
          "state": {
            "_model_module": "@jupyter-widgets/base",
            "_model_module_version": "1.2.0",
            "_model_name": "LayoutModel",
            "_view_count": null,
            "_view_module": "@jupyter-widgets/base",
            "_view_module_version": "1.2.0",
            "_view_name": "LayoutView",
            "align_content": null,
            "align_items": null,
            "align_self": null,
            "border": null,
            "bottom": null,
            "display": null,
            "flex": null,
            "flex_flow": null,
            "grid_area": null,
            "grid_auto_columns": null,
            "grid_auto_flow": null,
            "grid_auto_rows": null,
            "grid_column": null,
            "grid_gap": null,
            "grid_row": null,
            "grid_template_areas": null,
            "grid_template_columns": null,
            "grid_template_rows": null,
            "height": null,
            "justify_content": null,
            "justify_items": null,
            "left": null,
            "margin": null,
            "max_height": null,
            "max_width": null,
            "min_height": null,
            "min_width": null,
            "object_fit": null,
            "object_position": null,
            "order": null,
            "overflow": null,
            "overflow_x": null,
            "overflow_y": null,
            "padding": null,
            "right": null,
            "top": null,
            "visibility": null,
            "width": null
          }
        },
        "3e805c6408a146738b85d1c8624e051a": {
          "model_module": "@jupyter-widgets/controls",
          "model_name": "ProgressStyleModel",
          "model_module_version": "1.5.0",
          "state": {
            "_model_module": "@jupyter-widgets/controls",
            "_model_module_version": "1.5.0",
            "_model_name": "ProgressStyleModel",
            "_view_count": null,
            "_view_module": "@jupyter-widgets/base",
            "_view_module_version": "1.2.0",
            "_view_name": "StyleView",
            "bar_color": null,
            "description_width": ""
          }
        },
        "79b5d10dddda441193d502d126d160f1": {
          "model_module": "@jupyter-widgets/base",
          "model_name": "LayoutModel",
          "model_module_version": "1.2.0",
          "state": {
            "_model_module": "@jupyter-widgets/base",
            "_model_module_version": "1.2.0",
            "_model_name": "LayoutModel",
            "_view_count": null,
            "_view_module": "@jupyter-widgets/base",
            "_view_module_version": "1.2.0",
            "_view_name": "LayoutView",
            "align_content": null,
            "align_items": null,
            "align_self": null,
            "border": null,
            "bottom": null,
            "display": null,
            "flex": null,
            "flex_flow": null,
            "grid_area": null,
            "grid_auto_columns": null,
            "grid_auto_flow": null,
            "grid_auto_rows": null,
            "grid_column": null,
            "grid_gap": null,
            "grid_row": null,
            "grid_template_areas": null,
            "grid_template_columns": null,
            "grid_template_rows": null,
            "height": null,
            "justify_content": null,
            "justify_items": null,
            "left": null,
            "margin": null,
            "max_height": null,
            "max_width": null,
            "min_height": null,
            "min_width": null,
            "object_fit": null,
            "object_position": null,
            "order": null,
            "overflow": null,
            "overflow_x": null,
            "overflow_y": null,
            "padding": null,
            "right": null,
            "top": null,
            "visibility": null,
            "width": null
          }
        },
        "1fd30c4bb25043059ba138edfd7ce0e7": {
          "model_module": "@jupyter-widgets/controls",
          "model_name": "DescriptionStyleModel",
          "model_module_version": "1.5.0",
          "state": {
            "_model_module": "@jupyter-widgets/controls",
            "_model_module_version": "1.5.0",
            "_model_name": "DescriptionStyleModel",
            "_view_count": null,
            "_view_module": "@jupyter-widgets/base",
            "_view_module_version": "1.2.0",
            "_view_name": "StyleView",
            "description_width": ""
          }
        },
        "6df3578db6764c74b241a8d83dc4464c": {
          "model_module": "@jupyter-widgets/controls",
          "model_name": "HBoxModel",
          "model_module_version": "1.5.0",
          "state": {
            "_dom_classes": [],
            "_model_module": "@jupyter-widgets/controls",
            "_model_module_version": "1.5.0",
            "_model_name": "HBoxModel",
            "_view_count": null,
            "_view_module": "@jupyter-widgets/controls",
            "_view_module_version": "1.5.0",
            "_view_name": "HBoxView",
            "box_style": "",
            "children": [
              "IPY_MODEL_577880d306c34bf2843214418cc42ae3",
              "IPY_MODEL_465b165bfa1b4276a852654b2ecf237a",
              "IPY_MODEL_d95f953158a6409e8451cb0b2db77eea"
            ],
            "layout": "IPY_MODEL_f3d286aa55b64673ab7a3ac9bcf31634"
          }
        },
        "577880d306c34bf2843214418cc42ae3": {
          "model_module": "@jupyter-widgets/controls",
          "model_name": "HTMLModel",
          "model_module_version": "1.5.0",
          "state": {
            "_dom_classes": [],
            "_model_module": "@jupyter-widgets/controls",
            "_model_module_version": "1.5.0",
            "_model_name": "HTMLModel",
            "_view_count": null,
            "_view_module": "@jupyter-widgets/controls",
            "_view_module_version": "1.5.0",
            "_view_name": "HTMLView",
            "description": "",
            "description_tooltip": null,
            "layout": "IPY_MODEL_3e6f670b7a784d758c0047f44a8eee18",
            "placeholder": "​",
            "style": "IPY_MODEL_be350084c6a643f99f9ba8cb5c80e3d5",
            "value": "preprocessor_config.json: 100%"
          }
        },
        "465b165bfa1b4276a852654b2ecf237a": {
          "model_module": "@jupyter-widgets/controls",
          "model_name": "FloatProgressModel",
          "model_module_version": "1.5.0",
          "state": {
            "_dom_classes": [],
            "_model_module": "@jupyter-widgets/controls",
            "_model_module_version": "1.5.0",
            "_model_name": "FloatProgressModel",
            "_view_count": null,
            "_view_module": "@jupyter-widgets/controls",
            "_view_module_version": "1.5.0",
            "_view_name": "ProgressView",
            "bar_style": "success",
            "description": "",
            "description_tooltip": null,
            "layout": "IPY_MODEL_dece560b51f8496fb6e69f33b336afd8",
            "max": 160,
            "min": 0,
            "orientation": "horizontal",
            "style": "IPY_MODEL_2ed350c2039c4295a4adb09c78637c5f",
            "value": 160
          }
        },
        "d95f953158a6409e8451cb0b2db77eea": {
          "model_module": "@jupyter-widgets/controls",
          "model_name": "HTMLModel",
          "model_module_version": "1.5.0",
          "state": {
            "_dom_classes": [],
            "_model_module": "@jupyter-widgets/controls",
            "_model_module_version": "1.5.0",
            "_model_name": "HTMLModel",
            "_view_count": null,
            "_view_module": "@jupyter-widgets/controls",
            "_view_module_version": "1.5.0",
            "_view_name": "HTMLView",
            "description": "",
            "description_tooltip": null,
            "layout": "IPY_MODEL_0721534fee86461094a5353fd9d40ce8",
            "placeholder": "​",
            "style": "IPY_MODEL_73bf37551a314db3bd1cca6e0f659cc5",
            "value": " 160/160 [00:00&lt;00:00, 14.4kB/s]"
          }
        },
        "f3d286aa55b64673ab7a3ac9bcf31634": {
          "model_module": "@jupyter-widgets/base",
          "model_name": "LayoutModel",
          "model_module_version": "1.2.0",
          "state": {
            "_model_module": "@jupyter-widgets/base",
            "_model_module_version": "1.2.0",
            "_model_name": "LayoutModel",
            "_view_count": null,
            "_view_module": "@jupyter-widgets/base",
            "_view_module_version": "1.2.0",
            "_view_name": "LayoutView",
            "align_content": null,
            "align_items": null,
            "align_self": null,
            "border": null,
            "bottom": null,
            "display": null,
            "flex": null,
            "flex_flow": null,
            "grid_area": null,
            "grid_auto_columns": null,
            "grid_auto_flow": null,
            "grid_auto_rows": null,
            "grid_column": null,
            "grid_gap": null,
            "grid_row": null,
            "grid_template_areas": null,
            "grid_template_columns": null,
            "grid_template_rows": null,
            "height": null,
            "justify_content": null,
            "justify_items": null,
            "left": null,
            "margin": null,
            "max_height": null,
            "max_width": null,
            "min_height": null,
            "min_width": null,
            "object_fit": null,
            "object_position": null,
            "order": null,
            "overflow": null,
            "overflow_x": null,
            "overflow_y": null,
            "padding": null,
            "right": null,
            "top": null,
            "visibility": null,
            "width": null
          }
        },
        "3e6f670b7a784d758c0047f44a8eee18": {
          "model_module": "@jupyter-widgets/base",
          "model_name": "LayoutModel",
          "model_module_version": "1.2.0",
          "state": {
            "_model_module": "@jupyter-widgets/base",
            "_model_module_version": "1.2.0",
            "_model_name": "LayoutModel",
            "_view_count": null,
            "_view_module": "@jupyter-widgets/base",
            "_view_module_version": "1.2.0",
            "_view_name": "LayoutView",
            "align_content": null,
            "align_items": null,
            "align_self": null,
            "border": null,
            "bottom": null,
            "display": null,
            "flex": null,
            "flex_flow": null,
            "grid_area": null,
            "grid_auto_columns": null,
            "grid_auto_flow": null,
            "grid_auto_rows": null,
            "grid_column": null,
            "grid_gap": null,
            "grid_row": null,
            "grid_template_areas": null,
            "grid_template_columns": null,
            "grid_template_rows": null,
            "height": null,
            "justify_content": null,
            "justify_items": null,
            "left": null,
            "margin": null,
            "max_height": null,
            "max_width": null,
            "min_height": null,
            "min_width": null,
            "object_fit": null,
            "object_position": null,
            "order": null,
            "overflow": null,
            "overflow_x": null,
            "overflow_y": null,
            "padding": null,
            "right": null,
            "top": null,
            "visibility": null,
            "width": null
          }
        },
        "be350084c6a643f99f9ba8cb5c80e3d5": {
          "model_module": "@jupyter-widgets/controls",
          "model_name": "DescriptionStyleModel",
          "model_module_version": "1.5.0",
          "state": {
            "_model_module": "@jupyter-widgets/controls",
            "_model_module_version": "1.5.0",
            "_model_name": "DescriptionStyleModel",
            "_view_count": null,
            "_view_module": "@jupyter-widgets/base",
            "_view_module_version": "1.2.0",
            "_view_name": "StyleView",
            "description_width": ""
          }
        },
        "dece560b51f8496fb6e69f33b336afd8": {
          "model_module": "@jupyter-widgets/base",
          "model_name": "LayoutModel",
          "model_module_version": "1.2.0",
          "state": {
            "_model_module": "@jupyter-widgets/base",
            "_model_module_version": "1.2.0",
            "_model_name": "LayoutModel",
            "_view_count": null,
            "_view_module": "@jupyter-widgets/base",
            "_view_module_version": "1.2.0",
            "_view_name": "LayoutView",
            "align_content": null,
            "align_items": null,
            "align_self": null,
            "border": null,
            "bottom": null,
            "display": null,
            "flex": null,
            "flex_flow": null,
            "grid_area": null,
            "grid_auto_columns": null,
            "grid_auto_flow": null,
            "grid_auto_rows": null,
            "grid_column": null,
            "grid_gap": null,
            "grid_row": null,
            "grid_template_areas": null,
            "grid_template_columns": null,
            "grid_template_rows": null,
            "height": null,
            "justify_content": null,
            "justify_items": null,
            "left": null,
            "margin": null,
            "max_height": null,
            "max_width": null,
            "min_height": null,
            "min_width": null,
            "object_fit": null,
            "object_position": null,
            "order": null,
            "overflow": null,
            "overflow_x": null,
            "overflow_y": null,
            "padding": null,
            "right": null,
            "top": null,
            "visibility": null,
            "width": null
          }
        },
        "2ed350c2039c4295a4adb09c78637c5f": {
          "model_module": "@jupyter-widgets/controls",
          "model_name": "ProgressStyleModel",
          "model_module_version": "1.5.0",
          "state": {
            "_model_module": "@jupyter-widgets/controls",
            "_model_module_version": "1.5.0",
            "_model_name": "ProgressStyleModel",
            "_view_count": null,
            "_view_module": "@jupyter-widgets/base",
            "_view_module_version": "1.2.0",
            "_view_name": "StyleView",
            "bar_color": null,
            "description_width": ""
          }
        },
        "0721534fee86461094a5353fd9d40ce8": {
          "model_module": "@jupyter-widgets/base",
          "model_name": "LayoutModel",
          "model_module_version": "1.2.0",
          "state": {
            "_model_module": "@jupyter-widgets/base",
            "_model_module_version": "1.2.0",
            "_model_name": "LayoutModel",
            "_view_count": null,
            "_view_module": "@jupyter-widgets/base",
            "_view_module_version": "1.2.0",
            "_view_name": "LayoutView",
            "align_content": null,
            "align_items": null,
            "align_self": null,
            "border": null,
            "bottom": null,
            "display": null,
            "flex": null,
            "flex_flow": null,
            "grid_area": null,
            "grid_auto_columns": null,
            "grid_auto_flow": null,
            "grid_auto_rows": null,
            "grid_column": null,
            "grid_gap": null,
            "grid_row": null,
            "grid_template_areas": null,
            "grid_template_columns": null,
            "grid_template_rows": null,
            "height": null,
            "justify_content": null,
            "justify_items": null,
            "left": null,
            "margin": null,
            "max_height": null,
            "max_width": null,
            "min_height": null,
            "min_width": null,
            "object_fit": null,
            "object_position": null,
            "order": null,
            "overflow": null,
            "overflow_x": null,
            "overflow_y": null,
            "padding": null,
            "right": null,
            "top": null,
            "visibility": null,
            "width": null
          }
        },
        "73bf37551a314db3bd1cca6e0f659cc5": {
          "model_module": "@jupyter-widgets/controls",
          "model_name": "DescriptionStyleModel",
          "model_module_version": "1.5.0",
          "state": {
            "_model_module": "@jupyter-widgets/controls",
            "_model_module_version": "1.5.0",
            "_model_name": "DescriptionStyleModel",
            "_view_count": null,
            "_view_module": "@jupyter-widgets/base",
            "_view_module_version": "1.2.0",
            "_view_name": "StyleView",
            "description_width": ""
          }
        },
        "d33ed09691a946218de94465a5180e51": {
          "model_module": "@jupyter-widgets/controls",
          "model_name": "HBoxModel",
          "model_module_version": "1.5.0",
          "state": {
            "_dom_classes": [],
            "_model_module": "@jupyter-widgets/controls",
            "_model_module_version": "1.5.0",
            "_model_name": "HBoxModel",
            "_view_count": null,
            "_view_module": "@jupyter-widgets/controls",
            "_view_module_version": "1.5.0",
            "_view_name": "HBoxView",
            "box_style": "",
            "children": [
              "IPY_MODEL_f859ca6e27994482bc74816b65391d84",
              "IPY_MODEL_b1fb50d1882b4d9dab4972b6c4a661b1",
              "IPY_MODEL_7eb08526c0124d6dab21d7b5bdd3c3ad"
            ],
            "layout": "IPY_MODEL_e60e128e702341128b6f1518ec171c51"
          }
        },
        "f859ca6e27994482bc74816b65391d84": {
          "model_module": "@jupyter-widgets/controls",
          "model_name": "HTMLModel",
          "model_module_version": "1.5.0",
          "state": {
            "_dom_classes": [],
            "_model_module": "@jupyter-widgets/controls",
            "_model_module_version": "1.5.0",
            "_model_name": "HTMLModel",
            "_view_count": null,
            "_view_module": "@jupyter-widgets/controls",
            "_view_module_version": "1.5.0",
            "_view_name": "HTMLView",
            "description": "",
            "description_tooltip": null,
            "layout": "IPY_MODEL_c1410dfc94e24fa5b8c7f55a9b275db7",
            "placeholder": "​",
            "style": "IPY_MODEL_f5334685aca248afbae1a9da82ade654",
            "value": "events.out.tfevents.1711096616.80a90583e6d6.2864.5: 100%"
          }
        },
        "b1fb50d1882b4d9dab4972b6c4a661b1": {
          "model_module": "@jupyter-widgets/controls",
          "model_name": "FloatProgressModel",
          "model_module_version": "1.5.0",
          "state": {
            "_dom_classes": [],
            "_model_module": "@jupyter-widgets/controls",
            "_model_module_version": "1.5.0",
            "_model_name": "FloatProgressModel",
            "_view_count": null,
            "_view_module": "@jupyter-widgets/controls",
            "_view_module_version": "1.5.0",
            "_view_name": "ProgressView",
            "bar_style": "success",
            "description": "",
            "description_tooltip": null,
            "layout": "IPY_MODEL_54f1214e4d53417f91b61036f3589b06",
            "max": 560,
            "min": 0,
            "orientation": "horizontal",
            "style": "IPY_MODEL_d33421b3fc0a4cd89a01b6007bc806e4",
            "value": 560
          }
        },
        "7eb08526c0124d6dab21d7b5bdd3c3ad": {
          "model_module": "@jupyter-widgets/controls",
          "model_name": "HTMLModel",
          "model_module_version": "1.5.0",
          "state": {
            "_dom_classes": [],
            "_model_module": "@jupyter-widgets/controls",
            "_model_module_version": "1.5.0",
            "_model_name": "HTMLModel",
            "_view_count": null,
            "_view_module": "@jupyter-widgets/controls",
            "_view_module_version": "1.5.0",
            "_view_name": "HTMLView",
            "description": "",
            "description_tooltip": null,
            "layout": "IPY_MODEL_700abe5d61fd4f1480787c36bc80b05c",
            "placeholder": "​",
            "style": "IPY_MODEL_4366a290e1f0442cbde12c1f60b68cb6",
            "value": " 560/560 [00:00&lt;00:00, 1.51kB/s]"
          }
        },
        "e60e128e702341128b6f1518ec171c51": {
          "model_module": "@jupyter-widgets/base",
          "model_name": "LayoutModel",
          "model_module_version": "1.2.0",
          "state": {
            "_model_module": "@jupyter-widgets/base",
            "_model_module_version": "1.2.0",
            "_model_name": "LayoutModel",
            "_view_count": null,
            "_view_module": "@jupyter-widgets/base",
            "_view_module_version": "1.2.0",
            "_view_name": "LayoutView",
            "align_content": null,
            "align_items": null,
            "align_self": null,
            "border": null,
            "bottom": null,
            "display": null,
            "flex": null,
            "flex_flow": null,
            "grid_area": null,
            "grid_auto_columns": null,
            "grid_auto_flow": null,
            "grid_auto_rows": null,
            "grid_column": null,
            "grid_gap": null,
            "grid_row": null,
            "grid_template_areas": null,
            "grid_template_columns": null,
            "grid_template_rows": null,
            "height": null,
            "justify_content": null,
            "justify_items": null,
            "left": null,
            "margin": null,
            "max_height": null,
            "max_width": null,
            "min_height": null,
            "min_width": null,
            "object_fit": null,
            "object_position": null,
            "order": null,
            "overflow": null,
            "overflow_x": null,
            "overflow_y": null,
            "padding": null,
            "right": null,
            "top": null,
            "visibility": null,
            "width": null
          }
        },
        "c1410dfc94e24fa5b8c7f55a9b275db7": {
          "model_module": "@jupyter-widgets/base",
          "model_name": "LayoutModel",
          "model_module_version": "1.2.0",
          "state": {
            "_model_module": "@jupyter-widgets/base",
            "_model_module_version": "1.2.0",
            "_model_name": "LayoutModel",
            "_view_count": null,
            "_view_module": "@jupyter-widgets/base",
            "_view_module_version": "1.2.0",
            "_view_name": "LayoutView",
            "align_content": null,
            "align_items": null,
            "align_self": null,
            "border": null,
            "bottom": null,
            "display": null,
            "flex": null,
            "flex_flow": null,
            "grid_area": null,
            "grid_auto_columns": null,
            "grid_auto_flow": null,
            "grid_auto_rows": null,
            "grid_column": null,
            "grid_gap": null,
            "grid_row": null,
            "grid_template_areas": null,
            "grid_template_columns": null,
            "grid_template_rows": null,
            "height": null,
            "justify_content": null,
            "justify_items": null,
            "left": null,
            "margin": null,
            "max_height": null,
            "max_width": null,
            "min_height": null,
            "min_width": null,
            "object_fit": null,
            "object_position": null,
            "order": null,
            "overflow": null,
            "overflow_x": null,
            "overflow_y": null,
            "padding": null,
            "right": null,
            "top": null,
            "visibility": null,
            "width": null
          }
        },
        "f5334685aca248afbae1a9da82ade654": {
          "model_module": "@jupyter-widgets/controls",
          "model_name": "DescriptionStyleModel",
          "model_module_version": "1.5.0",
          "state": {
            "_model_module": "@jupyter-widgets/controls",
            "_model_module_version": "1.5.0",
            "_model_name": "DescriptionStyleModel",
            "_view_count": null,
            "_view_module": "@jupyter-widgets/base",
            "_view_module_version": "1.2.0",
            "_view_name": "StyleView",
            "description_width": ""
          }
        },
        "54f1214e4d53417f91b61036f3589b06": {
          "model_module": "@jupyter-widgets/base",
          "model_name": "LayoutModel",
          "model_module_version": "1.2.0",
          "state": {
            "_model_module": "@jupyter-widgets/base",
            "_model_module_version": "1.2.0",
            "_model_name": "LayoutModel",
            "_view_count": null,
            "_view_module": "@jupyter-widgets/base",
            "_view_module_version": "1.2.0",
            "_view_name": "LayoutView",
            "align_content": null,
            "align_items": null,
            "align_self": null,
            "border": null,
            "bottom": null,
            "display": null,
            "flex": null,
            "flex_flow": null,
            "grid_area": null,
            "grid_auto_columns": null,
            "grid_auto_flow": null,
            "grid_auto_rows": null,
            "grid_column": null,
            "grid_gap": null,
            "grid_row": null,
            "grid_template_areas": null,
            "grid_template_columns": null,
            "grid_template_rows": null,
            "height": null,
            "justify_content": null,
            "justify_items": null,
            "left": null,
            "margin": null,
            "max_height": null,
            "max_width": null,
            "min_height": null,
            "min_width": null,
            "object_fit": null,
            "object_position": null,
            "order": null,
            "overflow": null,
            "overflow_x": null,
            "overflow_y": null,
            "padding": null,
            "right": null,
            "top": null,
            "visibility": null,
            "width": null
          }
        },
        "d33421b3fc0a4cd89a01b6007bc806e4": {
          "model_module": "@jupyter-widgets/controls",
          "model_name": "ProgressStyleModel",
          "model_module_version": "1.5.0",
          "state": {
            "_model_module": "@jupyter-widgets/controls",
            "_model_module_version": "1.5.0",
            "_model_name": "ProgressStyleModel",
            "_view_count": null,
            "_view_module": "@jupyter-widgets/base",
            "_view_module_version": "1.2.0",
            "_view_name": "StyleView",
            "bar_color": null,
            "description_width": ""
          }
        },
        "700abe5d61fd4f1480787c36bc80b05c": {
          "model_module": "@jupyter-widgets/base",
          "model_name": "LayoutModel",
          "model_module_version": "1.2.0",
          "state": {
            "_model_module": "@jupyter-widgets/base",
            "_model_module_version": "1.2.0",
            "_model_name": "LayoutModel",
            "_view_count": null,
            "_view_module": "@jupyter-widgets/base",
            "_view_module_version": "1.2.0",
            "_view_name": "LayoutView",
            "align_content": null,
            "align_items": null,
            "align_self": null,
            "border": null,
            "bottom": null,
            "display": null,
            "flex": null,
            "flex_flow": null,
            "grid_area": null,
            "grid_auto_columns": null,
            "grid_auto_flow": null,
            "grid_auto_rows": null,
            "grid_column": null,
            "grid_gap": null,
            "grid_row": null,
            "grid_template_areas": null,
            "grid_template_columns": null,
            "grid_template_rows": null,
            "height": null,
            "justify_content": null,
            "justify_items": null,
            "left": null,
            "margin": null,
            "max_height": null,
            "max_width": null,
            "min_height": null,
            "min_width": null,
            "object_fit": null,
            "object_position": null,
            "order": null,
            "overflow": null,
            "overflow_x": null,
            "overflow_y": null,
            "padding": null,
            "right": null,
            "top": null,
            "visibility": null,
            "width": null
          }
        },
        "4366a290e1f0442cbde12c1f60b68cb6": {
          "model_module": "@jupyter-widgets/controls",
          "model_name": "DescriptionStyleModel",
          "model_module_version": "1.5.0",
          "state": {
            "_model_module": "@jupyter-widgets/controls",
            "_model_module_version": "1.5.0",
            "_model_name": "DescriptionStyleModel",
            "_view_count": null,
            "_view_module": "@jupyter-widgets/base",
            "_view_module_version": "1.2.0",
            "_view_name": "StyleView",
            "description_width": ""
          }
        }
      }
    }
  },
  "nbformat": 4,
  "nbformat_minor": 0
}