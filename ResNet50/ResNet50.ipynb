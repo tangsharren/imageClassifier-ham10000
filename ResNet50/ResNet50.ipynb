{
  "cells": [
    {
      "cell_type": "markdown",
      "metadata": {
        "id": "huhZ--6whE8Q"
      },
      "source": [
        "## Skin Cancer Classification using ResNet50"
      ]
    },
    {
      "cell_type": "code",
      "execution_count": null,
      "metadata": {
        "id": "ALvhhkxr7rEx"
      },
      "outputs": [],
      "source": [
        "import os\n",
        "import shutil\n",
        "import numpy as np\n",
        "import pandas as pd\n",
        "import matplotlib.pyplot as plt\n",
        "import seaborn as sns\n",
        "import cv2\n",
        "import sklearn\n",
        "import matplotlib.pyplot as plt\n",
        "import numpy as np\n",
        "import PIL\n",
        "import tensorflow as tf\n",
        "\n",
        "from tensorflow import keras\n",
        "from tensorflow.keras import layers\n",
        "from tensorflow.keras.models import Sequential"
      ]
    },
    {
      "cell_type": "code",
      "execution_count": null,
      "metadata": {
        "colab": {
          "base_uri": "https://localhost:8080/"
        },
        "id": "iCdfQZpYMhLm",
        "outputId": "251ff66b-5a97-49b5-bb61-799f19a13aac"
      },
      "outputs": [
        {
          "output_type": "stream",
          "name": "stdout",
          "text": [
            "Mounted at /content/drive\n"
          ]
        }
      ],
      "source": [
        "from google.colab import drive\n",
        "drive.mount('/content/drive')"
      ]
    },
    {
      "cell_type": "code",
      "execution_count": null,
      "metadata": {
        "id": "IbkZMgdxMjJT"
      },
      "outputs": [],
      "source": [
        "import os\n",
        "import shutil\n",
        "\n",
        "os.chdir('/content/drive/MyDrive/FYP/data')\n",
        "data_dir = os.getcwd() + \"/reorganized/\""
      ]
    },
    {
      "cell_type": "code",
      "execution_count": null,
      "metadata": {
        "id": "lMh8tGHRMmTt"
      },
      "outputs": [],
      "source": [
        "train_dir = os.path.join(os.getcwd(), \"preprocessed_split_data/train_data\")\n",
        "test_dir = os.path.join(os.getcwd(), \"preprocessed_split_data/test_data\")\n",
        "val_dir = os.path.join(os.getcwd(), \"preprocessed_split_data/val_data\")"
      ]
    },
    {
      "cell_type": "code",
      "execution_count": null,
      "metadata": {
        "id": "mbN2Qk6tViwM"
      },
      "outputs": [],
      "source": [
        "data_dir=os.path.join(os.getcwd(), \"new_split\")"
      ]
    },
    {
      "cell_type": "code",
      "execution_count": null,
      "metadata": {
        "colab": {
          "base_uri": "https://localhost:8080/",
          "height": 206
        },
        "id": "DnzaP_ajO8QJ",
        "outputId": "1aab7772-0c01-4b92-d4b5-c4a062fc035f"
      },
      "outputs": [
        {
          "output_type": "execute_result",
          "data": {
            "text/plain": [
              "       image_id label\n",
              "0  ISIC_0027419   bkl\n",
              "1  ISIC_0025030   bkl\n",
              "2  ISIC_0026769   bkl\n",
              "3  ISIC_0025661   bkl\n",
              "4  ISIC_0031633   bkl"
            ],
            "text/html": [
              "\n",
              "  <div id=\"df-15d4495a-7033-4de5-b56f-bd20b958ebe8\" class=\"colab-df-container\">\n",
              "    <div>\n",
              "<style scoped>\n",
              "    .dataframe tbody tr th:only-of-type {\n",
              "        vertical-align: middle;\n",
              "    }\n",
              "\n",
              "    .dataframe tbody tr th {\n",
              "        vertical-align: top;\n",
              "    }\n",
              "\n",
              "    .dataframe thead th {\n",
              "        text-align: right;\n",
              "    }\n",
              "</style>\n",
              "<table border=\"1\" class=\"dataframe\">\n",
              "  <thead>\n",
              "    <tr style=\"text-align: right;\">\n",
              "      <th></th>\n",
              "      <th>image_id</th>\n",
              "      <th>label</th>\n",
              "    </tr>\n",
              "  </thead>\n",
              "  <tbody>\n",
              "    <tr>\n",
              "      <th>0</th>\n",
              "      <td>ISIC_0027419</td>\n",
              "      <td>bkl</td>\n",
              "    </tr>\n",
              "    <tr>\n",
              "      <th>1</th>\n",
              "      <td>ISIC_0025030</td>\n",
              "      <td>bkl</td>\n",
              "    </tr>\n",
              "    <tr>\n",
              "      <th>2</th>\n",
              "      <td>ISIC_0026769</td>\n",
              "      <td>bkl</td>\n",
              "    </tr>\n",
              "    <tr>\n",
              "      <th>3</th>\n",
              "      <td>ISIC_0025661</td>\n",
              "      <td>bkl</td>\n",
              "    </tr>\n",
              "    <tr>\n",
              "      <th>4</th>\n",
              "      <td>ISIC_0031633</td>\n",
              "      <td>bkl</td>\n",
              "    </tr>\n",
              "  </tbody>\n",
              "</table>\n",
              "</div>\n",
              "    <div class=\"colab-df-buttons\">\n",
              "\n",
              "  <div class=\"colab-df-container\">\n",
              "    <button class=\"colab-df-convert\" onclick=\"convertToInteractive('df-15d4495a-7033-4de5-b56f-bd20b958ebe8')\"\n",
              "            title=\"Convert this dataframe to an interactive table.\"\n",
              "            style=\"display:none;\">\n",
              "\n",
              "  <svg xmlns=\"http://www.w3.org/2000/svg\" height=\"24px\" viewBox=\"0 -960 960 960\">\n",
              "    <path d=\"M120-120v-720h720v720H120Zm60-500h600v-160H180v160Zm220 220h160v-160H400v160Zm0 220h160v-160H400v160ZM180-400h160v-160H180v160Zm440 0h160v-160H620v160ZM180-180h160v-160H180v160Zm440 0h160v-160H620v160Z\"/>\n",
              "  </svg>\n",
              "    </button>\n",
              "\n",
              "  <style>\n",
              "    .colab-df-container {\n",
              "      display:flex;\n",
              "      gap: 12px;\n",
              "    }\n",
              "\n",
              "    .colab-df-convert {\n",
              "      background-color: #E8F0FE;\n",
              "      border: none;\n",
              "      border-radius: 50%;\n",
              "      cursor: pointer;\n",
              "      display: none;\n",
              "      fill: #1967D2;\n",
              "      height: 32px;\n",
              "      padding: 0 0 0 0;\n",
              "      width: 32px;\n",
              "    }\n",
              "\n",
              "    .colab-df-convert:hover {\n",
              "      background-color: #E2EBFA;\n",
              "      box-shadow: 0px 1px 2px rgba(60, 64, 67, 0.3), 0px 1px 3px 1px rgba(60, 64, 67, 0.15);\n",
              "      fill: #174EA6;\n",
              "    }\n",
              "\n",
              "    .colab-df-buttons div {\n",
              "      margin-bottom: 4px;\n",
              "    }\n",
              "\n",
              "    [theme=dark] .colab-df-convert {\n",
              "      background-color: #3B4455;\n",
              "      fill: #D2E3FC;\n",
              "    }\n",
              "\n",
              "    [theme=dark] .colab-df-convert:hover {\n",
              "      background-color: #434B5C;\n",
              "      box-shadow: 0px 1px 3px 1px rgba(0, 0, 0, 0.15);\n",
              "      filter: drop-shadow(0px 1px 2px rgba(0, 0, 0, 0.3));\n",
              "      fill: #FFFFFF;\n",
              "    }\n",
              "  </style>\n",
              "\n",
              "    <script>\n",
              "      const buttonEl =\n",
              "        document.querySelector('#df-15d4495a-7033-4de5-b56f-bd20b958ebe8 button.colab-df-convert');\n",
              "      buttonEl.style.display =\n",
              "        google.colab.kernel.accessAllowed ? 'block' : 'none';\n",
              "\n",
              "      async function convertToInteractive(key) {\n",
              "        const element = document.querySelector('#df-15d4495a-7033-4de5-b56f-bd20b958ebe8');\n",
              "        const dataTable =\n",
              "          await google.colab.kernel.invokeFunction('convertToInteractive',\n",
              "                                                    [key], {});\n",
              "        if (!dataTable) return;\n",
              "\n",
              "        const docLinkHtml = 'Like what you see? Visit the ' +\n",
              "          '<a target=\"_blank\" href=https://colab.research.google.com/notebooks/data_table.ipynb>data table notebook</a>'\n",
              "          + ' to learn more about interactive tables.';\n",
              "        element.innerHTML = '';\n",
              "        dataTable['output_type'] = 'display_data';\n",
              "        await google.colab.output.renderOutput(dataTable, element);\n",
              "        const docLink = document.createElement('div');\n",
              "        docLink.innerHTML = docLinkHtml;\n",
              "        element.appendChild(docLink);\n",
              "      }\n",
              "    </script>\n",
              "  </div>\n",
              "\n",
              "\n",
              "<div id=\"df-1a135b0e-a343-4942-ac44-cccd574d946e\">\n",
              "  <button class=\"colab-df-quickchart\" onclick=\"quickchart('df-1a135b0e-a343-4942-ac44-cccd574d946e')\"\n",
              "            title=\"Suggest charts\"\n",
              "            style=\"display:none;\">\n",
              "\n",
              "<svg xmlns=\"http://www.w3.org/2000/svg\" height=\"24px\"viewBox=\"0 0 24 24\"\n",
              "     width=\"24px\">\n",
              "    <g>\n",
              "        <path d=\"M19 3H5c-1.1 0-2 .9-2 2v14c0 1.1.9 2 2 2h14c1.1 0 2-.9 2-2V5c0-1.1-.9-2-2-2zM9 17H7v-7h2v7zm4 0h-2V7h2v10zm4 0h-2v-4h2v4z\"/>\n",
              "    </g>\n",
              "</svg>\n",
              "  </button>\n",
              "\n",
              "<style>\n",
              "  .colab-df-quickchart {\n",
              "      --bg-color: #E8F0FE;\n",
              "      --fill-color: #1967D2;\n",
              "      --hover-bg-color: #E2EBFA;\n",
              "      --hover-fill-color: #174EA6;\n",
              "      --disabled-fill-color: #AAA;\n",
              "      --disabled-bg-color: #DDD;\n",
              "  }\n",
              "\n",
              "  [theme=dark] .colab-df-quickchart {\n",
              "      --bg-color: #3B4455;\n",
              "      --fill-color: #D2E3FC;\n",
              "      --hover-bg-color: #434B5C;\n",
              "      --hover-fill-color: #FFFFFF;\n",
              "      --disabled-bg-color: #3B4455;\n",
              "      --disabled-fill-color: #666;\n",
              "  }\n",
              "\n",
              "  .colab-df-quickchart {\n",
              "    background-color: var(--bg-color);\n",
              "    border: none;\n",
              "    border-radius: 50%;\n",
              "    cursor: pointer;\n",
              "    display: none;\n",
              "    fill: var(--fill-color);\n",
              "    height: 32px;\n",
              "    padding: 0;\n",
              "    width: 32px;\n",
              "  }\n",
              "\n",
              "  .colab-df-quickchart:hover {\n",
              "    background-color: var(--hover-bg-color);\n",
              "    box-shadow: 0 1px 2px rgba(60, 64, 67, 0.3), 0 1px 3px 1px rgba(60, 64, 67, 0.15);\n",
              "    fill: var(--button-hover-fill-color);\n",
              "  }\n",
              "\n",
              "  .colab-df-quickchart-complete:disabled,\n",
              "  .colab-df-quickchart-complete:disabled:hover {\n",
              "    background-color: var(--disabled-bg-color);\n",
              "    fill: var(--disabled-fill-color);\n",
              "    box-shadow: none;\n",
              "  }\n",
              "\n",
              "  .colab-df-spinner {\n",
              "    border: 2px solid var(--fill-color);\n",
              "    border-color: transparent;\n",
              "    border-bottom-color: var(--fill-color);\n",
              "    animation:\n",
              "      spin 1s steps(1) infinite;\n",
              "  }\n",
              "\n",
              "  @keyframes spin {\n",
              "    0% {\n",
              "      border-color: transparent;\n",
              "      border-bottom-color: var(--fill-color);\n",
              "      border-left-color: var(--fill-color);\n",
              "    }\n",
              "    20% {\n",
              "      border-color: transparent;\n",
              "      border-left-color: var(--fill-color);\n",
              "      border-top-color: var(--fill-color);\n",
              "    }\n",
              "    30% {\n",
              "      border-color: transparent;\n",
              "      border-left-color: var(--fill-color);\n",
              "      border-top-color: var(--fill-color);\n",
              "      border-right-color: var(--fill-color);\n",
              "    }\n",
              "    40% {\n",
              "      border-color: transparent;\n",
              "      border-right-color: var(--fill-color);\n",
              "      border-top-color: var(--fill-color);\n",
              "    }\n",
              "    60% {\n",
              "      border-color: transparent;\n",
              "      border-right-color: var(--fill-color);\n",
              "    }\n",
              "    80% {\n",
              "      border-color: transparent;\n",
              "      border-right-color: var(--fill-color);\n",
              "      border-bottom-color: var(--fill-color);\n",
              "    }\n",
              "    90% {\n",
              "      border-color: transparent;\n",
              "      border-bottom-color: var(--fill-color);\n",
              "    }\n",
              "  }\n",
              "</style>\n",
              "\n",
              "  <script>\n",
              "    async function quickchart(key) {\n",
              "      const quickchartButtonEl =\n",
              "        document.querySelector('#' + key + ' button');\n",
              "      quickchartButtonEl.disabled = true;  // To prevent multiple clicks.\n",
              "      quickchartButtonEl.classList.add('colab-df-spinner');\n",
              "      try {\n",
              "        const charts = await google.colab.kernel.invokeFunction(\n",
              "            'suggestCharts', [key], {});\n",
              "      } catch (error) {\n",
              "        console.error('Error during call to suggestCharts:', error);\n",
              "      }\n",
              "      quickchartButtonEl.classList.remove('colab-df-spinner');\n",
              "      quickchartButtonEl.classList.add('colab-df-quickchart-complete');\n",
              "    }\n",
              "    (() => {\n",
              "      let quickchartButtonEl =\n",
              "        document.querySelector('#df-1a135b0e-a343-4942-ac44-cccd574d946e button');\n",
              "      quickchartButtonEl.style.display =\n",
              "        google.colab.kernel.accessAllowed ? 'block' : 'none';\n",
              "    })();\n",
              "  </script>\n",
              "</div>\n",
              "\n",
              "    </div>\n",
              "  </div>\n"
            ],
            "application/vnd.google.colaboratory.intrinsic+json": {
              "type": "dataframe",
              "variable_name": "df_labels",
              "summary": "{\n  \"name\": \"df_labels\",\n  \"rows\": 10015,\n  \"fields\": [\n    {\n      \"column\": \"image_id\",\n      \"properties\": {\n        \"dtype\": \"string\",\n        \"num_unique_values\": 10015,\n        \"samples\": [\n          \"ISIC_0033272\",\n          \"ISIC_0031923\",\n          \"ISIC_0026652\"\n        ],\n        \"semantic_type\": \"\",\n        \"description\": \"\"\n      }\n    },\n    {\n      \"column\": \"label\",\n      \"properties\": {\n        \"dtype\": \"category\",\n        \"num_unique_values\": 7,\n        \"samples\": [\n          \"bkl\",\n          \"nv\",\n          \"bcc\"\n        ],\n        \"semantic_type\": \"\",\n        \"description\": \"\"\n      }\n    }\n  ]\n}"
            }
          },
          "metadata": {},
          "execution_count": 185
        }
      ],
      "source": [
        "import pandas as pd\n",
        "\n",
        "skin_df = pd.read_csv('HAM10000_metadata.csv')\n",
        "df_labels = skin_df[['image_id', 'dx']].rename(columns={'dx': 'label'})\n",
        "df_labels.head()\n"
      ]
    },
    {
      "cell_type": "markdown",
      "metadata": {
        "id": "817dtMFO_z4I"
      },
      "source": [
        "## Creating Dataset"
      ]
    },
    {
      "cell_type": "code",
      "execution_count": null,
      "metadata": {
        "id": "YYQ-2dufRors"
      },
      "outputs": [],
      "source": [
        "batch_size = 16\n"
      ]
    },
    {
      "cell_type": "code",
      "execution_count": null,
      "metadata": {
        "colab": {
          "base_uri": "https://localhost:8080/"
        },
        "id": "i8rvMXO5QuxL",
        "outputId": "52cc0883-db72-4128-d9c7-85b0f0824165"
      },
      "outputs": [
        {
          "output_type": "stream",
          "name": "stdout",
          "text": [
            "Found 5128 files belonging to 7 classes.\n"
          ]
        }
      ],
      "source": [
        "train_ds = tf.keras.utils.image_dataset_from_directory(\n",
        "   train_dir,\n",
        "  #  validation_split=0.2,\n",
        "  #  subset=\"training\",\n",
        "   seed=123,\n",
        "   batch_size=batch_size,\n",
        "   image_size=(224, 224),\n",
        "   label_mode='categorical',) # Use integer labels)"
      ]
    },
    {
      "cell_type": "code",
      "execution_count": null,
      "metadata": {
        "colab": {
          "base_uri": "https://localhost:8080/"
        },
        "id": "P_iKgBP1QxYV",
        "outputId": "fb320d18-cbb4-4a7d-ea2e-9b9e6d568664"
      },
      "outputs": [
        {
          "output_type": "stream",
          "name": "stdout",
          "text": [
            "Found 2884 files belonging to 7 classes.\n"
          ]
        }
      ],
      "source": [
        "val_ds = tf.keras.utils.image_dataset_from_directory(\n",
        "   val_dir,\n",
        "  #  validation_split=0.2,\n",
        "  #  subset=\"validation\",\n",
        "   seed=123,\n",
        "   batch_size=batch_size,\n",
        "   image_size=(224, 224),\n",
        "   label_mode='categorical', )"
      ]
    },
    {
      "cell_type": "code",
      "execution_count": null,
      "metadata": {
        "colab": {
          "base_uri": "https://localhost:8080/"
        },
        "id": "ss6emapsQzhD",
        "outputId": "bc42d9d4-93c6-450b-8309-92ba05fc454e"
      },
      "outputs": [
        {
          "output_type": "stream",
          "name": "stdout",
          "text": [
            "Found 2003 files belonging to 7 classes.\n"
          ]
        }
      ],
      "source": [
        "test_ds_original = tf.keras.utils.image_dataset_from_directory(\n",
        "     test_dir,\n",
        "     batch_size=batch_size,\n",
        "     shuffle=False,# No need to shuffle for testing/validation\n",
        "     image_size=(224, 224),\n",
        "     label_mode='categorical',\n",
        " )"
      ]
    },
    {
      "cell_type": "markdown",
      "metadata": {
        "id": "arTOLtguTPBz"
      },
      "source": [
        "### Transformation"
      ]
    },
    {
      "cell_type": "markdown",
      "source": [
        "- flips horizontally with a probability of 0.5\n",
        "- rotates the input image by a maximum angle of 10 degrees\n",
        "- zooms into or out of the input image by a factor sampled uniformly from the range [1-0.1, 1+0.1]\n",
        "- resizes the input image to a larger size, and then randomly crops a region of size 224x224 from the resized image"
      ],
      "metadata": {
        "id": "gkjgS81lRABw"
      }
    },
    {
      "cell_type": "code",
      "execution_count": null,
      "metadata": {
        "id": "FPfi4jOKhjOs"
      },
      "outputs": [],
      "source": [
        "data_augmentation = tf.keras.Sequential([\n",
        "    layers.RandomFlip('horizontal'),\n",
        "    layers.RandomRotation(10),\n",
        "    layers.RandomZoom(0.1),\n",
        "    layers.RandomCrop(224, 224),\n",
        "    layers.Rescaling(1/255.)\n",
        "])\n",
        "normalization = layers.Rescaling(1/255.)"
      ]
    },
    {
      "cell_type": "code",
      "execution_count": null,
      "metadata": {
        "id": "5_q6Pi65hjOs"
      },
      "outputs": [],
      "source": [
        "training_data = (train_ds.map(lambda x,y: (data_augmentation(x), y))\n",
        "                 .prefetch(1).cache())\n",
        "validation_data = (val_ds.map(lambda x,y: (normalization(x), y))\n",
        "                   .prefetch(1).cache())\n",
        "test_data = (test_ds_original.map(lambda x,y: (normalization(x), y))\n",
        "             .prefetch(1).cache())"
      ]
    },
    {
      "cell_type": "markdown",
      "source": [
        "## Model"
      ],
      "metadata": {
        "id": "h6t3pkp8ab9N"
      }
    },
    {
      "cell_type": "code",
      "source": [
        "from tensorflow.keras.applications import ResNet50\n",
        "from tensorflow.keras.applications import *\n",
        "from tensorflow.keras.layers import Flatten, Dense, Input, Dropout, GlobalAveragePooling2D\n",
        "from tensorflow.keras.models import Model\n",
        "from tensorflow.keras.optimizers import Adam\n",
        "\n",
        "base_model = ResNet50(weights='imagenet', include_top=False, input_shape=(224, 224, 3))\n",
        "\n",
        "for layer in base_model.layers:\n",
        "    layer.trainable = True\n",
        "\n",
        "#inputs = tf.keras.Input(shape=(256, 256, 3))\n",
        "x = base_model.output#inputs = tf.keras.Input(shape=(224, 224, 3))\n",
        "# x = data_augmentation(x)\n",
        "x = GlobalAveragePooling2D()(x)\n",
        "#x = Flatten()(x)\n",
        "# x = Dense(4096, activation='relu')(x)\n",
        "# x = Dropout(0.5)(x)\n",
        "# x = Dense(512, activation='relu')(x)\n",
        "# x = Dropout(0.5)(x)\n",
        "x = Dense(256,kernel_regularizer='l2',activation='relu')(x)\n",
        "x = Dropout(0.5)(x)\n",
        "x = Dense(7, activation='softmax')(x)\n",
        "tl_model = Model(inputs=base_model.input, outputs=x)\n",
        "\n",
        "tl_model.summary()"
      ],
      "metadata": {
        "colab": {
          "base_uri": "https://localhost:8080/"
        },
        "id": "HZUl8lC2aB4H",
        "outputId": "6ce24b6b-363f-4628-852d-ec17d3ddeb32"
      },
      "execution_count": null,
      "outputs": [
        {
          "output_type": "stream",
          "name": "stdout",
          "text": [
            "Model: \"model_8\"\n",
            "__________________________________________________________________________________________________\n",
            " Layer (type)                Output Shape                 Param #   Connected to                  \n",
            "==================================================================================================\n",
            " input_11 (InputLayer)       [(None, 224, 224, 3)]        0         []                            \n",
            "                                                                                                  \n",
            " conv1_pad (ZeroPadding2D)   (None, 230, 230, 3)          0         ['input_11[0][0]']            \n",
            "                                                                                                  \n",
            " conv1_conv (Conv2D)         (None, 112, 112, 64)         9472      ['conv1_pad[0][0]']           \n",
            "                                                                                                  \n",
            " conv1_bn (BatchNormalizati  (None, 112, 112, 64)         256       ['conv1_conv[0][0]']          \n",
            " on)                                                                                              \n",
            "                                                                                                  \n",
            " conv1_relu (Activation)     (None, 112, 112, 64)         0         ['conv1_bn[0][0]']            \n",
            "                                                                                                  \n",
            " pool1_pad (ZeroPadding2D)   (None, 114, 114, 64)         0         ['conv1_relu[0][0]']          \n",
            "                                                                                                  \n",
            " pool1_pool (MaxPooling2D)   (None, 56, 56, 64)           0         ['pool1_pad[0][0]']           \n",
            "                                                                                                  \n",
            " conv2_block1_1_conv (Conv2  (None, 56, 56, 64)           4160      ['pool1_pool[0][0]']          \n",
            " D)                                                                                               \n",
            "                                                                                                  \n",
            " conv2_block1_1_bn (BatchNo  (None, 56, 56, 64)           256       ['conv2_block1_1_conv[0][0]'] \n",
            " rmalization)                                                                                     \n",
            "                                                                                                  \n",
            " conv2_block1_1_relu (Activ  (None, 56, 56, 64)           0         ['conv2_block1_1_bn[0][0]']   \n",
            " ation)                                                                                           \n",
            "                                                                                                  \n",
            " conv2_block1_2_conv (Conv2  (None, 56, 56, 64)           36928     ['conv2_block1_1_relu[0][0]'] \n",
            " D)                                                                                               \n",
            "                                                                                                  \n",
            " conv2_block1_2_bn (BatchNo  (None, 56, 56, 64)           256       ['conv2_block1_2_conv[0][0]'] \n",
            " rmalization)                                                                                     \n",
            "                                                                                                  \n",
            " conv2_block1_2_relu (Activ  (None, 56, 56, 64)           0         ['conv2_block1_2_bn[0][0]']   \n",
            " ation)                                                                                           \n",
            "                                                                                                  \n",
            " conv2_block1_0_conv (Conv2  (None, 56, 56, 256)          16640     ['pool1_pool[0][0]']          \n",
            " D)                                                                                               \n",
            "                                                                                                  \n",
            " conv2_block1_3_conv (Conv2  (None, 56, 56, 256)          16640     ['conv2_block1_2_relu[0][0]'] \n",
            " D)                                                                                               \n",
            "                                                                                                  \n",
            " conv2_block1_0_bn (BatchNo  (None, 56, 56, 256)          1024      ['conv2_block1_0_conv[0][0]'] \n",
            " rmalization)                                                                                     \n",
            "                                                                                                  \n",
            " conv2_block1_3_bn (BatchNo  (None, 56, 56, 256)          1024      ['conv2_block1_3_conv[0][0]'] \n",
            " rmalization)                                                                                     \n",
            "                                                                                                  \n",
            " conv2_block1_add (Add)      (None, 56, 56, 256)          0         ['conv2_block1_0_bn[0][0]',   \n",
            "                                                                     'conv2_block1_3_bn[0][0]']   \n",
            "                                                                                                  \n",
            " conv2_block1_out (Activati  (None, 56, 56, 256)          0         ['conv2_block1_add[0][0]']    \n",
            " on)                                                                                              \n",
            "                                                                                                  \n",
            " conv2_block2_1_conv (Conv2  (None, 56, 56, 64)           16448     ['conv2_block1_out[0][0]']    \n",
            " D)                                                                                               \n",
            "                                                                                                  \n",
            " conv2_block2_1_bn (BatchNo  (None, 56, 56, 64)           256       ['conv2_block2_1_conv[0][0]'] \n",
            " rmalization)                                                                                     \n",
            "                                                                                                  \n",
            " conv2_block2_1_relu (Activ  (None, 56, 56, 64)           0         ['conv2_block2_1_bn[0][0]']   \n",
            " ation)                                                                                           \n",
            "                                                                                                  \n",
            " conv2_block2_2_conv (Conv2  (None, 56, 56, 64)           36928     ['conv2_block2_1_relu[0][0]'] \n",
            " D)                                                                                               \n",
            "                                                                                                  \n",
            " conv2_block2_2_bn (BatchNo  (None, 56, 56, 64)           256       ['conv2_block2_2_conv[0][0]'] \n",
            " rmalization)                                                                                     \n",
            "                                                                                                  \n",
            " conv2_block2_2_relu (Activ  (None, 56, 56, 64)           0         ['conv2_block2_2_bn[0][0]']   \n",
            " ation)                                                                                           \n",
            "                                                                                                  \n",
            " conv2_block2_3_conv (Conv2  (None, 56, 56, 256)          16640     ['conv2_block2_2_relu[0][0]'] \n",
            " D)                                                                                               \n",
            "                                                                                                  \n",
            " conv2_block2_3_bn (BatchNo  (None, 56, 56, 256)          1024      ['conv2_block2_3_conv[0][0]'] \n",
            " rmalization)                                                                                     \n",
            "                                                                                                  \n",
            " conv2_block2_add (Add)      (None, 56, 56, 256)          0         ['conv2_block1_out[0][0]',    \n",
            "                                                                     'conv2_block2_3_bn[0][0]']   \n",
            "                                                                                                  \n",
            " conv2_block2_out (Activati  (None, 56, 56, 256)          0         ['conv2_block2_add[0][0]']    \n",
            " on)                                                                                              \n",
            "                                                                                                  \n",
            " conv2_block3_1_conv (Conv2  (None, 56, 56, 64)           16448     ['conv2_block2_out[0][0]']    \n",
            " D)                                                                                               \n",
            "                                                                                                  \n",
            " conv2_block3_1_bn (BatchNo  (None, 56, 56, 64)           256       ['conv2_block3_1_conv[0][0]'] \n",
            " rmalization)                                                                                     \n",
            "                                                                                                  \n",
            " conv2_block3_1_relu (Activ  (None, 56, 56, 64)           0         ['conv2_block3_1_bn[0][0]']   \n",
            " ation)                                                                                           \n",
            "                                                                                                  \n",
            " conv2_block3_2_conv (Conv2  (None, 56, 56, 64)           36928     ['conv2_block3_1_relu[0][0]'] \n",
            " D)                                                                                               \n",
            "                                                                                                  \n",
            " conv2_block3_2_bn (BatchNo  (None, 56, 56, 64)           256       ['conv2_block3_2_conv[0][0]'] \n",
            " rmalization)                                                                                     \n",
            "                                                                                                  \n",
            " conv2_block3_2_relu (Activ  (None, 56, 56, 64)           0         ['conv2_block3_2_bn[0][0]']   \n",
            " ation)                                                                                           \n",
            "                                                                                                  \n",
            " conv2_block3_3_conv (Conv2  (None, 56, 56, 256)          16640     ['conv2_block3_2_relu[0][0]'] \n",
            " D)                                                                                               \n",
            "                                                                                                  \n",
            " conv2_block3_3_bn (BatchNo  (None, 56, 56, 256)          1024      ['conv2_block3_3_conv[0][0]'] \n",
            " rmalization)                                                                                     \n",
            "                                                                                                  \n",
            " conv2_block3_add (Add)      (None, 56, 56, 256)          0         ['conv2_block2_out[0][0]',    \n",
            "                                                                     'conv2_block3_3_bn[0][0]']   \n",
            "                                                                                                  \n",
            " conv2_block3_out (Activati  (None, 56, 56, 256)          0         ['conv2_block3_add[0][0]']    \n",
            " on)                                                                                              \n",
            "                                                                                                  \n",
            " conv3_block1_1_conv (Conv2  (None, 28, 28, 128)          32896     ['conv2_block3_out[0][0]']    \n",
            " D)                                                                                               \n",
            "                                                                                                  \n",
            " conv3_block1_1_bn (BatchNo  (None, 28, 28, 128)          512       ['conv3_block1_1_conv[0][0]'] \n",
            " rmalization)                                                                                     \n",
            "                                                                                                  \n",
            " conv3_block1_1_relu (Activ  (None, 28, 28, 128)          0         ['conv3_block1_1_bn[0][0]']   \n",
            " ation)                                                                                           \n",
            "                                                                                                  \n",
            " conv3_block1_2_conv (Conv2  (None, 28, 28, 128)          147584    ['conv3_block1_1_relu[0][0]'] \n",
            " D)                                                                                               \n",
            "                                                                                                  \n",
            " conv3_block1_2_bn (BatchNo  (None, 28, 28, 128)          512       ['conv3_block1_2_conv[0][0]'] \n",
            " rmalization)                                                                                     \n",
            "                                                                                                  \n",
            " conv3_block1_2_relu (Activ  (None, 28, 28, 128)          0         ['conv3_block1_2_bn[0][0]']   \n",
            " ation)                                                                                           \n",
            "                                                                                                  \n",
            " conv3_block1_0_conv (Conv2  (None, 28, 28, 512)          131584    ['conv2_block3_out[0][0]']    \n",
            " D)                                                                                               \n",
            "                                                                                                  \n",
            " conv3_block1_3_conv (Conv2  (None, 28, 28, 512)          66048     ['conv3_block1_2_relu[0][0]'] \n",
            " D)                                                                                               \n",
            "                                                                                                  \n",
            " conv3_block1_0_bn (BatchNo  (None, 28, 28, 512)          2048      ['conv3_block1_0_conv[0][0]'] \n",
            " rmalization)                                                                                     \n",
            "                                                                                                  \n",
            " conv3_block1_3_bn (BatchNo  (None, 28, 28, 512)          2048      ['conv3_block1_3_conv[0][0]'] \n",
            " rmalization)                                                                                     \n",
            "                                                                                                  \n",
            " conv3_block1_add (Add)      (None, 28, 28, 512)          0         ['conv3_block1_0_bn[0][0]',   \n",
            "                                                                     'conv3_block1_3_bn[0][0]']   \n",
            "                                                                                                  \n",
            " conv3_block1_out (Activati  (None, 28, 28, 512)          0         ['conv3_block1_add[0][0]']    \n",
            " on)                                                                                              \n",
            "                                                                                                  \n",
            " conv3_block2_1_conv (Conv2  (None, 28, 28, 128)          65664     ['conv3_block1_out[0][0]']    \n",
            " D)                                                                                               \n",
            "                                                                                                  \n",
            " conv3_block2_1_bn (BatchNo  (None, 28, 28, 128)          512       ['conv3_block2_1_conv[0][0]'] \n",
            " rmalization)                                                                                     \n",
            "                                                                                                  \n",
            " conv3_block2_1_relu (Activ  (None, 28, 28, 128)          0         ['conv3_block2_1_bn[0][0]']   \n",
            " ation)                                                                                           \n",
            "                                                                                                  \n",
            " conv3_block2_2_conv (Conv2  (None, 28, 28, 128)          147584    ['conv3_block2_1_relu[0][0]'] \n",
            " D)                                                                                               \n",
            "                                                                                                  \n",
            " conv3_block2_2_bn (BatchNo  (None, 28, 28, 128)          512       ['conv3_block2_2_conv[0][0]'] \n",
            " rmalization)                                                                                     \n",
            "                                                                                                  \n",
            " conv3_block2_2_relu (Activ  (None, 28, 28, 128)          0         ['conv3_block2_2_bn[0][0]']   \n",
            " ation)                                                                                           \n",
            "                                                                                                  \n",
            " conv3_block2_3_conv (Conv2  (None, 28, 28, 512)          66048     ['conv3_block2_2_relu[0][0]'] \n",
            " D)                                                                                               \n",
            "                                                                                                  \n",
            " conv3_block2_3_bn (BatchNo  (None, 28, 28, 512)          2048      ['conv3_block2_3_conv[0][0]'] \n",
            " rmalization)                                                                                     \n",
            "                                                                                                  \n",
            " conv3_block2_add (Add)      (None, 28, 28, 512)          0         ['conv3_block1_out[0][0]',    \n",
            "                                                                     'conv3_block2_3_bn[0][0]']   \n",
            "                                                                                                  \n",
            " conv3_block2_out (Activati  (None, 28, 28, 512)          0         ['conv3_block2_add[0][0]']    \n",
            " on)                                                                                              \n",
            "                                                                                                  \n",
            " conv3_block3_1_conv (Conv2  (None, 28, 28, 128)          65664     ['conv3_block2_out[0][0]']    \n",
            " D)                                                                                               \n",
            "                                                                                                  \n",
            " conv3_block3_1_bn (BatchNo  (None, 28, 28, 128)          512       ['conv3_block3_1_conv[0][0]'] \n",
            " rmalization)                                                                                     \n",
            "                                                                                                  \n",
            " conv3_block3_1_relu (Activ  (None, 28, 28, 128)          0         ['conv3_block3_1_bn[0][0]']   \n",
            " ation)                                                                                           \n",
            "                                                                                                  \n",
            " conv3_block3_2_conv (Conv2  (None, 28, 28, 128)          147584    ['conv3_block3_1_relu[0][0]'] \n",
            " D)                                                                                               \n",
            "                                                                                                  \n",
            " conv3_block3_2_bn (BatchNo  (None, 28, 28, 128)          512       ['conv3_block3_2_conv[0][0]'] \n",
            " rmalization)                                                                                     \n",
            "                                                                                                  \n",
            " conv3_block3_2_relu (Activ  (None, 28, 28, 128)          0         ['conv3_block3_2_bn[0][0]']   \n",
            " ation)                                                                                           \n",
            "                                                                                                  \n",
            " conv3_block3_3_conv (Conv2  (None, 28, 28, 512)          66048     ['conv3_block3_2_relu[0][0]'] \n",
            " D)                                                                                               \n",
            "                                                                                                  \n",
            " conv3_block3_3_bn (BatchNo  (None, 28, 28, 512)          2048      ['conv3_block3_3_conv[0][0]'] \n",
            " rmalization)                                                                                     \n",
            "                                                                                                  \n",
            " conv3_block3_add (Add)      (None, 28, 28, 512)          0         ['conv3_block2_out[0][0]',    \n",
            "                                                                     'conv3_block3_3_bn[0][0]']   \n",
            "                                                                                                  \n",
            " conv3_block3_out (Activati  (None, 28, 28, 512)          0         ['conv3_block3_add[0][0]']    \n",
            " on)                                                                                              \n",
            "                                                                                                  \n",
            " conv3_block4_1_conv (Conv2  (None, 28, 28, 128)          65664     ['conv3_block3_out[0][0]']    \n",
            " D)                                                                                               \n",
            "                                                                                                  \n",
            " conv3_block4_1_bn (BatchNo  (None, 28, 28, 128)          512       ['conv3_block4_1_conv[0][0]'] \n",
            " rmalization)                                                                                     \n",
            "                                                                                                  \n",
            " conv3_block4_1_relu (Activ  (None, 28, 28, 128)          0         ['conv3_block4_1_bn[0][0]']   \n",
            " ation)                                                                                           \n",
            "                                                                                                  \n",
            " conv3_block4_2_conv (Conv2  (None, 28, 28, 128)          147584    ['conv3_block4_1_relu[0][0]'] \n",
            " D)                                                                                               \n",
            "                                                                                                  \n",
            " conv3_block4_2_bn (BatchNo  (None, 28, 28, 128)          512       ['conv3_block4_2_conv[0][0]'] \n",
            " rmalization)                                                                                     \n",
            "                                                                                                  \n",
            " conv3_block4_2_relu (Activ  (None, 28, 28, 128)          0         ['conv3_block4_2_bn[0][0]']   \n",
            " ation)                                                                                           \n",
            "                                                                                                  \n",
            " conv3_block4_3_conv (Conv2  (None, 28, 28, 512)          66048     ['conv3_block4_2_relu[0][0]'] \n",
            " D)                                                                                               \n",
            "                                                                                                  \n",
            " conv3_block4_3_bn (BatchNo  (None, 28, 28, 512)          2048      ['conv3_block4_3_conv[0][0]'] \n",
            " rmalization)                                                                                     \n",
            "                                                                                                  \n",
            " conv3_block4_add (Add)      (None, 28, 28, 512)          0         ['conv3_block3_out[0][0]',    \n",
            "                                                                     'conv3_block4_3_bn[0][0]']   \n",
            "                                                                                                  \n",
            " conv3_block4_out (Activati  (None, 28, 28, 512)          0         ['conv3_block4_add[0][0]']    \n",
            " on)                                                                                              \n",
            "                                                                                                  \n",
            " conv4_block1_1_conv (Conv2  (None, 14, 14, 256)          131328    ['conv3_block4_out[0][0]']    \n",
            " D)                                                                                               \n",
            "                                                                                                  \n",
            " conv4_block1_1_bn (BatchNo  (None, 14, 14, 256)          1024      ['conv4_block1_1_conv[0][0]'] \n",
            " rmalization)                                                                                     \n",
            "                                                                                                  \n",
            " conv4_block1_1_relu (Activ  (None, 14, 14, 256)          0         ['conv4_block1_1_bn[0][0]']   \n",
            " ation)                                                                                           \n",
            "                                                                                                  \n",
            " conv4_block1_2_conv (Conv2  (None, 14, 14, 256)          590080    ['conv4_block1_1_relu[0][0]'] \n",
            " D)                                                                                               \n",
            "                                                                                                  \n",
            " conv4_block1_2_bn (BatchNo  (None, 14, 14, 256)          1024      ['conv4_block1_2_conv[0][0]'] \n",
            " rmalization)                                                                                     \n",
            "                                                                                                  \n",
            " conv4_block1_2_relu (Activ  (None, 14, 14, 256)          0         ['conv4_block1_2_bn[0][0]']   \n",
            " ation)                                                                                           \n",
            "                                                                                                  \n",
            " conv4_block1_0_conv (Conv2  (None, 14, 14, 1024)         525312    ['conv3_block4_out[0][0]']    \n",
            " D)                                                                                               \n",
            "                                                                                                  \n",
            " conv4_block1_3_conv (Conv2  (None, 14, 14, 1024)         263168    ['conv4_block1_2_relu[0][0]'] \n",
            " D)                                                                                               \n",
            "                                                                                                  \n",
            " conv4_block1_0_bn (BatchNo  (None, 14, 14, 1024)         4096      ['conv4_block1_0_conv[0][0]'] \n",
            " rmalization)                                                                                     \n",
            "                                                                                                  \n",
            " conv4_block1_3_bn (BatchNo  (None, 14, 14, 1024)         4096      ['conv4_block1_3_conv[0][0]'] \n",
            " rmalization)                                                                                     \n",
            "                                                                                                  \n",
            " conv4_block1_add (Add)      (None, 14, 14, 1024)         0         ['conv4_block1_0_bn[0][0]',   \n",
            "                                                                     'conv4_block1_3_bn[0][0]']   \n",
            "                                                                                                  \n",
            " conv4_block1_out (Activati  (None, 14, 14, 1024)         0         ['conv4_block1_add[0][0]']    \n",
            " on)                                                                                              \n",
            "                                                                                                  \n",
            " conv4_block2_1_conv (Conv2  (None, 14, 14, 256)          262400    ['conv4_block1_out[0][0]']    \n",
            " D)                                                                                               \n",
            "                                                                                                  \n",
            " conv4_block2_1_bn (BatchNo  (None, 14, 14, 256)          1024      ['conv4_block2_1_conv[0][0]'] \n",
            " rmalization)                                                                                     \n",
            "                                                                                                  \n",
            " conv4_block2_1_relu (Activ  (None, 14, 14, 256)          0         ['conv4_block2_1_bn[0][0]']   \n",
            " ation)                                                                                           \n",
            "                                                                                                  \n",
            " conv4_block2_2_conv (Conv2  (None, 14, 14, 256)          590080    ['conv4_block2_1_relu[0][0]'] \n",
            " D)                                                                                               \n",
            "                                                                                                  \n",
            " conv4_block2_2_bn (BatchNo  (None, 14, 14, 256)          1024      ['conv4_block2_2_conv[0][0]'] \n",
            " rmalization)                                                                                     \n",
            "                                                                                                  \n",
            " conv4_block2_2_relu (Activ  (None, 14, 14, 256)          0         ['conv4_block2_2_bn[0][0]']   \n",
            " ation)                                                                                           \n",
            "                                                                                                  \n",
            " conv4_block2_3_conv (Conv2  (None, 14, 14, 1024)         263168    ['conv4_block2_2_relu[0][0]'] \n",
            " D)                                                                                               \n",
            "                                                                                                  \n",
            " conv4_block2_3_bn (BatchNo  (None, 14, 14, 1024)         4096      ['conv4_block2_3_conv[0][0]'] \n",
            " rmalization)                                                                                     \n",
            "                                                                                                  \n",
            " conv4_block2_add (Add)      (None, 14, 14, 1024)         0         ['conv4_block1_out[0][0]',    \n",
            "                                                                     'conv4_block2_3_bn[0][0]']   \n",
            "                                                                                                  \n",
            " conv4_block2_out (Activati  (None, 14, 14, 1024)         0         ['conv4_block2_add[0][0]']    \n",
            " on)                                                                                              \n",
            "                                                                                                  \n",
            " conv4_block3_1_conv (Conv2  (None, 14, 14, 256)          262400    ['conv4_block2_out[0][0]']    \n",
            " D)                                                                                               \n",
            "                                                                                                  \n",
            " conv4_block3_1_bn (BatchNo  (None, 14, 14, 256)          1024      ['conv4_block3_1_conv[0][0]'] \n",
            " rmalization)                                                                                     \n",
            "                                                                                                  \n",
            " conv4_block3_1_relu (Activ  (None, 14, 14, 256)          0         ['conv4_block3_1_bn[0][0]']   \n",
            " ation)                                                                                           \n",
            "                                                                                                  \n",
            " conv4_block3_2_conv (Conv2  (None, 14, 14, 256)          590080    ['conv4_block3_1_relu[0][0]'] \n",
            " D)                                                                                               \n",
            "                                                                                                  \n",
            " conv4_block3_2_bn (BatchNo  (None, 14, 14, 256)          1024      ['conv4_block3_2_conv[0][0]'] \n",
            " rmalization)                                                                                     \n",
            "                                                                                                  \n",
            " conv4_block3_2_relu (Activ  (None, 14, 14, 256)          0         ['conv4_block3_2_bn[0][0]']   \n",
            " ation)                                                                                           \n",
            "                                                                                                  \n",
            " conv4_block3_3_conv (Conv2  (None, 14, 14, 1024)         263168    ['conv4_block3_2_relu[0][0]'] \n",
            " D)                                                                                               \n",
            "                                                                                                  \n",
            " conv4_block3_3_bn (BatchNo  (None, 14, 14, 1024)         4096      ['conv4_block3_3_conv[0][0]'] \n",
            " rmalization)                                                                                     \n",
            "                                                                                                  \n",
            " conv4_block3_add (Add)      (None, 14, 14, 1024)         0         ['conv4_block2_out[0][0]',    \n",
            "                                                                     'conv4_block3_3_bn[0][0]']   \n",
            "                                                                                                  \n",
            " conv4_block3_out (Activati  (None, 14, 14, 1024)         0         ['conv4_block3_add[0][0]']    \n",
            " on)                                                                                              \n",
            "                                                                                                  \n",
            " conv4_block4_1_conv (Conv2  (None, 14, 14, 256)          262400    ['conv4_block3_out[0][0]']    \n",
            " D)                                                                                               \n",
            "                                                                                                  \n",
            " conv4_block4_1_bn (BatchNo  (None, 14, 14, 256)          1024      ['conv4_block4_1_conv[0][0]'] \n",
            " rmalization)                                                                                     \n",
            "                                                                                                  \n",
            " conv4_block4_1_relu (Activ  (None, 14, 14, 256)          0         ['conv4_block4_1_bn[0][0]']   \n",
            " ation)                                                                                           \n",
            "                                                                                                  \n",
            " conv4_block4_2_conv (Conv2  (None, 14, 14, 256)          590080    ['conv4_block4_1_relu[0][0]'] \n",
            " D)                                                                                               \n",
            "                                                                                                  \n",
            " conv4_block4_2_bn (BatchNo  (None, 14, 14, 256)          1024      ['conv4_block4_2_conv[0][0]'] \n",
            " rmalization)                                                                                     \n",
            "                                                                                                  \n",
            " conv4_block4_2_relu (Activ  (None, 14, 14, 256)          0         ['conv4_block4_2_bn[0][0]']   \n",
            " ation)                                                                                           \n",
            "                                                                                                  \n",
            " conv4_block4_3_conv (Conv2  (None, 14, 14, 1024)         263168    ['conv4_block4_2_relu[0][0]'] \n",
            " D)                                                                                               \n",
            "                                                                                                  \n",
            " conv4_block4_3_bn (BatchNo  (None, 14, 14, 1024)         4096      ['conv4_block4_3_conv[0][0]'] \n",
            " rmalization)                                                                                     \n",
            "                                                                                                  \n",
            " conv4_block4_add (Add)      (None, 14, 14, 1024)         0         ['conv4_block3_out[0][0]',    \n",
            "                                                                     'conv4_block4_3_bn[0][0]']   \n",
            "                                                                                                  \n",
            " conv4_block4_out (Activati  (None, 14, 14, 1024)         0         ['conv4_block4_add[0][0]']    \n",
            " on)                                                                                              \n",
            "                                                                                                  \n",
            " conv4_block5_1_conv (Conv2  (None, 14, 14, 256)          262400    ['conv4_block4_out[0][0]']    \n",
            " D)                                                                                               \n",
            "                                                                                                  \n",
            " conv4_block5_1_bn (BatchNo  (None, 14, 14, 256)          1024      ['conv4_block5_1_conv[0][0]'] \n",
            " rmalization)                                                                                     \n",
            "                                                                                                  \n",
            " conv4_block5_1_relu (Activ  (None, 14, 14, 256)          0         ['conv4_block5_1_bn[0][0]']   \n",
            " ation)                                                                                           \n",
            "                                                                                                  \n",
            " conv4_block5_2_conv (Conv2  (None, 14, 14, 256)          590080    ['conv4_block5_1_relu[0][0]'] \n",
            " D)                                                                                               \n",
            "                                                                                                  \n",
            " conv4_block5_2_bn (BatchNo  (None, 14, 14, 256)          1024      ['conv4_block5_2_conv[0][0]'] \n",
            " rmalization)                                                                                     \n",
            "                                                                                                  \n",
            " conv4_block5_2_relu (Activ  (None, 14, 14, 256)          0         ['conv4_block5_2_bn[0][0]']   \n",
            " ation)                                                                                           \n",
            "                                                                                                  \n",
            " conv4_block5_3_conv (Conv2  (None, 14, 14, 1024)         263168    ['conv4_block5_2_relu[0][0]'] \n",
            " D)                                                                                               \n",
            "                                                                                                  \n",
            " conv4_block5_3_bn (BatchNo  (None, 14, 14, 1024)         4096      ['conv4_block5_3_conv[0][0]'] \n",
            " rmalization)                                                                                     \n",
            "                                                                                                  \n",
            " conv4_block5_add (Add)      (None, 14, 14, 1024)         0         ['conv4_block4_out[0][0]',    \n",
            "                                                                     'conv4_block5_3_bn[0][0]']   \n",
            "                                                                                                  \n",
            " conv4_block5_out (Activati  (None, 14, 14, 1024)         0         ['conv4_block5_add[0][0]']    \n",
            " on)                                                                                              \n",
            "                                                                                                  \n",
            " conv4_block6_1_conv (Conv2  (None, 14, 14, 256)          262400    ['conv4_block5_out[0][0]']    \n",
            " D)                                                                                               \n",
            "                                                                                                  \n",
            " conv4_block6_1_bn (BatchNo  (None, 14, 14, 256)          1024      ['conv4_block6_1_conv[0][0]'] \n",
            " rmalization)                                                                                     \n",
            "                                                                                                  \n",
            " conv4_block6_1_relu (Activ  (None, 14, 14, 256)          0         ['conv4_block6_1_bn[0][0]']   \n",
            " ation)                                                                                           \n",
            "                                                                                                  \n",
            " conv4_block6_2_conv (Conv2  (None, 14, 14, 256)          590080    ['conv4_block6_1_relu[0][0]'] \n",
            " D)                                                                                               \n",
            "                                                                                                  \n",
            " conv4_block6_2_bn (BatchNo  (None, 14, 14, 256)          1024      ['conv4_block6_2_conv[0][0]'] \n",
            " rmalization)                                                                                     \n",
            "                                                                                                  \n",
            " conv4_block6_2_relu (Activ  (None, 14, 14, 256)          0         ['conv4_block6_2_bn[0][0]']   \n",
            " ation)                                                                                           \n",
            "                                                                                                  \n",
            " conv4_block6_3_conv (Conv2  (None, 14, 14, 1024)         263168    ['conv4_block6_2_relu[0][0]'] \n",
            " D)                                                                                               \n",
            "                                                                                                  \n",
            " conv4_block6_3_bn (BatchNo  (None, 14, 14, 1024)         4096      ['conv4_block6_3_conv[0][0]'] \n",
            " rmalization)                                                                                     \n",
            "                                                                                                  \n",
            " conv4_block6_add (Add)      (None, 14, 14, 1024)         0         ['conv4_block5_out[0][0]',    \n",
            "                                                                     'conv4_block6_3_bn[0][0]']   \n",
            "                                                                                                  \n",
            " conv4_block6_out (Activati  (None, 14, 14, 1024)         0         ['conv4_block6_add[0][0]']    \n",
            " on)                                                                                              \n",
            "                                                                                                  \n",
            " conv5_block1_1_conv (Conv2  (None, 7, 7, 512)            524800    ['conv4_block6_out[0][0]']    \n",
            " D)                                                                                               \n",
            "                                                                                                  \n",
            " conv5_block1_1_bn (BatchNo  (None, 7, 7, 512)            2048      ['conv5_block1_1_conv[0][0]'] \n",
            " rmalization)                                                                                     \n",
            "                                                                                                  \n",
            " conv5_block1_1_relu (Activ  (None, 7, 7, 512)            0         ['conv5_block1_1_bn[0][0]']   \n",
            " ation)                                                                                           \n",
            "                                                                                                  \n",
            " conv5_block1_2_conv (Conv2  (None, 7, 7, 512)            2359808   ['conv5_block1_1_relu[0][0]'] \n",
            " D)                                                                                               \n",
            "                                                                                                  \n",
            " conv5_block1_2_bn (BatchNo  (None, 7, 7, 512)            2048      ['conv5_block1_2_conv[0][0]'] \n",
            " rmalization)                                                                                     \n",
            "                                                                                                  \n",
            " conv5_block1_2_relu (Activ  (None, 7, 7, 512)            0         ['conv5_block1_2_bn[0][0]']   \n",
            " ation)                                                                                           \n",
            "                                                                                                  \n",
            " conv5_block1_0_conv (Conv2  (None, 7, 7, 2048)           2099200   ['conv4_block6_out[0][0]']    \n",
            " D)                                                                                               \n",
            "                                                                                                  \n",
            " conv5_block1_3_conv (Conv2  (None, 7, 7, 2048)           1050624   ['conv5_block1_2_relu[0][0]'] \n",
            " D)                                                                                               \n",
            "                                                                                                  \n",
            " conv5_block1_0_bn (BatchNo  (None, 7, 7, 2048)           8192      ['conv5_block1_0_conv[0][0]'] \n",
            " rmalization)                                                                                     \n",
            "                                                                                                  \n",
            " conv5_block1_3_bn (BatchNo  (None, 7, 7, 2048)           8192      ['conv5_block1_3_conv[0][0]'] \n",
            " rmalization)                                                                                     \n",
            "                                                                                                  \n",
            " conv5_block1_add (Add)      (None, 7, 7, 2048)           0         ['conv5_block1_0_bn[0][0]',   \n",
            "                                                                     'conv5_block1_3_bn[0][0]']   \n",
            "                                                                                                  \n",
            " conv5_block1_out (Activati  (None, 7, 7, 2048)           0         ['conv5_block1_add[0][0]']    \n",
            " on)                                                                                              \n",
            "                                                                                                  \n",
            " conv5_block2_1_conv (Conv2  (None, 7, 7, 512)            1049088   ['conv5_block1_out[0][0]']    \n",
            " D)                                                                                               \n",
            "                                                                                                  \n",
            " conv5_block2_1_bn (BatchNo  (None, 7, 7, 512)            2048      ['conv5_block2_1_conv[0][0]'] \n",
            " rmalization)                                                                                     \n",
            "                                                                                                  \n",
            " conv5_block2_1_relu (Activ  (None, 7, 7, 512)            0         ['conv5_block2_1_bn[0][0]']   \n",
            " ation)                                                                                           \n",
            "                                                                                                  \n",
            " conv5_block2_2_conv (Conv2  (None, 7, 7, 512)            2359808   ['conv5_block2_1_relu[0][0]'] \n",
            " D)                                                                                               \n",
            "                                                                                                  \n",
            " conv5_block2_2_bn (BatchNo  (None, 7, 7, 512)            2048      ['conv5_block2_2_conv[0][0]'] \n",
            " rmalization)                                                                                     \n",
            "                                                                                                  \n",
            " conv5_block2_2_relu (Activ  (None, 7, 7, 512)            0         ['conv5_block2_2_bn[0][0]']   \n",
            " ation)                                                                                           \n",
            "                                                                                                  \n",
            " conv5_block2_3_conv (Conv2  (None, 7, 7, 2048)           1050624   ['conv5_block2_2_relu[0][0]'] \n",
            " D)                                                                                               \n",
            "                                                                                                  \n",
            " conv5_block2_3_bn (BatchNo  (None, 7, 7, 2048)           8192      ['conv5_block2_3_conv[0][0]'] \n",
            " rmalization)                                                                                     \n",
            "                                                                                                  \n",
            " conv5_block2_add (Add)      (None, 7, 7, 2048)           0         ['conv5_block1_out[0][0]',    \n",
            "                                                                     'conv5_block2_3_bn[0][0]']   \n",
            "                                                                                                  \n",
            " conv5_block2_out (Activati  (None, 7, 7, 2048)           0         ['conv5_block2_add[0][0]']    \n",
            " on)                                                                                              \n",
            "                                                                                                  \n",
            " conv5_block3_1_conv (Conv2  (None, 7, 7, 512)            1049088   ['conv5_block2_out[0][0]']    \n",
            " D)                                                                                               \n",
            "                                                                                                  \n",
            " conv5_block3_1_bn (BatchNo  (None, 7, 7, 512)            2048      ['conv5_block3_1_conv[0][0]'] \n",
            " rmalization)                                                                                     \n",
            "                                                                                                  \n",
            " conv5_block3_1_relu (Activ  (None, 7, 7, 512)            0         ['conv5_block3_1_bn[0][0]']   \n",
            " ation)                                                                                           \n",
            "                                                                                                  \n",
            " conv5_block3_2_conv (Conv2  (None, 7, 7, 512)            2359808   ['conv5_block3_1_relu[0][0]'] \n",
            " D)                                                                                               \n",
            "                                                                                                  \n",
            " conv5_block3_2_bn (BatchNo  (None, 7, 7, 512)            2048      ['conv5_block3_2_conv[0][0]'] \n",
            " rmalization)                                                                                     \n",
            "                                                                                                  \n",
            " conv5_block3_2_relu (Activ  (None, 7, 7, 512)            0         ['conv5_block3_2_bn[0][0]']   \n",
            " ation)                                                                                           \n",
            "                                                                                                  \n",
            " conv5_block3_3_conv (Conv2  (None, 7, 7, 2048)           1050624   ['conv5_block3_2_relu[0][0]'] \n",
            " D)                                                                                               \n",
            "                                                                                                  \n",
            " conv5_block3_3_bn (BatchNo  (None, 7, 7, 2048)           8192      ['conv5_block3_3_conv[0][0]'] \n",
            " rmalization)                                                                                     \n",
            "                                                                                                  \n",
            " conv5_block3_add (Add)      (None, 7, 7, 2048)           0         ['conv5_block2_out[0][0]',    \n",
            "                                                                     'conv5_block3_3_bn[0][0]']   \n",
            "                                                                                                  \n",
            " conv5_block3_out (Activati  (None, 7, 7, 2048)           0         ['conv5_block3_add[0][0]']    \n",
            " on)                                                                                              \n",
            "                                                                                                  \n",
            " global_average_pooling2d_8  (None, 2048)                 0         ['conv5_block3_out[0][0]']    \n",
            "  (GlobalAveragePooling2D)                                                                        \n",
            "                                                                                                  \n",
            " dense_16 (Dense)            (None, 256)                  524544    ['global_average_pooling2d_8[0\n",
            "                                                                    ][0]']                        \n",
            "                                                                                                  \n",
            " dropout_8 (Dropout)         (None, 256)                  0         ['dense_16[0][0]']            \n",
            "                                                                                                  \n",
            " dense_17 (Dense)            (None, 7)                    1799      ['dropout_8[0][0]']           \n",
            "                                                                                                  \n",
            "==================================================================================================\n",
            "Total params: 24114055 (91.99 MB)\n",
            "Trainable params: 24060935 (91.79 MB)\n",
            "Non-trainable params: 53120 (207.50 KB)\n",
            "__________________________________________________________________________________________________\n"
          ]
        }
      ]
    },
    {
      "cell_type": "markdown",
      "source": [
        "#### Learning Rate Scheduler"
      ],
      "metadata": {
        "id": "W8NYXNX8ap47"
      }
    },
    {
      "cell_type": "code",
      "execution_count": null,
      "metadata": {
        "id": "IQBLW1x3sNc9"
      },
      "outputs": [],
      "source": [
        "from tensorflow.keras.optimizers.schedules import CosineDecay\n",
        "# Without warmup\n",
        "# decay_steps = 5500\n",
        "# initial_learning_rate = 0.0001  # 0.0001, 0001, 0.01\n",
        "\n",
        "# With warmup\n",
        "initial_learning_rate =  0.000000001 # close to zero, cannot set to zero\n",
        "warmup_steps = 2247 # 3 epochs # 0.2 of total steps #assume 35 epochs = 11235 steps\n",
        "target_learning_rate = 0.0001 # 0.0001, 0001, 0.01\n",
        "decay_steps = 8988\n",
        "lr_warmup_decayed_fn = CosineDecay(\n",
        "    initial_learning_rate = initial_learning_rate,\n",
        "    decay_steps = decay_steps,\n",
        "    warmup_target=target_learning_rate,\n",
        "    warmup_steps=warmup_steps\n",
        ")"
      ]
    },
    {
      "cell_type": "markdown",
      "source": [
        "### Optimizer"
      ],
      "metadata": {
        "id": "HV4Z20QlbImX"
      }
    },
    {
      "cell_type": "code",
      "source": [
        "import keras.backend as K\n",
        "def precision(y_true, y_pred):\n",
        "    c1 = K.sum(K.round(K.clip(y_true * y_pred, 0, 1)))\n",
        "    c2 = K.sum(K.round(K.clip(y_pred, 0, 1)))\n",
        "    precision = c1 / (c2 + K.epsilon())\n",
        "    return precision"
      ],
      "metadata": {
        "id": "KY1Uap4gkMcq"
      },
      "execution_count": null,
      "outputs": []
    },
    {
      "cell_type": "code",
      "execution_count": null,
      "metadata": {
        "id": "CGlxZrapFpqU"
      },
      "outputs": [],
      "source": [
        "def recall(y_true, y_pred):\n",
        "    true_positives = K.sum(K.round(K.clip(y_true * y_pred, 0, 1)))\n",
        "    possible_positives = K.sum(K.round(K.clip(y_true, 0, 1)))\n",
        "    recall = true_positives / (possible_positives + K.epsilon())\n",
        "    return recall"
      ]
    },
    {
      "cell_type": "code",
      "source": [
        "def f1_score(y_true, y_pred):\n",
        "    # If there are no true samples, fix the F1 score at 0.\n",
        "    if K.sum(K.round(K.clip(y_true, 0, 1))) == 0:\n",
        "      return 0.0\n",
        "\n",
        "    p = precision(y_true, y_pred)\n",
        "    r = recall(y_true, y_pred)\n",
        "\n",
        "    f1_score = 2 * (p * r) / (p + r)\n",
        "    return f1_score"
      ],
      "metadata": {
        "id": "3OF3MSxXzoK4"
      },
      "execution_count": null,
      "outputs": []
    },
    {
      "cell_type": "code",
      "execution_count": null,
      "metadata": {
        "id": "46d5xGGvVpm8"
      },
      "outputs": [],
      "source": [
        "from tensorflow.keras.optimizers import AdamW\n",
        "optimizer = AdamW(weight_decay=1e-2, beta_1=0.9, beta_2=0.99, epsilon = 1e-8, learning_rate=lr_warmup_decayed_fn,)\n",
        "\n",
        "tl_model.compile(loss=\"categorical_crossentropy\", optimizer=optimizer, metrics=[\"accuracy\",recall,precision,f1_score])"
      ]
    },
    {
      "cell_type": "markdown",
      "source": [
        "### Class Weight"
      ],
      "metadata": {
        "id": "1bAKPJkAiu9c"
      }
    },
    {
      "cell_type": "code",
      "execution_count": null,
      "metadata": {
        "colab": {
          "base_uri": "https://localhost:8080/"
        },
        "id": "U2dtXnJvA83m",
        "outputId": "d1e01a34-35ab-4ae2-8478-9ce13a789b01"
      },
      "outputs": [
        {
          "output_type": "execute_result",
          "data": {
            "text/plain": [
              "{0: 4.375273044997815,\n",
              " 1: 2.78349082823791,\n",
              " 2: 1.301832835044846,\n",
              " 3: 12.440993788819876,\n",
              " 4: 1.2854575792581184,\n",
              " 5: 0.21338020666879728,\n",
              " 6: 10.075452716297788}"
            ]
          },
          "metadata": {},
          "execution_count": 313
        }
      ],
      "source": [
        "from sklearn.utils import class_weight\n",
        "\n",
        "class_weights = class_weight.compute_class_weight(class_weight ='balanced',\n",
        "                                                  classes=['akiec', 'bcc', 'bkl', 'df', 'mel', 'nv', 'vasc'],\n",
        "                                                  y=df_labels[\"label\"])\n",
        "class_wt_dict=dict(enumerate(class_weights))\n",
        "class_wt_dict"
      ]
    },
    {
      "cell_type": "markdown",
      "source": [
        "### Callbacks (Tensorboard, Early Stopping, LR Scheduler)"
      ],
      "metadata": {
        "id": "p5nh5Huva74g"
      }
    },
    {
      "cell_type": "code",
      "execution_count": null,
      "metadata": {
        "id": "4SHBF4zPF4s3"
      },
      "outputs": [],
      "source": [
        "from  IPython import display\n",
        "from matplotlib import pyplot as plt\n",
        "\n",
        "import numpy as np\n",
        "\n",
        "import pathlib\n",
        "import shutil\n",
        "import tempfile\n",
        "logdir = pathlib.Path(tempfile.mkdtemp())/\"tensorboard_logs\"\n",
        "shutil.rmtree(logdir, ignore_errors=True)"
      ]
    },
    {
      "cell_type": "code",
      "source": [
        "import math\n",
        "train_size = 5128\n",
        "\n",
        "steps_per_epoch = math.ceil(train_size / batch_size)\n",
        "# validation_steps = math.ceil(valid_size / BATCH_SIZE)\n",
        "steps_per_epoch"
      ],
      "metadata": {
        "colab": {
          "base_uri": "https://localhost:8080/"
        },
        "id": "tBSccsJtOZLG",
        "outputId": "36e1f595-9429-49b5-e787-ec5ad61cd1d5"
      },
      "execution_count": null,
      "outputs": [
        {
          "output_type": "execute_result",
          "data": {
            "text/plain": [
              "321"
            ]
          },
          "metadata": {},
          "execution_count": 315
        }
      ]
    },
    {
      "cell_type": "code",
      "execution_count": null,
      "metadata": {
        "id": "Zce2Ot7G7yZM"
      },
      "outputs": [],
      "source": [
        "# from tf.keras.callbacks import EarlyStopping\n",
        "# from tf.keras.callbacks import ModelCheckpoint\n",
        "lr_scheduler_callback = tf.keras.callbacks.LearningRateScheduler(\n",
        "    lambda epoch: lr_warmup_decayed_fn(epoch * steps_per_epoch + 1)\n",
        ")\n",
        "tensorboard = tf.keras.callbacks.TensorBoard(logdir/\"resnet\")\n",
        "early_stop = tf.keras.callbacks.EarlyStopping(monitor=\"val_loss\", patience=10, verbose=1, restore_best_weights=True)\n",
        "model_chkpt = tf.keras.callbacks.ModelCheckpoint('model_resnet50.keras',save_best_only=True, monitor='val_loss',verbose=1)\n",
        "callback_list = [early_stop, model_chkpt,lr_scheduler_callback, tensorboard]"
      ]
    },
    {
      "cell_type": "markdown",
      "metadata": {
        "id": "uFlL2JP3BmEL"
      },
      "source": [
        "### Model Training"
      ]
    },
    {
      "cell_type": "code",
      "execution_count": null,
      "metadata": {
        "colab": {
          "base_uri": "https://localhost:8080/"
        },
        "id": "tv1NZVgGMMLN",
        "outputId": "d5ec4355-11aa-4dea-aafe-a1ddd33a5cbc"
      },
      "outputs": [
        {
          "output_type": "stream",
          "name": "stdout",
          "text": [
            "Epoch 1/100\n",
            "\n",
            "Epoch 1: val_loss improved from inf to 12.45454, saving model to model_resnet50.keras\n",
            "321/321 - 139s - loss: 6.7964 - accuracy: 0.1517 - recall: 0.0343 - precision: 0.1607 - f1_score: nan - val_loss: 12.4545 - val_accuracy: 0.0149 - val_recall: 0.0148 - val_precision: 0.0148 - val_f1_score: nan - lr: 1.4242e-05 - 139s/epoch - 432ms/step\n",
            "Epoch 2/100\n",
            "\n",
            "Epoch 2: val_loss improved from 12.45454 to 7.02156, saving model to model_resnet50.keras\n",
            "321/321 - 68s - loss: 5.8820 - accuracy: 0.4881 - recall: 0.2806 - precision: 0.7222 - f1_score: nan - val_loss: 7.0216 - val_accuracy: 0.1248 - val_recall: 0.0328 - val_precision: 0.0863 - val_f1_score: nan - lr: 2.8528e-05 - 68s/epoch - 212ms/step\n",
            "Epoch 3/100\n",
            "\n",
            "Epoch 3: val_loss improved from 7.02156 to 5.45845, saving model to model_resnet50.keras\n",
            "321/321 - 68s - loss: 5.1143 - accuracy: 0.6739 - recall: 0.5551 - precision: 0.7912 - f1_score: 0.6468 - val_loss: 5.4585 - val_accuracy: 0.6439 - val_recall: 0.6198 - val_precision: 0.6690 - val_f1_score: 0.6428 - lr: 4.2813e-05 - 68s/epoch - 212ms/step\n",
            "Epoch 4/100\n",
            "\n",
            "Epoch 4: val_loss improved from 5.45845 to 4.76005, saving model to model_resnet50.keras\n",
            "321/321 - 68s - loss: 4.5123 - accuracy: 0.7603 - recall: 0.6918 - precision: 0.8089 - f1_score: 0.7434 - val_loss: 4.7601 - val_accuracy: 0.7604 - val_recall: 0.7479 - val_precision: 0.7769 - val_f1_score: 0.7617 - lr: 5.7099e-05 - 68s/epoch - 212ms/step\n",
            "Epoch 5/100\n",
            "\n",
            "Epoch 5: val_loss improved from 4.76005 to 4.51601, saving model to model_resnet50.keras\n",
            "321/321 - 68s - loss: 4.0210 - accuracy: 0.7935 - recall: 0.7576 - precision: 0.8320 - f1_score: 0.7917 - val_loss: 4.5160 - val_accuracy: 0.7673 - val_recall: 0.7617 - val_precision: 0.7734 - val_f1_score: 0.7674 - lr: 7.1384e-05 - 68s/epoch - 212ms/step\n",
            "Epoch 6/100\n",
            "\n",
            "Epoch 6: val_loss improved from 4.51601 to 4.01386, saving model to model_resnet50.keras\n",
            "321/321 - 68s - loss: 3.4826 - accuracy: 0.8073 - recall: 0.7728 - precision: 0.8412 - f1_score: 0.8045 - val_loss: 4.0139 - val_accuracy: 0.7347 - val_recall: 0.7224 - val_precision: 0.7493 - val_f1_score: 0.7351 - lr: 8.5670e-05 - 68s/epoch - 212ms/step\n",
            "Epoch 7/100\n",
            "\n",
            "Epoch 7: val_loss improved from 4.01386 to 3.95485, saving model to model_resnet50.keras\n",
            "321/321 - 68s - loss: 3.0244 - accuracy: 0.7670 - recall: 0.7280 - precision: 0.8093 - f1_score: 0.7650 - val_loss: 3.9548 - val_accuracy: 0.7223 - val_recall: 0.7141 - val_precision: 0.7333 - val_f1_score: 0.7232 - lr: 9.9955e-05 - 68s/epoch - 212ms/step\n",
            "Epoch 8/100\n",
            "\n",
            "Epoch 8: val_loss improved from 3.95485 to 2.86202, saving model to model_resnet50.keras\n",
            "321/321 - 68s - loss: 2.6713 - accuracy: 0.7387 - recall: 0.6789 - precision: 0.7925 - f1_score: 0.7281 - val_loss: 2.8620 - val_accuracy: 0.7403 - val_recall: 0.7189 - val_precision: 0.7574 - val_f1_score: 0.7371 - lr: 9.9688e-05 - 68s/epoch - 212ms/step\n",
            "Epoch 9/100\n",
            "\n",
            "Epoch 9: val_loss improved from 2.86202 to 2.61160, saving model to model_resnet50.keras\n",
            "321/321 - 68s - loss: 2.0179 - accuracy: 0.8077 - recall: 0.7784 - precision: 0.8347 - f1_score: 0.8046 - val_loss: 2.6116 - val_accuracy: 0.6997 - val_recall: 0.6861 - val_precision: 0.7220 - val_f1_score: 0.7030 - lr: 9.8750e-05 - 68s/epoch - 212ms/step\n",
            "Epoch 10/100\n",
            "\n",
            "Epoch 10: val_loss improved from 2.61160 to 2.01793, saving model to model_resnet50.keras\n",
            "321/321 - 68s - loss: 1.5963 - accuracy: 0.8147 - recall: 0.7874 - precision: 0.8427 - f1_score: 0.8131 - val_loss: 2.0179 - val_accuracy: 0.7618 - val_recall: 0.7538 - val_precision: 0.7809 - val_f1_score: 0.7667 - lr: 9.7200e-05 - 68s/epoch - 212ms/step\n",
            "Epoch 11/100\n",
            "\n",
            "Epoch 11: val_loss improved from 2.01793 to 1.68023, saving model to model_resnet50.keras\n",
            "321/321 - 68s - loss: 1.2781 - accuracy: 0.8643 - recall: 0.8363 - precision: 0.8833 - f1_score: 0.8582 - val_loss: 1.6802 - val_accuracy: 0.7552 - val_recall: 0.7369 - val_precision: 0.7823 - val_f1_score: 0.7583 - lr: 9.5056e-05 - 68s/epoch - 212ms/step\n",
            "Epoch 12/100\n",
            "\n",
            "Epoch 12: val_loss did not improve from 1.68023\n",
            "321/321 - 66s - loss: 0.9370 - accuracy: 0.8810 - recall: 0.8645 - precision: 0.8959 - f1_score: 0.8793 - val_loss: 1.7771 - val_accuracy: 0.7566 - val_recall: 0.7452 - val_precision: 0.7687 - val_f1_score: 0.7563 - lr: 9.2346e-05 - 66s/epoch - 206ms/step\n",
            "Epoch 13/100\n",
            "\n",
            "Epoch 13: val_loss did not improve from 1.68023\n",
            "321/321 - 66s - loss: 0.7315 - accuracy: 0.8873 - recall: 0.8707 - precision: 0.9031 - f1_score: 0.8861 - val_loss: 2.2550 - val_accuracy: 0.7143 - val_recall: 0.7110 - val_precision: 0.7179 - val_f1_score: 0.7143 - lr: 8.9102e-05 - 66s/epoch - 207ms/step\n",
            "Epoch 14/100\n",
            "\n",
            "Epoch 14: val_loss did not improve from 1.68023\n",
            "321/321 - 66s - loss: 0.5369 - accuracy: 0.9210 - recall: 0.9108 - precision: 0.9311 - f1_score: 0.9205 - val_loss: 1.9871 - val_accuracy: 0.7601 - val_recall: 0.7531 - val_precision: 0.7665 - val_f1_score: 0.7595 - lr: 8.5368e-05 - 66s/epoch - 206ms/step\n",
            "Epoch 15/100\n",
            "\n",
            "Epoch 15: val_loss improved from 1.68023 to 1.17858, saving model to model_resnet50.keras\n",
            "321/321 - 68s - loss: 0.3971 - accuracy: 0.9335 - recall: 0.9256 - precision: 0.9409 - f1_score: 0.9329 - val_loss: 1.1786 - val_accuracy: 0.7628 - val_recall: 0.7541 - val_precision: 0.7797 - val_f1_score: 0.7662 - lr: 8.1188e-05 - 68s/epoch - 212ms/step\n",
            "Epoch 16/100\n",
            "\n",
            "Epoch 16: val_loss did not improve from 1.17858\n",
            "321/321 - 66s - loss: 0.2849 - accuracy: 0.9472 - recall: 0.9412 - precision: 0.9515 - f1_score: 0.9461 - val_loss: 1.1851 - val_accuracy: 0.7854 - val_recall: 0.7776 - val_precision: 0.7972 - val_f1_score: 0.7870 - lr: 7.6616e-05 - 66s/epoch - 206ms/step\n",
            "Epoch 17/100\n",
            "\n",
            "Epoch 17: val_loss did not improve from 1.17858\n",
            "321/321 - 66s - loss: 0.2537 - accuracy: 0.9423 - recall: 0.9367 - precision: 0.9498 - f1_score: 0.9430 - val_loss: 1.3408 - val_accuracy: 0.7809 - val_recall: 0.7749 - val_precision: 0.7886 - val_f1_score: 0.7815 - lr: 7.1710e-05 - 66s/epoch - 207ms/step\n",
            "Epoch 18/100\n",
            "\n",
            "Epoch 18: val_loss improved from 1.17858 to 1.05596, saving model to model_resnet50.keras\n",
            "321/321 - 68s - loss: 0.1847 - accuracy: 0.9637 - recall: 0.9605 - precision: 0.9683 - f1_score: 0.9642 - val_loss: 1.0560 - val_accuracy: 0.7864 - val_recall: 0.7735 - val_precision: 0.8023 - val_f1_score: 0.7872 - lr: 6.6530e-05 - 68s/epoch - 212ms/step\n",
            "Epoch 19/100\n",
            "\n",
            "Epoch 19: val_loss did not improve from 1.05596\n",
            "321/321 - 66s - loss: 0.1104 - accuracy: 0.9862 - recall: 0.9827 - precision: 0.9877 - f1_score: 0.9851 - val_loss: 1.1940 - val_accuracy: 0.7819 - val_recall: 0.7745 - val_precision: 0.7910 - val_f1_score: 0.7824 - lr: 6.1143e-05 - 66s/epoch - 206ms/step\n",
            "Epoch 20/100\n",
            "\n",
            "Epoch 20: val_loss did not improve from 1.05596\n",
            "321/321 - 66s - loss: 0.0996 - accuracy: 0.9791 - recall: 0.9762 - precision: 0.9820 - f1_score: 0.9790 - val_loss: 1.5518 - val_accuracy: 0.7691 - val_recall: 0.7652 - val_precision: 0.7767 - val_f1_score: 0.7707 - lr: 5.5616e-05 - 66s/epoch - 206ms/step\n",
            "Epoch 21/100\n",
            "\n",
            "Epoch 21: val_loss did not improve from 1.05596\n",
            "321/321 - 66s - loss: 0.0725 - accuracy: 0.9897 - recall: 0.9885 - precision: 0.9900 - f1_score: 0.9893 - val_loss: 1.1542 - val_accuracy: 0.7923 - val_recall: 0.7852 - val_precision: 0.8003 - val_f1_score: 0.7924 - lr: 5.0017e-05 - 66s/epoch - 206ms/step\n",
            "Epoch 22/100\n",
            "\n",
            "Epoch 22: val_loss did not improve from 1.05596\n",
            "321/321 - 66s - loss: 0.0514 - accuracy: 0.9891 - recall: 0.9887 - precision: 0.9895 - f1_score: 0.9891 - val_loss: 1.1172 - val_accuracy: 0.7892 - val_recall: 0.7825 - val_precision: 0.7984 - val_f1_score: 0.7901 - lr: 4.4419e-05 - 66s/epoch - 206ms/step\n",
            "Epoch 23/100\n",
            "\n",
            "Epoch 23: val_loss did not improve from 1.05596\n",
            "321/321 - 66s - loss: 0.0451 - accuracy: 0.9895 - recall: 0.9885 - precision: 0.9906 - f1_score: 0.9895 - val_loss: 1.0923 - val_accuracy: 0.7843 - val_recall: 0.7766 - val_precision: 0.7911 - val_f1_score: 0.7835 - lr: 3.8891e-05 - 66s/epoch - 206ms/step\n",
            "Epoch 24/100\n",
            "\n",
            "Epoch 24: val_loss did not improve from 1.05596\n",
            "321/321 - 66s - loss: 0.0242 - accuracy: 0.9990 - recall: 0.9990 - precision: 0.9992 - f1_score: 0.9991 - val_loss: 1.0822 - val_accuracy: 0.7933 - val_recall: 0.7873 - val_precision: 0.8004 - val_f1_score: 0.7936 - lr: 3.3503e-05 - 66s/epoch - 206ms/step\n",
            "Epoch 25/100\n",
            "\n",
            "Epoch 25: val_loss did not improve from 1.05596\n",
            "321/321 - 66s - loss: 0.0204 - accuracy: 0.9963 - recall: 0.9961 - precision: 0.9965 - f1_score: 0.9963 - val_loss: 1.1773 - val_accuracy: 0.7933 - val_recall: 0.7890 - val_precision: 0.7976 - val_f1_score: 0.7932 - lr: 2.8322e-05 - 66s/epoch - 206ms/step\n",
            "Epoch 26/100\n",
            "\n",
            "Epoch 26: val_loss did not improve from 1.05596\n",
            "321/321 - 66s - loss: 0.0173 - accuracy: 0.9979 - recall: 0.9979 - precision: 0.9981 - f1_score: 0.9980 - val_loss: 1.1946 - val_accuracy: 0.7902 - val_recall: 0.7876 - val_precision: 0.7939 - val_f1_score: 0.7907 - lr: 2.3413e-05 - 66s/epoch - 206ms/step\n",
            "Epoch 27/100\n",
            "\n",
            "Epoch 27: val_loss did not improve from 1.05596\n",
            "321/321 - 66s - loss: 0.0104 - accuracy: 0.9998 - recall: 0.9998 - precision: 0.9998 - f1_score: 0.9998 - val_loss: 1.1230 - val_accuracy: 0.7878 - val_recall: 0.7856 - val_precision: 0.7941 - val_f1_score: 0.7897 - lr: 1.8839e-05 - 66s/epoch - 206ms/step\n",
            "Epoch 28/100\n",
            "Restoring model weights from the end of the best epoch: 18.\n",
            "\n",
            "Epoch 28: val_loss did not improve from 1.05596\n",
            "321/321 - 66s - loss: 0.0076 - accuracy: 0.9998 - recall: 0.9998 - precision: 0.9998 - f1_score: 0.9998 - val_loss: 1.3335 - val_accuracy: 0.7798 - val_recall: 0.7759 - val_precision: 0.7833 - val_f1_score: 0.7795 - lr: 1.4657e-05 - 66s/epoch - 207ms/step\n",
            "Epoch 28: early stopping\n"
          ]
        }
      ],
      "source": [
        "history = tl_model.fit(training_data,\n",
        "                    epochs=100,\n",
        "                    validation_data = validation_data,\n",
        "                    class_weight=class_wt_dict,\n",
        "                    callbacks=callback_list,\n",
        "                    verbose = 2)"
      ]
    },
    {
      "cell_type": "markdown",
      "metadata": {
        "id": "gkLns_WxED91"
      },
      "source": [
        "## Model Evaluation"
      ]
    },
    {
      "cell_type": "markdown",
      "source": [
        "### Validation set\n"
      ],
      "metadata": {
        "id": "DdXmGrH9Qrv6"
      }
    },
    {
      "cell_type": "code",
      "source": [
        "# @title Learning Curve\n",
        "acc = history.history['accuracy']\n",
        "val_acc = history.history['val_accuracy']\n",
        "\n",
        "loss = history.history['loss']\n",
        "val_loss = history.history['val_loss']\n",
        "\n",
        "plt.figure(figsize=(8, 8))\n",
        "plt.subplot(2, 1, 1)\n",
        "plt.plot(acc, label='Training Accuracy')\n",
        "plt.plot(val_acc, label='Validation Accuracy')\n",
        "plt.legend(loc='lower right')\n",
        "plt.ylabel('Accuracy')\n",
        "plt.ylim([min(plt.ylim()),1])\n",
        "plt.title('Training and Validation Accuracy')\n",
        "\n",
        "plt.subplot(2, 1, 2)\n",
        "plt.plot(loss, label='Training Loss')\n",
        "plt.plot(val_loss, label='Validation Loss')\n",
        "plt.legend(loc='upper right')\n",
        "plt.ylabel('Cross Entropy')\n",
        "plt.ylim([0,5.0])\n",
        "plt.title('Training and Validation Loss')\n",
        "plt.xlabel('epoch')\n",
        "plt.show()"
      ],
      "metadata": {
        "cellView": "form",
        "id": "PFqvxuGINcwc",
        "colab": {
          "base_uri": "https://localhost:8080/",
          "height": 718
        },
        "outputId": "ca49b488-8151-4aea-d0c0-bce2ba2e71b5"
      },
      "execution_count": null,
      "outputs": [
        {
          "output_type": "display_data",
          "data": {
            "text/plain": [
              "<Figure size 800x800 with 2 Axes>"
            ],
            "image/png": "[encoded data removed]"
          },
          "metadata": {}
        }
      ]
    },
    {
      "cell_type": "code",
      "source": [
        "# @title Performance Metric\n",
        "val_result = tl_model.evaluate(validation_data)\n",
        "print(\"Validation Loss:\", val_result[0])\n",
        "print(\"Validation Accuracy:\", val_result[1])\n",
        "print(\"Validation Recall:\", val_result[2])\n",
        "print(\"Validation Precision:\", val_result[3])\n",
        "print(\"Validation F1 Score:\", val_result[4])"
      ],
      "metadata": {
        "id": "GAfEQkVHR7aY",
        "colab": {
          "base_uri": "https://localhost:8080/"
        },
        "outputId": "d74cebb7-067f-40c6-c168-ad9d852dd53a"
      },
      "execution_count": null,
      "outputs": [
        {
          "output_type": "stream",
          "name": "stdout",
          "text": [
            "181/181 [==============================] - 9s 52ms/step - loss: 1.0560 - accuracy: 0.7864 - recall: 0.7735 - precision: 0.8023 - f1_score: 0.7872\n",
            "Validation Loss: 1.0559567213058472\n",
            "Validation Accuracy: 0.7864077687263489\n",
            "Validation Recall: 0.7734806537628174\n",
            "Validation Precision: 0.8022890090942383\n",
            "Validation F1 Score: 0.7871526479721069\n"
          ]
        }
      ]
    },
    {
      "cell_type": "code",
      "source": [
        "class_names_unique = ['akiec', 'bcc', 'bkl', 'df', 'mel', 'nv', 'vasc']\n",
        "print(class_names_unique)"
      ],
      "metadata": {
        "id": "WR9F7cqyL8ZV",
        "colab": {
          "base_uri": "https://localhost:8080/"
        },
        "outputId": "d508d20f-2f8c-4cf5-c017-cc442de23b9e"
      },
      "execution_count": null,
      "outputs": [
        {
          "output_type": "stream",
          "name": "stdout",
          "text": [
            "['akiec', 'bcc', 'bkl', 'df', 'mel', 'nv', 'vasc']\n"
          ]
        }
      ]
    },
    {
      "cell_type": "code",
      "source": [
        "# @title Classification Report\n",
        "from sklearn.metrics import classification_report\n",
        "# Make predictions on the validation dataset\n",
        "predictions_val = tl_model.predict(validation_data)\n",
        "predicted_labels_val = np.argmax(predictions_val, axis=1)\n",
        "true_labels_val = []\n",
        "# Collect true labels from the test dataset\n",
        "for images, labels in validation_data:\n",
        "    true_labels_val.extend(labels.numpy())  # Extract true labels directly\n",
        "\n",
        "true_labels_val = np.argmax(true_labels_val, axis=1)\n",
        "# Assuming class_names is a list containing the class labels\n",
        "target_names = class_names_unique\n",
        "\n",
        "# Replace true_labels_test and predictions_labels_test with your actual data\n",
        "print(classification_report(true_labels_val, predicted_labels_val, target_names=target_names, zero_division=0))\n"
      ],
      "metadata": {
        "id": "Q6pnDO6GXdbh",
        "colab": {
          "base_uri": "https://localhost:8080/"
        },
        "outputId": "de256d96-7d9a-4721-8ca3-d5a297e2f011"
      },
      "execution_count": null,
      "outputs": [
        {
          "output_type": "stream",
          "name": "stdout",
          "text": [
            "181/181 [==============================] - 10s 50ms/step\n",
            "              precision    recall  f1-score   support\n",
            "\n",
            "       akiec       0.67      0.34      0.45        91\n",
            "         bcc       0.75      0.51      0.61       149\n",
            "         bkl       0.51      0.58      0.54       281\n",
            "          df       0.71      0.40      0.51        30\n",
            "         mel       0.68      0.29      0.41       361\n",
            "          nv       0.84      0.96      0.89      1929\n",
            "        vasc       0.83      0.79      0.81        43\n",
            "\n",
            "    accuracy                           0.79      2884\n",
            "   macro avg       0.71      0.55      0.60      2884\n",
            "weighted avg       0.77      0.79      0.77      2884\n",
            "\n"
          ]
        }
      ]
    },
    {
      "cell_type": "markdown",
      "source": [
        "### Test set"
      ],
      "metadata": {
        "id": "ci6zlnhBRH2s"
      }
    },
    {
      "cell_type": "code",
      "source": [
        "# @title Performance Metric\n",
        "test_result = tl_model.evaluate(test_data)\n",
        "print(\"Test Loss:\", test_result[0])\n",
        "print(\"Test Accuracy:\", test_result[1])\n",
        "print(\"Test Recall:\", test_result[2])\n",
        "print(\"Test Precision:\", test_result[3])\n",
        "print(\"Test F1 Score:\", test_result[4])"
      ],
      "metadata": {
        "colab": {
          "base_uri": "https://localhost:8080/"
        },
        "id": "o0F2tjCoGz4L",
        "outputId": "289f383a-853b-42ad-f5cf-8235ccad431e"
      },
      "execution_count": null,
      "outputs": [
        {
          "output_type": "stream",
          "name": "stdout",
          "text": [
            "126/126 [==============================] - 7s 52ms/step - loss: 1.0148 - accuracy: 0.7988 - recall: 0.7892 - precision: 0.8114 - f1_score: 0.7995\n",
            "Test Loss: 1.0148215293884277\n",
            "Test Accuracy: 0.7988017797470093\n",
            "Test Recall: 0.7891865372657776\n",
            "Test Precision: 0.8114310503005981\n",
            "Test F1 Score: 0.7995308637619019\n"
          ]
        }
      ]
    },
    {
      "cell_type": "code",
      "source": [
        "# @title Classification Report\n",
        "from sklearn.metrics import classification_report\n",
        "predictions_test = tl_model.predict(test_data, verbose=1)\n",
        "predictions_labels_test = np.argmax(predictions_test, axis=1)\n",
        "true_labels_test = []\n",
        "# Collect true labels from the test dataset\n",
        "for images, labels in test_data:\n",
        "    true_labels_test.extend(labels.numpy())  # Extract true labels directly\n",
        "\n",
        "true_labels_test = np.argmax(true_labels_test, axis=1)\n",
        "\n",
        "# Assuming class_names is a list containing the class labels\n",
        "target_names = class_names_unique\n",
        "\n",
        "# Replace true_labels_test and predictions_labels_test with your actual data\n",
        "print(classification_report(true_labels_test, predictions_labels_test, target_names=target_names, zero_division=0))\n"
      ],
      "metadata": {
        "id": "_gA8CORQUzlI",
        "colab": {
          "base_uri": "https://localhost:8080/"
        },
        "outputId": "52ae784a-c61a-4e96-868e-731ecf09f34c"
      },
      "execution_count": null,
      "outputs": [
        {
          "output_type": "stream",
          "name": "stdout",
          "text": [
            "126/126 [==============================] - 6s 51ms/step\n",
            "              precision    recall  f1-score   support\n",
            "\n",
            "       akiec       0.70      0.40      0.51        70\n",
            "         bcc       0.68      0.57      0.62        94\n",
            "         bkl       0.57      0.65      0.61       226\n",
            "          df       0.53      0.50      0.51        20\n",
            "         mel       0.63      0.33      0.44       223\n",
            "          nv       0.86      0.95      0.90      1338\n",
            "        vasc       0.91      0.66      0.76        32\n",
            "\n",
            "    accuracy                           0.80      2003\n",
            "   macro avg       0.70      0.58      0.62      2003\n",
            "weighted avg       0.79      0.80      0.78      2003\n",
            "\n"
          ]
        }
      ]
    },
    {
      "cell_type": "code",
      "execution_count": null,
      "metadata": {
        "colab": {
          "base_uri": "https://localhost:8080/",
          "height": 720
        },
        "id": "SJ5jJvp7HCaa",
        "outputId": "93997512-9196-43ca-9abd-457919f98d78"
      },
      "outputs": [
        {
          "output_type": "stream",
          "name": "stdout",
          "text": [
            "Normalized confusion matrix\n"
          ]
        },
        {
          "output_type": "display_data",
          "data": {
            "text/plain": [
              "<Figure size 700x700 with 2 Axes>"
            ],
            "image/png": "[encoded data removed]"
          },
          "metadata": {}
        }
      ],
      "source": [
        "# @title Confusion Matrix\n",
        "import itertools\n",
        "import sklearn\n",
        "from sklearn.metrics import classification_report, confusion_matrix\n",
        "\n",
        "cm = confusion_matrix(true_labels_test, predictions_labels_test)\n",
        "\n",
        "def plot_confusion_matrix(cm, classes,\n",
        "                          normalize=True,\n",
        "                          title='Confusion matrix',\n",
        "                          cmap=plt.cm.Blues):\n",
        "    if normalize:\n",
        "        cm = cm.astype('float') / cm.sum(axis=1)[:, np.newaxis]\n",
        "        print(\"Normalized confusion matrix\")\n",
        "    else:\n",
        "        print('Confusion matrix, without normalization')\n",
        "\n",
        "    plt.figure(figsize=(7,7))\n",
        "    plt.imshow(cm, interpolation='nearest', cmap=cmap)\n",
        "    plt.title(title)\n",
        "    plt.colorbar()\n",
        "    tick_marks = np.arange(len(classes))\n",
        "    plt.xticks(tick_marks, classes, rotation=45)\n",
        "    plt.yticks(tick_marks, classes)\n",
        "\n",
        "    fmt = '.2f' if normalize else 'd'\n",
        "    thresh = cm.max() / 2.\n",
        "    for i, j in itertools.product(range(cm.shape[0]), range(cm.shape[1])):\n",
        "        plt.text(j, i, format(cm[i, j], fmt),\n",
        "                 horizontalalignment=\"center\",\n",
        "                 color=\"white\" if cm[i, j] > thresh else \"black\")\n",
        "\n",
        "    plt.ylabel('True label')\n",
        "    plt.xlabel('Predicted label')\n",
        "    plt.tight_layout()\n",
        "\n",
        "cm_plot_labels = test_ds_original.class_names\n",
        "#cm_plot_labels = list(df_labels[label.numpy().tolist()[0]])\n",
        "plot_confusion_matrix(cm, cm_plot_labels, title='Confusion Matrix', normalize=True)"
      ]
    },
    {
      "cell_type": "markdown",
      "source": [
        "### Tensorboard"
      ],
      "metadata": {
        "id": "07zP1VEYYypU"
      }
    },
    {
      "cell_type": "code",
      "source": [
        "# Load the TensorBoard notebook extension\n",
        "%load_ext tensorboard\n",
        "\n",
        "# Open an embedded TensorBoard viewer\n",
        "%tensorboard --logdir {logdir}/\"resnet\""
      ],
      "metadata": {
        "id": "WBWYKJVCHIxx"
      },
      "execution_count": null,
      "outputs": []
    },
    {
      "cell_type": "markdown",
      "metadata": {
        "id": "Cdywr90BvFXd"
      },
      "source": [
        "# Save model"
      ]
    },
    {
      "cell_type": "code",
      "source": [
        "version = \"vit-version-v2\""
      ],
      "metadata": {
        "id": "Po5RYhIh-c1l"
      },
      "execution_count": null,
      "outputs": []
    },
    {
      "cell_type": "code",
      "source": [
        "# Define the local directory to save TensorBoard logs\n",
        "local_logdir = f\"/content/drive/MyDrive/FYP/models with log/log/ResNet50/latest/{version}\"\n",
        "\n",
        "# Copy the contents of the log directory to the local directory\n",
        "# Check if the file exists\n",
        "if os.path.exists(local_logdir):\n",
        "    print(\"Error: A log with the same file name already exists. Log not saved.\")\n",
        "else:\n",
        "    # Save the log\n",
        "    shutil.copytree(logdir, local_logdir)\n",
        "    print(\"Log saved successfully\")"
      ],
      "metadata": {
        "id": "puLPII_W-c1l",
        "colab": {
          "base_uri": "https://localhost:8080/"
        },
        "outputId": "2b601e72-be34-484f-da2f-98d9d8232920"
      },
      "execution_count": null,
      "outputs": [
        {
          "output_type": "stream",
          "name": "stdout",
          "text": [
            "Log saved successfully\n"
          ]
        }
      ]
    },
    {
      "cell_type": "code",
      "execution_count": null,
      "metadata": {
        "id": "8F2tYNnR-c1m",
        "colab": {
          "base_uri": "https://localhost:8080/"
        },
        "outputId": "eb67ff55-10ff-4227-ae1e-4f0943d74d7a"
      },
      "outputs": [
        {
          "metadata": {
            "tags": null
          },
          "name": "stdout",
          "output_type": "stream",
          "text": [
            "Model saved successfully.\n"
          ]
        }
      ],
      "source": [
        "import os\n",
        "\n",
        "saved_model_path = f\"/content/drive/MyDrive/FYP/models with log/models/ResNet50/latest/{version}\"\n",
        "\n",
        "# Check if the file exists\n",
        "if os.path.exists(saved_model_path):\n",
        "    print(\"Error: A model with the same file name already exists. Model not saved.\")\n",
        "else:\n",
        "    # Save the model\n",
        "    tf.saved_model.save(tl_model, saved_model_path)\n",
        "    print(\"Model saved successfully.\")\n"
      ]
    }
  ],
  "metadata": {
    "accelerator": "GPU",
    "colab": {
      "gpuType": "T4",
      "machine_shape": "hm",
      "provenance": [],
      "toc_visible": true
    },
    "kernelspec": {
      "display_name": "Python 3",
      "name": "python3"
    },
    "language_info": {
      "codemirror_mode": {
        "name": "ipython",
        "version": 3
      },
      "file_extension": ".py",
      "mimetype": "text/x-python",
      "name": "python",
      "nbconvert_exporter": "python",
      "pygments_lexer": "ipython3",
      "version": "3.8.8"
    }
  },
  "nbformat": 4,
  "nbformat_minor": 0
}